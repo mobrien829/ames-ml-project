{
 "cells": [
  {
   "cell_type": "code",
   "execution_count": null,
   "id": "08a72a41",
   "metadata": {},
   "outputs": [],
   "source": [
    "#attempting to run a multilinear model"
   ]
  },
  {
   "cell_type": "code",
   "execution_count": 3,
   "id": "c5e0c807",
   "metadata": {},
   "outputs": [],
   "source": [
    "import pandas as pd\n",
    "from matplotlib import pyplot as plt\n",
    "import numpy as np\n",
    "import seaborn as sns"
   ]
  },
  {
   "cell_type": "code",
   "execution_count": 4,
   "id": "f251f75d",
   "metadata": {},
   "outputs": [],
   "source": [
    "X_train = pd.read_csv(\"../Caroline/X_train42.csv\")\n",
    "y_train = pd.read_csv(\"../Caroline/y_train42.csv\")\n",
    "X_test = pd.read_csv(\"../Caroline/X_test42.csv\")\n",
    "y_test = pd.read_csv(\"../Caroline/y_test42.csv\")"
   ]
  },
  {
   "cell_type": "code",
   "execution_count": 5,
   "id": "c95c261d",
   "metadata": {},
   "outputs": [],
   "source": [
    "from sklearn import linear_model\n",
    "ols = linear_model.LinearRegression()"
   ]
  },
  {
   "cell_type": "code",
   "execution_count": 6,
   "id": "2cf4e3a6",
   "metadata": {},
   "outputs": [
    {
     "data": {
      "text/plain": [
       "LinearRegression()"
      ]
     },
     "execution_count": 6,
     "metadata": {},
     "output_type": "execute_result"
    }
   ],
   "source": [
    "ols.fit(X_train, y_train)"
   ]
  },
  {
   "cell_type": "code",
   "execution_count": 7,
   "id": "67bd95fc",
   "metadata": {},
   "outputs": [
    {
     "data": {
      "text/plain": [
       "0.9371207742775771"
      ]
     },
     "execution_count": 7,
     "metadata": {},
     "output_type": "execute_result"
    }
   ],
   "source": [
    "ols.score(X_train, y_train)"
   ]
  },
  {
   "cell_type": "code",
   "execution_count": 8,
   "id": "daaaafa6",
   "metadata": {},
   "outputs": [
    {
     "data": {
      "text/plain": [
       "0.9182864163090958"
      ]
     },
     "execution_count": 8,
     "metadata": {},
     "output_type": "execute_result"
    }
   ],
   "source": [
    "ols.score(X_test, y_test)"
   ]
  },
  {
   "cell_type": "code",
   "execution_count": 9,
   "id": "539fee9a",
   "metadata": {},
   "outputs": [
    {
     "data": {
      "text/html": [
       "<div>\n",
       "<style scoped>\n",
       "    .dataframe tbody tr th:only-of-type {\n",
       "        vertical-align: middle;\n",
       "    }\n",
       "\n",
       "    .dataframe tbody tr th {\n",
       "        vertical-align: top;\n",
       "    }\n",
       "\n",
       "    .dataframe thead th {\n",
       "        text-align: right;\n",
       "    }\n",
       "</style>\n",
       "<table border=\"1\" class=\"dataframe\">\n",
       "  <thead>\n",
       "    <tr style=\"text-align: right;\">\n",
       "      <th></th>\n",
       "      <th>SalePrice</th>\n",
       "    </tr>\n",
       "  </thead>\n",
       "  <tbody>\n",
       "    <tr>\n",
       "      <th>0</th>\n",
       "      <td>118500</td>\n",
       "    </tr>\n",
       "    <tr>\n",
       "      <th>1</th>\n",
       "      <td>157000</td>\n",
       "    </tr>\n",
       "    <tr>\n",
       "      <th>2</th>\n",
       "      <td>254900</td>\n",
       "    </tr>\n",
       "    <tr>\n",
       "      <th>3</th>\n",
       "      <td>84500</td>\n",
       "    </tr>\n",
       "    <tr>\n",
       "      <th>4</th>\n",
       "      <td>174500</td>\n",
       "    </tr>\n",
       "    <tr>\n",
       "      <th>...</th>\n",
       "      <td>...</td>\n",
       "    </tr>\n",
       "    <tr>\n",
       "      <th>2041</th>\n",
       "      <td>165000</td>\n",
       "    </tr>\n",
       "    <tr>\n",
       "      <th>2042</th>\n",
       "      <td>76000</td>\n",
       "    </tr>\n",
       "    <tr>\n",
       "      <th>2043</th>\n",
       "      <td>114500</td>\n",
       "    </tr>\n",
       "    <tr>\n",
       "      <th>2044</th>\n",
       "      <td>163000</td>\n",
       "    </tr>\n",
       "    <tr>\n",
       "      <th>2045</th>\n",
       "      <td>123000</td>\n",
       "    </tr>\n",
       "  </tbody>\n",
       "</table>\n",
       "<p>2046 rows × 1 columns</p>\n",
       "</div>"
      ],
      "text/plain": [
       "      SalePrice\n",
       "0        118500\n",
       "1        157000\n",
       "2        254900\n",
       "3         84500\n",
       "4        174500\n",
       "...         ...\n",
       "2041     165000\n",
       "2042      76000\n",
       "2043     114500\n",
       "2044     163000\n",
       "2045     123000\n",
       "\n",
       "[2046 rows x 1 columns]"
      ]
     },
     "execution_count": 9,
     "metadata": {},
     "output_type": "execute_result"
    }
   ],
   "source": [
    "y_train"
   ]
  },
  {
   "cell_type": "code",
   "execution_count": null,
   "id": "c1c43b66",
   "metadata": {},
   "outputs": [],
   "source": []
  },
  {
   "cell_type": "code",
   "execution_count": 10,
   "id": "0ceec31c",
   "metadata": {},
   "outputs": [
    {
     "name": "stdout",
     "output_type": "stream",
     "text": [
      "230\n"
     ]
    },
    {
     "data": {
      "text/plain": [
       "230"
      ]
     },
     "execution_count": 10,
     "metadata": {},
     "output_type": "execute_result"
    }
   ],
   "source": [
    "print(len(pd.DataFrame(ols.coef_).transpose()))\n",
    "len(X_train.columns.tolist())"
   ]
  },
  {
   "cell_type": "code",
   "execution_count": 11,
   "id": "04a94cc6",
   "metadata": {},
   "outputs": [
    {
     "data": {
      "text/html": [
       "<div>\n",
       "<style scoped>\n",
       "    .dataframe tbody tr th:only-of-type {\n",
       "        vertical-align: middle;\n",
       "    }\n",
       "\n",
       "    .dataframe tbody tr th {\n",
       "        vertical-align: top;\n",
       "    }\n",
       "\n",
       "    .dataframe thead th {\n",
       "        text-align: right;\n",
       "    }\n",
       "</style>\n",
       "<table border=\"1\" class=\"dataframe\">\n",
       "  <thead>\n",
       "    <tr style=\"text-align: right;\">\n",
       "      <th></th>\n",
       "      <th>coefficient</th>\n",
       "    </tr>\n",
       "  </thead>\n",
       "  <tbody>\n",
       "    <tr>\n",
       "      <th>GrLivArea</th>\n",
       "      <td>36.246478</td>\n",
       "    </tr>\n",
       "    <tr>\n",
       "      <th>LotFrontage</th>\n",
       "      <td>5.954778</td>\n",
       "    </tr>\n",
       "    <tr>\n",
       "      <th>LotArea</th>\n",
       "      <td>0.655625</td>\n",
       "    </tr>\n",
       "    <tr>\n",
       "      <th>OverallQual</th>\n",
       "      <td>7130.373381</td>\n",
       "    </tr>\n",
       "    <tr>\n",
       "      <th>OverallCond</th>\n",
       "      <td>6141.413684</td>\n",
       "    </tr>\n",
       "    <tr>\n",
       "      <th>...</th>\n",
       "      <td>...</td>\n",
       "    </tr>\n",
       "    <tr>\n",
       "      <th>SaleCondition__Abnorml</th>\n",
       "      <td>-2812.608045</td>\n",
       "    </tr>\n",
       "    <tr>\n",
       "      <th>SaleCondition__AdjLand</th>\n",
       "      <td>-2692.953293</td>\n",
       "    </tr>\n",
       "    <tr>\n",
       "      <th>SaleCondition__Alloca</th>\n",
       "      <td>9878.390215</td>\n",
       "    </tr>\n",
       "    <tr>\n",
       "      <th>SaleCondition__Family</th>\n",
       "      <td>-6906.870939</td>\n",
       "    </tr>\n",
       "    <tr>\n",
       "      <th>SaleCondition__Partial</th>\n",
       "      <td>16329.127923</td>\n",
       "    </tr>\n",
       "  </tbody>\n",
       "</table>\n",
       "<p>230 rows × 1 columns</p>\n",
       "</div>"
      ],
      "text/plain": [
       "                         coefficient\n",
       "GrLivArea                  36.246478\n",
       "LotFrontage                 5.954778\n",
       "LotArea                     0.655625\n",
       "OverallQual              7130.373381\n",
       "OverallCond              6141.413684\n",
       "...                              ...\n",
       "SaleCondition__Abnorml  -2812.608045\n",
       "SaleCondition__AdjLand  -2692.953293\n",
       "SaleCondition__Alloca    9878.390215\n",
       "SaleCondition__Family   -6906.870939\n",
       "SaleCondition__Partial  16329.127923\n",
       "\n",
       "[230 rows x 1 columns]"
      ]
     },
     "execution_count": 11,
     "metadata": {},
     "output_type": "execute_result"
    }
   ],
   "source": [
    "colnames = X_train.columns\n",
    "result = pd.DataFrame(ols.coef_)\n",
    "result.columns = colnames.tolist()\n",
    "#result['intercept'] = ols.intercept_ \n",
    "result = result.transpose()\n",
    "result.columns = ['coefficient']\n",
    "result"
   ]
  },
  {
   "cell_type": "code",
   "execution_count": 12,
   "id": "c9d6d09c",
   "metadata": {},
   "outputs": [
    {
     "name": "stdout",
     "output_type": "stream",
     "text": [
      "                            OLS Regression Results                            \n",
      "==============================================================================\n",
      "Dep. Variable:              SalePrice   R-squared:                       0.937\n",
      "Model:                            OLS   Adj. R-squared:                  0.930\n",
      "Method:                 Least Squares   F-statistic:                     123.0\n",
      "Date:                Thu, 26 May 2022   Prob (F-statistic):               0.00\n",
      "Time:                        23:12:21   Log-Likelihood:                -23043.\n",
      "No. Observations:                2046   AIC:                         4.653e+04\n",
      "Df Residuals:                    1824   BIC:                         4.778e+04\n",
      "Df Model:                         221                                         \n",
      "Covariance Type:            nonrobust                                         \n",
      "==========================================================================================\n",
      "                             coef    std err          t      P>|t|      [0.025      0.975]\n",
      "------------------------------------------------------------------------------------------\n",
      "const                  -8.718e+05   1.19e+05     -7.317      0.000   -1.11e+06   -6.38e+05\n",
      "GrLivArea                 36.2465     11.869      3.054      0.002      12.968      59.525\n",
      "LotFrontage                5.9548     35.359      0.168      0.866     -63.394      75.304\n",
      "LotArea                    0.6556      0.112      5.858      0.000       0.436       0.875\n",
      "OverallQual             7130.3734    717.254      9.941      0.000    5723.648    8537.099\n",
      "OverallCond             6141.4137    587.587     10.452      0.000    4989.000    7293.827\n",
      "YearBuilt                433.8097     60.267      7.198      0.000     315.609     552.010\n",
      "MasVnrArea                28.7580      4.485      6.413      0.000      19.963      37.553\n",
      "BsmtUnfSF                 14.2038      2.984      4.760      0.000       8.351      20.057\n",
      "CentralAir             -1630.9403   2712.659     -0.601      0.548   -6951.185    3689.304\n",
      "1stFlrSF                  22.4792     12.007      1.872      0.061      -1.070      46.028\n",
      "2ndFlrSF                  30.0647     11.538      2.606      0.009       7.437      52.693\n",
      "BsmtFullBath            2502.7481   1347.301      1.858      0.063    -139.668    5145.164\n",
      "BsmtHalfBath             463.6625   2096.331      0.221      0.825   -3647.799    4575.124\n",
      "FullBath                 621.1399   1540.536      0.403      0.687   -2400.261    3642.540\n",
      "HalfBath                1541.3598   1527.056      1.009      0.313   -1453.601    4536.321\n",
      "BedroomAbvGr           -4648.8120   1004.285     -4.629      0.000   -6618.481   -2679.143\n",
      "KitchenAbvGr           -8618.8372   5302.248     -1.626      0.104    -1.9e+04    1780.278\n",
      "TotRmsAbvGrd             129.9629    681.120      0.191      0.849   -1205.894    1465.820\n",
      "Fireplaces              2083.9056   1223.382      1.703      0.089    -315.471    4483.282\n",
      "GarageCars              7827.7322   1153.318      6.787      0.000    5565.770    1.01e+04\n",
      "WoodDeckSF                 8.1726      4.110      1.988      0.047       0.112      16.233\n",
      "OpenPorchSF               -9.6018      8.310     -1.155      0.248     -25.899       6.696\n",
      "EnclosedPorch             12.9180      8.100      1.595      0.111      -2.969      28.805\n",
      "3SsnPorch                 -8.5078     18.382     -0.463      0.644     -44.560      27.544\n",
      "ScreenPorch               24.1505      8.585      2.813      0.005       7.313      40.988\n",
      "Fence                    149.2507   1276.597      0.117      0.907   -2354.494    2652.996\n",
      "MoSold                  -311.1052    184.386     -1.687      0.092    -672.735      50.525\n",
      "Remodeled                997.7953   1186.902      0.841      0.401   -1330.035    3325.626\n",
      "BsmtfinSF                 30.5960      3.103      9.861      0.000      24.511      36.681\n",
      "MSSubClass__30          1932.9246   3373.793      0.573      0.567   -4683.979    8549.829\n",
      "MSSubClass__40          7469.4129   1.24e+04      0.601      0.548   -1.69e+04    3.18e+04\n",
      "MSSubClass__45          2798.9542    1.6e+04      0.175      0.861   -2.86e+04    3.42e+04\n",
      "MSSubClass__50          5025.1693   6008.453      0.836      0.403   -6759.002    1.68e+04\n",
      "MSSubClass__60         -2815.1236   5333.182     -0.528      0.598   -1.33e+04    7644.662\n",
      "MSSubClass__70          4974.6171   5928.053      0.839      0.401   -6651.869    1.66e+04\n",
      "MSSubClass__75          2.606e+04   1.13e+04      2.313      0.021    3962.790    4.82e+04\n",
      "MSSubClass__80         -8707.5463   9128.505     -0.954      0.340   -2.66e+04    9195.875\n",
      "MSSubClass__85         -2873.3377   7572.021     -0.379      0.704   -1.77e+04     1.2e+04\n",
      "MSSubClass__90         -7798.1120   2915.146     -2.675      0.008   -1.35e+04   -2080.737\n",
      "MSSubClass__120        -8235.8525   1.29e+04     -0.641      0.522   -3.35e+04     1.7e+04\n",
      "MSSubClass__160        -1.938e+04    1.4e+04     -1.383      0.167   -4.69e+04    8103.215\n",
      "MSSubClass__180        -1.009e+04   1.57e+04     -0.642      0.521   -4.09e+04    2.07e+04\n",
      "MSSubClass__190        -4990.6197   2.23e+04     -0.224      0.823   -4.88e+04    3.88e+04\n",
      "MSZoning__A (agr)       1.101e-09   1.22e-08      0.090      0.928   -2.29e-08    2.51e-08\n",
      "MSZoning__C (all)       -2.28e+04   7853.706     -2.903      0.004   -3.82e+04   -7393.434\n",
      "MSZoning__FV           -1.153e+04   4944.300     -2.332      0.020   -2.12e+04   -1834.353\n",
      "MSZoning__I (all)      -6.862e-10   7.84e-09     -0.088      0.930   -1.61e-08    1.47e-08\n",
      "MSZoning__RH            1105.0249   5236.795      0.211      0.833   -9165.719    1.14e+04\n",
      "MSZoning__RM           -9818.8810   2770.164     -3.545      0.000   -1.53e+04   -4385.855\n",
      "LotShape__IR1          -1795.9033   1166.942     -1.539      0.124   -4084.586     492.780\n",
      "LotShape__IR2           2563.4666   3144.749      0.815      0.415   -3604.221    8731.154\n",
      "LotShape__IR3          -6664.3488   7189.661     -0.927      0.354   -2.08e+04    7436.485\n",
      "LandContour__Bnk       -8434.4320   2904.271     -2.904      0.004   -1.41e+04   -2738.385\n",
      "LandContour__HLS        5094.6646   2957.825      1.722      0.085    -706.416    1.09e+04\n",
      "LandContour__Low       -5937.7406   4095.868     -1.450      0.147    -1.4e+04    2095.345\n",
      "LotConfig__Corner        701.2832   1348.045      0.520      0.603   -1942.590    3345.156\n",
      "LotConfig__CulDSac      4831.8358   2100.886      2.300      0.022     711.441    8952.230\n",
      "LotConfig__FR2         -7474.8349   2844.508     -2.628      0.009   -1.31e+04   -1895.999\n",
      "LotConfig__FR3         -6617.5569   6630.534     -0.998      0.318   -1.96e+04    6386.680\n",
      "LandSlope__Mod          3872.1186   2867.223      1.350      0.177   -1751.267    9495.504\n",
      "LandSlope__Sev         -1.942e+04   9987.746     -1.945      0.052    -3.9e+04     166.394\n",
      "Neighborhood__Blmngtn   1.379e+04   5865.195      2.351      0.019    2287.162    2.53e+04\n",
      "Neighborhood__Blueste    2.91e+04   8161.100      3.566      0.000    1.31e+04    4.51e+04\n",
      "Neighborhood__BrDale    3.089e+04   6464.607      4.778      0.000    1.82e+04    4.36e+04\n",
      "Neighborhood__BrkSide     1.3e+04   3916.687      3.318      0.001    5313.564    2.07e+04\n",
      "Neighborhood__ClearCr   8957.7522   4875.358      1.837      0.066    -604.119    1.85e+04\n",
      "Neighborhood__CollgCr   5279.7767   2781.442      1.898      0.058    -175.369    1.07e+04\n",
      "Neighborhood__Crawfor   2.052e+04   3345.474      6.134      0.000     1.4e+04    2.71e+04\n",
      "Neighborhood__Edwards  -2565.6830   2451.583     -1.047      0.295   -7373.888    2242.522\n",
      "Neighborhood__Gilbert   5344.5924   3300.817      1.619      0.106   -1129.186    1.18e+04\n",
      "Neighborhood__Greens    1.624e+04   9073.066      1.790      0.074   -1553.015     3.4e+04\n",
      "Neighborhood__IDOTRR    1.226e+04   5071.409      2.418      0.016    2317.911    2.22e+04\n",
      "Neighborhood__MeadowV   3.049e+04   6929.125      4.400      0.000    1.69e+04    4.41e+04\n",
      "Neighborhood__Mitchel   2560.1065   3012.744      0.850      0.396   -3348.684    8468.897\n",
      "Neighborhood__NPkVill   2.411e+04   1.15e+04      2.091      0.037    1491.464    4.67e+04\n",
      "Neighborhood__NWAmes     988.2967   2801.292      0.353      0.724   -4505.781    6482.374\n",
      "Neighborhood__NoRidge   3.544e+04   4068.227      8.712      0.000    2.75e+04    4.34e+04\n",
      "Neighborhood__NridgHt   2.847e+04   3769.804      7.551      0.000    2.11e+04    3.59e+04\n",
      "Neighborhood__OldTown   2879.9228   3751.686      0.768      0.443   -4478.130    1.02e+04\n",
      "Neighborhood__SWISU    -2566.3675   4503.862     -0.570      0.569   -1.14e+04    6266.902\n",
      "Neighborhood__Sawyer    4900.0794   2454.615      1.996      0.046      85.927    9714.231\n",
      "Neighborhood__SawyerW   2797.6663   3183.312      0.879      0.380   -3445.654    9040.986\n",
      "Neighborhood__Somerst   3.663e+04   4997.919      7.329      0.000    2.68e+04    4.64e+04\n",
      "Neighborhood__StoneBr   4.291e+04   5042.203      8.509      0.000     3.3e+04    5.28e+04\n",
      "Neighborhood__Timber    3121.6614   3953.832      0.790      0.430   -4632.853    1.09e+04\n",
      "Neighborhood__Veenker   9784.0421   5786.774      1.691      0.091   -1565.358    2.11e+04\n",
      "Condition1__Artery     -1.226e+04   2974.890     -4.121      0.000   -1.81e+04   -6424.224\n",
      "Condition1__Feedr      -8285.8530   2275.715     -3.641      0.000   -1.27e+04   -3822.572\n",
      "Condition1__PosA       -3781.5722   5563.224     -0.680      0.497   -1.47e+04    7129.386\n",
      "Condition1__PosN        1055.7612   4448.172      0.237      0.812   -7668.285    9779.808\n",
      "Condition1__RRAe       -1.403e+04   4725.774     -2.969      0.003   -2.33e+04   -4762.437\n",
      "Condition1__RRAn       -6736.6093   4158.865     -1.620      0.105   -1.49e+04    1420.029\n",
      "Condition1__RRNe       -5229.9307   1.05e+04     -0.498      0.619   -2.58e+04    1.54e+04\n",
      "Condition1__RRNn       -1.938e+04   1.05e+04     -1.840      0.066      -4e+04    1278.646\n",
      "Condition2__Artery      4476.2537   1.57e+04      0.285      0.776   -2.64e+04    3.53e+04\n",
      "Condition2__Feedr       -1.09e+04   7245.681     -1.504      0.133   -2.51e+04    3312.327\n",
      "Condition2__PosA        7.938e+04   1.57e+04      5.063      0.000    4.86e+04     1.1e+05\n",
      "Condition2__PosN       -1.414e+05   1.32e+04    -10.697      0.000   -1.67e+05   -1.15e+05\n",
      "Condition2__RRAe       -2.897e+04   2.69e+04     -1.078      0.281   -8.17e+04    2.37e+04\n",
      "Condition2__RRAn       -3054.1504   2.08e+04     -0.147      0.883   -4.39e+04    3.78e+04\n",
      "Condition2__RRNn        8147.6410   2.11e+04      0.386      0.700   -3.33e+04    4.96e+04\n",
      "BldgType__2fmCon        3789.8420   2.18e+04      0.174      0.862    -3.9e+04    4.65e+04\n",
      "BldgType__Duplex       -7798.1120   2915.146     -2.675      0.008   -1.35e+04   -2080.737\n",
      "BldgType__Twnhs        -1.688e+04    1.3e+04     -1.295      0.196   -4.25e+04    8692.877\n",
      "BldgType__TwnhsE       -1.066e+04   1.27e+04     -0.840      0.401   -3.56e+04    1.42e+04\n",
      "HouseStyle__1.5Fin     -1.014e+04   5988.084     -1.693      0.091   -2.19e+04    1607.626\n",
      "HouseStyle__1.5Unf       358.7371   1.61e+04      0.022      0.982   -3.12e+04    3.19e+04\n",
      "HouseStyle__2.5Fin     -2.756e+04   1.46e+04     -1.890      0.059   -5.62e+04    1042.757\n",
      "HouseStyle__2.5Unf     -1.929e+04   1.09e+04     -1.764      0.078   -4.07e+04    2155.431\n",
      "HouseStyle__2Story     -8373.6207   6035.926     -1.387      0.166   -2.02e+04    3464.432\n",
      "HouseStyle__SFoyer       301.2628   6576.475      0.046      0.963   -1.26e+04    1.32e+04\n",
      "HouseStyle__SLvl        3673.9474   8979.575      0.409      0.682   -1.39e+04    2.13e+04\n",
      "RoofStyle__Flat        -9114.4746   7387.442     -1.234      0.217   -2.36e+04    5374.260\n",
      "RoofStyle__Gambrel     -7961.3687   6329.957     -1.258      0.209   -2.04e+04    4453.358\n",
      "RoofStyle__Hip           107.3986   1386.047      0.077      0.938   -2611.007    2825.804\n",
      "RoofStyle__Mansard      1.028e+04   8850.879      1.162      0.246   -7077.920    2.76e+04\n",
      "RoofStyle__Shed         1.375e+04   1.58e+04      0.872      0.384   -1.72e+04    4.47e+04\n",
      "Exterior1st__AsbShng     1.33e+04   1.08e+04      1.227      0.220   -7963.053    3.46e+04\n",
      "Exterior1st__AsphShn   -3.647e+04   2.77e+04     -1.315      0.189   -9.09e+04    1.79e+04\n",
      "Exterior1st__BrkComm    4809.0117   1.74e+04      0.277      0.782   -2.93e+04    3.89e+04\n",
      "Exterior1st__BrkFace    1.835e+04   6938.939      2.645      0.008    4741.589     3.2e+04\n",
      "Exterior1st__CBlock    -1.478e+04    2.8e+04     -0.527      0.598   -6.98e+04    4.02e+04\n",
      "Exterior1st__CemntBd   -3155.5384   1.25e+04     -0.252      0.801   -2.77e+04    2.14e+04\n",
      "Exterior1st__HdBoard    1612.8499   6319.935      0.255      0.799   -1.08e+04     1.4e+04\n",
      "Exterior1st__ImStucc   -8809.5146    2.2e+04     -0.401      0.688   -5.19e+04    3.42e+04\n",
      "Exterior1st__MetalSd    2232.1989   7605.525      0.293      0.769   -1.27e+04    1.71e+04\n",
      "Exterior1st__Plywood    2657.4178   6333.614      0.420      0.675   -9764.481    1.51e+04\n",
      "Exterior1st__PreCast    3.226e+04   1.11e+04      2.917      0.004    1.06e+04    5.39e+04\n",
      "Exterior1st__Stucco     2928.8804   8646.262      0.339      0.735    -1.4e+04    1.99e+04\n",
      "Exterior1st__Wd Sdng     685.2510   6184.604      0.111      0.912   -1.14e+04    1.28e+04\n",
      "Exterior1st__WdShing    5290.1206   6557.906      0.807      0.420   -7571.673    1.82e+04\n",
      "Exterior2nd__AsbShng   -1.733e+04   1.14e+04     -1.521      0.128   -3.97e+04    5015.152\n",
      "Exterior2nd__AsphShn    3.097e+04   2.29e+04      1.352      0.176    -1.4e+04    7.59e+04\n",
      "Exterior2nd__Brk Cmn   -3919.4326   1.36e+04     -0.288      0.773   -3.06e+04    2.28e+04\n",
      "Exterior2nd__BrkFace   -8464.6738   7601.798     -1.114      0.266   -2.34e+04    6444.470\n",
      "Exterior2nd__CBlock     -677.0265   1.77e+04     -0.038      0.970   -3.54e+04    3.41e+04\n",
      "Exterior2nd__CmentBd   -7326.7666   1.25e+04     -0.585      0.558   -3.19e+04    1.72e+04\n",
      "Exterior2nd__HdBoard   -5845.2744   6359.561     -0.919      0.358   -1.83e+04    6627.513\n",
      "Exterior2nd__ImStucc   -1.418e+04   8290.625     -1.710      0.087   -3.04e+04    2079.534\n",
      "Exterior2nd__MetalSd   -3552.9674   7648.562     -0.465      0.642   -1.86e+04    1.14e+04\n",
      "Exterior2nd__Plywood   -7306.7414   6160.337     -1.186      0.236   -1.94e+04    4775.314\n",
      "Exterior2nd__PreCast    3.226e+04   1.11e+04      2.917      0.004    1.06e+04    5.39e+04\n",
      "Exterior2nd__Stone     -1.163e+04   1.44e+04     -0.806      0.420   -3.99e+04    1.67e+04\n",
      "Exterior2nd__Stucco     1323.8259   8844.616      0.150      0.881    -1.6e+04    1.87e+04\n",
      "Exterior2nd__Wd Sdng   -1445.0594   6168.944     -0.234      0.815   -1.35e+04    1.07e+04\n",
      "Exterior2nd__Wd Shng   -5790.0949   5975.049     -0.969      0.333   -1.75e+04    5928.561\n",
      "MasVnrType__BrkCmn      -1.16e+04   5163.909     -2.247      0.025   -2.17e+04   -1475.678\n",
      "MasVnrType__BrkFace    -5035.1309   1569.591     -3.208      0.001   -8113.515   -1956.746\n",
      "MasVnrType__NA         -5881.1008   5817.725     -1.011      0.312   -1.73e+04    5529.002\n",
      "MasVnrType__Stone      -1756.2560   2278.827     -0.771      0.441   -6225.640    2713.128\n",
      "ExterQual__Ex           3.329e+04   4293.899      7.754      0.000    2.49e+04    4.17e+04\n",
      "ExterQual__Fa           7389.9345   5980.350      1.236      0.217   -4339.118    1.91e+04\n",
      "ExterQual__Gd           2474.1454   1787.719      1.384      0.167   -1032.047    5980.338\n",
      "ExterCond__Ex          -9714.8471   7728.575     -1.257      0.209   -2.49e+04    5442.941\n",
      "ExterCond__Fa          -5489.6774   3905.048     -1.406      0.160   -1.31e+04    2169.159\n",
      "ExterCond__Gd           -290.4316   1699.761     -0.171      0.864   -3624.115    3043.252\n",
      "ExterCond__Po          -7388.2857   1.54e+04     -0.478      0.632   -3.77e+04    2.29e+04\n",
      "Foundation__BrkTil      -662.7883   2258.764     -0.293      0.769   -5092.825    3767.248\n",
      "Foundation__PConc       1204.5197   1817.219      0.663      0.508   -2359.529    4768.568\n",
      "Foundation__Slab       -5678.5128   6319.598     -0.899      0.369   -1.81e+04    6715.897\n",
      "Foundation__Stone       2096.7784   8237.728      0.255      0.799   -1.41e+04    1.83e+04\n",
      "Foundation__Wood       -5639.0057   1.08e+04     -0.523      0.601   -2.68e+04    1.55e+04\n",
      "BsmtQual__Ex            1.703e+04   3026.649      5.628      0.000    1.11e+04     2.3e+04\n",
      "BsmtQual__Fa            4846.4026   3122.620      1.552      0.121   -1277.885     1.1e+04\n",
      "BsmtQual__Gd           -2323.2288   1794.461     -1.295      0.196   -5842.643    1196.186\n",
      "BsmtQual__NA            1.934e+04   7803.854      2.478      0.013    4032.957    3.46e+04\n",
      "BsmtQual__Po            2.024e+04   1.82e+04      1.114      0.265   -1.54e+04    5.59e+04\n",
      "BsmtCond__Ex           -9171.1031   1.24e+04     -0.742      0.458   -3.34e+04    1.51e+04\n",
      "BsmtCond__Fa           -2006.6111   2875.171     -0.698      0.485   -7645.585    3632.363\n",
      "BsmtCond__Gd            -113.1905   2462.316     -0.046      0.963   -4942.446    4716.065\n",
      "BsmtCond__NA            1.934e+04   7803.854      2.478      0.013    4032.957    3.46e+04\n",
      "BsmtCond__Po            -587.3664   1.56e+04     -0.038      0.970   -3.11e+04    2.99e+04\n",
      "BsmtExposure__Av        3800.4939   1726.607      2.201      0.028     414.160    7186.828\n",
      "BsmtExposure__Gd        1.751e+04   2239.008      7.820      0.000    1.31e+04    2.19e+04\n",
      "BsmtExposure__Mn       -1234.2760   1802.342     -0.685      0.494   -4769.147    2300.595\n",
      "BsmtExposure__NA       -2.609e+04   1.44e+04     -1.810      0.070   -5.44e+04    2180.141\n",
      "HeatingQC__Fa          -4647.5887   3066.596     -1.516      0.130   -1.07e+04    1366.820\n",
      "HeatingQC__Gd          -2473.4135   1501.893     -1.647      0.100   -5419.024     472.197\n",
      "HeatingQC__Po          -8.276e-11   2.61e-11     -3.172      0.002   -1.34e-10   -3.16e-11\n",
      "HeatingQC__TA          -3999.1376   1417.896     -2.820      0.005   -6780.008   -1218.267\n",
      "Electrical__FuseA       -350.7018   2109.095     -0.166      0.868   -4487.197    3785.793\n",
      "Electrical__FuseF       2246.0865   4551.326      0.494      0.622   -6680.272    1.12e+04\n",
      "Electrical__FuseP       2368.9878   1.02e+04      0.233      0.816   -1.76e+04    2.23e+04\n",
      "Electrical__NA          1.387e+04   2.07e+04      0.669      0.503   -2.68e+04    5.45e+04\n",
      "KitchenQual__Ex          2.52e+04   3122.469      8.071      0.000    1.91e+04    3.13e+04\n",
      "KitchenQual__Fa          340.1003   3516.895      0.097      0.923   -6557.465    7237.666\n",
      "KitchenQual__Gd         2180.5036   1463.310      1.490      0.136    -689.435    5050.443\n",
      "KitchenQual__Po         1.349e-11    1.8e-11      0.748      0.455   -2.19e-11    4.89e-11\n",
      "Functional__Maj1       -2.055e+04   6219.558     -3.304      0.001   -3.27e+04   -8348.393\n",
      "Functional__Maj2       -1.713e+04   9402.329     -1.822      0.069   -3.56e+04    1310.503\n",
      "Functional__Min1       -1.574e+04   3464.555     -4.543      0.000   -2.25e+04   -8945.039\n",
      "Functional__Min2       -8078.7073   3113.983     -2.594      0.010   -1.42e+04   -1971.360\n",
      "Functional__Mod        -1.356e+04   4666.641     -2.906      0.004   -2.27e+04   -4406.496\n",
      "Functional__Sal        -7026.6025   2.26e+04     -0.311      0.756   -5.13e+04    3.73e+04\n",
      "GarageType__2Types     -9611.4563   5733.552     -1.676      0.094   -2.09e+04    1633.560\n",
      "GarageType__Basment      474.8941   5672.854      0.084      0.933   -1.07e+04    1.16e+04\n",
      "GarageType__BuiltIn    -3247.7391   2447.748     -1.327      0.185   -8048.423    1552.945\n",
      "GarageType__CarPort     1243.4860   9019.979      0.138      0.890   -1.64e+04    1.89e+04\n",
      "GarageType__Detchd      1888.8634   1584.586      1.192      0.233   -1218.929    4996.656\n",
      "GarageType__NA          2742.2693   1057.632      2.593      0.010     667.973    4816.566\n",
      "GarageQual__Ex          1.098e+05   1.85e+04      5.938      0.000    7.35e+04    1.46e+05\n",
      "GarageQual__Fa            92.3875   2888.118      0.032      0.974   -5571.978    5756.753\n",
      "GarageQual__Gd          2.194e+04   6414.629      3.421      0.001    9361.820    3.45e+04\n",
      "GarageQual__NA          2742.2693   1057.632      2.593      0.010     667.973    4816.566\n",
      "GarageQual__Po         -1.552e+04   1.39e+04     -1.115      0.265   -4.28e+04    1.18e+04\n",
      "GarageCond__Ex         -7.761e+04   1.76e+04     -4.399      0.000   -1.12e+05    -4.3e+04\n",
      "GarageCond__Fa         -1257.6242   3587.833     -0.351      0.726   -8294.317    5779.069\n",
      "GarageCond__Gd         -9494.8176   6402.726     -1.483      0.138   -2.21e+04    3062.627\n",
      "GarageCond__NA          2742.2693   1057.632      2.593      0.010     667.973    4816.566\n",
      "GarageCond__Po          6416.0278   9127.017      0.703      0.482   -1.15e+04    2.43e+04\n",
      "PavedDrive__N            371.2435   2471.179      0.150      0.881   -4475.395    5217.882\n",
      "PavedDrive__P          -4752.3055   3318.894     -1.432      0.152   -1.13e+04    1756.926\n",
      "YrSold__2006            2604.4547   1445.132      1.802      0.072    -229.833    5438.743\n",
      "YrSold__2008            1052.6414   1389.648      0.757      0.449   -1672.828    3778.111\n",
      "YrSold__2009            -449.2979   1384.644     -0.324      0.746   -3164.951    2266.356\n",
      "YrSold__2010            2307.5364   1682.711      1.371      0.170    -992.706    5607.779\n",
      "SaleType__COD          -3284.0877   3478.522     -0.944      0.345   -1.01e+04    3538.217\n",
      "SaleType__CWD           8598.3647   6316.957      1.361      0.174   -3790.865     2.1e+04\n",
      "SaleType__Con           2.133e+04   9556.934      2.231      0.026    2582.285    4.01e+04\n",
      "SaleType__ConLD         1408.1044   5171.957      0.272      0.785   -8735.477    1.16e+04\n",
      "SaleType__ConLI         5833.4866   8609.159      0.678      0.498   -1.11e+04    2.27e+04\n",
      "SaleType__ConLw        -7553.9498   1.09e+04     -0.695      0.487   -2.89e+04    1.38e+04\n",
      "SaleType__New          -1.087e+04   1.27e+04     -0.853      0.394   -3.59e+04    1.41e+04\n",
      "SaleType__Oth          -1.217e+04   1.06e+04     -1.147      0.252    -3.3e+04    8645.216\n",
      "SaleType__VWD          -5215.5293   2.05e+04     -0.255      0.799   -4.54e+04    3.49e+04\n",
      "SaleCondition__Abnorml -2812.6080   3310.880     -0.850      0.396   -9306.122    3680.906\n",
      "SaleCondition__AdjLand -2692.9533   1.67e+04     -0.162      0.872   -3.54e+04       3e+04\n",
      "SaleCondition__Alloca   9878.3902   1.24e+04      0.796      0.426   -1.45e+04    3.42e+04\n",
      "SaleCondition__Family  -6906.8709   6233.815     -1.108      0.268   -1.91e+04    5319.294\n",
      "SaleCondition__Partial  1.633e+04   1.25e+04      1.310      0.190   -8122.557    4.08e+04\n",
      "==============================================================================\n",
      "Omnibus:                      568.176   Durbin-Watson:                   1.984\n",
      "Prob(Omnibus):                  0.000   Jarque-Bera (JB):            55758.991\n",
      "Skew:                          -0.074   Prob(JB):                         0.00\n",
      "Kurtosis:                      28.574   Cond. No.                     1.30e+20\n",
      "==============================================================================\n",
      "\n",
      "Notes:\n",
      "[1] Standard Errors assume that the covariance matrix of the errors is correctly specified.\n",
      "[2] The smallest eigenvalue is 1.77e-29. This might indicate that there are\n",
      "strong multicollinearity problems or that the design matrix is singular.\n"
     ]
    },
    {
     "name": "stderr",
     "output_type": "stream",
     "text": [
      "/Users/carolinekeough/opt/anaconda3/lib/python3.9/site-packages/statsmodels/tsa/tsatools.py:142: FutureWarning: In a future version of pandas all arguments of concat except for the argument 'objs' will be keyword-only\n",
      "  x = pd.concat(x[::order], 1)\n"
     ]
    }
   ],
   "source": [
    "import statsmodels.api as sm \n",
    "X_add_const = sm.add_constant(X_train)\n",
    "ols = sm.OLS(y_train, X_add_const)\n",
    "ans = ols.fit()\n",
    "print(ans.summary())\n",
    "\n",
    "#Royce says use Lasso to see which coefficients go down to 0 instead of selecting by p value"
   ]
  },
  {
   "cell_type": "markdown",
   "id": "3c8d2653",
   "metadata": {},
   "source": [
    "Lasso"
   ]
  },
  {
   "cell_type": "code",
   "execution_count": 13,
   "id": "ebd16952",
   "metadata": {},
   "outputs": [],
   "source": [
    "#helpful website\n",
    "# https://towardsdatascience.com/hyperparameter-tuning-in-lasso-and-ridge-regressions-70a4b158ae6d"
   ]
  },
  {
   "cell_type": "code",
   "execution_count": 14,
   "id": "e5f816ba",
   "metadata": {},
   "outputs": [],
   "source": [
    "from sklearn.linear_model import LinearRegression, Ridge, Lasso, ElasticNet\n",
    "#first need to scale! I don't think joaquin's model scaled\n",
    "\n",
    "from sklearn.preprocessing import StandardScaler, PolynomialFeatures\n",
    "\n",
    "sc = StandardScaler()\n",
    "X_train_scaled = sc.fit_transform(X_train)\n",
    "X_train_scaled = pd.DataFrame(data = X_train_scaled, columns = X_train.columns)\n"
   ]
  },
  {
   "cell_type": "code",
   "execution_count": 15,
   "id": "6aecc5c0",
   "metadata": {},
   "outputs": [],
   "source": [
    "from sklearn.model_selection import KFold, RepeatedKFold, GridSearchCV, cross_validate, train_test_split\n",
    "\n",
    "#not sure how to do this\n",
    "\n",
    "# cv = RepeatedKFold(n_splits=10, n_repeats=3, random_state=1)\n",
    "# lasso_alphas = np.linspace(0, 0.2, 21)\n",
    "# lasso = Lasso()\n",
    "# grid = dict()\n",
    "# grid['alpha'] = lasso_alphas\n",
    "# gscv = GridSearchCV(lasso, grid, scoring='neg_mean_absolute_error', cv=cv, n_jobs=-1)\n",
    "# results = gscv.fit(X_train_scaled, y_train)\n",
    "# print('MAE: %.5f' % results.best_score_)\n",
    "# print('Config: %s' % results.best_params_)"
   ]
  },
  {
   "cell_type": "code",
   "execution_count": 16,
   "id": "4e77e4d6",
   "metadata": {},
   "outputs": [],
   "source": [
    "#could use geopy on the combo csvs and map like the highest sale prices or something\n"
   ]
  },
  {
   "cell_type": "code",
   "execution_count": 17,
   "id": "b5615cfc",
   "metadata": {},
   "outputs": [],
   "source": [
    "ridge = Ridge()\n",
    "lasso = Lasso()"
   ]
  },
  {
   "cell_type": "code",
   "execution_count": 27,
   "id": "4b6d343b",
   "metadata": {},
   "outputs": [],
   "source": [
    "#Looking at lecture code\n",
    "ridge.set_params(max_iter = 10000, normalize=True)\n",
    "lasso.set_params(max_iter = 10000, normalize=True)\n",
    "ridge_scores_train = []\n",
    "lasso_scores_train = []\n",
    "ridge_scores_test  = []\n",
    "lasso_scores_test  = []\n",
    "\n",
    "# alphas = np.linspace(0.01, 10, 100)\n",
    "#copied joaquin's alphas\n",
    "alphas = np.linspace(.1, 10.1,20)\n",
    "\n",
    "\n",
    "for alpha in alphas:\n",
    "            ridge.set_params(alpha=alpha)\n",
    "            lasso.set_params(alpha=alpha)\n",
    "            ridge.fit(X_train, y_train)\n",
    "            lasso.fit(X_train, y_train)\n",
    "            ridge_scores_train.append(ridge.score(X_train, y_train))\n",
    "            ridge_scores_test.append(ridge.score(X_test, y_test))\n",
    "            lasso_scores_train.append(lasso.score(X_train, y_train))\n",
    "            lasso_scores_test.append(lasso.score(X_test, y_test))\n",
    "ridge_scores_train = np.array(ridge_scores_train) \n",
    "ridge_scores_test  = np.array(ridge_scores_test)\n",
    "lasso_scores_train = np.array(lasso_scores_train) \n",
    "lasso_scores_test  = np.array(lasso_scores_test)"
   ]
  },
  {
   "cell_type": "code",
   "execution_count": 28,
   "id": "61a66d34",
   "metadata": {},
   "outputs": [
    {
     "data": {
      "text/plain": [
       "3.2578947368421054"
      ]
     },
     "execution_count": 28,
     "metadata": {},
     "output_type": "execute_result"
    }
   ],
   "source": [
    "max_index = list(lasso_scores_test).index(max(lasso_scores_test))\n",
    "alphas[max_index]"
   ]
  },
  {
   "cell_type": "code",
   "execution_count": 29,
   "id": "1a141dc2",
   "metadata": {},
   "outputs": [
    {
     "data": {
      "text/plain": [
       "Text(0, 0.5, '$R^2$')"
      ]
     },
     "execution_count": 29,
     "metadata": {},
     "output_type": "execute_result"
    },
    {
     "data": {
      "image/png": "[encoded data removed]",
      "text/plain": [
       "<Figure size 432x288 with 1 Axes>"
      ]
     },
     "metadata": {
      "needs_background": "light"
     },
     "output_type": "display_data"
    }
   ],
   "source": [
    "plt.plot(alphas, lasso_scores_train, label=r'$train\\ R^2$')\n",
    "plt.plot(alphas, lasso_scores_test, label=r'$test\\ R^2$')\n",
    "plt.title(r'Lasso Train-Test $R^2$ Comparison')\n",
    "# lasso_underfit = lasso_scores_train < lasso_scores_test\n",
    "# last_underfit  = np.max(alphas[lasso_underfit])\n",
    "plt.axvline(alphas[max_index], linestyle='--', color='g', label='optimal lambda', alpha=0.4)\n",
    "plt.legend(loc=1)\n",
    "plt.xlabel(r'hyperparameter $\\lambda$')\n",
    "plt.ylabel(r'$R^2$')"
   ]
  },
  {
   "cell_type": "code",
   "execution_count": 30,
   "id": "4cfe1c76",
   "metadata": {},
   "outputs": [
    {
     "name": "stdout",
     "output_type": "stream",
     "text": [
      "0.9350237740684186\n"
     ]
    },
    {
     "data": {
      "text/plain": [
       "0.9211416762020457"
      ]
     },
     "execution_count": 30,
     "metadata": {},
     "output_type": "execute_result"
    }
   ],
   "source": [
    "lasso.set_params(alpha=alphas[max_index], normalize = True)\n",
    "lasso.fit(X_train, y_train)\n",
    "print(lasso.score(X_train, y_train))\n",
    "lasso.score(X_test, y_test)\n",
    "\n",
    "#So this model is slightly better than MLR"
   ]
  },
  {
   "cell_type": "code",
   "execution_count": 22,
   "id": "642947e7",
   "metadata": {},
   "outputs": [],
   "source": [
    "optimal_coefs = lasso.coef_.reshape(1,230)"
   ]
  },
  {
   "cell_type": "code",
   "execution_count": 23,
   "id": "b8887519",
   "metadata": {},
   "outputs": [
    {
     "data": {
      "text/html": [
       "<div>\n",
       "<style scoped>\n",
       "    .dataframe tbody tr th:only-of-type {\n",
       "        vertical-align: middle;\n",
       "    }\n",
       "\n",
       "    .dataframe tbody tr th {\n",
       "        vertical-align: top;\n",
       "    }\n",
       "\n",
       "    .dataframe thead th {\n",
       "        text-align: right;\n",
       "    }\n",
       "</style>\n",
       "<table border=\"1\" class=\"dataframe\">\n",
       "  <thead>\n",
       "    <tr style=\"text-align: right;\">\n",
       "      <th></th>\n",
       "      <th>GrLivArea</th>\n",
       "      <th>LotFrontage</th>\n",
       "      <th>LotArea</th>\n",
       "      <th>OverallQual</th>\n",
       "      <th>OverallCond</th>\n",
       "      <th>YearBuilt</th>\n",
       "      <th>MasVnrArea</th>\n",
       "      <th>BsmtUnfSF</th>\n",
       "      <th>CentralAir</th>\n",
       "      <th>1stFlrSF</th>\n",
       "      <th>...</th>\n",
       "      <th>SaleType__ConLI</th>\n",
       "      <th>SaleType__ConLw</th>\n",
       "      <th>SaleType__New</th>\n",
       "      <th>SaleType__Oth</th>\n",
       "      <th>SaleType__VWD</th>\n",
       "      <th>SaleCondition__Abnorml</th>\n",
       "      <th>SaleCondition__AdjLand</th>\n",
       "      <th>SaleCondition__Alloca</th>\n",
       "      <th>SaleCondition__Family</th>\n",
       "      <th>SaleCondition__Partial</th>\n",
       "    </tr>\n",
       "  </thead>\n",
       "  <tbody>\n",
       "    <tr>\n",
       "      <th>0</th>\n",
       "      <td>58.048792</td>\n",
       "      <td>10.006304</td>\n",
       "      <td>0.60603</td>\n",
       "      <td>7565.485753</td>\n",
       "      <td>5857.384372</td>\n",
       "      <td>399.728637</td>\n",
       "      <td>28.079895</td>\n",
       "      <td>11.257763</td>\n",
       "      <td>-293.514236</td>\n",
       "      <td>2.051376</td>\n",
       "      <td>...</td>\n",
       "      <td>0.0</td>\n",
       "      <td>-4736.277601</td>\n",
       "      <td>0.0</td>\n",
       "      <td>-9429.775877</td>\n",
       "      <td>-0.0</td>\n",
       "      <td>-1501.672079</td>\n",
       "      <td>-2847.173734</td>\n",
       "      <td>5815.423671</td>\n",
       "      <td>-8215.797337</td>\n",
       "      <td>7028.687523</td>\n",
       "    </tr>\n",
       "  </tbody>\n",
       "</table>\n",
       "<p>1 rows × 230 columns</p>\n",
       "</div>"
      ],
      "text/plain": [
       "   GrLivArea  LotFrontage  LotArea  OverallQual  OverallCond   YearBuilt  \\\n",
       "0  58.048792    10.006304  0.60603  7565.485753  5857.384372  399.728637   \n",
       "\n",
       "   MasVnrArea  BsmtUnfSF  CentralAir  1stFlrSF  ...  SaleType__ConLI  \\\n",
       "0   28.079895  11.257763 -293.514236  2.051376  ...              0.0   \n",
       "\n",
       "   SaleType__ConLw  SaleType__New  SaleType__Oth  SaleType__VWD  \\\n",
       "0     -4736.277601            0.0   -9429.775877           -0.0   \n",
       "\n",
       "   SaleCondition__Abnorml  SaleCondition__AdjLand  SaleCondition__Alloca  \\\n",
       "0            -1501.672079            -2847.173734            5815.423671   \n",
       "\n",
       "   SaleCondition__Family  SaleCondition__Partial  \n",
       "0           -8215.797337             7028.687523  \n",
       "\n",
       "[1 rows x 230 columns]"
      ]
     },
     "execution_count": 23,
     "metadata": {},
     "output_type": "execute_result"
    }
   ],
   "source": [
    "coefs_lasso = pd.DataFrame(optimal_coefs, columns = X_train.columns)  \n",
    "coefs_lasso.head()"
   ]
  },
  {
   "cell_type": "code",
   "execution_count": 24,
   "id": "c8e5587c",
   "metadata": {},
   "outputs": [
    {
     "data": {
      "text/html": [
       "<div>\n",
       "<style scoped>\n",
       "    .dataframe tbody tr th:only-of-type {\n",
       "        vertical-align: middle;\n",
       "    }\n",
       "\n",
       "    .dataframe tbody tr th {\n",
       "        vertical-align: top;\n",
       "    }\n",
       "\n",
       "    .dataframe thead th {\n",
       "        text-align: right;\n",
       "    }\n",
       "</style>\n",
       "<table border=\"1\" class=\"dataframe\">\n",
       "  <thead>\n",
       "    <tr style=\"text-align: right;\">\n",
       "      <th></th>\n",
       "      <th>GrLivArea</th>\n",
       "      <th>LotFrontage</th>\n",
       "      <th>LotArea</th>\n",
       "      <th>OverallQual</th>\n",
       "      <th>OverallCond</th>\n",
       "      <th>YearBuilt</th>\n",
       "      <th>MasVnrArea</th>\n",
       "      <th>BsmtUnfSF</th>\n",
       "      <th>CentralAir</th>\n",
       "      <th>1stFlrSF</th>\n",
       "      <th>...</th>\n",
       "      <th>SaleType__ConLI</th>\n",
       "      <th>SaleType__ConLw</th>\n",
       "      <th>SaleType__New</th>\n",
       "      <th>SaleType__Oth</th>\n",
       "      <th>SaleType__VWD</th>\n",
       "      <th>SaleCondition__Abnorml</th>\n",
       "      <th>SaleCondition__AdjLand</th>\n",
       "      <th>SaleCondition__Alloca</th>\n",
       "      <th>SaleCondition__Family</th>\n",
       "      <th>SaleCondition__Partial</th>\n",
       "    </tr>\n",
       "  </thead>\n",
       "  <tbody>\n",
       "    <tr>\n",
       "      <th>0</th>\n",
       "      <td>False</td>\n",
       "      <td>False</td>\n",
       "      <td>False</td>\n",
       "      <td>False</td>\n",
       "      <td>False</td>\n",
       "      <td>False</td>\n",
       "      <td>False</td>\n",
       "      <td>False</td>\n",
       "      <td>False</td>\n",
       "      <td>False</td>\n",
       "      <td>...</td>\n",
       "      <td>True</td>\n",
       "      <td>False</td>\n",
       "      <td>True</td>\n",
       "      <td>False</td>\n",
       "      <td>True</td>\n",
       "      <td>False</td>\n",
       "      <td>False</td>\n",
       "      <td>False</td>\n",
       "      <td>False</td>\n",
       "      <td>False</td>\n",
       "    </tr>\n",
       "  </tbody>\n",
       "</table>\n",
       "<p>1 rows × 230 columns</p>\n",
       "</div>"
      ],
      "text/plain": [
       "   GrLivArea  LotFrontage  LotArea  OverallQual  OverallCond  YearBuilt  \\\n",
       "0      False        False    False        False        False      False   \n",
       "\n",
       "   MasVnrArea  BsmtUnfSF  CentralAir  1stFlrSF  ...  SaleType__ConLI  \\\n",
       "0       False      False       False     False  ...             True   \n",
       "\n",
       "   SaleType__ConLw  SaleType__New  SaleType__Oth  SaleType__VWD  \\\n",
       "0            False           True          False           True   \n",
       "\n",
       "   SaleCondition__Abnorml  SaleCondition__AdjLand  SaleCondition__Alloca  \\\n",
       "0                   False                   False                  False   \n",
       "\n",
       "   SaleCondition__Family  SaleCondition__Partial  \n",
       "0                  False                   False  \n",
       "\n",
       "[1 rows x 230 columns]"
      ]
     },
     "execution_count": 24,
     "metadata": {},
     "output_type": "execute_result"
    }
   ],
   "source": [
    "coefs_lasso == 0"
   ]
  },
  {
   "cell_type": "code",
   "execution_count": 177,
   "id": "45aead39",
   "metadata": {},
   "outputs": [],
   "source": [
    "to_drop = coefs_lasso.columns[(coefs_lasso == 0).all()]"
   ]
  },
  {
   "cell_type": "code",
   "execution_count": 178,
   "id": "9eb4ec9a",
   "metadata": {},
   "outputs": [
    {
     "data": {
      "text/plain": [
       "Index(['FullBath', 'TotRmsAbvGrd', 'Fence', 'MSSubClass__40', 'MSSubClass__45',\n",
       "       'MSSubClass__50', 'MSSubClass__70', 'MSSubClass__85', 'MSSubClass__180',\n",
       "       'MSZoning__A (agr)', 'MSZoning__I (all)', 'MSZoning__RH',\n",
       "       'LotConfig__Corner', 'Neighborhood__Mitchel', 'Neighborhood__OldTown',\n",
       "       'Neighborhood__SawyerW', 'Neighborhood__Timber', 'Condition1__PosN',\n",
       "       'Condition2__Artery', 'Condition2__RRAn', 'BldgType__2fmCon',\n",
       "       'BldgType__Duplex', 'HouseStyle__2Story', 'HouseStyle__SLvl',\n",
       "       'RoofStyle__Hip', 'Exterior1st__AsbShng', 'Exterior1st__AsphShn',\n",
       "       'Exterior1st__BrkComm', 'Exterior1st__MetalSd', 'Exterior1st__Plywood',\n",
       "       'Exterior1st__Stucco', 'Exterior2nd__Brk Cmn', 'Exterior2nd__CBlock',\n",
       "       'Exterior2nd__PreCast', 'Exterior2nd__Stone', 'Exterior2nd__Wd Sdng',\n",
       "       'Foundation__BrkTil', 'Foundation__Slab', 'BsmtCond__Gd',\n",
       "       'BsmtCond__NA', 'BsmtCond__Po', 'BsmtExposure__NA', 'HeatingQC__Po',\n",
       "       'Electrical__FuseA', 'Electrical__FuseP', 'KitchenQual__Po',\n",
       "       'GarageType__CarPort', 'GarageCond__NA', 'SaleType__ConLI',\n",
       "       'SaleType__New', 'SaleType__VWD'],\n",
       "      dtype='object')"
      ]
     },
     "execution_count": 178,
     "metadata": {},
     "output_type": "execute_result"
    }
   ],
   "source": [
    "to_drop\n"
   ]
  },
  {
   "cell_type": "code",
   "execution_count": 179,
   "id": "18f9debd",
   "metadata": {},
   "outputs": [],
   "source": [
    "#Now should go through these items and see what the deal is. Are they just items that had very few houses matching?\n",
    "#cant just drop cols ?"
   ]
  },
  {
   "cell_type": "markdown",
   "id": "0ee1b6d9",
   "metadata": {},
   "source": [
    "Ridge"
   ]
  },
  {
   "cell_type": "code",
   "execution_count": 31,
   "id": "c36c84a3",
   "metadata": {},
   "outputs": [
    {
     "data": {
      "text/plain": [
       "Text(0, 0.5, '$R^2$')"
      ]
     },
     "execution_count": 31,
     "metadata": {},
     "output_type": "execute_result"
    },
    {
     "data": {
      "image/png": "[encoded data removed]",
      "text/plain": [
       "<Figure size 432x288 with 1 Axes>"
      ]
     },
     "metadata": {
      "needs_background": "light"
     },
     "output_type": "display_data"
    }
   ],
   "source": [
    "plt.plot(alphas, ridge_scores_train, label=r'$train\\ R^2$')\n",
    "plt.plot(alphas, ridge_scores_test, label=r'$test\\ R^2$')\n",
    "plt.title(r'Ridge Train-Test $R^2$ Comparison')\n",
    "ridge_underfit = ridge_scores_train < ridge_scores_test\n",
    "last_underfit  = np.min(alphas[ridge_underfit])\n",
    "plt.axvline(last_underfit, linestyle='--', color='g', label='optimal lambda', alpha=0.4)\n",
    "plt.legend(loc=1)\n",
    "plt.xlabel(r'hyperparameter $\\lambda$')\n",
    "plt.ylabel(r'$R^2$')"
   ]
  },
  {
   "cell_type": "code",
   "execution_count": 38,
   "id": "417c838e",
   "metadata": {},
   "outputs": [
    {
     "data": {
      "text/plain": [
       "array([ 0.1       ,  0.62631579,  1.15263158,  1.67894737,  2.20526316,\n",
       "        2.73157895,  3.25789474,  3.78421053,  4.31052632,  4.83684211,\n",
       "        5.36315789,  5.88947368,  6.41578947,  6.94210526,  7.46842105,\n",
       "        7.99473684,  8.52105263,  9.04736842,  9.57368421, 10.1       ])"
      ]
     },
     "execution_count": 38,
     "metadata": {},
     "output_type": "execute_result"
    }
   ],
   "source": [
    "#Pretty bad r2 not even gonna look at what it is at the intersection\n",
    "\n",
    "max(ridge_scores_test)\n",
    "\n",
    "\n"
   ]
  },
  {
   "cell_type": "code",
   "execution_count": 318,
   "id": "3a03fb5f",
   "metadata": {},
   "outputs": [
    {
     "data": {
      "text/plain": [
       "0"
      ]
     },
     "execution_count": 318,
     "metadata": {},
     "output_type": "execute_result"
    }
   ],
   "source": [
    "list(ridge_scores_test).index(max(ridge_scores_test))\n",
    "\n",
    "#this might not have been the right range of alphas to run for ridge. let me try a quick grid search."
   ]
  },
  {
   "cell_type": "code",
   "execution_count": 34,
   "id": "1e0fc92b",
   "metadata": {},
   "outputs": [],
   "source": [
    "ridge = Ridge()"
   ]
  },
  {
   "cell_type": "code",
   "execution_count": 35,
   "id": "77ad18cf",
   "metadata": {},
   "outputs": [
    {
     "name": "stdout",
     "output_type": "stream",
     "text": [
      "GridSearchCV(estimator=Ridge(),\n",
      "             param_grid={'alpha': array([ 0.1       ,  0.62631579,  1.15263158,  1.67894737,  2.20526316,\n",
      "        2.73157895,  3.25789474,  3.78421053,  4.31052632,  4.83684211,\n",
      "        5.36315789,  5.88947368,  6.41578947,  6.94210526,  7.46842105,\n",
      "        7.99473684,  8.52105263,  9.04736842,  9.57368421, 10.1       ]),\n",
      "                         'normalize': [True]})\n",
      "0.8999959082191087\n",
      "0.1\n"
     ]
    }
   ],
   "source": [
    "#tried cv but couldn't get anything better really\n",
    "# ridge = Ridge()\n",
    "# params = {\n",
    "#     \"alpha\": np.linspace(0,10,100)\n",
    "# }\n",
    "\n",
    "params = {\n",
    "    \"alpha\": np.linspace(0.1,10.1,20), 'normalize' : [True] }\n",
    "\n",
    "gs = GridSearchCV(ridge, params)\n",
    "gs.fit(X_train, y_train)\n",
    "\n",
    "print(gs)\n",
    "# summarize the results of the grid search\n",
    "print(gs.best_score_)\n",
    "print(gs.best_estimator_.alpha)\n",
    "\n",
    "#oh cuz in reality the best r2 is when lambda is closest to 0"
   ]
  },
  {
   "cell_type": "code",
   "execution_count": 41,
   "id": "193ca047",
   "metadata": {},
   "outputs": [
    {
     "data": {
      "text/plain": [
       "0.9172225039106934"
      ]
     },
     "execution_count": 41,
     "metadata": {},
     "output_type": "execute_result"
    }
   ],
   "source": [
    "gs.score(X_test, y_test)"
   ]
  },
  {
   "cell_type": "code",
   "execution_count": 392,
   "id": "e8c5930e",
   "metadata": {},
   "outputs": [
    {
     "data": {
      "text/plain": [
       "0.9182864176271329"
      ]
     },
     "execution_count": 392,
     "metadata": {},
     "output_type": "execute_result"
    }
   ],
   "source": [
    "ridge.set_params(alpha = .0000001, normalize = True)\n",
    "ridge.fit(X_train, y_train)\n",
    "ridge.score(X_test, y_test)"
   ]
  },
  {
   "cell_type": "code",
   "execution_count": 395,
   "id": "417a50dd",
   "metadata": {},
   "outputs": [
    {
     "data": {
      "text/plain": [
       "0.937120774277546"
      ]
     },
     "execution_count": 395,
     "metadata": {},
     "output_type": "execute_result"
    }
   ],
   "source": [
    "ridge.score(X_train, y_train)"
   ]
  },
  {
   "cell_type": "markdown",
   "id": "91ba2a10",
   "metadata": {},
   "source": [
    "Elastic Net"
   ]
  },
  {
   "cell_type": "code",
   "execution_count": 42,
   "id": "9a4cbd4f",
   "metadata": {},
   "outputs": [],
   "source": [
    "elasticnet = ElasticNet()"
   ]
  },
  {
   "cell_type": "code",
   "execution_count": null,
   "id": "9a52c8bf",
   "metadata": {},
   "outputs": [],
   "source": [
    "#Doesn't converge idk\n",
    "\n",
    "# N_alpha = 100\n",
    "# N_rho   = 10\n",
    "# alphaRange = np.logspace(-10, 2, N_alpha)\n",
    "# rhoRange   = np.linspace(0.1,1, N_rho) # we avoid very small rho by starting at 0.1\n",
    "# train_scores     = np.zeros((N_rho, N_alpha))\n",
    "# test_scores     = np.zeros((N_rho, N_alpha))\n",
    "# for alphaIdx, alpha in enumerate(alphaRange):\n",
    "#     for rhoIdx, rho in enumerate(rhoRange):\n",
    "#             elasticnet.set_params(max_iter = 30000, alpha=alpha, l1_ratio=rho)\n",
    "#             elasticnet.fit(X_train, y_train)\n",
    "#             train_scores[rhoIdx, alphaIdx] = elasticnet.score(X_train, y_train)   \n",
    "#             elasticnet.fit(X_test, y_test)\n",
    "#             test_scores[rhoIdx, alphaIdx] = elasticnet.score(X_test, y_test)   "
   ]
  },
  {
   "cell_type": "code",
   "execution_count": 48,
   "id": "767f36a9",
   "metadata": {},
   "outputs": [
    {
     "name": "stdout",
     "output_type": "stream",
     "text": [
      "GridSearchCV(estimator=ElasticNet(),\n",
      "             param_grid={'alpha': array([ 0.1       ,  0.62631579,  1.15263158,  1.67894737,  2.20526316,\n",
      "        2.73157895,  3.25789474,  3.78421053,  4.31052632,  4.83684211,\n",
      "        5.36315789,  5.88947368,  6.41578947,  6.94210526,  7.46842105,\n",
      "        7.99473684,  8.52105263,  9.04736842,  9.57368421, 10.1       ]),\n",
      "                         'l1_ratio': array([0.1, 0.2, 0.3, 0.4, 0.5, 0.6, 0.7, 0.8, 0.9, 1. ]),\n",
      "                         'max_iter': [10000], 'normalize': [True]})\n",
      "0.9015869803848406\n",
      "10.1\n"
     ]
    }
   ],
   "source": [
    "params = {\n",
    "    \"alpha\": np.linspace(0.1,10.1,20), 'l1_ratio': np.linspace(0.1, 1, 10), 'normalize' : [True], 'max_iter' : [10000] }\n",
    "\n",
    "gs_elas = GridSearchCV(elasticnet, params)\n",
    "gs_elas.fit(X_train, y_train)\n",
    "\n",
    "print(gs_elas)\n",
    "# summarize the results of the grid search\n",
    "print(gs_elas.best_score_)\n",
    "print(gs_elas.best_estimator_.alpha)"
   ]
  },
  {
   "cell_type": "code",
   "execution_count": 50,
   "id": "aa767400",
   "metadata": {},
   "outputs": [
    {
     "name": "stdout",
     "output_type": "stream",
     "text": [
      "0.9292717099998591\n"
     ]
    },
    {
     "data": {
      "text/plain": [
       "0.9185595595145662"
      ]
     },
     "execution_count": 50,
     "metadata": {},
     "output_type": "execute_result"
    }
   ],
   "source": [
    "print(gs_elas.score(X_train, y_train))\n",
    "gs_elas.score(X_test, y_test)"
   ]
  },
  {
   "cell_type": "code",
   "execution_count": null,
   "id": "604b35ba",
   "metadata": {},
   "outputs": [],
   "source": [
    "#joaquin's lasso didn't normalize and had a better R2\n",
    "#try that too\n",
    "#try log transform\n",
    "\n"
   ]
  },
  {
   "cell_type": "markdown",
   "id": "4aefe251",
   "metadata": {},
   "source": [
    "Lasso and Ridge, not normalized"
   ]
  },
  {
   "cell_type": "code",
   "execution_count": null,
   "id": "0a40604c",
   "metadata": {},
   "outputs": [],
   "source": [
    "#Looking at lecture code\n",
    "ridge.set_params(max_iter = 100000, normalize=False)\n",
    "lasso.set_params(max_iter = 100000, normalize=False)\n",
    "ridge_scores_train = []\n",
    "lasso_scores_train = []\n",
    "ridge_scores_test  = []\n",
    "lasso_scores_test  = []\n",
    "\n",
    "alphas = np.linspace(0.01, 20, 100)\n",
    "\n",
    "for alpha in alphas:\n",
    "            ridge.set_params(alpha=alpha)\n",
    "            lasso.set_params(alpha=alpha)\n",
    "            ridge.fit(X_train, y_train)\n",
    "            lasso.fit(X_train, y_train)\n",
    "            ridge_scores_train.append(ridge.score(X_train, y_train))\n",
    "            ridge_scores_test.append(ridge.score(X_test, y_test))\n",
    "            lasso_scores_train.append(lasso.score(X_train, y_train))\n",
    "            lasso_scores_test.append(lasso.score(X_test, y_test))\n",
    "ridge_scores_train = np.array(ridge_scores_train) \n",
    "ridge_scores_test  = np.array(ridge_scores_test)\n",
    "lasso_scores_train = np.array(lasso_scores_train) \n",
    "lasso_scores_test  = np.array(lasso_scores_test)"
   ]
  },
  {
   "cell_type": "code",
   "execution_count": 140,
   "id": "62ece6c7",
   "metadata": {},
   "outputs": [
    {
     "name": "stdout",
     "output_type": "stream",
     "text": [
      "0.9224049704264469\n"
     ]
    },
    {
     "data": {
      "text/plain": [
       "18.182727272727274"
      ]
     },
     "execution_count": 140,
     "metadata": {},
     "output_type": "execute_result"
    }
   ],
   "source": [
    "max_index = list(lasso_scores_test).index(max(lasso_scores_test))\n",
    "print(max(lasso_scores_test))\n",
    "alphas[max_index]"
   ]
  },
  {
   "cell_type": "code",
   "execution_count": null,
   "id": "b0e2597a",
   "metadata": {},
   "outputs": [],
   "source": [
    "plt.plot(alphas, lasso_scores_train, label=r'$train\\ R^2$')\n",
    "plt.plot(alphas, lasso_scores_test, label=r'$test\\ R^2$')\n",
    "plt.title(r'Lasso Train-Test $R^2$ Comparison')\n",
    "# lasso_underfit = lasso_scores_train < lasso_scores_test\n",
    "# last_underfit  = np.max(alphas[lasso_underfit])\n",
    "plt.axvline(alphas[max_index], linestyle='--', color='g', label='optimal lambda', alpha=0.4)\n",
    "plt.legend(loc=1)\n",
    "plt.xlabel(r'hyperparameter $\\lambda$')\n",
    "plt.ylabel(r'$R^2$')"
   ]
  },
  {
   "cell_type": "code",
   "execution_count": 129,
   "id": "f6c9d167",
   "metadata": {},
   "outputs": [
    {
     "data": {
      "text/plain": [
       "18.182727272727274"
      ]
     },
     "execution_count": 129,
     "metadata": {},
     "output_type": "execute_result"
    }
   ],
   "source": [
    "#So actually not normalizing gives a slightly better R2\n",
    "best_r2 = max(lasso_scores_test)\n",
    "best_r2"
   ]
  },
  {
   "cell_type": "code",
   "execution_count": 131,
   "id": "01f29056",
   "metadata": {
    "scrolled": true
   },
   "outputs": [
    {
     "data": {
      "text/plain": [
       "array([ 3.67994545e+01,  1.67033199e+01,  6.21150250e-01,  7.62228804e+03,\n",
       "        6.28027394e+03,  4.43204046e+02,  2.93416874e+01,  1.44548095e+01,\n",
       "       -1.10484145e+03,  2.24683336e+01,  2.77166738e+01,  1.93727466e+03,\n",
       "       -4.16597731e+02,  7.65741931e+01,  9.29316156e+02, -4.90575824e+03,\n",
       "       -1.05048637e+04,  4.94582361e+01,  2.53668604e+03,  7.78328314e+03,\n",
       "        8.65385298e+00, -1.01384823e+01,  1.25398449e+01, -7.19115395e+00,\n",
       "        2.45117418e+01,  0.00000000e+00, -3.53213417e+02,  5.48758579e+02,\n",
       "        3.07313331e+01,  2.39015400e+03,  0.00000000e+00,  0.00000000e+00,\n",
       "        0.00000000e+00, -4.38189059e+03,  6.87953637e+02,  6.76234586e+03,\n",
       "       -3.57727902e+03, -0.00000000e+00, -1.41657545e+04, -2.59242238e+03,\n",
       "       -1.33873807e+04, -0.00000000e+00, -3.20467705e+03,  0.00000000e+00,\n",
       "       -1.24960422e+04, -7.40486924e+03,  0.00000000e+00, -0.00000000e+00,\n",
       "       -7.10367478e+03, -1.57685029e+03,  3.40398394e+03, -4.94351193e+03,\n",
       "       -8.44978623e+03,  5.25247274e+03, -2.69527074e+03,  0.00000000e+00,\n",
       "        4.47254639e+03, -6.45334121e+03, -2.26219579e+03,  2.66318842e+03,\n",
       "       -1.43172567e+04,  6.70552039e+03,  1.46992343e+04,  1.86076091e+04,\n",
       "        8.52432769e+03,  2.71783373e+03,  1.51833973e+03,  1.72782923e+04,\n",
       "       -4.27409303e+03,  9.82865191e+02,  3.25866060e+03,  5.95873242e+03,\n",
       "        1.69567068e+04, -3.05974347e+02,  1.62234191e+04, -9.04844074e+02,\n",
       "        3.08441940e+04,  2.33402629e+04, -0.00000000e+00, -2.96606707e+03,\n",
       "        2.14014121e+03, -1.65079247e+02,  2.73975926e+04,  3.56167447e+04,\n",
       "       -0.00000000e+00,  2.05271162e+03, -1.07349875e+04, -7.18628312e+03,\n",
       "       -0.00000000e+00, -0.00000000e+00, -1.08738728e+04, -3.99968034e+03,\n",
       "       -0.00000000e+00, -1.07304576e+04,  0.00000000e+00, -6.51109090e+03,\n",
       "        5.80760597e+04, -1.26254328e+05, -0.00000000e+00, -0.00000000e+00,\n",
       "        0.00000000e+00, -0.00000000e+00, -0.00000000e+00, -1.87574599e+04,\n",
       "       -1.44891154e+04, -4.03405556e+03,  1.69519010e+02, -0.00000000e+00,\n",
       "       -1.42867464e+03, -3.75630587e+03, -1.60813439e+03, -0.00000000e+00,\n",
       "       -3.38566183e+03, -8.96629849e+02, -0.00000000e+00,  1.81936170e+03,\n",
       "        0.00000000e+00,  0.00000000e+00,  0.00000000e+00, -0.00000000e+00,\n",
       "        1.11289634e+04, -0.00000000e+00, -5.48863989e+03, -2.94324021e+03,\n",
       "       -0.00000000e+00, -5.45630068e+02, -2.45444170e+03,  1.90753205e+04,\n",
       "        0.00000000e+00, -2.53074176e+03,  1.11812657e+02, -2.01025323e+03,\n",
       "        0.00000000e+00,  0.00000000e+00, -6.92737455e+02, -0.00000000e+00,\n",
       "       -2.26651124e+03, -6.47317577e+02, -6.68357884e+03, -1.03737575e+03,\n",
       "       -2.08626654e+03,  6.03051396e+02, -0.00000000e+00,  4.65308260e+03,\n",
       "        2.15285030e+03, -1.37824135e+03, -8.48963402e+03, -5.43003249e+03,\n",
       "       -2.54968051e+03, -2.35850527e+03,  3.14687462e+04,  3.25226639e+03,\n",
       "        2.37770833e+03, -3.49928558e+03, -4.02497352e+03,  3.33238099e+02,\n",
       "       -0.00000000e+00, -2.39879465e+01,  1.86956243e+03, -0.00000000e+00,\n",
       "        0.00000000e+00, -0.00000000e+00,  1.75122097e+04,  4.25777673e+03,\n",
       "       -1.85520862e+03,  7.90976515e+03,  0.00000000e+00, -0.00000000e+00,\n",
       "       -1.00149236e+03,  0.00000000e+00,  1.01317868e+01,  0.00000000e+00,\n",
       "        4.22954452e+03,  1.77727103e+04, -6.43147606e+02, -0.00000000e+00,\n",
       "       -3.92330461e+03, -2.18598773e+03,  0.00000000e+00, -3.56336028e+03,\n",
       "       -0.00000000e+00,  2.28050823e+02, -0.00000000e+00,  0.00000000e+00,\n",
       "        2.56115465e+04,  1.24510019e+03,  2.32065132e+03,  0.00000000e+00,\n",
       "       -1.88230942e+04, -7.71036495e+03, -1.49440873e+04, -6.58927146e+03,\n",
       "       -1.14094254e+04, -0.00000000e+00, -4.56620419e+03, -1.85947855e+03,\n",
       "       -1.96966351e+03, -0.00000000e+00,  1.44964266e+03,  8.48158436e+03,\n",
       "        6.09438018e+04,  1.48765733e+03,  1.35435923e+04,  2.15686803e+02,\n",
       "       -0.00000000e+00, -2.91508856e+04, -1.44378468e+03, -4.36939894e+03,\n",
       "        1.91114171e+00,  0.00000000e+00,  3.05871731e+02, -2.31940132e+03,\n",
       "        2.02550838e+03,  8.35693803e+02, -4.18837579e+02,  1.72606414e+03,\n",
       "       -3.17088749e+03,  4.73934908e+03,  1.64134535e+04,  6.61719894e+02,\n",
       "        0.00000000e+00, -0.00000000e+00,  0.00000000e+00, -1.83584843e+03,\n",
       "       -0.00000000e+00, -2.87891302e+03, -0.00000000e+00,  0.00000000e+00,\n",
       "       -5.18823512e+03,  6.96015889e+03])"
      ]
     },
     "execution_count": 131,
     "metadata": {},
     "output_type": "execute_result"
    }
   ],
   "source": [
    "best_lasso = Lasso()\n",
    "best_lasso.set_params(alpha = alphas[max_index], normalize = False, max_iter = 100000)\n",
    "best_lasso.fit(X_train, y_train)\n",
    "best_lasso.score(X_test, y_test)\n",
    "best_lasso.coef_"
   ]
  },
  {
   "cell_type": "code",
   "execution_count": 139,
   "id": "86ef03e6",
   "metadata": {},
   "outputs": [
    {
     "data": {
      "text/plain": [
       "171"
      ]
     },
     "execution_count": 139,
     "metadata": {},
     "output_type": "execute_result"
    }
   ],
   "source": [
    "#lets see what variables remain\n",
    "\n",
    "best_coefs_lasso = pd.DataFrame(best_lasso.coef_.reshape(1,230), columns = X_train.columns)  \n",
    "best_coefs_lasso\n",
    "len(best_coefs_lasso.columns[(best_coefs_lasso != 0).all()])\n",
    "#brings us down to 171 columns lol. Probably EDA should focus on info in those?"
   ]
  },
  {
   "cell_type": "markdown",
   "id": "6aad08c0",
   "metadata": {},
   "source": [
    "Lasso not normalized, log transform. Ok so I don't think that's how you're supposed to do it. Probs need to transform the data before finding alpha."
   ]
  },
  {
   "cell_type": "code",
   "execution_count": 143,
   "id": "8abad880",
   "metadata": {},
   "outputs": [
    {
     "name": "stdout",
     "output_type": "stream",
     "text": [
      "Train R2:  0.6203498438765596\n",
      "Test R2:  0.6169216092892774\n"
     ]
    }
   ],
   "source": [
    "# log y lasso model\n",
    "log_lasso = Lasso()\n",
    "log_lasso.set_params(alpha = alphas[max_index])\n",
    "log_lasso.fit(X_train, np.log(y_train))\n",
    "print('Train R2: ', log_lasso.score(X_train, np.log(y_train)))\n",
    "print('Test R2: ', log_lasso.score(X_test, np.log(y_test)))"
   ]
  },
  {
   "cell_type": "markdown",
   "id": "3d7da586",
   "metadata": {},
   "source": [
    "Ridge not normalized"
   ]
  },
  {
   "cell_type": "code",
   "execution_count": null,
   "id": "8deedc5a",
   "metadata": {},
   "outputs": [],
   "source": [
    "max_index = list(ridge_scores_test).index(max(ridge_scores_test))\n",
    "alphas[max_index]"
   ]
  },
  {
   "cell_type": "code",
   "execution_count": null,
   "id": "5bb67e98",
   "metadata": {},
   "outputs": [],
   "source": [
    "plt.plot(alphas, ridge_scores_train, label=r'$train\\ R^2$')\n",
    "plt.plot(alphas, ridge_scores_test, label=r'$test\\ R^2$')\n",
    "plt.title(r'Ridge Train-Test $R^2$ Comparison')\n",
    "# ridge_underfit = ridge_scores_train < ridge_scores_test\n",
    "# last_underfit  = np.min(alphas[ridge_underfit])\n",
    "plt.axvline(alphas[max_index], linestyle='--', color='g', label='optimal lambda', alpha=0.4)\n",
    "plt.legend(loc=1)\n",
    "plt.xlabel(r'hyperparameter $\\lambda$')\n",
    "plt.ylabel(r'$R^2$')"
   ]
  },
  {
   "cell_type": "code",
   "execution_count": null,
   "id": "d6521d11",
   "metadata": {},
   "outputs": [],
   "source": [
    "max(ridge_scores_test)"
   ]
  },
  {
   "cell_type": "markdown",
   "id": "fc65db52",
   "metadata": {},
   "source": [
    "Log MLR"
   ]
  },
  {
   "cell_type": "code",
   "execution_count": 147,
   "id": "97b625e1",
   "metadata": {
    "scrolled": true
   },
   "outputs": [
    {
     "name": "stdout",
     "output_type": "stream",
     "text": [
      "Train R2:  0.9418013723456785\n",
      "Test R2:  0.9231511364639096\n"
     ]
    }
   ],
   "source": [
    "log_ols = linear_model.LinearRegression()\n",
    "log_ols.fit(X_train, np.log(y_train))\n",
    "print('Train R2: ', log_ols.score(X_train, np.log(y_train)))\n",
    "print('Test R2: ', log_ols.score(X_test, np.log(y_test)))\n",
    "\n",
    "#ok now this beats our lasso model!!"
   ]
  },
  {
   "cell_type": "markdown",
   "id": "aa8c941e",
   "metadata": {},
   "source": [
    "Lasso/Ridge Log transform... I guess normalized?"
   ]
  },
  {
   "cell_type": "code",
   "execution_count": 76,
   "id": "f78097fe",
   "metadata": {},
   "outputs": [
    {
     "name": "stderr",
     "output_type": "stream",
     "text": [
      "/var/folders/8p/6k3vrp795231q_pwy6nvxz5w0000gn/T/ipykernel_64554/2156011267.py:21: UserWarning: With alpha=0, this algorithm does not converge well. You are advised to use the LinearRegression estimator\n",
      "  log_lasso.fit(X_train, log_y_train)\n",
      "/Users/carolinekeough/opt/anaconda3/lib/python3.9/site-packages/sklearn/linear_model/_coordinate_descent.py:530: UserWarning: Coordinate descent with no regularization may lead to unexpected results and is discouraged.\n",
      "  model = cd_fast.enet_coordinate_descent(\n",
      "/Users/carolinekeough/opt/anaconda3/lib/python3.9/site-packages/sklearn/linear_model/_coordinate_descent.py:530: ConvergenceWarning: Objective did not converge. You might want to increase the number of iterations. Duality gap: 8.873113325193717, tolerance: 0.03049251737651772\n",
      "  model = cd_fast.enet_coordinate_descent(\n"
     ]
    }
   ],
   "source": [
    "#Looking at lecture code\n",
    "#SOS. I am def doing something wrong here, cuz train r2 are basically all 0\n",
    "\n",
    "#don't use this one, see further below\n",
    "log_y_train = np.log(y_train)\n",
    "log_y_test = np.log(y_test)\n",
    "\n",
    "log_ridge = Ridge()\n",
    "log_lasso = Lasso()\n",
    "log_ridge.set_params(max_iter = 100000, normalize=True)\n",
    "log_lasso.set_params(max_iter = 100000, normalize=True)\n",
    "log_ridge_scores_train = []\n",
    "log_lasso_scores_train = []\n",
    "log_ridge_scores_test  = []\n",
    "log_lasso_scores_test  = []\n",
    "\n",
    "alphas = np.linspace(0.1, .12, 1000)\n",
    "\n",
    "for alpha in alphas:\n",
    "            log_ridge.set_params(alpha=alpha)\n",
    "            log_lasso.set_params(alpha=alpha)\n",
    "            log_ridge.fit(X_train, log_y_train)\n",
    "            log_lasso.fit(X_train, log_y_train)\n",
    "            log_ridge_scores_train.append(log_ridge.score(X_train, log_y_train))\n",
    "            log_ridge_scores_test.append(log_ridge.score(X_test, log_y_test))\n",
    "            log_lasso_scores_train.append(log_lasso.score(X_train, log_y_train))\n",
    "            log_lasso_scores_test.append(log_lasso.score(X_test, log_y_test))\n",
    "log_ridge_scores_train = np.array(log_ridge_scores_train) \n",
    "log_ridge_scores_test  = np.array(log_ridge_scores_test)\n",
    "log_lasso_scores_train = np.array(log_lasso_scores_train) \n",
    "log_lasso_scores_test  = np.array(log_lasso_scores_test)"
   ]
  },
  {
   "cell_type": "code",
   "execution_count": 77,
   "id": "e4fe48f9",
   "metadata": {},
   "outputs": [
    {
     "name": "stdout",
     "output_type": "stream",
     "text": [
      "0.9236809449636861\n"
     ]
    },
    {
     "data": {
      "text/plain": [
       "0.00012012012012012012"
      ]
     },
     "execution_count": 77,
     "metadata": {},
     "output_type": "execute_result"
    }
   ],
   "source": [
    "log_max_index = list(log_lasso_scores_test).index(max(log_lasso_scores_test))\n",
    "print(max(log_lasso_scores_test))\n",
    "alphas[log_max_index]\n"
   ]
  },
  {
   "cell_type": "code",
   "execution_count": 250,
   "id": "3ba6b633",
   "metadata": {},
   "outputs": [
    {
     "ename": "NameError",
     "evalue": "name 'log_lasso_scores' is not defined",
     "output_type": "error",
     "traceback": [
      "\u001b[0;31m---------------------------------------------------------------------------\u001b[0m",
      "\u001b[0;31mNameError\u001b[0m                                 Traceback (most recent call last)",
      "\u001b[0;32m/var/folders/8p/6k3vrp795231q_pwy6nvxz5w0000gn/T/ipykernel_637/11321267.py\u001b[0m in \u001b[0;36m<module>\u001b[0;34m\u001b[0m\n\u001b[0;32m----> 1\u001b[0;31m \u001b[0mlog_lasso_scores\u001b[0m\u001b[0;34m\u001b[0m\u001b[0;34m\u001b[0m\u001b[0m\n\u001b[0m",
      "\u001b[0;31mNameError\u001b[0m: name 'log_lasso_scores' is not defined"
     ]
    }
   ],
   "source": [
    "log_lasso_scores_test"
   ]
  },
  {
   "cell_type": "code",
   "execution_count": 396,
   "id": "ac58108c",
   "metadata": {
    "scrolled": true
   },
   "outputs": [
    {
     "ename": "ValueError",
     "evalue": "x and y must have same first dimension, but have shapes (1000,) and (0,)",
     "output_type": "error",
     "traceback": [
      "\u001b[0;31m---------------------------------------------------------------------------\u001b[0m",
      "\u001b[0;31mValueError\u001b[0m                                Traceback (most recent call last)",
      "\u001b[0;32m/var/folders/8p/6k3vrp795231q_pwy6nvxz5w0000gn/T/ipykernel_637/4285028343.py\u001b[0m in \u001b[0;36m<module>\u001b[0;34m\u001b[0m\n\u001b[1;32m      1\u001b[0m \u001b[0;31m#Lol sos\u001b[0m\u001b[0;34m\u001b[0m\u001b[0;34m\u001b[0m\u001b[0m\n\u001b[0;32m----> 2\u001b[0;31m \u001b[0mplt\u001b[0m\u001b[0;34m.\u001b[0m\u001b[0mplot\u001b[0m\u001b[0;34m(\u001b[0m\u001b[0malphas\u001b[0m\u001b[0;34m,\u001b[0m \u001b[0mlog_lasso_scores_train\u001b[0m\u001b[0;34m,\u001b[0m \u001b[0mlabel\u001b[0m\u001b[0;34m=\u001b[0m\u001b[0;34mr'$train\\ R^2$'\u001b[0m\u001b[0;34m)\u001b[0m\u001b[0;34m\u001b[0m\u001b[0;34m\u001b[0m\u001b[0m\n\u001b[0m\u001b[1;32m      3\u001b[0m \u001b[0mplt\u001b[0m\u001b[0;34m.\u001b[0m\u001b[0mplot\u001b[0m\u001b[0;34m(\u001b[0m\u001b[0malphas\u001b[0m\u001b[0;34m,\u001b[0m \u001b[0mlog_lasso_scores_test\u001b[0m\u001b[0;34m,\u001b[0m \u001b[0mlabel\u001b[0m\u001b[0;34m=\u001b[0m\u001b[0;34mr'$test\\ R^2$'\u001b[0m\u001b[0;34m)\u001b[0m\u001b[0;34m\u001b[0m\u001b[0;34m\u001b[0m\u001b[0m\n\u001b[1;32m      4\u001b[0m \u001b[0mplt\u001b[0m\u001b[0;34m.\u001b[0m\u001b[0mtitle\u001b[0m\u001b[0;34m(\u001b[0m\u001b[0;34mr'Logy Lasso Train-Test $R^2$ Comparison'\u001b[0m\u001b[0;34m)\u001b[0m\u001b[0;34m\u001b[0m\u001b[0;34m\u001b[0m\u001b[0m\n\u001b[1;32m      5\u001b[0m \u001b[0;31m# lasso_underfit = lasso_scores_train < lasso_scores_test\u001b[0m\u001b[0;34m\u001b[0m\u001b[0;34m\u001b[0m\u001b[0m\n",
      "\u001b[0;32m~/opt/anaconda3/lib/python3.9/site-packages/matplotlib/pyplot.py\u001b[0m in \u001b[0;36mplot\u001b[0;34m(scalex, scaley, data, *args, **kwargs)\u001b[0m\n\u001b[1;32m   3017\u001b[0m \u001b[0;34m@\u001b[0m\u001b[0m_copy_docstring_and_deprecators\u001b[0m\u001b[0;34m(\u001b[0m\u001b[0mAxes\u001b[0m\u001b[0;34m.\u001b[0m\u001b[0mplot\u001b[0m\u001b[0;34m)\u001b[0m\u001b[0;34m\u001b[0m\u001b[0;34m\u001b[0m\u001b[0m\n\u001b[1;32m   3018\u001b[0m \u001b[0;32mdef\u001b[0m \u001b[0mplot\u001b[0m\u001b[0;34m(\u001b[0m\u001b[0;34m*\u001b[0m\u001b[0margs\u001b[0m\u001b[0;34m,\u001b[0m \u001b[0mscalex\u001b[0m\u001b[0;34m=\u001b[0m\u001b[0;32mTrue\u001b[0m\u001b[0;34m,\u001b[0m \u001b[0mscaley\u001b[0m\u001b[0;34m=\u001b[0m\u001b[0;32mTrue\u001b[0m\u001b[0;34m,\u001b[0m \u001b[0mdata\u001b[0m\u001b[0;34m=\u001b[0m\u001b[0;32mNone\u001b[0m\u001b[0;34m,\u001b[0m \u001b[0;34m**\u001b[0m\u001b[0mkwargs\u001b[0m\u001b[0;34m)\u001b[0m\u001b[0;34m:\u001b[0m\u001b[0;34m\u001b[0m\u001b[0;34m\u001b[0m\u001b[0m\n\u001b[0;32m-> 3019\u001b[0;31m     return gca().plot(\n\u001b[0m\u001b[1;32m   3020\u001b[0m         \u001b[0;34m*\u001b[0m\u001b[0margs\u001b[0m\u001b[0;34m,\u001b[0m \u001b[0mscalex\u001b[0m\u001b[0;34m=\u001b[0m\u001b[0mscalex\u001b[0m\u001b[0;34m,\u001b[0m \u001b[0mscaley\u001b[0m\u001b[0;34m=\u001b[0m\u001b[0mscaley\u001b[0m\u001b[0;34m,\u001b[0m\u001b[0;34m\u001b[0m\u001b[0;34m\u001b[0m\u001b[0m\n\u001b[1;32m   3021\u001b[0m         **({\"data\": data} if data is not None else {}), **kwargs)\n",
      "\u001b[0;32m~/opt/anaconda3/lib/python3.9/site-packages/matplotlib/axes/_axes.py\u001b[0m in \u001b[0;36mplot\u001b[0;34m(self, scalex, scaley, data, *args, **kwargs)\u001b[0m\n\u001b[1;32m   1603\u001b[0m         \"\"\"\n\u001b[1;32m   1604\u001b[0m         \u001b[0mkwargs\u001b[0m \u001b[0;34m=\u001b[0m \u001b[0mcbook\u001b[0m\u001b[0;34m.\u001b[0m\u001b[0mnormalize_kwargs\u001b[0m\u001b[0;34m(\u001b[0m\u001b[0mkwargs\u001b[0m\u001b[0;34m,\u001b[0m \u001b[0mmlines\u001b[0m\u001b[0;34m.\u001b[0m\u001b[0mLine2D\u001b[0m\u001b[0;34m)\u001b[0m\u001b[0;34m\u001b[0m\u001b[0;34m\u001b[0m\u001b[0m\n\u001b[0;32m-> 1605\u001b[0;31m         \u001b[0mlines\u001b[0m \u001b[0;34m=\u001b[0m \u001b[0;34m[\u001b[0m\u001b[0;34m*\u001b[0m\u001b[0mself\u001b[0m\u001b[0;34m.\u001b[0m\u001b[0m_get_lines\u001b[0m\u001b[0;34m(\u001b[0m\u001b[0;34m*\u001b[0m\u001b[0margs\u001b[0m\u001b[0;34m,\u001b[0m \u001b[0mdata\u001b[0m\u001b[0;34m=\u001b[0m\u001b[0mdata\u001b[0m\u001b[0;34m,\u001b[0m \u001b[0;34m**\u001b[0m\u001b[0mkwargs\u001b[0m\u001b[0;34m)\u001b[0m\u001b[0;34m]\u001b[0m\u001b[0;34m\u001b[0m\u001b[0;34m\u001b[0m\u001b[0m\n\u001b[0m\u001b[1;32m   1606\u001b[0m         \u001b[0;32mfor\u001b[0m \u001b[0mline\u001b[0m \u001b[0;32min\u001b[0m \u001b[0mlines\u001b[0m\u001b[0;34m:\u001b[0m\u001b[0;34m\u001b[0m\u001b[0;34m\u001b[0m\u001b[0m\n\u001b[1;32m   1607\u001b[0m             \u001b[0mself\u001b[0m\u001b[0;34m.\u001b[0m\u001b[0madd_line\u001b[0m\u001b[0;34m(\u001b[0m\u001b[0mline\u001b[0m\u001b[0;34m)\u001b[0m\u001b[0;34m\u001b[0m\u001b[0;34m\u001b[0m\u001b[0m\n",
      "\u001b[0;32m~/opt/anaconda3/lib/python3.9/site-packages/matplotlib/axes/_base.py\u001b[0m in \u001b[0;36m__call__\u001b[0;34m(self, data, *args, **kwargs)\u001b[0m\n\u001b[1;32m    313\u001b[0m                 \u001b[0mthis\u001b[0m \u001b[0;34m+=\u001b[0m \u001b[0margs\u001b[0m\u001b[0;34m[\u001b[0m\u001b[0;36m0\u001b[0m\u001b[0;34m]\u001b[0m\u001b[0;34m,\u001b[0m\u001b[0;34m\u001b[0m\u001b[0;34m\u001b[0m\u001b[0m\n\u001b[1;32m    314\u001b[0m                 \u001b[0margs\u001b[0m \u001b[0;34m=\u001b[0m \u001b[0margs\u001b[0m\u001b[0;34m[\u001b[0m\u001b[0;36m1\u001b[0m\u001b[0;34m:\u001b[0m\u001b[0;34m]\u001b[0m\u001b[0;34m\u001b[0m\u001b[0;34m\u001b[0m\u001b[0m\n\u001b[0;32m--> 315\u001b[0;31m             \u001b[0;32myield\u001b[0m \u001b[0;32mfrom\u001b[0m \u001b[0mself\u001b[0m\u001b[0;34m.\u001b[0m\u001b[0m_plot_args\u001b[0m\u001b[0;34m(\u001b[0m\u001b[0mthis\u001b[0m\u001b[0;34m,\u001b[0m \u001b[0mkwargs\u001b[0m\u001b[0;34m)\u001b[0m\u001b[0;34m\u001b[0m\u001b[0;34m\u001b[0m\u001b[0m\n\u001b[0m\u001b[1;32m    316\u001b[0m \u001b[0;34m\u001b[0m\u001b[0m\n\u001b[1;32m    317\u001b[0m     \u001b[0;32mdef\u001b[0m \u001b[0mget_next_color\u001b[0m\u001b[0;34m(\u001b[0m\u001b[0mself\u001b[0m\u001b[0;34m)\u001b[0m\u001b[0;34m:\u001b[0m\u001b[0;34m\u001b[0m\u001b[0;34m\u001b[0m\u001b[0m\n",
      "\u001b[0;32m~/opt/anaconda3/lib/python3.9/site-packages/matplotlib/axes/_base.py\u001b[0m in \u001b[0;36m_plot_args\u001b[0;34m(self, tup, kwargs, return_kwargs)\u001b[0m\n\u001b[1;32m    499\u001b[0m \u001b[0;34m\u001b[0m\u001b[0m\n\u001b[1;32m    500\u001b[0m         \u001b[0;32mif\u001b[0m \u001b[0mx\u001b[0m\u001b[0;34m.\u001b[0m\u001b[0mshape\u001b[0m\u001b[0;34m[\u001b[0m\u001b[0;36m0\u001b[0m\u001b[0;34m]\u001b[0m \u001b[0;34m!=\u001b[0m \u001b[0my\u001b[0m\u001b[0;34m.\u001b[0m\u001b[0mshape\u001b[0m\u001b[0;34m[\u001b[0m\u001b[0;36m0\u001b[0m\u001b[0;34m]\u001b[0m\u001b[0;34m:\u001b[0m\u001b[0;34m\u001b[0m\u001b[0;34m\u001b[0m\u001b[0m\n\u001b[0;32m--> 501\u001b[0;31m             raise ValueError(f\"x and y must have same first dimension, but \"\n\u001b[0m\u001b[1;32m    502\u001b[0m                              f\"have shapes {x.shape} and {y.shape}\")\n\u001b[1;32m    503\u001b[0m         \u001b[0;32mif\u001b[0m \u001b[0mx\u001b[0m\u001b[0;34m.\u001b[0m\u001b[0mndim\u001b[0m \u001b[0;34m>\u001b[0m \u001b[0;36m2\u001b[0m \u001b[0;32mor\u001b[0m \u001b[0my\u001b[0m\u001b[0;34m.\u001b[0m\u001b[0mndim\u001b[0m \u001b[0;34m>\u001b[0m \u001b[0;36m2\u001b[0m\u001b[0;34m:\u001b[0m\u001b[0;34m\u001b[0m\u001b[0;34m\u001b[0m\u001b[0m\n",
      "\u001b[0;31mValueError\u001b[0m: x and y must have same first dimension, but have shapes (1000,) and (0,)"
     ]
    },
    {
     "data": {
      "image/png": "[encoded data removed]",
      "text/plain": [
       "<Figure size 432x288 with 1 Axes>"
      ]
     },
     "metadata": {
      "needs_background": "light"
     },
     "output_type": "display_data"
    }
   ],
   "source": [
    "#Lol sos\n",
    "plt.plot(alphas, log_lasso_scores_train, label=r'$train\\ R^2$')\n",
    "plt.plot(alphas, log_lasso_scores_test, label=r'$test\\ R^2$')\n",
    "plt.title(r'Logy Lasso Train-Test $R^2$ Comparison')\n",
    "# lasso_underfit = lasso_scores_train < lasso_scores_test\n",
    "# last_underfit  = np.max(alphas[lasso_underfit])\n",
    "plt.axvline(alphas[log_max_index], linestyle='--', color='g', label='optimal lambda', alpha=0.4)\n",
    "plt.legend(loc=1)\n",
    "plt.xlabel(r'hyperparameter $\\lambda$')\n",
    "plt.ylabel(r'$R^2$')"
   ]
  },
  {
   "cell_type": "code",
   "execution_count": 397,
   "id": "183ec5e7",
   "metadata": {
    "scrolled": true
   },
   "outputs": [
    {
     "name": "stdout",
     "output_type": "stream",
     "text": [
      "0.927069685894114\n"
     ]
    },
    {
     "data": {
      "text/plain": [
       "0.11183183183183183"
      ]
     },
     "execution_count": 397,
     "metadata": {},
     "output_type": "execute_result"
    }
   ],
   "source": [
    "log_max_index = list(log_ridge_scores_test).index(max(log_ridge_scores_test))\n",
    "print(max(log_ridge_scores_test))\n",
    "alphas[log_max_index]"
   ]
  },
  {
   "cell_type": "code",
   "execution_count": 398,
   "id": "a93652bf",
   "metadata": {},
   "outputs": [
    {
     "data": {
      "text/plain": [
       "Text(0, 0.5, '$R^2$')"
      ]
     },
     "execution_count": 398,
     "metadata": {},
     "output_type": "execute_result"
    },
    {
     "data": {
      "image/png": "[encoded data removed]",
      "text/plain": [
       "<Figure size 432x288 with 1 Axes>"
      ]
     },
     "metadata": {
      "needs_background": "light"
     },
     "output_type": "display_data"
    }
   ],
   "source": [
    "#Lol sos\n",
    "plt.plot(alphas, log_ridge_scores_train, label=r'$train\\ R^2$')\n",
    "plt.plot(alphas, log_ridge_scores_test, label=r'$test\\ R^2$')\n",
    "plt.title(r'Logy Ridge Train-Test $R^2$ Comparison')\n",
    "# lasso_underfit = lasso_scores_train < lasso_scores_test\n",
    "# last_underfit  = np.max(alphas[lasso_underfit])\n",
    "plt.axvline(alphas[log_max_index], linestyle='--', color='g', label='optimal lambda', alpha=0.4)\n",
    "plt.legend(loc=1)\n",
    "plt.xlabel(r'hyperparameter $\\lambda$')\n",
    "plt.ylabel(r'$R^2$')\n"
   ]
  },
  {
   "cell_type": "code",
   "execution_count": 407,
   "id": "6c493a73",
   "metadata": {},
   "outputs": [
    {
     "data": {
      "text/plain": [
       "0.9270634012613549"
      ]
     },
     "execution_count": 407,
     "metadata": {},
     "output_type": "execute_result"
    }
   ],
   "source": [
    "log_ridge.set_params(alpha = alphas[log_max_index])\n",
    "log_ridge.score(X_train, np.log(y_train))\n",
    "#try alpha = 1b\n"
   ]
  },
  {
   "cell_type": "code",
   "execution_count": 299,
   "id": "4dbd51f3",
   "metadata": {},
   "outputs": [
    {
     "data": {
      "text/plain": [
       "array([1.00000000e-10, 1.27661695e-10, 1.62975083e-10, 2.08056754e-10,\n",
       "       2.65608778e-10, 3.39080668e-10, 4.32876128e-10, 5.52617002e-10,\n",
       "       7.05480231e-10, 9.00628020e-10, 1.14975700e-09, 1.46779927e-09,\n",
       "       1.87381742e-09, 2.39214708e-09, 3.05385551e-09, 3.89860370e-09,\n",
       "       4.97702356e-09, 6.35375264e-09, 8.11130831e-09, 1.03550337e-08,\n",
       "       1.32194115e-08, 1.68761248e-08, 2.15443469e-08, 2.75038784e-08,\n",
       "       3.51119173e-08, 4.48244688e-08, 5.72236766e-08, 7.30527154e-08,\n",
       "       9.32603347e-08, 1.19057724e-07, 1.51991108e-07, 1.94034425e-07,\n",
       "       2.47707636e-07, 3.16227766e-07, 4.03701726e-07, 5.15372466e-07,\n",
       "       6.57933225e-07, 8.39928706e-07, 1.07226722e-06, 1.36887451e-06,\n",
       "       1.74752840e-06, 2.23092437e-06, 2.84803587e-06, 3.63585086e-06,\n",
       "       4.64158883e-06, 5.92553098e-06, 7.56463328e-06, 9.65713905e-06,\n",
       "       1.23284674e-05, 1.57387304e-05, 2.00923300e-05, 2.56502091e-05,\n",
       "       3.27454916e-05, 4.18034496e-05, 5.33669923e-05, 6.81292069e-05,\n",
       "       8.69749003e-05, 1.11033632e-04, 1.41747416e-04, 1.80957154e-04,\n",
       "       2.31012970e-04, 2.94915073e-04, 3.76493581e-04, 4.80638086e-04,\n",
       "       6.13590727e-04, 7.83320322e-04, 1.00000000e-03, 1.27661695e-03,\n",
       "       1.62975083e-03, 2.08056754e-03, 2.65608778e-03, 3.39080668e-03,\n",
       "       4.32876128e-03, 5.52617002e-03, 7.05480231e-03, 9.00628020e-03,\n",
       "       1.14975700e-02, 1.46779927e-02, 1.87381742e-02, 2.39214708e-02,\n",
       "       3.05385551e-02, 3.89860370e-02, 4.97702356e-02, 6.35375264e-02,\n",
       "       8.11130831e-02, 1.03550337e-01, 1.32194115e-01, 1.68761248e-01,\n",
       "       2.15443469e-01, 2.75038784e-01, 3.51119173e-01, 4.48244688e-01,\n",
       "       5.72236766e-01, 7.30527154e-01, 9.32603347e-01, 1.19057724e+00,\n",
       "       1.51991108e+00, 1.94034425e+00, 2.47707636e+00, 3.16227766e+00])"
      ]
     },
     "execution_count": 299,
     "metadata": {},
     "output_type": "execute_result"
    }
   ],
   "source": [
    "alphas = np.logspace(-10, .5, 100)\n",
    "alphas"
   ]
  },
  {
   "cell_type": "code",
   "execution_count": 78,
   "id": "eb94da79",
   "metadata": {},
   "outputs": [],
   "source": [
    "#tam code plus my update\n",
    "model_lasso = Lasso()\n",
    "\n",
    "\n",
    "log_lasso_scores_train = []\n",
    "\n",
    "log_lasso_scores_test  = []\n",
    "\n",
    "alphas = np.logspace(-10, 0.5, 100)\n",
    "model_lasso.set_params(max_iter = 1000000, normalize = True)\n",
    "for alpha in alphas:\n",
    "            model_lasso.set_params(alpha=alpha)\n",
    "            model_lasso.fit(X_train, log_y_train)\n",
    "            log_lasso_scores_train.append(model_lasso.score(X_train, log_y_train))\n",
    "            log_lasso_scores_test.append(model_lasso.score(X_test, log_y_test))\n",
    "log_lasso_scores_train = np.array(log_lasso_scores_train) \n",
    "log_lasso_scores_test  = np.array(log_lasso_scores_test)"
   ]
  },
  {
   "cell_type": "code",
   "execution_count": 79,
   "id": "2a2eef4e",
   "metadata": {},
   "outputs": [
    {
     "name": "stdout",
     "output_type": "stream",
     "text": [
      "0.930691419798424\n"
     ]
    },
    {
     "data": {
      "text/plain": [
       "3.274549162877732e-05"
      ]
     },
     "execution_count": 79,
     "metadata": {},
     "output_type": "execute_result"
    }
   ],
   "source": [
    "log_max_index = list(log_lasso_scores_test).index(max(log_lasso_scores_test))\n",
    "print(max(log_lasso_scores_test))\n",
    "alphas[log_max_index]"
   ]
  },
  {
   "cell_type": "code",
   "execution_count": 92,
   "id": "b01f40fa",
   "metadata": {},
   "outputs": [],
   "source": [
    "logy_lasso_bestalpha = 3.274549162877732e-05"
   ]
  },
  {
   "cell_type": "code",
   "execution_count": 93,
   "id": "53af3af0",
   "metadata": {},
   "outputs": [
    {
     "data": {
      "text/plain": [
       "0.930691419798424"
      ]
     },
     "execution_count": 93,
     "metadata": {},
     "output_type": "execute_result"
    }
   ],
   "source": [
    "#just confirming\n",
    "best_logy_lasso = Lasso()\n",
    "best_logy_lasso.set_params(normalize = True, max_iter = 10000, alpha = logy_lasso_bestalpha)\n",
    "best_logy_lasso.fit(X_train, log_y_train)\n",
    "best_logy_lasso.score(X_train, log_y_train)\n",
    "best_logy_lasso.score(X_test, log_y_test)"
   ]
  },
  {
   "cell_type": "code",
   "execution_count": 99,
   "id": "c88ce50e",
   "metadata": {},
   "outputs": [
    {
     "name": "stdout",
     "output_type": "stream",
     "text": [
      "- Regressor: Logy Lasso Train\n",
      "R²: 0.9411394046053754\n",
      "RMSE: 18223.507042305842\n",
      "\n",
      "- Regressor: Logy Lasso Test\n",
      "R²: 0.9349758691098019\n",
      "RMSE: 19175.67477209986\n",
      "\n"
     ]
    }
   ],
   "source": [
    "#Tam/Royce say this is how to calculate R2 for Log ones\n",
    "y_testpred = best_logy_lasso.predict(X_test)\n",
    "y_trainpred = best_logy_lasso.predict(X_train)\n",
    "print_score(y_train, np.exp(y_trainpred), \"Logy Lasso Train\")\n",
    "print_score(y_test, np.exp(y_testpred), \"Logy Lasso Test\")"
   ]
  },
  {
   "cell_type": "code",
   "execution_count": 87,
   "id": "793bb04c",
   "metadata": {},
   "outputs": [
    {
     "data": {
      "text/plain": [
       "0.9183092180387704"
      ]
     },
     "execution_count": 87,
     "metadata": {},
     "output_type": "execute_result"
    }
   ],
   "source": [
    "#tam model\n",
    "alpha = .00008\n",
    "\n",
    "tam = Lasso()\n",
    "tam.set_params(normalize = True, max_iter = 1000000, alpha = alpha)\n",
    "tam.fit(X_train, np.log(y_train))\n",
    "# tam.score(X_train, y_train)\n",
    "tam.score(X_test, y_test)\n",
    "\n"
   ]
  },
  {
   "cell_type": "code",
   "execution_count": 85,
   "id": "0f1d0353",
   "metadata": {},
   "outputs": [
    {
     "ename": "NameError",
     "evalue": "name 'tam' is not defined",
     "output_type": "error",
     "traceback": [
      "\u001b[0;31m---------------------------------------------------------------------------\u001b[0m",
      "\u001b[0;31mNameError\u001b[0m                                 Traceback (most recent call last)",
      "\u001b[0;32m/var/folders/8p/6k3vrp795231q_pwy6nvxz5w0000gn/T/ipykernel_64554/3500061264.py\u001b[0m in \u001b[0;36m<module>\u001b[0;34m\u001b[0m\n\u001b[0;32m----> 1\u001b[0;31m \u001b[0mtam\u001b[0m\u001b[0;34m.\u001b[0m\u001b[0mscore\u001b[0m\u001b[0;34m(\u001b[0m\u001b[0mX_test\u001b[0m\u001b[0;34m,\u001b[0m \u001b[0my_test\u001b[0m\u001b[0;34m)\u001b[0m\u001b[0;34m\u001b[0m\u001b[0;34m\u001b[0m\u001b[0m\n\u001b[0m",
      "\u001b[0;31mNameError\u001b[0m: name 'tam' is not defined"
     ]
    }
   ],
   "source": [
    "tam.score(X_test, y_test)\n",
    "tam.predict"
   ]
  },
  {
   "cell_type": "code",
   "execution_count": 96,
   "id": "954f6c4e",
   "metadata": {},
   "outputs": [],
   "source": [
    "#tams function\n",
    "from sklearn.metrics import mean_squared_error, r2_score\n",
    "def print_score(test, pred, model): \n",
    "    \"\"\"\n",
    "    Create func to print R^2 and RMSE\n",
    "    \"\"\"\n",
    "    r2_ = r2_score(test, pred)\n",
    "    rmse_ = np.sqrt(mean_squared_error(test, pred))\n",
    "    \n",
    "    print(f\"- Regressor: {model}\")\n",
    "    print(f\"R²: {r2_}\")\n",
    "    print(f\"RMSE: {rmse_}\\n\")"
   ]
  },
  {
   "cell_type": "code",
   "execution_count": 312,
   "id": "168ab366",
   "metadata": {},
   "outputs": [
    {
     "name": "stdout",
     "output_type": "stream",
     "text": [
      "- Regressor: Lasso\n",
      "R²: 0.9183092042721847\n",
      "RMSE: 21493.143604698562\n",
      "\n"
     ]
    }
   ],
   "source": [
    "#weird I am getting the same r 2.\n",
    "y_pred_lasso = tam.predict(X_test)\n",
    "print_score(y_test, y_pred_lasso, \"Lasso\")"
   ]
  },
  {
   "cell_type": "code",
   "execution_count": 304,
   "id": "ba838722",
   "metadata": {
    "scrolled": true
   },
   "outputs": [
    {
     "data": {
      "text/plain": [
       "Text(0, 0.5, '$R^2$')"
      ]
     },
     "execution_count": 304,
     "metadata": {},
     "output_type": "execute_result"
    },
    {
     "data": {
      "image/png": "[encoded data removed]",
      "text/plain": [
       "<Figure size 432x288 with 1 Axes>"
      ]
     },
     "metadata": {
      "needs_background": "light"
     },
     "output_type": "display_data"
    }
   ],
   "source": [
    "plt.plot(alphas, log_lasso_scores_train, label=r'$train\\ R^2$')\n",
    "plt.plot(alphas, log_lasso_scores_test, label=r'$test\\ R^2$')\n",
    "plt.title(r'Logy Lasso Train-Test $R^2$ Comparison')\n",
    "# lasso_underfit = lasso_scores_train < lasso_scores_test\n",
    "# last_underfit  = np.max(alphas[lasso_underfit])\n",
    "plt.axvline(alphas[log_max_index], linestyle='--', color='g', label='optimal lambda', alpha=0.4)\n",
    "plt.legend(loc=1)\n",
    "plt.xlabel(r'hyperparameter $\\lambda$')\n",
    "plt.ylabel(r'$R^2$')"
   ]
  },
  {
   "cell_type": "code",
   "execution_count": 302,
   "id": "700e9b55",
   "metadata": {
    "scrolled": true
   },
   "outputs": [],
   "source": [
    "# from sklearn.preprocessing import StandardScaler\n",
    "# scaler = StandardScaler()\n",
    "# scaler.fit(X_train)\n",
    "# scaler.transform(X_train)\n",
    "# #is this right? Do i have to transform y as well?\n",
    "\n",
    "#royce says normalize is enough"
   ]
  },
  {
   "cell_type": "code",
   "execution_count": 52,
   "id": "3accf96e",
   "metadata": {},
   "outputs": [],
   "source": [
    "log_lasso = Lasso()"
   ]
  },
  {
   "cell_type": "code",
   "execution_count": 161,
   "id": "f2b785c0",
   "metadata": {},
   "outputs": [
    {
     "ename": "KeyboardInterrupt",
     "evalue": "",
     "output_type": "error",
     "traceback": [
      "\u001b[0;31m---------------------------------------------------------------------------\u001b[0m",
      "\u001b[0;31mKeyboardInterrupt\u001b[0m                         Traceback (most recent call last)",
      "\u001b[0;32m/var/folders/8p/6k3vrp795231q_pwy6nvxz5w0000gn/T/ipykernel_64554/3837879691.py\u001b[0m in \u001b[0;36m<module>\u001b[0;34m\u001b[0m\n\u001b[1;32m      4\u001b[0m \u001b[0;34m\u001b[0m\u001b[0m\n\u001b[1;32m      5\u001b[0m \u001b[0mlog_lasso_gs\u001b[0m \u001b[0;34m=\u001b[0m \u001b[0mGridSearchCV\u001b[0m\u001b[0;34m(\u001b[0m\u001b[0mlog_lasso\u001b[0m\u001b[0;34m,\u001b[0m \u001b[0mgrid_para_log_lasso\u001b[0m\u001b[0;34m)\u001b[0m\u001b[0;31m#, cv = 3)\u001b[0m\u001b[0;34m\u001b[0m\u001b[0;34m\u001b[0m\u001b[0m\n\u001b[0;32m----> 6\u001b[0;31m \u001b[0mlog_lasso_gs\u001b[0m\u001b[0;34m.\u001b[0m\u001b[0mfit\u001b[0m\u001b[0;34m(\u001b[0m\u001b[0mX_train\u001b[0m\u001b[0;34m,\u001b[0m \u001b[0mnp\u001b[0m\u001b[0;34m.\u001b[0m\u001b[0mlog\u001b[0m\u001b[0;34m(\u001b[0m\u001b[0my_train\u001b[0m\u001b[0;34m)\u001b[0m\u001b[0;34m)\u001b[0m\u001b[0;34m\u001b[0m\u001b[0;34m\u001b[0m\u001b[0m\n\u001b[0m\u001b[1;32m      7\u001b[0m \u001b[0mlog_lasso_gs\u001b[0m\u001b[0;34m.\u001b[0m\u001b[0mcv_results_\u001b[0m\u001b[0;34m\u001b[0m\u001b[0;34m\u001b[0m\u001b[0m\n",
      "\u001b[0;32m~/opt/anaconda3/lib/python3.9/site-packages/sklearn/utils/validation.py\u001b[0m in \u001b[0;36minner_f\u001b[0;34m(*args, **kwargs)\u001b[0m\n\u001b[1;32m     61\u001b[0m             \u001b[0mextra_args\u001b[0m \u001b[0;34m=\u001b[0m \u001b[0mlen\u001b[0m\u001b[0;34m(\u001b[0m\u001b[0margs\u001b[0m\u001b[0;34m)\u001b[0m \u001b[0;34m-\u001b[0m \u001b[0mlen\u001b[0m\u001b[0;34m(\u001b[0m\u001b[0mall_args\u001b[0m\u001b[0;34m)\u001b[0m\u001b[0;34m\u001b[0m\u001b[0;34m\u001b[0m\u001b[0m\n\u001b[1;32m     62\u001b[0m             \u001b[0;32mif\u001b[0m \u001b[0mextra_args\u001b[0m \u001b[0;34m<=\u001b[0m \u001b[0;36m0\u001b[0m\u001b[0;34m:\u001b[0m\u001b[0;34m\u001b[0m\u001b[0;34m\u001b[0m\u001b[0m\n\u001b[0;32m---> 63\u001b[0;31m                 \u001b[0;32mreturn\u001b[0m \u001b[0mf\u001b[0m\u001b[0;34m(\u001b[0m\u001b[0;34m*\u001b[0m\u001b[0margs\u001b[0m\u001b[0;34m,\u001b[0m \u001b[0;34m**\u001b[0m\u001b[0mkwargs\u001b[0m\u001b[0;34m)\u001b[0m\u001b[0;34m\u001b[0m\u001b[0;34m\u001b[0m\u001b[0m\n\u001b[0m\u001b[1;32m     64\u001b[0m \u001b[0;34m\u001b[0m\u001b[0m\n\u001b[1;32m     65\u001b[0m             \u001b[0;31m# extra_args > 0\u001b[0m\u001b[0;34m\u001b[0m\u001b[0;34m\u001b[0m\u001b[0m\n",
      "\u001b[0;32m~/opt/anaconda3/lib/python3.9/site-packages/sklearn/model_selection/_search.py\u001b[0m in \u001b[0;36mfit\u001b[0;34m(self, X, y, groups, **fit_params)\u001b[0m\n\u001b[1;32m    839\u001b[0m                 \u001b[0;32mreturn\u001b[0m \u001b[0mresults\u001b[0m\u001b[0;34m\u001b[0m\u001b[0;34m\u001b[0m\u001b[0m\n\u001b[1;32m    840\u001b[0m \u001b[0;34m\u001b[0m\u001b[0m\n\u001b[0;32m--> 841\u001b[0;31m             \u001b[0mself\u001b[0m\u001b[0;34m.\u001b[0m\u001b[0m_run_search\u001b[0m\u001b[0;34m(\u001b[0m\u001b[0mevaluate_candidates\u001b[0m\u001b[0;34m)\u001b[0m\u001b[0;34m\u001b[0m\u001b[0;34m\u001b[0m\u001b[0m\n\u001b[0m\u001b[1;32m    842\u001b[0m \u001b[0;34m\u001b[0m\u001b[0m\n\u001b[1;32m    843\u001b[0m             \u001b[0;31m# multimetric is determined here because in the case of a callable\u001b[0m\u001b[0;34m\u001b[0m\u001b[0;34m\u001b[0m\u001b[0m\n",
      "\u001b[0;32m~/opt/anaconda3/lib/python3.9/site-packages/sklearn/model_selection/_search.py\u001b[0m in \u001b[0;36m_run_search\u001b[0;34m(self, evaluate_candidates)\u001b[0m\n\u001b[1;32m   1294\u001b[0m     \u001b[0;32mdef\u001b[0m \u001b[0m_run_search\u001b[0m\u001b[0;34m(\u001b[0m\u001b[0mself\u001b[0m\u001b[0;34m,\u001b[0m \u001b[0mevaluate_candidates\u001b[0m\u001b[0;34m)\u001b[0m\u001b[0;34m:\u001b[0m\u001b[0;34m\u001b[0m\u001b[0;34m\u001b[0m\u001b[0m\n\u001b[1;32m   1295\u001b[0m         \u001b[0;34m\"\"\"Search all candidates in param_grid\"\"\"\u001b[0m\u001b[0;34m\u001b[0m\u001b[0;34m\u001b[0m\u001b[0m\n\u001b[0;32m-> 1296\u001b[0;31m         \u001b[0mevaluate_candidates\u001b[0m\u001b[0;34m(\u001b[0m\u001b[0mParameterGrid\u001b[0m\u001b[0;34m(\u001b[0m\u001b[0mself\u001b[0m\u001b[0;34m.\u001b[0m\u001b[0mparam_grid\u001b[0m\u001b[0;34m)\u001b[0m\u001b[0;34m)\u001b[0m\u001b[0;34m\u001b[0m\u001b[0;34m\u001b[0m\u001b[0m\n\u001b[0m\u001b[1;32m   1297\u001b[0m \u001b[0;34m\u001b[0m\u001b[0m\n\u001b[1;32m   1298\u001b[0m \u001b[0;34m\u001b[0m\u001b[0m\n",
      "\u001b[0;32m~/opt/anaconda3/lib/python3.9/site-packages/sklearn/model_selection/_search.py\u001b[0m in \u001b[0;36mevaluate_candidates\u001b[0;34m(candidate_params, cv, more_results)\u001b[0m\n\u001b[1;32m    793\u001b[0m                               n_splits, n_candidates, n_candidates * n_splits))\n\u001b[1;32m    794\u001b[0m \u001b[0;34m\u001b[0m\u001b[0m\n\u001b[0;32m--> 795\u001b[0;31m                 out = parallel(delayed(_fit_and_score)(clone(base_estimator),\n\u001b[0m\u001b[1;32m    796\u001b[0m                                                        \u001b[0mX\u001b[0m\u001b[0;34m,\u001b[0m \u001b[0my\u001b[0m\u001b[0;34m,\u001b[0m\u001b[0;34m\u001b[0m\u001b[0;34m\u001b[0m\u001b[0m\n\u001b[1;32m    797\u001b[0m                                                        \u001b[0mtrain\u001b[0m\u001b[0;34m=\u001b[0m\u001b[0mtrain\u001b[0m\u001b[0;34m,\u001b[0m \u001b[0mtest\u001b[0m\u001b[0;34m=\u001b[0m\u001b[0mtest\u001b[0m\u001b[0;34m,\u001b[0m\u001b[0;34m\u001b[0m\u001b[0;34m\u001b[0m\u001b[0m\n",
      "\u001b[0;32m~/opt/anaconda3/lib/python3.9/site-packages/joblib/parallel.py\u001b[0m in \u001b[0;36m__call__\u001b[0;34m(self, iterable)\u001b[0m\n\u001b[1;32m   1044\u001b[0m                 \u001b[0mself\u001b[0m\u001b[0;34m.\u001b[0m\u001b[0m_iterating\u001b[0m \u001b[0;34m=\u001b[0m \u001b[0mself\u001b[0m\u001b[0;34m.\u001b[0m\u001b[0m_original_iterator\u001b[0m \u001b[0;32mis\u001b[0m \u001b[0;32mnot\u001b[0m \u001b[0;32mNone\u001b[0m\u001b[0;34m\u001b[0m\u001b[0;34m\u001b[0m\u001b[0m\n\u001b[1;32m   1045\u001b[0m \u001b[0;34m\u001b[0m\u001b[0m\n\u001b[0;32m-> 1046\u001b[0;31m             \u001b[0;32mwhile\u001b[0m \u001b[0mself\u001b[0m\u001b[0;34m.\u001b[0m\u001b[0mdispatch_one_batch\u001b[0m\u001b[0;34m(\u001b[0m\u001b[0miterator\u001b[0m\u001b[0;34m)\u001b[0m\u001b[0;34m:\u001b[0m\u001b[0;34m\u001b[0m\u001b[0;34m\u001b[0m\u001b[0m\n\u001b[0m\u001b[1;32m   1047\u001b[0m                 \u001b[0;32mpass\u001b[0m\u001b[0;34m\u001b[0m\u001b[0;34m\u001b[0m\u001b[0m\n\u001b[1;32m   1048\u001b[0m \u001b[0;34m\u001b[0m\u001b[0m\n",
      "\u001b[0;32m~/opt/anaconda3/lib/python3.9/site-packages/joblib/parallel.py\u001b[0m in \u001b[0;36mdispatch_one_batch\u001b[0;34m(self, iterator)\u001b[0m\n\u001b[1;32m    859\u001b[0m                 \u001b[0;32mreturn\u001b[0m \u001b[0;32mFalse\u001b[0m\u001b[0;34m\u001b[0m\u001b[0;34m\u001b[0m\u001b[0m\n\u001b[1;32m    860\u001b[0m             \u001b[0;32melse\u001b[0m\u001b[0;34m:\u001b[0m\u001b[0;34m\u001b[0m\u001b[0;34m\u001b[0m\u001b[0m\n\u001b[0;32m--> 861\u001b[0;31m                 \u001b[0mself\u001b[0m\u001b[0;34m.\u001b[0m\u001b[0m_dispatch\u001b[0m\u001b[0;34m(\u001b[0m\u001b[0mtasks\u001b[0m\u001b[0;34m)\u001b[0m\u001b[0;34m\u001b[0m\u001b[0;34m\u001b[0m\u001b[0m\n\u001b[0m\u001b[1;32m    862\u001b[0m                 \u001b[0;32mreturn\u001b[0m \u001b[0;32mTrue\u001b[0m\u001b[0;34m\u001b[0m\u001b[0;34m\u001b[0m\u001b[0m\n\u001b[1;32m    863\u001b[0m \u001b[0;34m\u001b[0m\u001b[0m\n",
      "\u001b[0;32m~/opt/anaconda3/lib/python3.9/site-packages/joblib/parallel.py\u001b[0m in \u001b[0;36m_dispatch\u001b[0;34m(self, batch)\u001b[0m\n\u001b[1;32m    777\u001b[0m         \u001b[0;32mwith\u001b[0m \u001b[0mself\u001b[0m\u001b[0;34m.\u001b[0m\u001b[0m_lock\u001b[0m\u001b[0;34m:\u001b[0m\u001b[0;34m\u001b[0m\u001b[0;34m\u001b[0m\u001b[0m\n\u001b[1;32m    778\u001b[0m             \u001b[0mjob_idx\u001b[0m \u001b[0;34m=\u001b[0m \u001b[0mlen\u001b[0m\u001b[0;34m(\u001b[0m\u001b[0mself\u001b[0m\u001b[0;34m.\u001b[0m\u001b[0m_jobs\u001b[0m\u001b[0;34m)\u001b[0m\u001b[0;34m\u001b[0m\u001b[0;34m\u001b[0m\u001b[0m\n\u001b[0;32m--> 779\u001b[0;31m             \u001b[0mjob\u001b[0m \u001b[0;34m=\u001b[0m \u001b[0mself\u001b[0m\u001b[0;34m.\u001b[0m\u001b[0m_backend\u001b[0m\u001b[0;34m.\u001b[0m\u001b[0mapply_async\u001b[0m\u001b[0;34m(\u001b[0m\u001b[0mbatch\u001b[0m\u001b[0;34m,\u001b[0m \u001b[0mcallback\u001b[0m\u001b[0;34m=\u001b[0m\u001b[0mcb\u001b[0m\u001b[0;34m)\u001b[0m\u001b[0;34m\u001b[0m\u001b[0;34m\u001b[0m\u001b[0m\n\u001b[0m\u001b[1;32m    780\u001b[0m             \u001b[0;31m# A job can complete so quickly than its callback is\u001b[0m\u001b[0;34m\u001b[0m\u001b[0;34m\u001b[0m\u001b[0m\n\u001b[1;32m    781\u001b[0m             \u001b[0;31m# called before we get here, causing self._jobs to\u001b[0m\u001b[0;34m\u001b[0m\u001b[0;34m\u001b[0m\u001b[0m\n",
      "\u001b[0;32m~/opt/anaconda3/lib/python3.9/site-packages/joblib/_parallel_backends.py\u001b[0m in \u001b[0;36mapply_async\u001b[0;34m(self, func, callback)\u001b[0m\n\u001b[1;32m    206\u001b[0m     \u001b[0;32mdef\u001b[0m \u001b[0mapply_async\u001b[0m\u001b[0;34m(\u001b[0m\u001b[0mself\u001b[0m\u001b[0;34m,\u001b[0m \u001b[0mfunc\u001b[0m\u001b[0;34m,\u001b[0m \u001b[0mcallback\u001b[0m\u001b[0;34m=\u001b[0m\u001b[0;32mNone\u001b[0m\u001b[0;34m)\u001b[0m\u001b[0;34m:\u001b[0m\u001b[0;34m\u001b[0m\u001b[0;34m\u001b[0m\u001b[0m\n\u001b[1;32m    207\u001b[0m         \u001b[0;34m\"\"\"Schedule a func to be run\"\"\"\u001b[0m\u001b[0;34m\u001b[0m\u001b[0;34m\u001b[0m\u001b[0m\n\u001b[0;32m--> 208\u001b[0;31m         \u001b[0mresult\u001b[0m \u001b[0;34m=\u001b[0m \u001b[0mImmediateResult\u001b[0m\u001b[0;34m(\u001b[0m\u001b[0mfunc\u001b[0m\u001b[0;34m)\u001b[0m\u001b[0;34m\u001b[0m\u001b[0;34m\u001b[0m\u001b[0m\n\u001b[0m\u001b[1;32m    209\u001b[0m         \u001b[0;32mif\u001b[0m \u001b[0mcallback\u001b[0m\u001b[0;34m:\u001b[0m\u001b[0;34m\u001b[0m\u001b[0;34m\u001b[0m\u001b[0m\n\u001b[1;32m    210\u001b[0m             \u001b[0mcallback\u001b[0m\u001b[0;34m(\u001b[0m\u001b[0mresult\u001b[0m\u001b[0;34m)\u001b[0m\u001b[0;34m\u001b[0m\u001b[0;34m\u001b[0m\u001b[0m\n",
      "\u001b[0;32m~/opt/anaconda3/lib/python3.9/site-packages/joblib/_parallel_backends.py\u001b[0m in \u001b[0;36m__init__\u001b[0;34m(self, batch)\u001b[0m\n\u001b[1;32m    570\u001b[0m         \u001b[0;31m# Don't delay the application, to avoid keeping the input\u001b[0m\u001b[0;34m\u001b[0m\u001b[0;34m\u001b[0m\u001b[0m\n\u001b[1;32m    571\u001b[0m         \u001b[0;31m# arguments in memory\u001b[0m\u001b[0;34m\u001b[0m\u001b[0;34m\u001b[0m\u001b[0m\n\u001b[0;32m--> 572\u001b[0;31m         \u001b[0mself\u001b[0m\u001b[0;34m.\u001b[0m\u001b[0mresults\u001b[0m \u001b[0;34m=\u001b[0m \u001b[0mbatch\u001b[0m\u001b[0;34m(\u001b[0m\u001b[0;34m)\u001b[0m\u001b[0;34m\u001b[0m\u001b[0;34m\u001b[0m\u001b[0m\n\u001b[0m\u001b[1;32m    573\u001b[0m \u001b[0;34m\u001b[0m\u001b[0m\n\u001b[1;32m    574\u001b[0m     \u001b[0;32mdef\u001b[0m \u001b[0mget\u001b[0m\u001b[0;34m(\u001b[0m\u001b[0mself\u001b[0m\u001b[0;34m)\u001b[0m\u001b[0;34m:\u001b[0m\u001b[0;34m\u001b[0m\u001b[0;34m\u001b[0m\u001b[0m\n",
      "\u001b[0;32m~/opt/anaconda3/lib/python3.9/site-packages/joblib/parallel.py\u001b[0m in \u001b[0;36m__call__\u001b[0;34m(self)\u001b[0m\n\u001b[1;32m    260\u001b[0m         \u001b[0;31m# change the default number of processes to -1\u001b[0m\u001b[0;34m\u001b[0m\u001b[0;34m\u001b[0m\u001b[0m\n\u001b[1;32m    261\u001b[0m         \u001b[0;32mwith\u001b[0m \u001b[0mparallel_backend\u001b[0m\u001b[0;34m(\u001b[0m\u001b[0mself\u001b[0m\u001b[0;34m.\u001b[0m\u001b[0m_backend\u001b[0m\u001b[0;34m,\u001b[0m \u001b[0mn_jobs\u001b[0m\u001b[0;34m=\u001b[0m\u001b[0mself\u001b[0m\u001b[0;34m.\u001b[0m\u001b[0m_n_jobs\u001b[0m\u001b[0;34m)\u001b[0m\u001b[0;34m:\u001b[0m\u001b[0;34m\u001b[0m\u001b[0;34m\u001b[0m\u001b[0m\n\u001b[0;32m--> 262\u001b[0;31m             return [func(*args, **kwargs)\n\u001b[0m\u001b[1;32m    263\u001b[0m                     for func, args, kwargs in self.items]\n\u001b[1;32m    264\u001b[0m \u001b[0;34m\u001b[0m\u001b[0m\n",
      "\u001b[0;32m~/opt/anaconda3/lib/python3.9/site-packages/joblib/parallel.py\u001b[0m in \u001b[0;36m<listcomp>\u001b[0;34m(.0)\u001b[0m\n\u001b[1;32m    260\u001b[0m         \u001b[0;31m# change the default number of processes to -1\u001b[0m\u001b[0;34m\u001b[0m\u001b[0;34m\u001b[0m\u001b[0m\n\u001b[1;32m    261\u001b[0m         \u001b[0;32mwith\u001b[0m \u001b[0mparallel_backend\u001b[0m\u001b[0;34m(\u001b[0m\u001b[0mself\u001b[0m\u001b[0;34m.\u001b[0m\u001b[0m_backend\u001b[0m\u001b[0;34m,\u001b[0m \u001b[0mn_jobs\u001b[0m\u001b[0;34m=\u001b[0m\u001b[0mself\u001b[0m\u001b[0;34m.\u001b[0m\u001b[0m_n_jobs\u001b[0m\u001b[0;34m)\u001b[0m\u001b[0;34m:\u001b[0m\u001b[0;34m\u001b[0m\u001b[0;34m\u001b[0m\u001b[0m\n\u001b[0;32m--> 262\u001b[0;31m             return [func(*args, **kwargs)\n\u001b[0m\u001b[1;32m    263\u001b[0m                     for func, args, kwargs in self.items]\n\u001b[1;32m    264\u001b[0m \u001b[0;34m\u001b[0m\u001b[0m\n",
      "\u001b[0;32m~/opt/anaconda3/lib/python3.9/site-packages/sklearn/utils/fixes.py\u001b[0m in \u001b[0;36m__call__\u001b[0;34m(self, *args, **kwargs)\u001b[0m\n\u001b[1;32m    220\u001b[0m     \u001b[0;32mdef\u001b[0m \u001b[0m__call__\u001b[0m\u001b[0;34m(\u001b[0m\u001b[0mself\u001b[0m\u001b[0;34m,\u001b[0m \u001b[0;34m*\u001b[0m\u001b[0margs\u001b[0m\u001b[0;34m,\u001b[0m \u001b[0;34m**\u001b[0m\u001b[0mkwargs\u001b[0m\u001b[0;34m)\u001b[0m\u001b[0;34m:\u001b[0m\u001b[0;34m\u001b[0m\u001b[0;34m\u001b[0m\u001b[0m\n\u001b[1;32m    221\u001b[0m         \u001b[0;32mwith\u001b[0m \u001b[0mconfig_context\u001b[0m\u001b[0;34m(\u001b[0m\u001b[0;34m**\u001b[0m\u001b[0mself\u001b[0m\u001b[0;34m.\u001b[0m\u001b[0mconfig\u001b[0m\u001b[0;34m)\u001b[0m\u001b[0;34m:\u001b[0m\u001b[0;34m\u001b[0m\u001b[0;34m\u001b[0m\u001b[0m\n\u001b[0;32m--> 222\u001b[0;31m             \u001b[0;32mreturn\u001b[0m \u001b[0mself\u001b[0m\u001b[0;34m.\u001b[0m\u001b[0mfunction\u001b[0m\u001b[0;34m(\u001b[0m\u001b[0;34m*\u001b[0m\u001b[0margs\u001b[0m\u001b[0;34m,\u001b[0m \u001b[0;34m**\u001b[0m\u001b[0mkwargs\u001b[0m\u001b[0;34m)\u001b[0m\u001b[0;34m\u001b[0m\u001b[0;34m\u001b[0m\u001b[0m\n\u001b[0m",
      "\u001b[0;32m~/opt/anaconda3/lib/python3.9/site-packages/sklearn/model_selection/_validation.py\u001b[0m in \u001b[0;36m_fit_and_score\u001b[0;34m(estimator, X, y, scorer, train, test, verbose, parameters, fit_params, return_train_score, return_parameters, return_n_test_samples, return_times, return_estimator, split_progress, candidate_progress, error_score)\u001b[0m\n\u001b[1;32m    596\u001b[0m             \u001b[0mestimator\u001b[0m\u001b[0;34m.\u001b[0m\u001b[0mfit\u001b[0m\u001b[0;34m(\u001b[0m\u001b[0mX_train\u001b[0m\u001b[0;34m,\u001b[0m \u001b[0;34m**\u001b[0m\u001b[0mfit_params\u001b[0m\u001b[0;34m)\u001b[0m\u001b[0;34m\u001b[0m\u001b[0;34m\u001b[0m\u001b[0m\n\u001b[1;32m    597\u001b[0m         \u001b[0;32melse\u001b[0m\u001b[0;34m:\u001b[0m\u001b[0;34m\u001b[0m\u001b[0;34m\u001b[0m\u001b[0m\n\u001b[0;32m--> 598\u001b[0;31m             \u001b[0mestimator\u001b[0m\u001b[0;34m.\u001b[0m\u001b[0mfit\u001b[0m\u001b[0;34m(\u001b[0m\u001b[0mX_train\u001b[0m\u001b[0;34m,\u001b[0m \u001b[0my_train\u001b[0m\u001b[0;34m,\u001b[0m \u001b[0;34m**\u001b[0m\u001b[0mfit_params\u001b[0m\u001b[0;34m)\u001b[0m\u001b[0;34m\u001b[0m\u001b[0;34m\u001b[0m\u001b[0m\n\u001b[0m\u001b[1;32m    599\u001b[0m \u001b[0;34m\u001b[0m\u001b[0m\n\u001b[1;32m    600\u001b[0m     \u001b[0;32mexcept\u001b[0m \u001b[0mException\u001b[0m \u001b[0;32mas\u001b[0m \u001b[0me\u001b[0m\u001b[0;34m:\u001b[0m\u001b[0;34m\u001b[0m\u001b[0;34m\u001b[0m\u001b[0m\n",
      "\u001b[0;32m~/opt/anaconda3/lib/python3.9/site-packages/sklearn/linear_model/_coordinate_descent.py\u001b[0m in \u001b[0;36mfit\u001b[0;34m(self, X, y, sample_weight, check_input)\u001b[0m\n\u001b[1;32m    842\u001b[0m                 \u001b[0mthis_Xy\u001b[0m \u001b[0;34m=\u001b[0m \u001b[0;32mNone\u001b[0m\u001b[0;34m\u001b[0m\u001b[0;34m\u001b[0m\u001b[0m\n\u001b[1;32m    843\u001b[0m             \u001b[0m_\u001b[0m\u001b[0;34m,\u001b[0m \u001b[0mthis_coef\u001b[0m\u001b[0;34m,\u001b[0m \u001b[0mthis_dual_gap\u001b[0m\u001b[0;34m,\u001b[0m \u001b[0mthis_iter\u001b[0m \u001b[0;34m=\u001b[0m\u001b[0;31m \u001b[0m\u001b[0;31m\\\u001b[0m\u001b[0;34m\u001b[0m\u001b[0;34m\u001b[0m\u001b[0m\n\u001b[0;32m--> 844\u001b[0;31m                 self.path(X, y[:, k],\n\u001b[0m\u001b[1;32m    845\u001b[0m                           \u001b[0ml1_ratio\u001b[0m\u001b[0;34m=\u001b[0m\u001b[0mself\u001b[0m\u001b[0;34m.\u001b[0m\u001b[0ml1_ratio\u001b[0m\u001b[0;34m,\u001b[0m \u001b[0meps\u001b[0m\u001b[0;34m=\u001b[0m\u001b[0;32mNone\u001b[0m\u001b[0;34m,\u001b[0m\u001b[0;34m\u001b[0m\u001b[0;34m\u001b[0m\u001b[0m\n\u001b[1;32m    846\u001b[0m                           \u001b[0mn_alphas\u001b[0m\u001b[0;34m=\u001b[0m\u001b[0;32mNone\u001b[0m\u001b[0;34m,\u001b[0m \u001b[0malphas\u001b[0m\u001b[0;34m=\u001b[0m\u001b[0;34m[\u001b[0m\u001b[0malpha\u001b[0m\u001b[0;34m]\u001b[0m\u001b[0;34m,\u001b[0m\u001b[0;34m\u001b[0m\u001b[0;34m\u001b[0m\u001b[0m\n",
      "\u001b[0;32m~/opt/anaconda3/lib/python3.9/site-packages/sklearn/utils/validation.py\u001b[0m in \u001b[0;36minner_f\u001b[0;34m(*args, **kwargs)\u001b[0m\n\u001b[1;32m     61\u001b[0m             \u001b[0mextra_args\u001b[0m \u001b[0;34m=\u001b[0m \u001b[0mlen\u001b[0m\u001b[0;34m(\u001b[0m\u001b[0margs\u001b[0m\u001b[0;34m)\u001b[0m \u001b[0;34m-\u001b[0m \u001b[0mlen\u001b[0m\u001b[0;34m(\u001b[0m\u001b[0mall_args\u001b[0m\u001b[0;34m)\u001b[0m\u001b[0;34m\u001b[0m\u001b[0;34m\u001b[0m\u001b[0m\n\u001b[1;32m     62\u001b[0m             \u001b[0;32mif\u001b[0m \u001b[0mextra_args\u001b[0m \u001b[0;34m<=\u001b[0m \u001b[0;36m0\u001b[0m\u001b[0;34m:\u001b[0m\u001b[0;34m\u001b[0m\u001b[0;34m\u001b[0m\u001b[0m\n\u001b[0;32m---> 63\u001b[0;31m                 \u001b[0;32mreturn\u001b[0m \u001b[0mf\u001b[0m\u001b[0;34m(\u001b[0m\u001b[0;34m*\u001b[0m\u001b[0margs\u001b[0m\u001b[0;34m,\u001b[0m \u001b[0;34m**\u001b[0m\u001b[0mkwargs\u001b[0m\u001b[0;34m)\u001b[0m\u001b[0;34m\u001b[0m\u001b[0;34m\u001b[0m\u001b[0m\n\u001b[0m\u001b[1;32m     64\u001b[0m \u001b[0;34m\u001b[0m\u001b[0m\n\u001b[1;32m     65\u001b[0m             \u001b[0;31m# extra_args > 0\u001b[0m\u001b[0;34m\u001b[0m\u001b[0;34m\u001b[0m\u001b[0m\n",
      "\u001b[0;32m~/opt/anaconda3/lib/python3.9/site-packages/sklearn/linear_model/_coordinate_descent.py\u001b[0m in \u001b[0;36menet_path\u001b[0;34m(X, y, l1_ratio, eps, n_alphas, alphas, precompute, Xy, copy_X, coef_init, verbose, return_n_iter, positive, check_input, **params)\u001b[0m\n\u001b[1;32m    528\u001b[0m                 tol, rng, random, positive)\n\u001b[1;32m    529\u001b[0m         \u001b[0;32melif\u001b[0m \u001b[0mprecompute\u001b[0m \u001b[0;32mis\u001b[0m \u001b[0;32mFalse\u001b[0m\u001b[0;34m:\u001b[0m\u001b[0;34m\u001b[0m\u001b[0;34m\u001b[0m\u001b[0m\n\u001b[0;32m--> 530\u001b[0;31m             model = cd_fast.enet_coordinate_descent(\n\u001b[0m\u001b[1;32m    531\u001b[0m                 \u001b[0mcoef_\u001b[0m\u001b[0;34m,\u001b[0m \u001b[0ml1_reg\u001b[0m\u001b[0;34m,\u001b[0m \u001b[0ml2_reg\u001b[0m\u001b[0;34m,\u001b[0m \u001b[0mX\u001b[0m\u001b[0;34m,\u001b[0m \u001b[0my\u001b[0m\u001b[0;34m,\u001b[0m \u001b[0mmax_iter\u001b[0m\u001b[0;34m,\u001b[0m \u001b[0mtol\u001b[0m\u001b[0;34m,\u001b[0m \u001b[0mrng\u001b[0m\u001b[0;34m,\u001b[0m \u001b[0mrandom\u001b[0m\u001b[0;34m,\u001b[0m\u001b[0;34m\u001b[0m\u001b[0;34m\u001b[0m\u001b[0m\n\u001b[1;32m    532\u001b[0m                 positive)\n",
      "\u001b[0;31mKeyboardInterrupt\u001b[0m: "
     ]
    }
   ],
   "source": [
    "# I should do gridsearchCV instead of a forloop\n",
    "\n",
    "grid_para_log_lasso = {'alpha': np.logspace(-10,.1,20), 'max_iter' : [1000000], 'normalize': [True]}\n",
    "\n",
    "log_lasso_gs = GridSearchCV(log_lasso, grid_para_log_lasso)#, cv = 3)\n",
    "log_lasso_gs.fit(X_train, np.log(y_train))\n",
    "log_lasso_gs.cv_results_"
   ]
  },
  {
   "cell_type": "code",
   "execution_count": null,
   "id": "10f2cf46",
   "metadata": {},
   "outputs": [],
   "source": [
    "log_lasso_gs.best_score_"
   ]
  },
  {
   "cell_type": "code",
   "execution_count": 67,
   "id": "3b179450",
   "metadata": {},
   "outputs": [
    {
     "data": {
      "text/plain": [
       "array([1.00000000e-10, 3.40078321e-10, 1.15653264e-09, 3.93311679e-09,\n",
       "       1.33756775e-08, 4.54877795e-08, 1.54694077e-07, 5.26081018e-07,\n",
       "       1.78908749e-06, 6.08429869e-06, 2.06913808e-05, 7.03669004e-05,\n",
       "       2.39302573e-04, 8.13816172e-04, 2.76761237e-03, 9.41204967e-03,\n",
       "       3.20083405e-02, 1.08853427e-01, 3.70186906e-01, 1.25892541e+00])"
      ]
     },
     "execution_count": 67,
     "metadata": {},
     "output_type": "execute_result"
    }
   ],
   "source": [
    "np.logspace(-10,.1,20)"
   ]
  },
  {
   "cell_type": "code",
   "execution_count": 58,
   "id": "d6214a3d",
   "metadata": {},
   "outputs": [
    {
     "data": {
      "text/plain": [
       "0.9278297814796514"
      ]
     },
     "execution_count": 58,
     "metadata": {},
     "output_type": "execute_result"
    }
   ],
   "source": [
    "log_lasso.set_params(alpha = .00008, max_iter = 10000, normalize = True)\n",
    "log_lasso.fit(X_train, np.log(y_train))\n",
    "log_lasso.score(X_train, np.log(y_train))\n",
    "log_lasso.score(X_test, np.log(y_test))"
   ]
  },
  {
   "cell_type": "markdown",
   "id": "2bf52a4b",
   "metadata": {},
   "source": [
    "Elastic Net Log"
   ]
  },
  {
   "cell_type": "code",
   "execution_count": 100,
   "id": "87c70171",
   "metadata": {},
   "outputs": [],
   "source": [
    "elasticnet = ElasticNet()"
   ]
  },
  {
   "cell_type": "code",
   "execution_count": 101,
   "id": "db44dfcb",
   "metadata": {},
   "outputs": [
    {
     "data": {
      "text/plain": [
       "7e-05"
      ]
     },
     "execution_count": 101,
     "metadata": {},
     "output_type": "execute_result"
    }
   ],
   "source": [
    ".00007"
   ]
  },
  {
   "cell_type": "code",
   "execution_count": 103,
   "id": "08344c3c",
   "metadata": {},
   "outputs": [
    {
     "data": {
      "text/plain": [
       "array([1.00000000e-05, 2.22222222e-05, 3.44444444e-05, 4.66666667e-05,\n",
       "       5.88888889e-05, 7.11111111e-05, 8.33333333e-05, 9.55555556e-05,\n",
       "       1.07777778e-04, 1.20000000e-04])"
      ]
     },
     "execution_count": 103,
     "metadata": {},
     "output_type": "execute_result"
    }
   ],
   "source": [
    "np.linspace(.00001,.00012, 10)"
   ]
  },
  {
   "cell_type": "code",
   "execution_count": 153,
   "id": "2eadbdb1",
   "metadata": {
    "scrolled": true
   },
   "outputs": [
    {
     "name": "stdout",
     "output_type": "stream",
     "text": [
      "GridSearchCV(cv=KFold(n_splits=3, random_state=1, shuffle=True),\n",
      "             estimator=ElasticNet(),\n",
      "             param_grid={'alpha': array([1.00000000e-05, 3.11111111e-05, 5.22222222e-05, 7.33333333e-05,\n",
      "       9.44444444e-05, 1.15555556e-04, 1.36666667e-04, 1.57777778e-04,\n",
      "       1.78888889e-04, 2.00000000e-04]),\n",
      "                         'max_iter': [100000], 'normalize': [True]})\n",
      "0.9133656199373049\n",
      "9.444444444444444e-05\n"
     ]
    }
   ],
   "source": [
    "#did not converge. need to try different params\n",
    "\n",
    "# Tam's params: ElasticNet(alpha = .00007)\n",
    "#'l1_ratio': np.linspace(0.1, 1, 10), took this out of params\n",
    "from sklearn.model_selection import KFold\n",
    "\n",
    "kfold = KFold(n_splits=3, shuffle=True, random_state=1)\n",
    "\n",
    "\n",
    "params = {\n",
    "    \"alpha\": np.linspace(.00001,.0002, 10), 'normalize' : [True], 'max_iter' : [100000] }\n",
    "\n",
    "gs_elas = GridSearchCV(elasticnet, params, cv = kfold)\n",
    "gs_elas.fit(X_train, np.log(y_train))\n",
    "\n",
    "print(gs_elas)\n",
    "# summarize the results of the grid search\n",
    "print(gs_elas.best_score_)\n",
    "print(gs_elas.best_estimator_.alpha)"
   ]
  },
  {
   "cell_type": "code",
   "execution_count": null,
   "id": "e6af928b",
   "metadata": {},
   "outputs": [],
   "source": [
    "gs_elas.best_estimator_.score(X_test, np.log(y_test))"
   ]
  },
  {
   "cell_type": "code",
   "execution_count": 160,
   "id": "bd0d00b5",
   "metadata": {},
   "outputs": [
    {
     "name": "stdout",
     "output_type": "stream",
     "text": [
      "- Regressor: Elastic Net Logy Train\n",
      "R²: 0.9367280583000426\n",
      "RMSE: 18894.056717563177\n",
      "\n",
      "- Regressor: Elastic Net Logy Test\n",
      "R²: 0.9328546611763506\n",
      "RMSE: 19485.93780435858\n",
      "\n"
     ]
    }
   ],
   "source": [
    "#Isn't the best estimator picking the one with the best train r2??? Not test??\n",
    "y_testpred = gs_elas.best_estimator_.predict(X_test)\n",
    "y_trainpred = gs_elas.best_estimator_.predict(X_train)\n",
    "print_score(y_train, np.exp(y_trainpred), 'Elastic Net Logy Train')\n",
    "print_score(y_test, np.exp(y_testpred), 'Elastic Net Logy Test')"
   ]
  },
  {
   "cell_type": "code",
   "execution_count": 133,
   "id": "68a4212c",
   "metadata": {},
   "outputs": [
    {
     "data": {
      "text/plain": [
       "ElasticNet(alpha=7e-06, max_iter=10000, normalize=True)"
      ]
     },
     "execution_count": 133,
     "metadata": {},
     "output_type": "execute_result"
    }
   ],
   "source": [
    "#Ok I can't get this with gridsearch apparently but tams alpha does seem to be the best one lol\n",
    "elasticnettest = ElasticNet()\n",
    "elasticnettest.set_params(alpha = .000007, normalize = True, max_iter = 10000)\n",
    "elasticnettest.fit(X_train, np.log(y_train))"
   ]
  },
  {
   "cell_type": "code",
   "execution_count": 134,
   "id": "7c823ad5",
   "metadata": {},
   "outputs": [
    {
     "name": "stdout",
     "output_type": "stream",
     "text": [
      "- Regressor: Elastic Net Logy Test\n",
      "R²: 0.9353052437903866\n",
      "RMSE: 19127.046668449537\n",
      "\n"
     ]
    }
   ],
   "source": [
    "elasticnettest.predict(X_test)\n",
    "print_score(y_test, np.exp(elasticnettest.predict(X_test)), 'Elastic Net Logy Test')"
   ]
  }
 ],
 "metadata": {
  "kernelspec": {
   "display_name": "Python 3 (ipykernel)",
   "language": "python",
   "name": "python3"
  },
  "language_info": {
   "codemirror_mode": {
    "name": "ipython",
    "version": 3
   },
   "file_extension": ".py",
   "mimetype": "text/x-python",
   "name": "python",
   "nbconvert_exporter": "python",
   "pygments_lexer": "ipython3",
   "version": "3.9.7"
  }
 },
 "nbformat": 4,
 "nbformat_minor": 5
}
