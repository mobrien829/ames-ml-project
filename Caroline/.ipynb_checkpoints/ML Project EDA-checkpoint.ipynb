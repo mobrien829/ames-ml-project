{
 "cells": [
  {
   "cell_type": "markdown",
   "id": "03fba190",
   "metadata": {},
   "source": [
    "Some random thoughts\n",
    "Could look at do cold winters predict lower sale prices?\n",
    "\n",
    "I know I should look at which things have missing values but its so annoying\n"
   ]
  },
  {
   "cell_type": "code",
   "execution_count": 16,
   "id": "3be32dec",
   "metadata": {},
   "outputs": [],
   "source": [
    "#imports\n",
    "import numpy as np\n",
    "import csv\n",
    "import pandas as pd\n",
    "from matplotlib import pyplot as plt\n",
    "plt.style.use('ggplot')"
   ]
  },
  {
   "cell_type": "code",
   "execution_count": 12,
   "id": "2c3e22b5",
   "metadata": {
    "scrolled": true
   },
   "outputs": [],
   "source": [
    "#import csvs\n",
    "# with open('Ames Real Estate Data.csv') as csvfile:\n",
    "#     redata = csv.reader(csvfile)\n",
    "\n",
    "redata = pd.read_csv('Ames Real Estate Data.csv')\n",
    "\n",
    "hp = pd.read_csv('Ames_HousePrice.csv', index_col = 0)"
   ]
  },
  {
   "cell_type": "code",
   "execution_count": 8,
   "id": "c12048cb",
   "metadata": {},
   "outputs": [
    {
     "data": {
      "text/html": [
       "<div>\n",
       "<style scoped>\n",
       "    .dataframe tbody tr th:only-of-type {\n",
       "        vertical-align: middle;\n",
       "    }\n",
       "\n",
       "    .dataframe tbody tr th {\n",
       "        vertical-align: top;\n",
       "    }\n",
       "\n",
       "    .dataframe thead th {\n",
       "        text-align: right;\n",
       "    }\n",
       "</style>\n",
       "<table border=\"1\" class=\"dataframe\">\n",
       "  <thead>\n",
       "    <tr style=\"text-align: right;\">\n",
       "      <th></th>\n",
       "      <th>MapRefNo</th>\n",
       "      <th>GeoRefNo</th>\n",
       "      <th>Tier</th>\n",
       "      <th>Range</th>\n",
       "      <th>Prop_Addr</th>\n",
       "      <th>ZngCdPr</th>\n",
       "      <th>ZngCdSc</th>\n",
       "      <th>ZngOLPr</th>\n",
       "      <th>ZngOLSc</th>\n",
       "      <th>ClassPr_S</th>\n",
       "      <th>...</th>\n",
       "      <th>PA-Nmbr</th>\n",
       "      <th>PA-PreD</th>\n",
       "      <th>PA-Strt</th>\n",
       "      <th>PA-StSfx</th>\n",
       "      <th>PA-PostD</th>\n",
       "      <th>PA-UnTyp</th>\n",
       "      <th>PA-UntNo</th>\n",
       "      <th>Date</th>\n",
       "      <th>Source</th>\n",
       "      <th>NmbrBRs</th>\n",
       "    </tr>\n",
       "  </thead>\n",
       "  <tbody>\n",
       "    <tr>\n",
       "      <th>0</th>\n",
       "      <td>520400001</td>\n",
       "      <td>520400001</td>\n",
       "      <td>0</td>\n",
       "      <td>0</td>\n",
       "      <td>4599 GEORGE W CARVER AVE</td>\n",
       "      <td>FS-RL</td>\n",
       "      <td>NaN</td>\n",
       "      <td>NaN</td>\n",
       "      <td>NaN</td>\n",
       "      <td>RESIDENTIAL</td>\n",
       "      <td>...</td>\n",
       "      <td>4599.0</td>\n",
       "      <td>NaN</td>\n",
       "      <td>GEORGE W CARVER</td>\n",
       "      <td>AVE</td>\n",
       "      <td>NaN</td>\n",
       "      <td>NaN</td>\n",
       "      <td>NaN</td>\n",
       "      <td>10-Jul-20</td>\n",
       "      <td>Ames City Assessor</td>\n",
       "      <td>NaN</td>\n",
       "    </tr>\n",
       "    <tr>\n",
       "      <th>1</th>\n",
       "      <td>520440010</td>\n",
       "      <td>520440010</td>\n",
       "      <td>0</td>\n",
       "      <td>0</td>\n",
       "      <td>4507 EVEREST  AVE</td>\n",
       "      <td>FS-RL</td>\n",
       "      <td>NaN</td>\n",
       "      <td>NaN</td>\n",
       "      <td>NaN</td>\n",
       "      <td>RESIDENTIAL</td>\n",
       "      <td>...</td>\n",
       "      <td>4507.0</td>\n",
       "      <td>NaN</td>\n",
       "      <td>EVEREST</td>\n",
       "      <td>AVE</td>\n",
       "      <td>NaN</td>\n",
       "      <td>NaN</td>\n",
       "      <td>NaN</td>\n",
       "      <td>10-Jul-20</td>\n",
       "      <td>Ames City Assessor</td>\n",
       "      <td>NaN</td>\n",
       "    </tr>\n",
       "    <tr>\n",
       "      <th>2</th>\n",
       "      <td>520440020</td>\n",
       "      <td>520440020</td>\n",
       "      <td>0</td>\n",
       "      <td>0</td>\n",
       "      <td>4513 EVEREST  AVE</td>\n",
       "      <td>FS-RL</td>\n",
       "      <td>NaN</td>\n",
       "      <td>NaN</td>\n",
       "      <td>NaN</td>\n",
       "      <td>RESIDENTIAL</td>\n",
       "      <td>...</td>\n",
       "      <td>4513.0</td>\n",
       "      <td>NaN</td>\n",
       "      <td>EVEREST</td>\n",
       "      <td>AVE</td>\n",
       "      <td>NaN</td>\n",
       "      <td>NaN</td>\n",
       "      <td>NaN</td>\n",
       "      <td>10-Jul-20</td>\n",
       "      <td>Ames City Assessor</td>\n",
       "      <td>NaN</td>\n",
       "    </tr>\n",
       "    <tr>\n",
       "      <th>3</th>\n",
       "      <td>520445001</td>\n",
       "      <td>520445001</td>\n",
       "      <td>0</td>\n",
       "      <td>0</td>\n",
       "      <td>3449 BARCELOS ST</td>\n",
       "      <td>FS-RL</td>\n",
       "      <td>NaN</td>\n",
       "      <td>NaN</td>\n",
       "      <td>NaN</td>\n",
       "      <td>RESIDENTIAL</td>\n",
       "      <td>...</td>\n",
       "      <td>3449.0</td>\n",
       "      <td>NaN</td>\n",
       "      <td>BARCELOS</td>\n",
       "      <td>ST</td>\n",
       "      <td>NaN</td>\n",
       "      <td>NaN</td>\n",
       "      <td>NaN</td>\n",
       "      <td>10-Jul-20</td>\n",
       "      <td>Ames City Assessor</td>\n",
       "      <td>NaN</td>\n",
       "    </tr>\n",
       "    <tr>\n",
       "      <th>4</th>\n",
       "      <td>520445010</td>\n",
       "      <td>520445010</td>\n",
       "      <td>0</td>\n",
       "      <td>0</td>\n",
       "      <td>4506 EVEREST  AVE</td>\n",
       "      <td>FS-RL</td>\n",
       "      <td>NaN</td>\n",
       "      <td>NaN</td>\n",
       "      <td>NaN</td>\n",
       "      <td>RESIDENTIAL</td>\n",
       "      <td>...</td>\n",
       "      <td>4506.0</td>\n",
       "      <td>NaN</td>\n",
       "      <td>EVEREST</td>\n",
       "      <td>AVE</td>\n",
       "      <td>NaN</td>\n",
       "      <td>NaN</td>\n",
       "      <td>NaN</td>\n",
       "      <td>10-Jul-20</td>\n",
       "      <td>Ames City Assessor</td>\n",
       "      <td>NaN</td>\n",
       "    </tr>\n",
       "  </tbody>\n",
       "</table>\n",
       "<p>5 rows × 91 columns</p>\n",
       "</div>"
      ],
      "text/plain": [
       "    MapRefNo   GeoRefNo  Tier  Range                 Prop_Addr ZngCdPr  \\\n",
       "0  520400001  520400001     0      0  4599 GEORGE W CARVER AVE   FS-RL   \n",
       "1  520440010  520440010     0      0         4507 EVEREST  AVE   FS-RL   \n",
       "2  520440020  520440020     0      0         4513 EVEREST  AVE   FS-RL   \n",
       "3  520445001  520445001     0      0          3449 BARCELOS ST   FS-RL   \n",
       "4  520445010  520445010     0      0         4506 EVEREST  AVE   FS-RL   \n",
       "\n",
       "  ZngCdSc ZngOLPr ZngOLSc    ClassPr_S  ... PA-Nmbr PA-PreD          PA-Strt  \\\n",
       "0     NaN     NaN     NaN  RESIDENTIAL  ...  4599.0     NaN  GEORGE W CARVER   \n",
       "1     NaN     NaN     NaN  RESIDENTIAL  ...  4507.0     NaN          EVEREST   \n",
       "2     NaN     NaN     NaN  RESIDENTIAL  ...  4513.0     NaN          EVEREST   \n",
       "3     NaN     NaN     NaN  RESIDENTIAL  ...  3449.0     NaN         BARCELOS   \n",
       "4     NaN     NaN     NaN  RESIDENTIAL  ...  4506.0     NaN          EVEREST   \n",
       "\n",
       "   PA-StSfx PA-PostD PA-UnTyp PA-UntNo       Date              Source NmbrBRs  \n",
       "0       AVE      NaN      NaN      NaN  10-Jul-20  Ames City Assessor     NaN  \n",
       "1       AVE      NaN      NaN      NaN  10-Jul-20  Ames City Assessor     NaN  \n",
       "2       AVE      NaN      NaN      NaN  10-Jul-20  Ames City Assessor     NaN  \n",
       "3        ST      NaN      NaN      NaN  10-Jul-20  Ames City Assessor     NaN  \n",
       "4       AVE      NaN      NaN      NaN  10-Jul-20  Ames City Assessor     NaN  \n",
       "\n",
       "[5 rows x 91 columns]"
      ]
     },
     "execution_count": 8,
     "metadata": {},
     "output_type": "execute_result"
    }
   ],
   "source": [
    "redata.head()"
   ]
  },
  {
   "cell_type": "code",
   "execution_count": 13,
   "id": "7f9473b4",
   "metadata": {},
   "outputs": [
    {
     "data": {
      "text/html": [
       "<div>\n",
       "<style scoped>\n",
       "    .dataframe tbody tr th:only-of-type {\n",
       "        vertical-align: middle;\n",
       "    }\n",
       "\n",
       "    .dataframe tbody tr th {\n",
       "        vertical-align: top;\n",
       "    }\n",
       "\n",
       "    .dataframe thead th {\n",
       "        text-align: right;\n",
       "    }\n",
       "</style>\n",
       "<table border=\"1\" class=\"dataframe\">\n",
       "  <thead>\n",
       "    <tr style=\"text-align: right;\">\n",
       "      <th></th>\n",
       "      <th>PID</th>\n",
       "      <th>GrLivArea</th>\n",
       "      <th>SalePrice</th>\n",
       "      <th>MSSubClass</th>\n",
       "      <th>MSZoning</th>\n",
       "      <th>LotFrontage</th>\n",
       "      <th>LotArea</th>\n",
       "      <th>Street</th>\n",
       "      <th>Alley</th>\n",
       "      <th>LotShape</th>\n",
       "      <th>...</th>\n",
       "      <th>ScreenPorch</th>\n",
       "      <th>PoolArea</th>\n",
       "      <th>PoolQC</th>\n",
       "      <th>Fence</th>\n",
       "      <th>MiscFeature</th>\n",
       "      <th>MiscVal</th>\n",
       "      <th>MoSold</th>\n",
       "      <th>YrSold</th>\n",
       "      <th>SaleType</th>\n",
       "      <th>SaleCondition</th>\n",
       "    </tr>\n",
       "  </thead>\n",
       "  <tbody>\n",
       "    <tr>\n",
       "      <th>1</th>\n",
       "      <td>909176150</td>\n",
       "      <td>856</td>\n",
       "      <td>126000</td>\n",
       "      <td>30</td>\n",
       "      <td>RL</td>\n",
       "      <td>NaN</td>\n",
       "      <td>7890</td>\n",
       "      <td>Pave</td>\n",
       "      <td>NaN</td>\n",
       "      <td>Reg</td>\n",
       "      <td>...</td>\n",
       "      <td>166</td>\n",
       "      <td>0</td>\n",
       "      <td>NaN</td>\n",
       "      <td>NaN</td>\n",
       "      <td>NaN</td>\n",
       "      <td>0</td>\n",
       "      <td>3</td>\n",
       "      <td>2010</td>\n",
       "      <td>WD</td>\n",
       "      <td>Normal</td>\n",
       "    </tr>\n",
       "    <tr>\n",
       "      <th>2</th>\n",
       "      <td>905476230</td>\n",
       "      <td>1049</td>\n",
       "      <td>139500</td>\n",
       "      <td>120</td>\n",
       "      <td>RL</td>\n",
       "      <td>42.0</td>\n",
       "      <td>4235</td>\n",
       "      <td>Pave</td>\n",
       "      <td>NaN</td>\n",
       "      <td>Reg</td>\n",
       "      <td>...</td>\n",
       "      <td>0</td>\n",
       "      <td>0</td>\n",
       "      <td>NaN</td>\n",
       "      <td>NaN</td>\n",
       "      <td>NaN</td>\n",
       "      <td>0</td>\n",
       "      <td>2</td>\n",
       "      <td>2009</td>\n",
       "      <td>WD</td>\n",
       "      <td>Normal</td>\n",
       "    </tr>\n",
       "    <tr>\n",
       "      <th>3</th>\n",
       "      <td>911128020</td>\n",
       "      <td>1001</td>\n",
       "      <td>124900</td>\n",
       "      <td>30</td>\n",
       "      <td>C (all)</td>\n",
       "      <td>60.0</td>\n",
       "      <td>6060</td>\n",
       "      <td>Pave</td>\n",
       "      <td>NaN</td>\n",
       "      <td>Reg</td>\n",
       "      <td>...</td>\n",
       "      <td>0</td>\n",
       "      <td>0</td>\n",
       "      <td>NaN</td>\n",
       "      <td>NaN</td>\n",
       "      <td>NaN</td>\n",
       "      <td>0</td>\n",
       "      <td>11</td>\n",
       "      <td>2007</td>\n",
       "      <td>WD</td>\n",
       "      <td>Normal</td>\n",
       "    </tr>\n",
       "    <tr>\n",
       "      <th>4</th>\n",
       "      <td>535377150</td>\n",
       "      <td>1039</td>\n",
       "      <td>114000</td>\n",
       "      <td>70</td>\n",
       "      <td>RL</td>\n",
       "      <td>80.0</td>\n",
       "      <td>8146</td>\n",
       "      <td>Pave</td>\n",
       "      <td>NaN</td>\n",
       "      <td>Reg</td>\n",
       "      <td>...</td>\n",
       "      <td>111</td>\n",
       "      <td>0</td>\n",
       "      <td>NaN</td>\n",
       "      <td>NaN</td>\n",
       "      <td>NaN</td>\n",
       "      <td>0</td>\n",
       "      <td>5</td>\n",
       "      <td>2009</td>\n",
       "      <td>WD</td>\n",
       "      <td>Normal</td>\n",
       "    </tr>\n",
       "    <tr>\n",
       "      <th>5</th>\n",
       "      <td>534177230</td>\n",
       "      <td>1665</td>\n",
       "      <td>227000</td>\n",
       "      <td>60</td>\n",
       "      <td>RL</td>\n",
       "      <td>70.0</td>\n",
       "      <td>8400</td>\n",
       "      <td>Pave</td>\n",
       "      <td>NaN</td>\n",
       "      <td>Reg</td>\n",
       "      <td>...</td>\n",
       "      <td>0</td>\n",
       "      <td>0</td>\n",
       "      <td>NaN</td>\n",
       "      <td>NaN</td>\n",
       "      <td>NaN</td>\n",
       "      <td>0</td>\n",
       "      <td>11</td>\n",
       "      <td>2009</td>\n",
       "      <td>WD</td>\n",
       "      <td>Normal</td>\n",
       "    </tr>\n",
       "  </tbody>\n",
       "</table>\n",
       "<p>5 rows × 81 columns</p>\n",
       "</div>"
      ],
      "text/plain": [
       "         PID  GrLivArea  SalePrice  MSSubClass MSZoning  LotFrontage  LotArea  \\\n",
       "1  909176150        856     126000          30       RL          NaN     7890   \n",
       "2  905476230       1049     139500         120       RL         42.0     4235   \n",
       "3  911128020       1001     124900          30  C (all)         60.0     6060   \n",
       "4  535377150       1039     114000          70       RL         80.0     8146   \n",
       "5  534177230       1665     227000          60       RL         70.0     8400   \n",
       "\n",
       "  Street Alley LotShape  ... ScreenPorch PoolArea PoolQC Fence MiscFeature  \\\n",
       "1   Pave   NaN      Reg  ...         166        0    NaN   NaN         NaN   \n",
       "2   Pave   NaN      Reg  ...           0        0    NaN   NaN         NaN   \n",
       "3   Pave   NaN      Reg  ...           0        0    NaN   NaN         NaN   \n",
       "4   Pave   NaN      Reg  ...         111        0    NaN   NaN         NaN   \n",
       "5   Pave   NaN      Reg  ...           0        0    NaN   NaN         NaN   \n",
       "\n",
       "  MiscVal MoSold YrSold SaleType  SaleCondition  \n",
       "1       0      3   2010      WD          Normal  \n",
       "2       0      2   2009      WD          Normal  \n",
       "3       0     11   2007      WD          Normal  \n",
       "4       0      5   2009      WD          Normal  \n",
       "5       0     11   2009      WD          Normal  \n",
       "\n",
       "[5 rows x 81 columns]"
      ]
     },
     "execution_count": 13,
     "metadata": {},
     "output_type": "execute_result"
    }
   ],
   "source": [
    "hp.head()"
   ]
  },
  {
   "cell_type": "code",
   "execution_count": 14,
   "id": "c0f2bb10",
   "metadata": {},
   "outputs": [],
   "source": [
    "#maybe should investigate:\n",
    "#OverallQual, OverallCond, YearBuilt, CentralAir, MSZoning, LotArea\n",
    "\n",
    "#SalePrice\n",
    "\n",
    "#wonder if overallqual and overallcond correlate/ correlate with other things?"
   ]
  },
  {
   "cell_type": "code",
   "execution_count": 21,
   "id": "7dbad2d0",
   "metadata": {},
   "outputs": [
    {
     "data": {
      "text/plain": [
       "1      6\n",
       "2      5\n",
       "3      5\n",
       "4      4\n",
       "5      8\n",
       "      ..\n",
       "759    6\n",
       "760    3\n",
       "761    5\n",
       "762    7\n",
       "763    8\n",
       "Name: OverallQual, Length: 2580, dtype: int64"
      ]
     },
     "execution_count": 21,
     "metadata": {},
     "output_type": "execute_result"
    }
   ],
   "source": [
    "hp['OverallQual']"
   ]
  },
  {
   "cell_type": "code",
   "execution_count": 19,
   "id": "b2189704",
   "metadata": {},
   "outputs": [
    {
     "name": "stdout",
     "output_type": "stream",
     "text": [
      "(2580, 81)\n"
     ]
    },
    {
     "data": {
      "text/plain": [
       "(22213, 91)"
      ]
     },
     "execution_count": 19,
     "metadata": {},
     "output_type": "execute_result"
    }
   ],
   "source": [
    "print(hp.shape)\n",
    "redata.shape\n",
    "\n",
    "#ah so house prices are the ones that actually sold. But we actually have data for 22,213 homes!\n",
    "#so probs we have data for like most of the homes in ames"
   ]
  },
  {
   "cell_type": "code",
   "execution_count": 25,
   "id": "5f15f8a5",
   "metadata": {},
   "outputs": [
    {
     "data": {
      "text/plain": [
       "(array([  4.,  19.,  92., 198., 481., 531., 368., 251., 196., 140.,  86.,\n",
       "         55.,  50.,  29.,  25.,  15.,  13.,   7.,   8.,   2.,   0.,   3.,\n",
       "          0.,   2.,   4.,   0.,   0.,   0.,   0.,   1.]),\n",
       " array([ 12789.        ,  37529.36666667,  62269.73333333,  87010.1       ,\n",
       "        111750.46666667, 136490.83333333, 161231.2       , 185971.56666667,\n",
       "        210711.93333333, 235452.3       , 260192.66666667, 284933.03333333,\n",
       "        309673.4       , 334413.76666667, 359154.13333333, 383894.5       ,\n",
       "        408634.86666667, 433375.23333333, 458115.6       , 482855.96666667,\n",
       "        507596.33333333, 532336.7       , 557077.06666667, 581817.43333333,\n",
       "        606557.8       , 631298.16666667, 656038.53333333, 680778.9       ,\n",
       "        705519.26666667, 730259.63333333, 755000.        ]),\n",
       " <BarContainer object of 30 artists>)"
      ]
     },
     "execution_count": 25,
     "metadata": {},
     "output_type": "execute_result"
    },
    {
     "data": {
      "image/png": "[encoded data removed]",
      "text/plain": [
       "<Figure size 432x288 with 1 Axes>"
      ]
     },
     "metadata": {},
     "output_type": "display_data"
    }
   ],
   "source": [
    "plt.hist(hp['SalePrice'], bins = 30)"
   ]
  },
  {
   "cell_type": "code",
   "execution_count": 31,
   "id": "f5066d04",
   "metadata": {},
   "outputs": [
    {
     "data": {
      "text/plain": [
       "Text(0.5, 0, 'Overall Quality Rating')"
      ]
     },
     "execution_count": 31,
     "metadata": {},
     "output_type": "execute_result"
    },
    {
     "data": {
      "image/png": "[encoded data removed]",
      "text/plain": [
       "<Figure size 432x288 with 1 Axes>"
      ]
     },
     "metadata": {},
     "output_type": "display_data"
    }
   ],
   "source": [
    "# hp.plot(kind = 'box',x = 'OverallQual', y = 'SalePrice')\n",
    "# plt.xlabel('Overall Quality')\n",
    "# plt.ylabel('Sale Price')\n",
    "\n",
    "\n",
    "\n",
    "hp.boxplot(by = \"OverallQual\", column = \"SalePrice\")\n",
    "\n",
    "plt.ylabel('Sale Price')\n",
    "plt.xlabel('Overall Quality Rating')"
   ]
  },
  {
   "cell_type": "code",
   "execution_count": 32,
   "id": "f5e720ec",
   "metadata": {
    "scrolled": true
   },
   "outputs": [
    {
     "data": {
      "text/plain": [
       "Text(0.5, 0, 'Overal Condition Rating')"
      ]
     },
     "execution_count": 32,
     "metadata": {},
     "output_type": "execute_result"
    },
    {
     "data": {
      "image/png": "[encoded data removed]",
      "text/plain": [
       "<Figure size 432x288 with 1 Axes>"
      ]
     },
     "metadata": {},
     "output_type": "display_data"
    }
   ],
   "source": [
    "hp.boxplot(by = \"OverallCond\", column = \"SalePrice\")\n",
    "\n",
    "plt.ylabel('Sale Price')\n",
    "plt.xlabel('Overal Condition Rating')\n",
    "\n",
    "#woah this one is weird. Are there a ton of 5s?"
   ]
  },
  {
   "cell_type": "code",
   "execution_count": 38,
   "id": "b3750e28",
   "metadata": {
    "scrolled": true
   },
   "outputs": [
    {
     "data": {
      "text/plain": [
       "<AxesSubplot:>"
      ]
     },
     "execution_count": 38,
     "metadata": {},
     "output_type": "execute_result"
    },
    {
     "data": {
      "image/png": "[encoded data removed]",
      "text/plain": [
       "<Figure size 432x288 with 1 Axes>"
      ]
     },
     "metadata": {},
     "output_type": "display_data"
    }
   ],
   "source": [
    "#Yeah there are a ton of 5s. Idk how to sort them not in this dumb order\n",
    "hp['OverallCond'].value_counts().plot.bar()"
   ]
  },
  {
   "cell_type": "code",
   "execution_count": 42,
   "id": "8940d350",
   "metadata": {
    "scrolled": true
   },
   "outputs": [
    {
     "data": {
      "text/plain": [
       "<AxesSubplot:ylabel='Frequency'>"
      ]
     },
     "execution_count": 42,
     "metadata": {},
     "output_type": "execute_result"
    },
    {
     "data": {
      "image/png": "[encoded data removed]",
      "text/plain": [
       "<Figure size 432x288 with 1 Axes>"
      ]
     },
     "metadata": {},
     "output_type": "display_data"
    }
   ],
   "source": [
    "hp['YearBuilt'].plot.hist(bins = 50)\n",
    "#can definitely see some booms. 20s, 50s and 60s, 90s and especially early 2000s"
   ]
  },
  {
   "cell_type": "code",
   "execution_count": 43,
   "id": "9937904e",
   "metadata": {
    "scrolled": true
   },
   "outputs": [
    {
     "data": {
      "text/plain": [
       "Text(0, 0.5, 'Sale Price')"
      ]
     },
     "execution_count": 43,
     "metadata": {},
     "output_type": "execute_result"
    },
    {
     "data": {
      "image/png": "[encoded data removed]",
      "text/plain": [
       "<Figure size 432x288 with 1 Axes>"
      ]
     },
     "metadata": {},
     "output_type": "display_data"
    }
   ],
   "source": [
    "hp.plot(kind = 'scatter',x = 'YearBuilt', y = 'SalePrice')\n",
    "plt.xlabel('YearBuilt')\n",
    "plt.ylabel('Sale Price')\n",
    "\n",
    "#seems to be a trend upwards slightly"
   ]
  },
  {
   "cell_type": "code",
   "execution_count": 48,
   "id": "bd25d3f7",
   "metadata": {
    "scrolled": true
   },
   "outputs": [
    {
     "data": {
      "text/plain": [
       "<AxesSubplot:title={'center':'SalePrice'}, xlabel='CentralAir'>"
      ]
     },
     "execution_count": 48,
     "metadata": {},
     "output_type": "execute_result"
    },
    {
     "data": {
      "image/png": "[encoded data removed]",
      "text/plain": [
       "<Figure size 432x288 with 1 Axes>"
      ]
     },
     "metadata": {},
     "output_type": "display_data"
    },
    {
     "data": {
      "image/png": "[encoded data removed]",
      "text/plain": [
       "<Figure size 432x288 with 1 Axes>"
      ]
     },
     "metadata": {},
     "output_type": "display_data"
    }
   ],
   "source": [
    "#Kind of obvious but just wanted to seeb\n",
    "hp['CentralAir'].value_counts().plot.bar()\n",
    "\n",
    "hp.boxplot(by = \"CentralAir\", column = \"SalePrice\")"
   ]
  },
  {
   "cell_type": "code",
   "execution_count": 52,
   "id": "445452b9",
   "metadata": {
    "scrolled": true
   },
   "outputs": [
    {
     "data": {
      "text/plain": [
       "<AxesSubplot:>"
      ]
     },
     "execution_count": 52,
     "metadata": {},
     "output_type": "execute_result"
    },
    {
     "data": {
      "image/png": "[encoded data removed]",
      "text/plain": [
       "<Figure size 432x288 with 1 Axes>"
      ]
     },
     "metadata": {},
     "output_type": "display_data"
    }
   ],
   "source": [
    "hp['MSZoning'].value_counts().plot.bar()\n",
    "\n",
    "# MSZoning: Identifies the general zoning classification of the sale.\n",
    "\t\t\n",
    "#        A\tAgriculture\n",
    "#        C\tCommercial\n",
    "#        FV\tFloating Village Residential\n",
    "#        I\tIndustrial\n",
    "#        RH\tResidential High Density\n",
    "#        RL\tResidential Low Density\n",
    "#        RP\tResidential Low Density Park \n",
    "#        RM\tResidential Medium Density"
   ]
  },
  {
   "cell_type": "code",
   "execution_count": 55,
   "id": "4d2984d4",
   "metadata": {
    "scrolled": false
   },
   "outputs": [
    {
     "data": {
      "text/plain": [
       "<AxesSubplot:>"
      ]
     },
     "execution_count": 55,
     "metadata": {},
     "output_type": "execute_result"
    },
    {
     "data": {
      "image/png": "[encoded data removed]",
      "text/plain": [
       "<Figure size 432x288 with 1 Axes>"
      ]
     },
     "metadata": {},
     "output_type": "display_data"
    }
   ],
   "source": [
    "hp['LotArea'].hist(bins = 100)\n",
    "#hm looks like there is a huge outlier or mistake here. 215,245 square feet could that be right?"
   ]
  },
  {
   "cell_type": "code",
   "execution_count": 58,
   "id": "30ba1da6",
   "metadata": {},
   "outputs": [
    {
     "data": {
      "text/html": [
       "<div>\n",
       "<style scoped>\n",
       "    .dataframe tbody tr th:only-of-type {\n",
       "        vertical-align: middle;\n",
       "    }\n",
       "\n",
       "    .dataframe tbody tr th {\n",
       "        vertical-align: top;\n",
       "    }\n",
       "\n",
       "    .dataframe thead th {\n",
       "        text-align: right;\n",
       "    }\n",
       "</style>\n",
       "<table border=\"1\" class=\"dataframe\">\n",
       "  <thead>\n",
       "    <tr style=\"text-align: right;\">\n",
       "      <th></th>\n",
       "      <th>PID</th>\n",
       "      <th>GrLivArea</th>\n",
       "      <th>SalePrice</th>\n",
       "      <th>MSSubClass</th>\n",
       "      <th>MSZoning</th>\n",
       "      <th>LotFrontage</th>\n",
       "      <th>LotArea</th>\n",
       "      <th>Street</th>\n",
       "      <th>Alley</th>\n",
       "      <th>LotShape</th>\n",
       "      <th>...</th>\n",
       "      <th>ScreenPorch</th>\n",
       "      <th>PoolArea</th>\n",
       "      <th>PoolQC</th>\n",
       "      <th>Fence</th>\n",
       "      <th>MiscFeature</th>\n",
       "      <th>MiscVal</th>\n",
       "      <th>MoSold</th>\n",
       "      <th>YrSold</th>\n",
       "      <th>SaleType</th>\n",
       "      <th>SaleCondition</th>\n",
       "    </tr>\n",
       "  </thead>\n",
       "  <tbody>\n",
       "    <tr>\n",
       "      <th>356</th>\n",
       "      <td>916176125</td>\n",
       "      <td>2036</td>\n",
       "      <td>375000</td>\n",
       "      <td>20</td>\n",
       "      <td>RL</td>\n",
       "      <td>150.0</td>\n",
       "      <td>215245</td>\n",
       "      <td>Pave</td>\n",
       "      <td>NaN</td>\n",
       "      <td>IR3</td>\n",
       "      <td>...</td>\n",
       "      <td>0</td>\n",
       "      <td>0</td>\n",
       "      <td>NaN</td>\n",
       "      <td>NaN</td>\n",
       "      <td>NaN</td>\n",
       "      <td>0</td>\n",
       "      <td>6</td>\n",
       "      <td>2009</td>\n",
       "      <td>WD</td>\n",
       "      <td>Normal</td>\n",
       "    </tr>\n",
       "    <tr>\n",
       "      <th>635</th>\n",
       "      <td>916125425</td>\n",
       "      <td>1786</td>\n",
       "      <td>228950</td>\n",
       "      <td>190</td>\n",
       "      <td>RL</td>\n",
       "      <td>NaN</td>\n",
       "      <td>164660</td>\n",
       "      <td>Grvl</td>\n",
       "      <td>NaN</td>\n",
       "      <td>IR1</td>\n",
       "      <td>...</td>\n",
       "      <td>0</td>\n",
       "      <td>0</td>\n",
       "      <td>NaN</td>\n",
       "      <td>NaN</td>\n",
       "      <td>Shed</td>\n",
       "      <td>700</td>\n",
       "      <td>8</td>\n",
       "      <td>2008</td>\n",
       "      <td>WD</td>\n",
       "      <td>Normal</td>\n",
       "    </tr>\n",
       "    <tr>\n",
       "      <th>250</th>\n",
       "      <td>906426060</td>\n",
       "      <td>2144</td>\n",
       "      <td>277000</td>\n",
       "      <td>50</td>\n",
       "      <td>RL</td>\n",
       "      <td>NaN</td>\n",
       "      <td>159000</td>\n",
       "      <td>Pave</td>\n",
       "      <td>NaN</td>\n",
       "      <td>IR2</td>\n",
       "      <td>...</td>\n",
       "      <td>0</td>\n",
       "      <td>0</td>\n",
       "      <td>NaN</td>\n",
       "      <td>NaN</td>\n",
       "      <td>Shed</td>\n",
       "      <td>500</td>\n",
       "      <td>6</td>\n",
       "      <td>2007</td>\n",
       "      <td>WD</td>\n",
       "      <td>Normal</td>\n",
       "    </tr>\n",
       "    <tr>\n",
       "      <th>272</th>\n",
       "      <td>905301050</td>\n",
       "      <td>1824</td>\n",
       "      <td>302000</td>\n",
       "      <td>20</td>\n",
       "      <td>RL</td>\n",
       "      <td>NaN</td>\n",
       "      <td>115149</td>\n",
       "      <td>Pave</td>\n",
       "      <td>NaN</td>\n",
       "      <td>IR2</td>\n",
       "      <td>...</td>\n",
       "      <td>0</td>\n",
       "      <td>0</td>\n",
       "      <td>NaN</td>\n",
       "      <td>NaN</td>\n",
       "      <td>NaN</td>\n",
       "      <td>0</td>\n",
       "      <td>6</td>\n",
       "      <td>2007</td>\n",
       "      <td>WD</td>\n",
       "      <td>Normal</td>\n",
       "    </tr>\n",
       "    <tr>\n",
       "      <th>139</th>\n",
       "      <td>906475200</td>\n",
       "      <td>1533</td>\n",
       "      <td>280000</td>\n",
       "      <td>20</td>\n",
       "      <td>RL</td>\n",
       "      <td>62.0</td>\n",
       "      <td>70761</td>\n",
       "      <td>Pave</td>\n",
       "      <td>NaN</td>\n",
       "      <td>IR1</td>\n",
       "      <td>...</td>\n",
       "      <td>0</td>\n",
       "      <td>0</td>\n",
       "      <td>NaN</td>\n",
       "      <td>NaN</td>\n",
       "      <td>NaN</td>\n",
       "      <td>0</td>\n",
       "      <td>12</td>\n",
       "      <td>2006</td>\n",
       "      <td>WD</td>\n",
       "      <td>Normal</td>\n",
       "    </tr>\n",
       "    <tr>\n",
       "      <th>...</th>\n",
       "      <td>...</td>\n",
       "      <td>...</td>\n",
       "      <td>...</td>\n",
       "      <td>...</td>\n",
       "      <td>...</td>\n",
       "      <td>...</td>\n",
       "      <td>...</td>\n",
       "      <td>...</td>\n",
       "      <td>...</td>\n",
       "      <td>...</td>\n",
       "      <td>...</td>\n",
       "      <td>...</td>\n",
       "      <td>...</td>\n",
       "      <td>...</td>\n",
       "      <td>...</td>\n",
       "      <td>...</td>\n",
       "      <td>...</td>\n",
       "      <td>...</td>\n",
       "      <td>...</td>\n",
       "      <td>...</td>\n",
       "      <td>...</td>\n",
       "    </tr>\n",
       "    <tr>\n",
       "      <th>795</th>\n",
       "      <td>923228110</td>\n",
       "      <td>630</td>\n",
       "      <td>80000</td>\n",
       "      <td>180</td>\n",
       "      <td>RM</td>\n",
       "      <td>21.0</td>\n",
       "      <td>1477</td>\n",
       "      <td>Pave</td>\n",
       "      <td>NaN</td>\n",
       "      <td>Reg</td>\n",
       "      <td>...</td>\n",
       "      <td>0</td>\n",
       "      <td>0</td>\n",
       "      <td>NaN</td>\n",
       "      <td>NaN</td>\n",
       "      <td>NaN</td>\n",
       "      <td>0</td>\n",
       "      <td>4</td>\n",
       "      <td>2009</td>\n",
       "      <td>WD</td>\n",
       "      <td>Normal</td>\n",
       "    </tr>\n",
       "    <tr>\n",
       "      <th>23</th>\n",
       "      <td>923228080</td>\n",
       "      <td>1092</td>\n",
       "      <td>98000</td>\n",
       "      <td>160</td>\n",
       "      <td>RM</td>\n",
       "      <td>21.0</td>\n",
       "      <td>1477</td>\n",
       "      <td>Pave</td>\n",
       "      <td>NaN</td>\n",
       "      <td>Reg</td>\n",
       "      <td>...</td>\n",
       "      <td>0</td>\n",
       "      <td>0</td>\n",
       "      <td>NaN</td>\n",
       "      <td>NaN</td>\n",
       "      <td>NaN</td>\n",
       "      <td>0</td>\n",
       "      <td>3</td>\n",
       "      <td>2008</td>\n",
       "      <td>WD</td>\n",
       "      <td>Normal</td>\n",
       "    </tr>\n",
       "    <tr>\n",
       "      <th>649</th>\n",
       "      <td>923226250</td>\n",
       "      <td>1092</td>\n",
       "      <td>76000</td>\n",
       "      <td>160</td>\n",
       "      <td>RM</td>\n",
       "      <td>21.0</td>\n",
       "      <td>1476</td>\n",
       "      <td>Pave</td>\n",
       "      <td>NaN</td>\n",
       "      <td>Reg</td>\n",
       "      <td>...</td>\n",
       "      <td>0</td>\n",
       "      <td>0</td>\n",
       "      <td>NaN</td>\n",
       "      <td>NaN</td>\n",
       "      <td>NaN</td>\n",
       "      <td>0</td>\n",
       "      <td>3</td>\n",
       "      <td>2010</td>\n",
       "      <td>WD</td>\n",
       "      <td>Normal</td>\n",
       "    </tr>\n",
       "    <tr>\n",
       "      <th>107</th>\n",
       "      <td>923226180</td>\n",
       "      <td>630</td>\n",
       "      <td>73000</td>\n",
       "      <td>180</td>\n",
       "      <td>RM</td>\n",
       "      <td>21.0</td>\n",
       "      <td>1470</td>\n",
       "      <td>Pave</td>\n",
       "      <td>NaN</td>\n",
       "      <td>Reg</td>\n",
       "      <td>...</td>\n",
       "      <td>0</td>\n",
       "      <td>0</td>\n",
       "      <td>NaN</td>\n",
       "      <td>NaN</td>\n",
       "      <td>NaN</td>\n",
       "      <td>0</td>\n",
       "      <td>4</td>\n",
       "      <td>2006</td>\n",
       "      <td>WD</td>\n",
       "      <td>Normal</td>\n",
       "    </tr>\n",
       "    <tr>\n",
       "      <th>414</th>\n",
       "      <td>909451180</td>\n",
       "      <td>1229</td>\n",
       "      <td>124000</td>\n",
       "      <td>160</td>\n",
       "      <td>RM</td>\n",
       "      <td>24.0</td>\n",
       "      <td>1300</td>\n",
       "      <td>Pave</td>\n",
       "      <td>NaN</td>\n",
       "      <td>Reg</td>\n",
       "      <td>...</td>\n",
       "      <td>0</td>\n",
       "      <td>0</td>\n",
       "      <td>NaN</td>\n",
       "      <td>GdPrv</td>\n",
       "      <td>NaN</td>\n",
       "      <td>0</td>\n",
       "      <td>5</td>\n",
       "      <td>2009</td>\n",
       "      <td>WD</td>\n",
       "      <td>Normal</td>\n",
       "    </tr>\n",
       "  </tbody>\n",
       "</table>\n",
       "<p>2580 rows × 81 columns</p>\n",
       "</div>"
      ],
      "text/plain": [
       "           PID  GrLivArea  SalePrice  MSSubClass MSZoning  LotFrontage  \\\n",
       "356  916176125       2036     375000          20       RL        150.0   \n",
       "635  916125425       1786     228950         190       RL          NaN   \n",
       "250  906426060       2144     277000          50       RL          NaN   \n",
       "272  905301050       1824     302000          20       RL          NaN   \n",
       "139  906475200       1533     280000          20       RL         62.0   \n",
       "..         ...        ...        ...         ...      ...          ...   \n",
       "795  923228110        630      80000         180       RM         21.0   \n",
       "23   923228080       1092      98000         160       RM         21.0   \n",
       "649  923226250       1092      76000         160       RM         21.0   \n",
       "107  923226180        630      73000         180       RM         21.0   \n",
       "414  909451180       1229     124000         160       RM         24.0   \n",
       "\n",
       "     LotArea Street Alley LotShape  ... ScreenPorch PoolArea PoolQC  Fence  \\\n",
       "356   215245   Pave   NaN      IR3  ...           0        0    NaN    NaN   \n",
       "635   164660   Grvl   NaN      IR1  ...           0        0    NaN    NaN   \n",
       "250   159000   Pave   NaN      IR2  ...           0        0    NaN    NaN   \n",
       "272   115149   Pave   NaN      IR2  ...           0        0    NaN    NaN   \n",
       "139    70761   Pave   NaN      IR1  ...           0        0    NaN    NaN   \n",
       "..       ...    ...   ...      ...  ...         ...      ...    ...    ...   \n",
       "795     1477   Pave   NaN      Reg  ...           0        0    NaN    NaN   \n",
       "23      1477   Pave   NaN      Reg  ...           0        0    NaN    NaN   \n",
       "649     1476   Pave   NaN      Reg  ...           0        0    NaN    NaN   \n",
       "107     1470   Pave   NaN      Reg  ...           0        0    NaN    NaN   \n",
       "414     1300   Pave   NaN      Reg  ...           0        0    NaN  GdPrv   \n",
       "\n",
       "    MiscFeature MiscVal MoSold YrSold SaleType  SaleCondition  \n",
       "356         NaN       0      6   2009      WD          Normal  \n",
       "635        Shed     700      8   2008      WD          Normal  \n",
       "250        Shed     500      6   2007      WD          Normal  \n",
       "272         NaN       0      6   2007      WD          Normal  \n",
       "139         NaN       0     12   2006      WD          Normal  \n",
       "..          ...     ...    ...    ...      ...            ...  \n",
       "795         NaN       0      4   2009      WD          Normal  \n",
       "23          NaN       0      3   2008      WD          Normal  \n",
       "649         NaN       0      3   2010      WD          Normal  \n",
       "107         NaN       0      4   2006      WD          Normal  \n",
       "414         NaN       0      5   2009      WD          Normal  \n",
       "\n",
       "[2580 rows x 81 columns]"
      ]
     },
     "execution_count": 58,
     "metadata": {},
     "output_type": "execute_result"
    }
   ],
   "source": [
    "hp.sort_values(by = 'LotArea', ascending = False)"
   ]
  },
  {
   "cell_type": "code",
   "execution_count": 62,
   "id": "16deed27",
   "metadata": {},
   "outputs": [
    {
     "data": {
      "text/plain": [
       "Text(0.5, 1.0, 'Removed outliers')"
      ]
     },
     "execution_count": 62,
     "metadata": {},
     "output_type": "execute_result"
    },
    {
     "data": {
      "image/png": "[encoded data removed]",
      "text/plain": [
       "<Figure size 432x288 with 1 Axes>"
      ]
     },
     "metadata": {},
     "output_type": "display_data"
    },
    {
     "data": {
      "image/png": "[encoded data removed]",
      "text/plain": [
       "<Figure size 432x288 with 1 Axes>"
      ]
     },
     "metadata": {},
     "output_type": "display_data"
    }
   ],
   "source": [
    "hp.plot(kind = 'scatter',x = 'LotArea', y = 'SalePrice')\n",
    "plt.xlabel('Lot Area')\n",
    "plt.ylabel('Sale Price')\n",
    "#ok no trend but what if i chop off the outliers over 100000 sqft\n",
    "\n",
    "hp[hp['LotArea'] < 100000].plot(kind = 'scatter', x = 'LotArea', y = 'SalePrice')\n",
    "plt.xlabel('Lot Area')\n",
    "plt.ylabel('Sale Price')\n",
    "plt.title('Removed outliers')\n",
    "\n",
    "#now there looks like more of a trend but mostly they are all just clustered around there"
   ]
  }
 ],
 "metadata": {
  "kernelspec": {
   "display_name": "Python 3 (ipykernel)",
   "language": "python",
   "name": "python3"
  },
  "language_info": {
   "codemirror_mode": {
    "name": "ipython",
    "version": 3
   },
   "file_extension": ".py",
   "mimetype": "text/x-python",
   "name": "python",
   "nbconvert_exporter": "python",
   "pygments_lexer": "ipython3",
   "version": "3.9.7"
  }
 },
 "nbformat": 4,
 "nbformat_minor": 5
}
