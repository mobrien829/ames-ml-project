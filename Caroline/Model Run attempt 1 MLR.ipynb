{
 "cells": [
  {
   "cell_type": "code",
   "execution_count": null,
   "id": "08a72a41",
   "metadata": {},
   "outputs": [],
   "source": [
    "#attempting to run a multilinear model"
   ]
  },
  {
   "cell_type": "code",
   "execution_count": null,
   "id": "c5e0c807",
   "metadata": {},
   "outputs": [],
   "source": [
    "import pandas as pd\n",
    "from matplotlib import pyplot as plt\n",
    "import numpy as np\n",
    "import seaborn as sns"
   ]
  },
  {
   "cell_type": "code",
   "execution_count": 155,
   "id": "f251f75d",
   "metadata": {},
   "outputs": [],
   "source": [
    "X_train = pd.read_csv(\"../Caroline/X_train42.csv\")\n",
    "y_train = pd.read_csv(\"../Caroline/y_train42.csv\")\n",
    "X_test = pd.read_csv(\"../Caroline/X_test42.csv\")\n",
    "y_test = pd.read_csv(\"../Caroline/y_test42.csv\")"
   ]
  },
  {
   "cell_type": "code",
   "execution_count": 156,
   "id": "c95c261d",
   "metadata": {},
   "outputs": [],
   "source": [
    "from sklearn import linear_model\n",
    "ols = linear_model.LinearRegression()"
   ]
  },
  {
   "cell_type": "code",
   "execution_count": 157,
   "id": "2cf4e3a6",
   "metadata": {},
   "outputs": [
    {
     "data": {
      "text/plain": [
       "LinearRegression()"
      ]
     },
     "execution_count": 157,
     "metadata": {},
     "output_type": "execute_result"
    }
   ],
   "source": [
    "ols.fit(X_train, y_train)"
   ]
  },
  {
   "cell_type": "code",
   "execution_count": 158,
   "id": "67bd95fc",
   "metadata": {},
   "outputs": [
    {
     "data": {
      "text/plain": [
       "0.9371207742775771"
      ]
     },
     "execution_count": 158,
     "metadata": {},
     "output_type": "execute_result"
    }
   ],
   "source": [
    "ols.score(X_train, y_train)"
   ]
  },
  {
   "cell_type": "code",
   "execution_count": 159,
   "id": "daaaafa6",
   "metadata": {},
   "outputs": [
    {
     "data": {
      "text/plain": [
       "0.9182864163090958"
      ]
     },
     "execution_count": 159,
     "metadata": {},
     "output_type": "execute_result"
    }
   ],
   "source": [
    "ols.score(X_test, y_test)"
   ]
  },
  {
   "cell_type": "code",
   "execution_count": 160,
   "id": "539fee9a",
   "metadata": {},
   "outputs": [
    {
     "data": {
      "text/html": [
       "<div>\n",
       "<style scoped>\n",
       "    .dataframe tbody tr th:only-of-type {\n",
       "        vertical-align: middle;\n",
       "    }\n",
       "\n",
       "    .dataframe tbody tr th {\n",
       "        vertical-align: top;\n",
       "    }\n",
       "\n",
       "    .dataframe thead th {\n",
       "        text-align: right;\n",
       "    }\n",
       "</style>\n",
       "<table border=\"1\" class=\"dataframe\">\n",
       "  <thead>\n",
       "    <tr style=\"text-align: right;\">\n",
       "      <th></th>\n",
       "      <th>SalePrice</th>\n",
       "    </tr>\n",
       "  </thead>\n",
       "  <tbody>\n",
       "    <tr>\n",
       "      <th>0</th>\n",
       "      <td>118500</td>\n",
       "    </tr>\n",
       "    <tr>\n",
       "      <th>1</th>\n",
       "      <td>157000</td>\n",
       "    </tr>\n",
       "    <tr>\n",
       "      <th>2</th>\n",
       "      <td>254900</td>\n",
       "    </tr>\n",
       "    <tr>\n",
       "      <th>3</th>\n",
       "      <td>84500</td>\n",
       "    </tr>\n",
       "    <tr>\n",
       "      <th>4</th>\n",
       "      <td>174500</td>\n",
       "    </tr>\n",
       "    <tr>\n",
       "      <th>...</th>\n",
       "      <td>...</td>\n",
       "    </tr>\n",
       "    <tr>\n",
       "      <th>2041</th>\n",
       "      <td>165000</td>\n",
       "    </tr>\n",
       "    <tr>\n",
       "      <th>2042</th>\n",
       "      <td>76000</td>\n",
       "    </tr>\n",
       "    <tr>\n",
       "      <th>2043</th>\n",
       "      <td>114500</td>\n",
       "    </tr>\n",
       "    <tr>\n",
       "      <th>2044</th>\n",
       "      <td>163000</td>\n",
       "    </tr>\n",
       "    <tr>\n",
       "      <th>2045</th>\n",
       "      <td>123000</td>\n",
       "    </tr>\n",
       "  </tbody>\n",
       "</table>\n",
       "<p>2046 rows × 1 columns</p>\n",
       "</div>"
      ],
      "text/plain": [
       "      SalePrice\n",
       "0        118500\n",
       "1        157000\n",
       "2        254900\n",
       "3         84500\n",
       "4        174500\n",
       "...         ...\n",
       "2041     165000\n",
       "2042      76000\n",
       "2043     114500\n",
       "2044     163000\n",
       "2045     123000\n",
       "\n",
       "[2046 rows x 1 columns]"
      ]
     },
     "execution_count": 160,
     "metadata": {},
     "output_type": "execute_result"
    }
   ],
   "source": [
    "y_train"
   ]
  },
  {
   "cell_type": "code",
   "execution_count": null,
   "id": "c1c43b66",
   "metadata": {},
   "outputs": [],
   "source": []
  },
  {
   "cell_type": "code",
   "execution_count": 161,
   "id": "0ceec31c",
   "metadata": {},
   "outputs": [
    {
     "name": "stdout",
     "output_type": "stream",
     "text": [
      "230\n"
     ]
    },
    {
     "data": {
      "text/plain": [
       "230"
      ]
     },
     "execution_count": 161,
     "metadata": {},
     "output_type": "execute_result"
    }
   ],
   "source": [
    "print(len(pd.DataFrame(ols.coef_).transpose()))\n",
    "len(X_train.columns.tolist())"
   ]
  },
  {
   "cell_type": "code",
   "execution_count": 162,
   "id": "04a94cc6",
   "metadata": {},
   "outputs": [
    {
     "data": {
      "text/html": [
       "<div>\n",
       "<style scoped>\n",
       "    .dataframe tbody tr th:only-of-type {\n",
       "        vertical-align: middle;\n",
       "    }\n",
       "\n",
       "    .dataframe tbody tr th {\n",
       "        vertical-align: top;\n",
       "    }\n",
       "\n",
       "    .dataframe thead th {\n",
       "        text-align: right;\n",
       "    }\n",
       "</style>\n",
       "<table border=\"1\" class=\"dataframe\">\n",
       "  <thead>\n",
       "    <tr style=\"text-align: right;\">\n",
       "      <th></th>\n",
       "      <th>coefficient</th>\n",
       "    </tr>\n",
       "  </thead>\n",
       "  <tbody>\n",
       "    <tr>\n",
       "      <th>GrLivArea</th>\n",
       "      <td>36.246478</td>\n",
       "    </tr>\n",
       "    <tr>\n",
       "      <th>LotFrontage</th>\n",
       "      <td>5.954778</td>\n",
       "    </tr>\n",
       "    <tr>\n",
       "      <th>LotArea</th>\n",
       "      <td>0.655625</td>\n",
       "    </tr>\n",
       "    <tr>\n",
       "      <th>OverallQual</th>\n",
       "      <td>7130.373381</td>\n",
       "    </tr>\n",
       "    <tr>\n",
       "      <th>OverallCond</th>\n",
       "      <td>6141.413684</td>\n",
       "    </tr>\n",
       "    <tr>\n",
       "      <th>...</th>\n",
       "      <td>...</td>\n",
       "    </tr>\n",
       "    <tr>\n",
       "      <th>SaleCondition__Abnorml</th>\n",
       "      <td>-2812.608045</td>\n",
       "    </tr>\n",
       "    <tr>\n",
       "      <th>SaleCondition__AdjLand</th>\n",
       "      <td>-2692.953293</td>\n",
       "    </tr>\n",
       "    <tr>\n",
       "      <th>SaleCondition__Alloca</th>\n",
       "      <td>9878.390215</td>\n",
       "    </tr>\n",
       "    <tr>\n",
       "      <th>SaleCondition__Family</th>\n",
       "      <td>-6906.870939</td>\n",
       "    </tr>\n",
       "    <tr>\n",
       "      <th>SaleCondition__Partial</th>\n",
       "      <td>16329.127923</td>\n",
       "    </tr>\n",
       "  </tbody>\n",
       "</table>\n",
       "<p>230 rows × 1 columns</p>\n",
       "</div>"
      ],
      "text/plain": [
       "                         coefficient\n",
       "GrLivArea                  36.246478\n",
       "LotFrontage                 5.954778\n",
       "LotArea                     0.655625\n",
       "OverallQual              7130.373381\n",
       "OverallCond              6141.413684\n",
       "...                              ...\n",
       "SaleCondition__Abnorml  -2812.608045\n",
       "SaleCondition__AdjLand  -2692.953293\n",
       "SaleCondition__Alloca    9878.390215\n",
       "SaleCondition__Family   -6906.870939\n",
       "SaleCondition__Partial  16329.127923\n",
       "\n",
       "[230 rows x 1 columns]"
      ]
     },
     "execution_count": 162,
     "metadata": {},
     "output_type": "execute_result"
    }
   ],
   "source": [
    "colnames = X_train.columns\n",
    "result = pd.DataFrame(ols.coef_)\n",
    "result.columns = colnames.tolist()\n",
    "#result['intercept'] = ols.intercept_ \n",
    "result = result.transpose()\n",
    "result.columns = ['coefficient']\n",
    "result"
   ]
  },
  {
   "cell_type": "code",
   "execution_count": 163,
   "id": "c9d6d09c",
   "metadata": {},
   "outputs": [
    {
     "name": "stdout",
     "output_type": "stream",
     "text": [
      "                            OLS Regression Results                            \n",
      "==============================================================================\n",
      "Dep. Variable:              SalePrice   R-squared:                       0.937\n",
      "Model:                            OLS   Adj. R-squared:                  0.930\n",
      "Method:                 Least Squares   F-statistic:                     123.0\n",
      "Date:                Tue, 24 May 2022   Prob (F-statistic):               0.00\n",
      "Time:                        20:02:25   Log-Likelihood:                -23043.\n",
      "No. Observations:                2046   AIC:                         4.653e+04\n",
      "Df Residuals:                    1824   BIC:                         4.778e+04\n",
      "Df Model:                         221                                         \n",
      "Covariance Type:            nonrobust                                         \n",
      "==========================================================================================\n",
      "                             coef    std err          t      P>|t|      [0.025      0.975]\n",
      "------------------------------------------------------------------------------------------\n",
      "const                  -8.718e+05   1.19e+05     -7.317      0.000   -1.11e+06   -6.38e+05\n",
      "GrLivArea                 36.2465     11.869      3.054      0.002      12.968      59.525\n",
      "LotFrontage                5.9548     35.359      0.168      0.866     -63.394      75.304\n",
      "LotArea                    0.6556      0.112      5.858      0.000       0.436       0.875\n",
      "OverallQual             7130.3734    717.254      9.941      0.000    5723.648    8537.099\n",
      "OverallCond             6141.4137    587.587     10.452      0.000    4989.000    7293.827\n",
      "YearBuilt                433.8097     60.267      7.198      0.000     315.609     552.010\n",
      "MasVnrArea                28.7580      4.485      6.413      0.000      19.963      37.553\n",
      "BsmtUnfSF                 14.2038      2.984      4.760      0.000       8.351      20.057\n",
      "CentralAir             -1630.9403   2712.659     -0.601      0.548   -6951.185    3689.304\n",
      "1stFlrSF                  22.4792     12.007      1.872      0.061      -1.070      46.028\n",
      "2ndFlrSF                  30.0647     11.538      2.606      0.009       7.437      52.693\n",
      "BsmtFullBath            2502.7481   1347.301      1.858      0.063    -139.668    5145.164\n",
      "BsmtHalfBath             463.6625   2096.331      0.221      0.825   -3647.799    4575.124\n",
      "FullBath                 621.1399   1540.536      0.403      0.687   -2400.261    3642.540\n",
      "HalfBath                1541.3598   1527.056      1.009      0.313   -1453.601    4536.321\n",
      "BedroomAbvGr           -4648.8120   1004.285     -4.629      0.000   -6618.481   -2679.143\n",
      "KitchenAbvGr           -8618.8372   5302.248     -1.626      0.104    -1.9e+04    1780.278\n",
      "TotRmsAbvGrd             129.9629    681.120      0.191      0.849   -1205.894    1465.820\n",
      "Fireplaces              2083.9056   1223.382      1.703      0.089    -315.471    4483.282\n",
      "GarageCars              7827.7322   1153.318      6.787      0.000    5565.770    1.01e+04\n",
      "WoodDeckSF                 8.1726      4.110      1.988      0.047       0.112      16.233\n",
      "OpenPorchSF               -9.6018      8.310     -1.155      0.248     -25.899       6.696\n",
      "EnclosedPorch             12.9180      8.100      1.595      0.111      -2.969      28.805\n",
      "3SsnPorch                 -8.5078     18.382     -0.463      0.644     -44.560      27.544\n",
      "ScreenPorch               24.1505      8.585      2.813      0.005       7.313      40.988\n",
      "Fence                    149.2507   1276.597      0.117      0.907   -2354.494    2652.996\n",
      "MoSold                  -311.1052    184.386     -1.687      0.092    -672.735      50.525\n",
      "Remodeled                997.7953   1186.902      0.841      0.401   -1330.035    3325.626\n",
      "BsmtfinSF                 30.5960      3.103      9.861      0.000      24.511      36.681\n",
      "MSSubClass__30          1932.9246   3373.793      0.573      0.567   -4683.979    8549.829\n",
      "MSSubClass__40          7469.4129   1.24e+04      0.601      0.548   -1.69e+04    3.18e+04\n",
      "MSSubClass__45          2798.9542    1.6e+04      0.175      0.861   -2.86e+04    3.42e+04\n",
      "MSSubClass__50          5025.1693   6008.453      0.836      0.403   -6759.002    1.68e+04\n",
      "MSSubClass__60         -2815.1236   5333.182     -0.528      0.598   -1.33e+04    7644.662\n",
      "MSSubClass__70          4974.6171   5928.053      0.839      0.401   -6651.869    1.66e+04\n",
      "MSSubClass__75          2.606e+04   1.13e+04      2.313      0.021    3962.790    4.82e+04\n",
      "MSSubClass__80         -8707.5463   9128.505     -0.954      0.340   -2.66e+04    9195.875\n",
      "MSSubClass__85         -2873.3377   7572.021     -0.379      0.704   -1.77e+04     1.2e+04\n",
      "MSSubClass__90         -7798.1120   2915.146     -2.675      0.008   -1.35e+04   -2080.737\n",
      "MSSubClass__120        -8235.8525   1.29e+04     -0.641      0.522   -3.35e+04     1.7e+04\n",
      "MSSubClass__160        -1.938e+04    1.4e+04     -1.383      0.167   -4.69e+04    8103.215\n",
      "MSSubClass__180        -1.009e+04   1.57e+04     -0.642      0.521   -4.09e+04    2.07e+04\n",
      "MSSubClass__190        -4990.6197   2.23e+04     -0.224      0.823   -4.88e+04    3.88e+04\n",
      "MSZoning__A (agr)       1.101e-09   1.22e-08      0.090      0.928   -2.29e-08    2.51e-08\n",
      "MSZoning__C (all)       -2.28e+04   7853.706     -2.903      0.004   -3.82e+04   -7393.434\n",
      "MSZoning__FV           -1.153e+04   4944.300     -2.332      0.020   -2.12e+04   -1834.353\n",
      "MSZoning__I (all)      -6.862e-10   7.84e-09     -0.088      0.930   -1.61e-08    1.47e-08\n",
      "MSZoning__RH            1105.0249   5236.795      0.211      0.833   -9165.719    1.14e+04\n",
      "MSZoning__RM           -9818.8810   2770.164     -3.545      0.000   -1.53e+04   -4385.855\n",
      "LotShape__IR1          -1795.9033   1166.942     -1.539      0.124   -4084.586     492.780\n",
      "LotShape__IR2           2563.4666   3144.749      0.815      0.415   -3604.221    8731.154\n",
      "LotShape__IR3          -6664.3488   7189.661     -0.927      0.354   -2.08e+04    7436.485\n",
      "LandContour__Bnk       -8434.4320   2904.271     -2.904      0.004   -1.41e+04   -2738.385\n",
      "LandContour__HLS        5094.6646   2957.825      1.722      0.085    -706.416    1.09e+04\n",
      "LandContour__Low       -5937.7406   4095.868     -1.450      0.147    -1.4e+04    2095.345\n",
      "LotConfig__Corner        701.2832   1348.045      0.520      0.603   -1942.590    3345.156\n",
      "LotConfig__CulDSac      4831.8358   2100.886      2.300      0.022     711.441    8952.230\n",
      "LotConfig__FR2         -7474.8349   2844.508     -2.628      0.009   -1.31e+04   -1895.999\n",
      "LotConfig__FR3         -6617.5569   6630.534     -0.998      0.318   -1.96e+04    6386.680\n",
      "LandSlope__Mod          3872.1186   2867.223      1.350      0.177   -1751.267    9495.504\n",
      "LandSlope__Sev         -1.942e+04   9987.746     -1.945      0.052    -3.9e+04     166.394\n",
      "Neighborhood__Blmngtn   1.379e+04   5865.195      2.351      0.019    2287.162    2.53e+04\n",
      "Neighborhood__Blueste    2.91e+04   8161.100      3.566      0.000    1.31e+04    4.51e+04\n",
      "Neighborhood__BrDale    3.089e+04   6464.607      4.778      0.000    1.82e+04    4.36e+04\n",
      "Neighborhood__BrkSide     1.3e+04   3916.687      3.318      0.001    5313.564    2.07e+04\n",
      "Neighborhood__ClearCr   8957.7522   4875.358      1.837      0.066    -604.119    1.85e+04\n",
      "Neighborhood__CollgCr   5279.7767   2781.442      1.898      0.058    -175.369    1.07e+04\n",
      "Neighborhood__Crawfor   2.052e+04   3345.474      6.134      0.000     1.4e+04    2.71e+04\n",
      "Neighborhood__Edwards  -2565.6830   2451.583     -1.047      0.295   -7373.888    2242.522\n",
      "Neighborhood__Gilbert   5344.5924   3300.817      1.619      0.106   -1129.186    1.18e+04\n",
      "Neighborhood__Greens    1.624e+04   9073.066      1.790      0.074   -1553.015     3.4e+04\n",
      "Neighborhood__IDOTRR    1.226e+04   5071.409      2.418      0.016    2317.911    2.22e+04\n",
      "Neighborhood__MeadowV   3.049e+04   6929.125      4.400      0.000    1.69e+04    4.41e+04\n",
      "Neighborhood__Mitchel   2560.1065   3012.744      0.850      0.396   -3348.684    8468.897\n",
      "Neighborhood__NPkVill   2.411e+04   1.15e+04      2.091      0.037    1491.464    4.67e+04\n",
      "Neighborhood__NWAmes     988.2967   2801.292      0.353      0.724   -4505.781    6482.374\n",
      "Neighborhood__NoRidge   3.544e+04   4068.227      8.712      0.000    2.75e+04    4.34e+04\n",
      "Neighborhood__NridgHt   2.847e+04   3769.804      7.551      0.000    2.11e+04    3.59e+04\n",
      "Neighborhood__OldTown   2879.9228   3751.686      0.768      0.443   -4478.130    1.02e+04\n",
      "Neighborhood__SWISU    -2566.3675   4503.862     -0.570      0.569   -1.14e+04    6266.902\n",
      "Neighborhood__Sawyer    4900.0794   2454.615      1.996      0.046      85.927    9714.231\n",
      "Neighborhood__SawyerW   2797.6663   3183.312      0.879      0.380   -3445.654    9040.986\n",
      "Neighborhood__Somerst   3.663e+04   4997.919      7.329      0.000    2.68e+04    4.64e+04\n",
      "Neighborhood__StoneBr   4.291e+04   5042.203      8.509      0.000     3.3e+04    5.28e+04\n",
      "Neighborhood__Timber    3121.6614   3953.832      0.790      0.430   -4632.853    1.09e+04\n",
      "Neighborhood__Veenker   9784.0421   5786.774      1.691      0.091   -1565.358    2.11e+04\n",
      "Condition1__Artery     -1.226e+04   2974.890     -4.121      0.000   -1.81e+04   -6424.224\n",
      "Condition1__Feedr      -8285.8530   2275.715     -3.641      0.000   -1.27e+04   -3822.572\n",
      "Condition1__PosA       -3781.5722   5563.224     -0.680      0.497   -1.47e+04    7129.386\n",
      "Condition1__PosN        1055.7612   4448.172      0.237      0.812   -7668.285    9779.808\n",
      "Condition1__RRAe       -1.403e+04   4725.774     -2.969      0.003   -2.33e+04   -4762.437\n",
      "Condition1__RRAn       -6736.6093   4158.865     -1.620      0.105   -1.49e+04    1420.029\n",
      "Condition1__RRNe       -5229.9307   1.05e+04     -0.498      0.619   -2.58e+04    1.54e+04\n",
      "Condition1__RRNn       -1.938e+04   1.05e+04     -1.840      0.066      -4e+04    1278.646\n",
      "Condition2__Artery      4476.2537   1.57e+04      0.285      0.776   -2.64e+04    3.53e+04\n",
      "Condition2__Feedr       -1.09e+04   7245.681     -1.504      0.133   -2.51e+04    3312.327\n",
      "Condition2__PosA        7.938e+04   1.57e+04      5.063      0.000    4.86e+04     1.1e+05\n",
      "Condition2__PosN       -1.414e+05   1.32e+04    -10.697      0.000   -1.67e+05   -1.15e+05\n",
      "Condition2__RRAe       -2.897e+04   2.69e+04     -1.078      0.281   -8.17e+04    2.37e+04\n",
      "Condition2__RRAn       -3054.1504   2.08e+04     -0.147      0.883   -4.39e+04    3.78e+04\n",
      "Condition2__RRNn        8147.6410   2.11e+04      0.386      0.700   -3.33e+04    4.96e+04\n",
      "BldgType__2fmCon        3789.8420   2.18e+04      0.174      0.862    -3.9e+04    4.65e+04\n",
      "BldgType__Duplex       -7798.1120   2915.146     -2.675      0.008   -1.35e+04   -2080.737\n",
      "BldgType__Twnhs        -1.688e+04    1.3e+04     -1.295      0.196   -4.25e+04    8692.877\n",
      "BldgType__TwnhsE       -1.066e+04   1.27e+04     -0.840      0.401   -3.56e+04    1.42e+04\n",
      "HouseStyle__1.5Fin     -1.014e+04   5988.084     -1.693      0.091   -2.19e+04    1607.626\n",
      "HouseStyle__1.5Unf       358.7371   1.61e+04      0.022      0.982   -3.12e+04    3.19e+04\n",
      "HouseStyle__2.5Fin     -2.756e+04   1.46e+04     -1.890      0.059   -5.62e+04    1042.757\n",
      "HouseStyle__2.5Unf     -1.929e+04   1.09e+04     -1.764      0.078   -4.07e+04    2155.431\n",
      "HouseStyle__2Story     -8373.6207   6035.926     -1.387      0.166   -2.02e+04    3464.432\n",
      "HouseStyle__SFoyer       301.2628   6576.475      0.046      0.963   -1.26e+04    1.32e+04\n",
      "HouseStyle__SLvl        3673.9474   8979.575      0.409      0.682   -1.39e+04    2.13e+04\n",
      "RoofStyle__Flat        -9114.4746   7387.442     -1.234      0.217   -2.36e+04    5374.260\n",
      "RoofStyle__Gambrel     -7961.3687   6329.957     -1.258      0.209   -2.04e+04    4453.358\n",
      "RoofStyle__Hip           107.3986   1386.047      0.077      0.938   -2611.007    2825.804\n",
      "RoofStyle__Mansard      1.028e+04   8850.879      1.162      0.246   -7077.920    2.76e+04\n",
      "RoofStyle__Shed         1.375e+04   1.58e+04      0.872      0.384   -1.72e+04    4.47e+04\n",
      "Exterior1st__AsbShng     1.33e+04   1.08e+04      1.227      0.220   -7963.053    3.46e+04\n",
      "Exterior1st__AsphShn   -3.647e+04   2.77e+04     -1.315      0.189   -9.09e+04    1.79e+04\n",
      "Exterior1st__BrkComm    4809.0117   1.74e+04      0.277      0.782   -2.93e+04    3.89e+04\n",
      "Exterior1st__BrkFace    1.835e+04   6938.939      2.645      0.008    4741.589     3.2e+04\n",
      "Exterior1st__CBlock    -1.478e+04    2.8e+04     -0.527      0.598   -6.98e+04    4.02e+04\n",
      "Exterior1st__CemntBd   -3155.5384   1.25e+04     -0.252      0.801   -2.77e+04    2.14e+04\n",
      "Exterior1st__HdBoard    1612.8499   6319.935      0.255      0.799   -1.08e+04     1.4e+04\n",
      "Exterior1st__ImStucc   -8809.5146    2.2e+04     -0.401      0.688   -5.19e+04    3.42e+04\n",
      "Exterior1st__MetalSd    2232.1989   7605.525      0.293      0.769   -1.27e+04    1.71e+04\n",
      "Exterior1st__Plywood    2657.4178   6333.614      0.420      0.675   -9764.481    1.51e+04\n",
      "Exterior1st__PreCast    3.226e+04   1.11e+04      2.917      0.004    1.06e+04    5.39e+04\n",
      "Exterior1st__Stucco     2928.8804   8646.262      0.339      0.735    -1.4e+04    1.99e+04\n",
      "Exterior1st__Wd Sdng     685.2510   6184.604      0.111      0.912   -1.14e+04    1.28e+04\n",
      "Exterior1st__WdShing    5290.1206   6557.906      0.807      0.420   -7571.673    1.82e+04\n",
      "Exterior2nd__AsbShng   -1.733e+04   1.14e+04     -1.521      0.128   -3.97e+04    5015.152\n",
      "Exterior2nd__AsphShn    3.097e+04   2.29e+04      1.352      0.176    -1.4e+04    7.59e+04\n",
      "Exterior2nd__Brk Cmn   -3919.4326   1.36e+04     -0.288      0.773   -3.06e+04    2.28e+04\n",
      "Exterior2nd__BrkFace   -8464.6738   7601.798     -1.114      0.266   -2.34e+04    6444.470\n",
      "Exterior2nd__CBlock     -677.0265   1.77e+04     -0.038      0.970   -3.54e+04    3.41e+04\n",
      "Exterior2nd__CmentBd   -7326.7666   1.25e+04     -0.585      0.558   -3.19e+04    1.72e+04\n",
      "Exterior2nd__HdBoard   -5845.2744   6359.561     -0.919      0.358   -1.83e+04    6627.513\n",
      "Exterior2nd__ImStucc   -1.418e+04   8290.625     -1.710      0.087   -3.04e+04    2079.534\n",
      "Exterior2nd__MetalSd   -3552.9674   7648.562     -0.465      0.642   -1.86e+04    1.14e+04\n",
      "Exterior2nd__Plywood   -7306.7414   6160.337     -1.186      0.236   -1.94e+04    4775.314\n",
      "Exterior2nd__PreCast    3.226e+04   1.11e+04      2.917      0.004    1.06e+04    5.39e+04\n",
      "Exterior2nd__Stone     -1.163e+04   1.44e+04     -0.806      0.420   -3.99e+04    1.67e+04\n",
      "Exterior2nd__Stucco     1323.8259   8844.616      0.150      0.881    -1.6e+04    1.87e+04\n",
      "Exterior2nd__Wd Sdng   -1445.0594   6168.944     -0.234      0.815   -1.35e+04    1.07e+04\n",
      "Exterior2nd__Wd Shng   -5790.0949   5975.049     -0.969      0.333   -1.75e+04    5928.561\n",
      "MasVnrType__BrkCmn      -1.16e+04   5163.909     -2.247      0.025   -2.17e+04   -1475.678\n",
      "MasVnrType__BrkFace    -5035.1309   1569.591     -3.208      0.001   -8113.515   -1956.746\n",
      "MasVnrType__NA         -5881.1008   5817.725     -1.011      0.312   -1.73e+04    5529.002\n",
      "MasVnrType__Stone      -1756.2560   2278.827     -0.771      0.441   -6225.640    2713.128\n",
      "ExterQual__Ex           3.329e+04   4293.899      7.754      0.000    2.49e+04    4.17e+04\n",
      "ExterQual__Fa           7389.9345   5980.350      1.236      0.217   -4339.118    1.91e+04\n",
      "ExterQual__Gd           2474.1454   1787.719      1.384      0.167   -1032.047    5980.338\n",
      "ExterCond__Ex          -9714.8471   7728.575     -1.257      0.209   -2.49e+04    5442.941\n",
      "ExterCond__Fa          -5489.6774   3905.048     -1.406      0.160   -1.31e+04    2169.159\n",
      "ExterCond__Gd           -290.4316   1699.761     -0.171      0.864   -3624.115    3043.252\n",
      "ExterCond__Po          -7388.2857   1.54e+04     -0.478      0.632   -3.77e+04    2.29e+04\n",
      "Foundation__BrkTil      -662.7883   2258.764     -0.293      0.769   -5092.825    3767.248\n",
      "Foundation__PConc       1204.5197   1817.219      0.663      0.508   -2359.529    4768.568\n",
      "Foundation__Slab       -5678.5128   6319.598     -0.899      0.369   -1.81e+04    6715.897\n",
      "Foundation__Stone       2096.7784   8237.728      0.255      0.799   -1.41e+04    1.83e+04\n",
      "Foundation__Wood       -5639.0057   1.08e+04     -0.523      0.601   -2.68e+04    1.55e+04\n",
      "BsmtQual__Ex            1.703e+04   3026.649      5.628      0.000    1.11e+04     2.3e+04\n",
      "BsmtQual__Fa            4846.4026   3122.620      1.552      0.121   -1277.885     1.1e+04\n",
      "BsmtQual__Gd           -2323.2288   1794.461     -1.295      0.196   -5842.643    1196.186\n",
      "BsmtQual__NA            1.934e+04   7803.854      2.478      0.013    4032.957    3.46e+04\n",
      "BsmtQual__Po            2.024e+04   1.82e+04      1.114      0.265   -1.54e+04    5.59e+04\n",
      "BsmtCond__Ex           -9171.1031   1.24e+04     -0.742      0.458   -3.34e+04    1.51e+04\n",
      "BsmtCond__Fa           -2006.6111   2875.171     -0.698      0.485   -7645.585    3632.363\n",
      "BsmtCond__Gd            -113.1905   2462.316     -0.046      0.963   -4942.446    4716.065\n",
      "BsmtCond__NA            1.934e+04   7803.854      2.478      0.013    4032.957    3.46e+04\n",
      "BsmtCond__Po            -587.3664   1.56e+04     -0.038      0.970   -3.11e+04    2.99e+04\n",
      "BsmtExposure__Av        3800.4939   1726.607      2.201      0.028     414.160    7186.828\n",
      "BsmtExposure__Gd        1.751e+04   2239.008      7.820      0.000    1.31e+04    2.19e+04\n",
      "BsmtExposure__Mn       -1234.2760   1802.342     -0.685      0.494   -4769.147    2300.595\n",
      "BsmtExposure__NA       -2.609e+04   1.44e+04     -1.810      0.070   -5.44e+04    2180.141\n",
      "HeatingQC__Fa          -4647.5887   3066.596     -1.516      0.130   -1.07e+04    1366.820\n",
      "HeatingQC__Gd          -2473.4135   1501.893     -1.647      0.100   -5419.024     472.197\n",
      "HeatingQC__Po          -8.276e-11   2.61e-11     -3.172      0.002   -1.34e-10   -3.16e-11\n",
      "HeatingQC__TA          -3999.1376   1417.896     -2.820      0.005   -6780.008   -1218.267\n",
      "Electrical__FuseA       -350.7018   2109.095     -0.166      0.868   -4487.197    3785.793\n",
      "Electrical__FuseF       2246.0865   4551.326      0.494      0.622   -6680.272    1.12e+04\n",
      "Electrical__FuseP       2368.9878   1.02e+04      0.233      0.816   -1.76e+04    2.23e+04\n",
      "Electrical__NA          1.387e+04   2.07e+04      0.669      0.503   -2.68e+04    5.45e+04\n",
      "KitchenQual__Ex          2.52e+04   3122.469      8.071      0.000    1.91e+04    3.13e+04\n",
      "KitchenQual__Fa          340.1003   3516.895      0.097      0.923   -6557.465    7237.666\n",
      "KitchenQual__Gd         2180.5036   1463.310      1.490      0.136    -689.435    5050.443\n",
      "KitchenQual__Po         1.349e-11    1.8e-11      0.748      0.455   -2.19e-11    4.89e-11\n",
      "Functional__Maj1       -2.055e+04   6219.558     -3.304      0.001   -3.27e+04   -8348.393\n",
      "Functional__Maj2       -1.713e+04   9402.329     -1.822      0.069   -3.56e+04    1310.503\n",
      "Functional__Min1       -1.574e+04   3464.555     -4.543      0.000   -2.25e+04   -8945.039\n",
      "Functional__Min2       -8078.7073   3113.983     -2.594      0.010   -1.42e+04   -1971.360\n",
      "Functional__Mod        -1.356e+04   4666.641     -2.906      0.004   -2.27e+04   -4406.496\n",
      "Functional__Sal        -7026.6025   2.26e+04     -0.311      0.756   -5.13e+04    3.73e+04\n",
      "GarageType__2Types     -9611.4563   5733.552     -1.676      0.094   -2.09e+04    1633.560\n",
      "GarageType__Basment      474.8941   5672.854      0.084      0.933   -1.07e+04    1.16e+04\n",
      "GarageType__BuiltIn    -3247.7391   2447.748     -1.327      0.185   -8048.423    1552.945\n",
      "GarageType__CarPort     1243.4860   9019.979      0.138      0.890   -1.64e+04    1.89e+04\n",
      "GarageType__Detchd      1888.8634   1584.586      1.192      0.233   -1218.929    4996.656\n",
      "GarageType__NA          2742.2693   1057.632      2.593      0.010     667.973    4816.566\n",
      "GarageQual__Ex          1.098e+05   1.85e+04      5.938      0.000    7.35e+04    1.46e+05\n",
      "GarageQual__Fa            92.3875   2888.118      0.032      0.974   -5571.978    5756.753\n",
      "GarageQual__Gd          2.194e+04   6414.629      3.421      0.001    9361.820    3.45e+04\n",
      "GarageQual__NA          2742.2693   1057.632      2.593      0.010     667.973    4816.566\n",
      "GarageQual__Po         -1.552e+04   1.39e+04     -1.115      0.265   -4.28e+04    1.18e+04\n",
      "GarageCond__Ex         -7.761e+04   1.76e+04     -4.399      0.000   -1.12e+05    -4.3e+04\n",
      "GarageCond__Fa         -1257.6242   3587.833     -0.351      0.726   -8294.317    5779.069\n",
      "GarageCond__Gd         -9494.8176   6402.726     -1.483      0.138   -2.21e+04    3062.627\n",
      "GarageCond__NA          2742.2693   1057.632      2.593      0.010     667.973    4816.566\n",
      "GarageCond__Po          6416.0278   9127.017      0.703      0.482   -1.15e+04    2.43e+04\n",
      "PavedDrive__N            371.2435   2471.179      0.150      0.881   -4475.395    5217.882\n",
      "PavedDrive__P          -4752.3055   3318.894     -1.432      0.152   -1.13e+04    1756.926\n",
      "YrSold__2006            2604.4547   1445.132      1.802      0.072    -229.833    5438.743\n",
      "YrSold__2008            1052.6414   1389.648      0.757      0.449   -1672.828    3778.111\n",
      "YrSold__2009            -449.2979   1384.644     -0.324      0.746   -3164.951    2266.356\n",
      "YrSold__2010            2307.5364   1682.711      1.371      0.170    -992.706    5607.779\n",
      "SaleType__COD          -3284.0877   3478.522     -0.944      0.345   -1.01e+04    3538.217\n",
      "SaleType__CWD           8598.3647   6316.957      1.361      0.174   -3790.865     2.1e+04\n",
      "SaleType__Con           2.133e+04   9556.934      2.231      0.026    2582.285    4.01e+04\n",
      "SaleType__ConLD         1408.1044   5171.957      0.272      0.785   -8735.477    1.16e+04\n",
      "SaleType__ConLI         5833.4866   8609.159      0.678      0.498   -1.11e+04    2.27e+04\n",
      "SaleType__ConLw        -7553.9498   1.09e+04     -0.695      0.487   -2.89e+04    1.38e+04\n",
      "SaleType__New          -1.087e+04   1.27e+04     -0.853      0.394   -3.59e+04    1.41e+04\n",
      "SaleType__Oth          -1.217e+04   1.06e+04     -1.147      0.252    -3.3e+04    8645.216\n",
      "SaleType__VWD          -5215.5293   2.05e+04     -0.255      0.799   -4.54e+04    3.49e+04\n",
      "SaleCondition__Abnorml -2812.6080   3310.880     -0.850      0.396   -9306.122    3680.906\n",
      "SaleCondition__AdjLand -2692.9533   1.67e+04     -0.162      0.872   -3.54e+04       3e+04\n",
      "SaleCondition__Alloca   9878.3902   1.24e+04      0.796      0.426   -1.45e+04    3.42e+04\n",
      "SaleCondition__Family  -6906.8709   6233.815     -1.108      0.268   -1.91e+04    5319.294\n",
      "SaleCondition__Partial  1.633e+04   1.25e+04      1.310      0.190   -8122.557    4.08e+04\n",
      "==============================================================================\n",
      "Omnibus:                      568.176   Durbin-Watson:                   1.984\n",
      "Prob(Omnibus):                  0.000   Jarque-Bera (JB):            55758.991\n",
      "Skew:                          -0.074   Prob(JB):                         0.00\n",
      "Kurtosis:                      28.574   Cond. No.                     1.30e+20\n",
      "==============================================================================\n",
      "\n",
      "Notes:\n",
      "[1] Standard Errors assume that the covariance matrix of the errors is correctly specified.\n",
      "[2] The smallest eigenvalue is 1.77e-29. This might indicate that there are\n",
      "strong multicollinearity problems or that the design matrix is singular.\n"
     ]
    },
    {
     "name": "stderr",
     "output_type": "stream",
     "text": [
      "/Users/carolinekeough/opt/anaconda3/lib/python3.9/site-packages/statsmodels/tsa/tsatools.py:142: FutureWarning: In a future version of pandas all arguments of concat except for the argument 'objs' will be keyword-only\n",
      "  x = pd.concat(x[::order], 1)\n"
     ]
    }
   ],
   "source": [
    "import statsmodels.api as sm \n",
    "X_add_const = sm.add_constant(X_train)\n",
    "ols = sm.OLS(y_train, X_add_const)\n",
    "ans = ols.fit()\n",
    "print(ans.summary())\n",
    "\n",
    "#Royce says use Lasso to see which coefficients go down to 0 instead of selecting by p value"
   ]
  },
  {
   "cell_type": "markdown",
   "id": "3c8d2653",
   "metadata": {},
   "source": [
    "Lasso"
   ]
  },
  {
   "cell_type": "code",
   "execution_count": 164,
   "id": "ebd16952",
   "metadata": {},
   "outputs": [],
   "source": [
    "#helpful website\n",
    "# https://towardsdatascience.com/hyperparameter-tuning-in-lasso-and-ridge-regressions-70a4b158ae6d"
   ]
  },
  {
   "cell_type": "code",
   "execution_count": 165,
   "id": "e5f816ba",
   "metadata": {},
   "outputs": [],
   "source": [
    "from sklearn.linear_model import LinearRegression, Ridge, Lasso, ElasticNet\n",
    "#first need to scale! I don't think joaquin's model scaled\n",
    "\n",
    "from sklearn.preprocessing import StandardScaler, PolynomialFeatures\n",
    "\n",
    "sc = StandardScaler()\n",
    "X_train_scaled = sc.fit_transform(X_train)\n",
    "X_train_scaled = pd.DataFrame(data = X_train_scaled, columns = X_train.columns)\n"
   ]
  },
  {
   "cell_type": "code",
   "execution_count": 166,
   "id": "6aecc5c0",
   "metadata": {},
   "outputs": [
    {
     "name": "stderr",
     "output_type": "stream",
     "text": [
      "/Users/carolinekeough/opt/anaconda3/lib/python3.9/site-packages/sklearn/model_selection/_validation.py:598: UserWarning: With alpha=0, this algorithm does not converge well. You are advised to use the LinearRegression estimator\n",
      "  estimator.fit(X_train, y_train, **fit_params)\n",
      "/Users/carolinekeough/opt/anaconda3/lib/python3.9/site-packages/sklearn/model_selection/_validation.py:598: UserWarning: With alpha=0, this algorithm does not converge well. You are advised to use the LinearRegression estimator\n",
      "  estimator.fit(X_train, y_train, **fit_params)\n",
      "/Users/carolinekeough/opt/anaconda3/lib/python3.9/site-packages/sklearn/model_selection/_validation.py:598: UserWarning: With alpha=0, this algorithm does not converge well. You are advised to use the LinearRegression estimator\n",
      "  estimator.fit(X_train, y_train, **fit_params)\n",
      "/Users/carolinekeough/opt/anaconda3/lib/python3.9/site-packages/sklearn/model_selection/_validation.py:598: UserWarning: With alpha=0, this algorithm does not converge well. You are advised to use the LinearRegression estimator\n",
      "  estimator.fit(X_train, y_train, **fit_params)\n",
      "/Users/carolinekeough/opt/anaconda3/lib/python3.9/site-packages/sklearn/model_selection/_validation.py:598: UserWarning: With alpha=0, this algorithm does not converge well. You are advised to use the LinearRegression estimator\n",
      "  estimator.fit(X_train, y_train, **fit_params)\n",
      "/Users/carolinekeough/opt/anaconda3/lib/python3.9/site-packages/sklearn/model_selection/_validation.py:598: UserWarning: With alpha=0, this algorithm does not converge well. You are advised to use the LinearRegression estimator\n",
      "  estimator.fit(X_train, y_train, **fit_params)\n",
      "/Users/carolinekeough/opt/anaconda3/lib/python3.9/site-packages/sklearn/linear_model/_coordinate_descent.py:530: UserWarning: Coordinate descent with no regularization may lead to unexpected results and is discouraged.\n",
      "  model = cd_fast.enet_coordinate_descent(\n",
      "/Users/carolinekeough/opt/anaconda3/lib/python3.9/site-packages/sklearn/model_selection/_validation.py:598: UserWarning: With alpha=0, this algorithm does not converge well. You are advised to use the LinearRegression estimator\n",
      "  estimator.fit(X_train, y_train, **fit_params)\n",
      "/Users/carolinekeough/opt/anaconda3/lib/python3.9/site-packages/sklearn/linear_model/_coordinate_descent.py:530: UserWarning: Coordinate descent with no regularization may lead to unexpected results and is discouraged.\n",
      "  model = cd_fast.enet_coordinate_descent(\n",
      "/Users/carolinekeough/opt/anaconda3/lib/python3.9/site-packages/sklearn/linear_model/_coordinate_descent.py:530: UserWarning: Coordinate descent with no regularization may lead to unexpected results and is discouraged.\n",
      "  model = cd_fast.enet_coordinate_descent(\n",
      "/Users/carolinekeough/opt/anaconda3/lib/python3.9/site-packages/sklearn/model_selection/_validation.py:598: UserWarning: With alpha=0, this algorithm does not converge well. You are advised to use the LinearRegression estimator\n",
      "  estimator.fit(X_train, y_train, **fit_params)\n",
      "/Users/carolinekeough/opt/anaconda3/lib/python3.9/site-packages/sklearn/linear_model/_coordinate_descent.py:530: UserWarning: Coordinate descent with no regularization may lead to unexpected results and is discouraged.\n",
      "  model = cd_fast.enet_coordinate_descent(\n",
      "/Users/carolinekeough/opt/anaconda3/lib/python3.9/site-packages/sklearn/linear_model/_coordinate_descent.py:530: UserWarning: Coordinate descent with no regularization may lead to unexpected results and is discouraged.\n",
      "  model = cd_fast.enet_coordinate_descent(\n",
      "/Users/carolinekeough/opt/anaconda3/lib/python3.9/site-packages/sklearn/linear_model/_coordinate_descent.py:530: UserWarning: Coordinate descent with no regularization may lead to unexpected results and is discouraged.\n",
      "  model = cd_fast.enet_coordinate_descent(\n",
      "/Users/carolinekeough/opt/anaconda3/lib/python3.9/site-packages/sklearn/linear_model/_coordinate_descent.py:530: UserWarning: Coordinate descent with no regularization may lead to unexpected results and is discouraged.\n",
      "  model = cd_fast.enet_coordinate_descent(\n",
      "/Users/carolinekeough/opt/anaconda3/lib/python3.9/site-packages/sklearn/linear_model/_coordinate_descent.py:530: UserWarning: Coordinate descent with no regularization may lead to unexpected results and is discouraged.\n",
      "  model = cd_fast.enet_coordinate_descent(\n",
      "/Users/carolinekeough/opt/anaconda3/lib/python3.9/site-packages/sklearn/linear_model/_coordinate_descent.py:530: ConvergenceWarning: Objective did not converge. You might want to increase the number of iterations. Duality gap: 327039002366.3697, tolerance: 1025808436.1940352\n",
      "  model = cd_fast.enet_coordinate_descent(\n",
      "/Users/carolinekeough/opt/anaconda3/lib/python3.9/site-packages/sklearn/linear_model/_coordinate_descent.py:530: ConvergenceWarning: Objective did not converge. You might want to increase the number of iterations. Duality gap: 300168347092.1049, tolerance: 1029033992.8264518\n",
      "  model = cd_fast.enet_coordinate_descent(\n",
      "/Users/carolinekeough/opt/anaconda3/lib/python3.9/site-packages/sklearn/linear_model/_coordinate_descent.py:530: ConvergenceWarning: Objective did not converge. You might want to increase the number of iterations. Duality gap: 331224739680.5915, tolerance: 1025362208.0253798\n",
      "  model = cd_fast.enet_coordinate_descent(\n",
      "/Users/carolinekeough/opt/anaconda3/lib/python3.9/site-packages/sklearn/linear_model/_coordinate_descent.py:530: ConvergenceWarning: Objective did not converge. You might want to increase the number of iterations. Duality gap: 280769877795.5382, tolerance: 1046264672.5671989\n",
      "  model = cd_fast.enet_coordinate_descent(\n",
      "/Users/carolinekeough/opt/anaconda3/lib/python3.9/site-packages/sklearn/linear_model/_coordinate_descent.py:530: ConvergenceWarning: Objective did not converge. You might want to increase the number of iterations. Duality gap: 327395871611.4758, tolerance: 1041057699.5024016\n",
      "  model = cd_fast.enet_coordinate_descent(\n",
      "/Users/carolinekeough/opt/anaconda3/lib/python3.9/site-packages/sklearn/linear_model/_coordinate_descent.py:530: ConvergenceWarning: Objective did not converge. You might want to increase the number of iterations. Duality gap: 322763201263.0684, tolerance: 1023402262.00393\n",
      "  model = cd_fast.enet_coordinate_descent(\n",
      "/Users/carolinekeough/opt/anaconda3/lib/python3.9/site-packages/sklearn/linear_model/_coordinate_descent.py:530: ConvergenceWarning: Objective did not converge. You might want to increase the number of iterations. Duality gap: 329512342901.74963, tolerance: 1057884878.7702297\n",
      "  model = cd_fast.enet_coordinate_descent(\n",
      "/Users/carolinekeough/opt/anaconda3/lib/python3.9/site-packages/sklearn/model_selection/_validation.py:598: UserWarning: With alpha=0, this algorithm does not converge well. You are advised to use the LinearRegression estimator\n",
      "  estimator.fit(X_train, y_train, **fit_params)\n",
      "/Users/carolinekeough/opt/anaconda3/lib/python3.9/site-packages/sklearn/model_selection/_validation.py:598: UserWarning: With alpha=0, this algorithm does not converge well. You are advised to use the LinearRegression estimator\n",
      "  estimator.fit(X_train, y_train, **fit_params)\n",
      "/Users/carolinekeough/opt/anaconda3/lib/python3.9/site-packages/sklearn/linear_model/_coordinate_descent.py:530: UserWarning: Coordinate descent with no regularization may lead to unexpected results and is discouraged.\n",
      "  model = cd_fast.enet_coordinate_descent(\n",
      "/Users/carolinekeough/opt/anaconda3/lib/python3.9/site-packages/sklearn/linear_model/_coordinate_descent.py:530: UserWarning: Coordinate descent with no regularization may lead to unexpected results and is discouraged.\n",
      "  model = cd_fast.enet_coordinate_descent(\n",
      "/Users/carolinekeough/opt/anaconda3/lib/python3.9/site-packages/sklearn/linear_model/_coordinate_descent.py:530: ConvergenceWarning: Objective did not converge. You might want to increase the number of iterations. Duality gap: 333036195350.68054, tolerance: 1057250362.3172524\n",
      "  model = cd_fast.enet_coordinate_descent(\n",
      "/Users/carolinekeough/opt/anaconda3/lib/python3.9/site-packages/sklearn/model_selection/_validation.py:598: UserWarning: With alpha=0, this algorithm does not converge well. You are advised to use the LinearRegression estimator\n",
      "  estimator.fit(X_train, y_train, **fit_params)\n",
      "/Users/carolinekeough/opt/anaconda3/lib/python3.9/site-packages/sklearn/model_selection/_validation.py:598: UserWarning: With alpha=0, this algorithm does not converge well. You are advised to use the LinearRegression estimator\n",
      "  estimator.fit(X_train, y_train, **fit_params)\n",
      "/Users/carolinekeough/opt/anaconda3/lib/python3.9/site-packages/sklearn/model_selection/_validation.py:598: UserWarning: With alpha=0, this algorithm does not converge well. You are advised to use the LinearRegression estimator\n",
      "  estimator.fit(X_train, y_train, **fit_params)\n",
      "/Users/carolinekeough/opt/anaconda3/lib/python3.9/site-packages/sklearn/linear_model/_coordinate_descent.py:530: UserWarning: Coordinate descent with no regularization may lead to unexpected results and is discouraged.\n",
      "  model = cd_fast.enet_coordinate_descent(\n",
      "/Users/carolinekeough/opt/anaconda3/lib/python3.9/site-packages/sklearn/model_selection/_validation.py:598: UserWarning: With alpha=0, this algorithm does not converge well. You are advised to use the LinearRegression estimator\n",
      "  estimator.fit(X_train, y_train, **fit_params)\n",
      "/Users/carolinekeough/opt/anaconda3/lib/python3.9/site-packages/sklearn/linear_model/_coordinate_descent.py:530: UserWarning: Coordinate descent with no regularization may lead to unexpected results and is discouraged.\n",
      "  model = cd_fast.enet_coordinate_descent(\n",
      "/Users/carolinekeough/opt/anaconda3/lib/python3.9/site-packages/sklearn/linear_model/_coordinate_descent.py:530: UserWarning: Coordinate descent with no regularization may lead to unexpected results and is discouraged.\n",
      "  model = cd_fast.enet_coordinate_descent(\n",
      "/Users/carolinekeough/opt/anaconda3/lib/python3.9/site-packages/sklearn/model_selection/_validation.py:598: UserWarning: With alpha=0, this algorithm does not converge well. You are advised to use the LinearRegression estimator\n",
      "  estimator.fit(X_train, y_train, **fit_params)\n",
      "/Users/carolinekeough/opt/anaconda3/lib/python3.9/site-packages/sklearn/linear_model/_coordinate_descent.py:530: UserWarning: Coordinate descent with no regularization may lead to unexpected results and is discouraged.\n",
      "  model = cd_fast.enet_coordinate_descent(\n",
      "/Users/carolinekeough/opt/anaconda3/lib/python3.9/site-packages/sklearn/linear_model/_coordinate_descent.py:530: UserWarning: Coordinate descent with no regularization may lead to unexpected results and is discouraged.\n",
      "  model = cd_fast.enet_coordinate_descent(\n",
      "/Users/carolinekeough/opt/anaconda3/lib/python3.9/site-packages/sklearn/model_selection/_validation.py:598: UserWarning: With alpha=0, this algorithm does not converge well. You are advised to use the LinearRegression estimator\n",
      "  estimator.fit(X_train, y_train, **fit_params)\n",
      "/Users/carolinekeough/opt/anaconda3/lib/python3.9/site-packages/sklearn/linear_model/_coordinate_descent.py:530: UserWarning: Coordinate descent with no regularization may lead to unexpected results and is discouraged.\n",
      "  model = cd_fast.enet_coordinate_descent(\n"
     ]
    },
    {
     "name": "stderr",
     "output_type": "stream",
     "text": [
      "/Users/carolinekeough/opt/anaconda3/lib/python3.9/site-packages/sklearn/linear_model/_coordinate_descent.py:530: ConvergenceWarning: Objective did not converge. You might want to increase the number of iterations. Duality gap: 333404440648.225, tolerance: 1054419832.3736948\n",
      "  model = cd_fast.enet_coordinate_descent(\n",
      "/Users/carolinekeough/opt/anaconda3/lib/python3.9/site-packages/sklearn/linear_model/_coordinate_descent.py:530: ConvergenceWarning: Objective did not converge. You might want to increase the number of iterations. Duality gap: 326334270108.06366, tolerance: 1044787361.2478063\n",
      "  model = cd_fast.enet_coordinate_descent(\n",
      "/Users/carolinekeough/opt/anaconda3/lib/python3.9/site-packages/sklearn/linear_model/_coordinate_descent.py:530: ConvergenceWarning: Objective did not converge. You might want to increase the number of iterations. Duality gap: 310448568125.7391, tolerance: 1028366887.840753\n",
      "  model = cd_fast.enet_coordinate_descent(\n",
      "/Users/carolinekeough/opt/anaconda3/lib/python3.9/site-packages/sklearn/linear_model/_coordinate_descent.py:530: ConvergenceWarning: Objective did not converge. You might want to increase the number of iterations. Duality gap: 336076628884.10474, tolerance: 1052080099.4676436\n",
      "  model = cd_fast.enet_coordinate_descent(\n",
      "/Users/carolinekeough/opt/anaconda3/lib/python3.9/site-packages/sklearn/linear_model/_coordinate_descent.py:530: ConvergenceWarning: Objective did not converge. You might want to increase the number of iterations. Duality gap: 312467664768.6408, tolerance: 1005111048.6330165\n",
      "  model = cd_fast.enet_coordinate_descent(\n",
      "/Users/carolinekeough/opt/anaconda3/lib/python3.9/site-packages/sklearn/linear_model/_coordinate_descent.py:530: ConvergenceWarning: Objective did not converge. You might want to increase the number of iterations. Duality gap: 328259725909.5355, tolerance: 1046646902.8857131\n",
      "  model = cd_fast.enet_coordinate_descent(\n",
      "/Users/carolinekeough/opt/anaconda3/lib/python3.9/site-packages/sklearn/linear_model/_coordinate_descent.py:530: ConvergenceWarning: Objective did not converge. You might want to increase the number of iterations. Duality gap: 334430209685.9301, tolerance: 1052031519.6904721\n",
      "  model = cd_fast.enet_coordinate_descent(\n",
      "/Users/carolinekeough/opt/anaconda3/lib/python3.9/site-packages/sklearn/linear_model/_coordinate_descent.py:530: ConvergenceWarning: Objective did not converge. You might want to increase the number of iterations. Duality gap: 318526012591.39044, tolerance: 1063006280.4899575\n",
      "  model = cd_fast.enet_coordinate_descent(\n",
      "/Users/carolinekeough/opt/anaconda3/lib/python3.9/site-packages/sklearn/model_selection/_validation.py:598: UserWarning: With alpha=0, this algorithm does not converge well. You are advised to use the LinearRegression estimator\n",
      "  estimator.fit(X_train, y_train, **fit_params)\n",
      "/Users/carolinekeough/opt/anaconda3/lib/python3.9/site-packages/sklearn/model_selection/_validation.py:598: UserWarning: With alpha=0, this algorithm does not converge well. You are advised to use the LinearRegression estimator\n",
      "  estimator.fit(X_train, y_train, **fit_params)\n",
      "/Users/carolinekeough/opt/anaconda3/lib/python3.9/site-packages/sklearn/model_selection/_validation.py:598: UserWarning: With alpha=0, this algorithm does not converge well. You are advised to use the LinearRegression estimator\n",
      "  estimator.fit(X_train, y_train, **fit_params)\n",
      "/Users/carolinekeough/opt/anaconda3/lib/python3.9/site-packages/sklearn/model_selection/_validation.py:598: UserWarning: With alpha=0, this algorithm does not converge well. You are advised to use the LinearRegression estimator\n",
      "  estimator.fit(X_train, y_train, **fit_params)\n",
      "/Users/carolinekeough/opt/anaconda3/lib/python3.9/site-packages/sklearn/model_selection/_validation.py:598: UserWarning: With alpha=0, this algorithm does not converge well. You are advised to use the LinearRegression estimator\n",
      "  estimator.fit(X_train, y_train, **fit_params)\n",
      "/Users/carolinekeough/opt/anaconda3/lib/python3.9/site-packages/sklearn/linear_model/_coordinate_descent.py:530: UserWarning: Coordinate descent with no regularization may lead to unexpected results and is discouraged.\n",
      "  model = cd_fast.enet_coordinate_descent(\n",
      "/Users/carolinekeough/opt/anaconda3/lib/python3.9/site-packages/sklearn/model_selection/_validation.py:598: UserWarning: With alpha=0, this algorithm does not converge well. You are advised to use the LinearRegression estimator\n",
      "  estimator.fit(X_train, y_train, **fit_params)\n",
      "/Users/carolinekeough/opt/anaconda3/lib/python3.9/site-packages/sklearn/model_selection/_validation.py:598: UserWarning: With alpha=0, this algorithm does not converge well. You are advised to use the LinearRegression estimator\n",
      "  estimator.fit(X_train, y_train, **fit_params)\n",
      "/Users/carolinekeough/opt/anaconda3/lib/python3.9/site-packages/sklearn/linear_model/_coordinate_descent.py:530: UserWarning: Coordinate descent with no regularization may lead to unexpected results and is discouraged.\n",
      "  model = cd_fast.enet_coordinate_descent(\n",
      "/Users/carolinekeough/opt/anaconda3/lib/python3.9/site-packages/sklearn/linear_model/_coordinate_descent.py:530: UserWarning: Coordinate descent with no regularization may lead to unexpected results and is discouraged.\n",
      "  model = cd_fast.enet_coordinate_descent(\n",
      "/Users/carolinekeough/opt/anaconda3/lib/python3.9/site-packages/sklearn/linear_model/_coordinate_descent.py:530: UserWarning: Coordinate descent with no regularization may lead to unexpected results and is discouraged.\n",
      "  model = cd_fast.enet_coordinate_descent(\n",
      "/Users/carolinekeough/opt/anaconda3/lib/python3.9/site-packages/sklearn/linear_model/_coordinate_descent.py:530: UserWarning: Coordinate descent with no regularization may lead to unexpected results and is discouraged.\n",
      "  model = cd_fast.enet_coordinate_descent(\n",
      "/Users/carolinekeough/opt/anaconda3/lib/python3.9/site-packages/sklearn/linear_model/_coordinate_descent.py:530: UserWarning: Coordinate descent with no regularization may lead to unexpected results and is discouraged.\n",
      "  model = cd_fast.enet_coordinate_descent(\n",
      "/Users/carolinekeough/opt/anaconda3/lib/python3.9/site-packages/sklearn/linear_model/_coordinate_descent.py:530: UserWarning: Coordinate descent with no regularization may lead to unexpected results and is discouraged.\n",
      "  model = cd_fast.enet_coordinate_descent(\n",
      "/Users/carolinekeough/opt/anaconda3/lib/python3.9/site-packages/sklearn/model_selection/_validation.py:598: UserWarning: With alpha=0, this algorithm does not converge well. You are advised to use the LinearRegression estimator\n",
      "  estimator.fit(X_train, y_train, **fit_params)\n",
      "/Users/carolinekeough/opt/anaconda3/lib/python3.9/site-packages/sklearn/linear_model/_coordinate_descent.py:530: UserWarning: Coordinate descent with no regularization may lead to unexpected results and is discouraged.\n",
      "  model = cd_fast.enet_coordinate_descent(\n",
      "/Users/carolinekeough/opt/anaconda3/lib/python3.9/site-packages/sklearn/linear_model/_coordinate_descent.py:530: ConvergenceWarning: Objective did not converge. You might want to increase the number of iterations. Duality gap: 273347005964.7339, tolerance: 1047703364.6238551\n",
      "  model = cd_fast.enet_coordinate_descent(\n",
      "/Users/carolinekeough/opt/anaconda3/lib/python3.9/site-packages/sklearn/linear_model/_coordinate_descent.py:530: ConvergenceWarning: Objective did not converge. You might want to increase the number of iterations. Duality gap: 302773869945.35223, tolerance: 990929206.4557858\n",
      "  model = cd_fast.enet_coordinate_descent(\n",
      "/Users/carolinekeough/opt/anaconda3/lib/python3.9/site-packages/sklearn/linear_model/_coordinate_descent.py:530: ConvergenceWarning: Objective did not converge. You might want to increase the number of iterations. Duality gap: 326096071438.82635, tolerance: 1050184042.9622049\n",
      "  model = cd_fast.enet_coordinate_descent(\n",
      "/Users/carolinekeough/opt/anaconda3/lib/python3.9/site-packages/sklearn/linear_model/_coordinate_descent.py:530: ConvergenceWarning: Objective did not converge. You might want to increase the number of iterations. Duality gap: 333215997420.13025, tolerance: 1080906040.3812797\n",
      "  model = cd_fast.enet_coordinate_descent(\n",
      "/Users/carolinekeough/opt/anaconda3/lib/python3.9/site-packages/sklearn/linear_model/_coordinate_descent.py:530: ConvergenceWarning: Objective did not converge. You might want to increase the number of iterations. Duality gap: 329682570325.1058, tolerance: 1036424683.7851509\n",
      "  model = cd_fast.enet_coordinate_descent(\n",
      "/Users/carolinekeough/opt/anaconda3/lib/python3.9/site-packages/sklearn/model_selection/_validation.py:598: UserWarning: With alpha=0, this algorithm does not converge well. You are advised to use the LinearRegression estimator\n",
      "  estimator.fit(X_train, y_train, **fit_params)\n",
      "/Users/carolinekeough/opt/anaconda3/lib/python3.9/site-packages/sklearn/model_selection/_validation.py:598: UserWarning: With alpha=0, this algorithm does not converge well. You are advised to use the LinearRegression estimator\n",
      "  estimator.fit(X_train, y_train, **fit_params)\n",
      "/Users/carolinekeough/opt/anaconda3/lib/python3.9/site-packages/sklearn/model_selection/_validation.py:598: UserWarning: With alpha=0, this algorithm does not converge well. You are advised to use the LinearRegression estimator\n",
      "  estimator.fit(X_train, y_train, **fit_params)\n",
      "/Users/carolinekeough/opt/anaconda3/lib/python3.9/site-packages/sklearn/model_selection/_validation.py:598: UserWarning: With alpha=0, this algorithm does not converge well. You are advised to use the LinearRegression estimator\n",
      "  estimator.fit(X_train, y_train, **fit_params)\n",
      "/Users/carolinekeough/opt/anaconda3/lib/python3.9/site-packages/sklearn/linear_model/_coordinate_descent.py:530: UserWarning: Coordinate descent with no regularization may lead to unexpected results and is discouraged.\n",
      "  model = cd_fast.enet_coordinate_descent(\n",
      "/Users/carolinekeough/opt/anaconda3/lib/python3.9/site-packages/sklearn/model_selection/_validation.py:598: UserWarning: With alpha=0, this algorithm does not converge well. You are advised to use the LinearRegression estimator\n",
      "  estimator.fit(X_train, y_train, **fit_params)\n",
      "/Users/carolinekeough/opt/anaconda3/lib/python3.9/site-packages/sklearn/linear_model/_coordinate_descent.py:530: UserWarning: Coordinate descent with no regularization may lead to unexpected results and is discouraged.\n",
      "  model = cd_fast.enet_coordinate_descent(\n",
      "/Users/carolinekeough/opt/anaconda3/lib/python3.9/site-packages/sklearn/linear_model/_coordinate_descent.py:530: UserWarning: Coordinate descent with no regularization may lead to unexpected results and is discouraged.\n",
      "  model = cd_fast.enet_coordinate_descent(\n",
      "/Users/carolinekeough/opt/anaconda3/lib/python3.9/site-packages/sklearn/linear_model/_coordinate_descent.py:530: ConvergenceWarning: Objective did not converge. You might want to increase the number of iterations. Duality gap: 320141117495.2114, tolerance: 1005504806.5176598\n",
      "  model = cd_fast.enet_coordinate_descent(\n",
      "/Users/carolinekeough/opt/anaconda3/lib/python3.9/site-packages/sklearn/linear_model/_coordinate_descent.py:530: UserWarning: Coordinate descent with no regularization may lead to unexpected results and is discouraged.\n",
      "  model = cd_fast.enet_coordinate_descent(\n",
      "/Users/carolinekeough/opt/anaconda3/lib/python3.9/site-packages/sklearn/linear_model/_coordinate_descent.py:530: UserWarning: Coordinate descent with no regularization may lead to unexpected results and is discouraged.\n",
      "  model = cd_fast.enet_coordinate_descent(\n",
      "/Users/carolinekeough/opt/anaconda3/lib/python3.9/site-packages/sklearn/linear_model/_coordinate_descent.py:530: ConvergenceWarning: Objective did not converge. You might want to increase the number of iterations. Duality gap: 320894985130.1557, tolerance: 1048912494.5606676\n",
      "  model = cd_fast.enet_coordinate_descent(\n",
      "/Users/carolinekeough/opt/anaconda3/lib/python3.9/site-packages/sklearn/model_selection/_validation.py:598: UserWarning: With alpha=0, this algorithm does not converge well. You are advised to use the LinearRegression estimator\n",
      "  estimator.fit(X_train, y_train, **fit_params)\n",
      "/Users/carolinekeough/opt/anaconda3/lib/python3.9/site-packages/sklearn/linear_model/_coordinate_descent.py:530: UserWarning: Coordinate descent with no regularization may lead to unexpected results and is discouraged.\n",
      "  model = cd_fast.enet_coordinate_descent(\n",
      "/Users/carolinekeough/opt/anaconda3/lib/python3.9/site-packages/sklearn/linear_model/_coordinate_descent.py:530: ConvergenceWarning: Objective did not converge. You might want to increase the number of iterations. Duality gap: 274463521838.639, tolerance: 1049263742.8807616\n",
      "  model = cd_fast.enet_coordinate_descent(\n"
     ]
    },
    {
     "name": "stderr",
     "output_type": "stream",
     "text": [
      "/Users/carolinekeough/opt/anaconda3/lib/python3.9/site-packages/sklearn/linear_model/_coordinate_descent.py:530: ConvergenceWarning: Objective did not converge. You might want to increase the number of iterations. Duality gap: 326801234397.6777, tolerance: 1010608984.5415325\n",
      "  model = cd_fast.enet_coordinate_descent(\n",
      "/Users/carolinekeough/opt/anaconda3/lib/python3.9/site-packages/sklearn/linear_model/_coordinate_descent.py:530: ConvergenceWarning: Objective did not converge. You might want to increase the number of iterations. Duality gap: 330519498558.59985, tolerance: 1048732515.4688262\n",
      "  model = cd_fast.enet_coordinate_descent(\n",
      "/Users/carolinekeough/opt/anaconda3/lib/python3.9/site-packages/sklearn/linear_model/_coordinate_descent.py:530: ConvergenceWarning: Objective did not converge. You might want to increase the number of iterations. Duality gap: 334515264290.11615, tolerance: 1053799586.4134442\n",
      "  model = cd_fast.enet_coordinate_descent(\n",
      "/Users/carolinekeough/opt/anaconda3/lib/python3.9/site-packages/sklearn/linear_model/_coordinate_descent.py:530: ConvergenceWarning: Objective did not converge. You might want to increase the number of iterations. Duality gap: 312369000022.089, tolerance: 994535749.5642802\n",
      "  model = cd_fast.enet_coordinate_descent(\n",
      "/Users/carolinekeough/opt/anaconda3/lib/python3.9/site-packages/sklearn/linear_model/_coordinate_descent.py:530: ConvergenceWarning: Objective did not converge. You might want to increase the number of iterations. Duality gap: 333121686022.6719, tolerance: 1050339289.6862177\n",
      "  model = cd_fast.enet_coordinate_descent(\n",
      "/Users/carolinekeough/opt/anaconda3/lib/python3.9/site-packages/sklearn/linear_model/_coordinate_descent.py:530: ConvergenceWarning: Objective did not converge. You might want to increase the number of iterations. Duality gap: 275371940044.09973, tolerance: 1046264672.5671989\n",
      "  model = cd_fast.enet_coordinate_descent(\n",
      "/Users/carolinekeough/opt/anaconda3/lib/python3.9/site-packages/sklearn/linear_model/_coordinate_descent.py:530: ConvergenceWarning: Objective did not converge. You might want to increase the number of iterations. Duality gap: 315537891409.0171, tolerance: 1045978141.2331918\n",
      "  model = cd_fast.enet_coordinate_descent(\n",
      "/Users/carolinekeough/opt/anaconda3/lib/python3.9/site-packages/sklearn/linear_model/_coordinate_descent.py:530: ConvergenceWarning: Objective did not converge. You might want to increase the number of iterations. Duality gap: 313194389808.9987, tolerance: 1023402262.00393\n",
      "  model = cd_fast.enet_coordinate_descent(\n",
      "/Users/carolinekeough/opt/anaconda3/lib/python3.9/site-packages/sklearn/linear_model/_coordinate_descent.py:530: ConvergenceWarning: Objective did not converge. You might want to increase the number of iterations. Duality gap: 297636253002.32104, tolerance: 1029033992.8264518\n",
      "  model = cd_fast.enet_coordinate_descent(\n",
      "/Users/carolinekeough/opt/anaconda3/lib/python3.9/site-packages/sklearn/linear_model/_coordinate_descent.py:530: ConvergenceWarning: Objective did not converge. You might want to increase the number of iterations. Duality gap: 325315318628.07587, tolerance: 1025362208.0253798\n",
      "  model = cd_fast.enet_coordinate_descent(\n",
      "/Users/carolinekeough/opt/anaconda3/lib/python3.9/site-packages/sklearn/linear_model/_coordinate_descent.py:530: ConvergenceWarning: Objective did not converge. You might want to increase the number of iterations. Duality gap: 317293513708.024, tolerance: 1057884878.7702297\n",
      "  model = cd_fast.enet_coordinate_descent(\n",
      "/Users/carolinekeough/opt/anaconda3/lib/python3.9/site-packages/sklearn/linear_model/_coordinate_descent.py:530: ConvergenceWarning: Objective did not converge. You might want to increase the number of iterations. Duality gap: 318278637897.29144, tolerance: 1057250362.3172524\n",
      "  model = cd_fast.enet_coordinate_descent(\n",
      "/Users/carolinekeough/opt/anaconda3/lib/python3.9/site-packages/sklearn/linear_model/_coordinate_descent.py:530: ConvergenceWarning: Objective did not converge. You might want to increase the number of iterations. Duality gap: 312499381519.1587, tolerance: 1041057699.5024016\n",
      "  model = cd_fast.enet_coordinate_descent(\n",
      "/Users/carolinekeough/opt/anaconda3/lib/python3.9/site-packages/sklearn/linear_model/_coordinate_descent.py:530: ConvergenceWarning: Objective did not converge. You might want to increase the number of iterations. Duality gap: 314815864006.04755, tolerance: 1025808436.1940352\n",
      "  model = cd_fast.enet_coordinate_descent(\n",
      "/Users/carolinekeough/opt/anaconda3/lib/python3.9/site-packages/sklearn/linear_model/_coordinate_descent.py:530: ConvergenceWarning: Objective did not converge. You might want to increase the number of iterations. Duality gap: 321400658710.80304, tolerance: 1054419832.3736948\n",
      "  model = cd_fast.enet_coordinate_descent(\n",
      "/Users/carolinekeough/opt/anaconda3/lib/python3.9/site-packages/sklearn/linear_model/_coordinate_descent.py:530: ConvergenceWarning: Objective did not converge. You might want to increase the number of iterations. Duality gap: 302089994628.62054, tolerance: 1028366887.840753\n",
      "  model = cd_fast.enet_coordinate_descent(\n",
      "/Users/carolinekeough/opt/anaconda3/lib/python3.9/site-packages/sklearn/linear_model/_coordinate_descent.py:530: ConvergenceWarning: Objective did not converge. You might want to increase the number of iterations. Duality gap: 317912664544.24347, tolerance: 1046646902.8857131\n",
      "  model = cd_fast.enet_coordinate_descent(\n",
      "/Users/carolinekeough/opt/anaconda3/lib/python3.9/site-packages/sklearn/linear_model/_coordinate_descent.py:530: ConvergenceWarning: Objective did not converge. You might want to increase the number of iterations. Duality gap: 325878581179.21655, tolerance: 1052031519.6904721\n",
      "  model = cd_fast.enet_coordinate_descent(\n",
      "/Users/carolinekeough/opt/anaconda3/lib/python3.9/site-packages/sklearn/linear_model/_coordinate_descent.py:530: ConvergenceWarning: Objective did not converge. You might want to increase the number of iterations. Duality gap: 323131259780.9442, tolerance: 1044787361.2478063\n",
      "  model = cd_fast.enet_coordinate_descent(\n",
      "/Users/carolinekeough/opt/anaconda3/lib/python3.9/site-packages/sklearn/linear_model/_coordinate_descent.py:530: ConvergenceWarning: Objective did not converge. You might want to increase the number of iterations. Duality gap: 326468311815.0434, tolerance: 1080906040.3812797\n",
      "  model = cd_fast.enet_coordinate_descent(\n",
      "/Users/carolinekeough/opt/anaconda3/lib/python3.9/site-packages/sklearn/linear_model/_coordinate_descent.py:530: ConvergenceWarning: Objective did not converge. You might want to increase the number of iterations. Duality gap: 305693674617.30725, tolerance: 1063006280.4899575\n",
      "  model = cd_fast.enet_coordinate_descent(\n",
      "/Users/carolinekeough/opt/anaconda3/lib/python3.9/site-packages/sklearn/linear_model/_coordinate_descent.py:530: ConvergenceWarning: Objective did not converge. You might want to increase the number of iterations. Duality gap: 301231522484.25323, tolerance: 1005111048.6330165\n",
      "  model = cd_fast.enet_coordinate_descent(\n",
      "/Users/carolinekeough/opt/anaconda3/lib/python3.9/site-packages/sklearn/linear_model/_coordinate_descent.py:530: ConvergenceWarning: Objective did not converge. You might want to increase the number of iterations. Duality gap: 324054818319.7975, tolerance: 1052080099.4676436\n",
      "  model = cd_fast.enet_coordinate_descent(\n",
      "/Users/carolinekeough/opt/anaconda3/lib/python3.9/site-packages/sklearn/linear_model/_coordinate_descent.py:530: ConvergenceWarning: Objective did not converge. You might want to increase the number of iterations. Duality gap: 266672257470.88724, tolerance: 1047703364.6238551\n",
      "  model = cd_fast.enet_coordinate_descent(\n",
      "/Users/carolinekeough/opt/anaconda3/lib/python3.9/site-packages/sklearn/linear_model/_coordinate_descent.py:530: ConvergenceWarning: Objective did not converge. You might want to increase the number of iterations. Duality gap: 312740961930.2569, tolerance: 1005504806.5176598\n",
      "  model = cd_fast.enet_coordinate_descent(\n",
      "/Users/carolinekeough/opt/anaconda3/lib/python3.9/site-packages/sklearn/linear_model/_coordinate_descent.py:530: ConvergenceWarning: Objective did not converge. You might want to increase the number of iterations. Duality gap: 287964979286.3254, tolerance: 990929206.4557858\n",
      "  model = cd_fast.enet_coordinate_descent(\n"
     ]
    },
    {
     "name": "stderr",
     "output_type": "stream",
     "text": [
      "/Users/carolinekeough/opt/anaconda3/lib/python3.9/site-packages/sklearn/linear_model/_coordinate_descent.py:530: ConvergenceWarning: Objective did not converge. You might want to increase the number of iterations. Duality gap: 316156342449.895, tolerance: 1050184042.9622049\n",
      "  model = cd_fast.enet_coordinate_descent(\n",
      "/Users/carolinekeough/opt/anaconda3/lib/python3.9/site-packages/sklearn/linear_model/_coordinate_descent.py:530: ConvergenceWarning: Objective did not converge. You might want to increase the number of iterations. Duality gap: 318685329714.35565, tolerance: 1036424683.7851509\n",
      "  model = cd_fast.enet_coordinate_descent(\n",
      "/Users/carolinekeough/opt/anaconda3/lib/python3.9/site-packages/sklearn/linear_model/_coordinate_descent.py:530: ConvergenceWarning: Objective did not converge. You might want to increase the number of iterations. Duality gap: 325167399816.9609, tolerance: 1010608984.5415325\n",
      "  model = cd_fast.enet_coordinate_descent(\n",
      "/Users/carolinekeough/opt/anaconda3/lib/python3.9/site-packages/sklearn/linear_model/_coordinate_descent.py:530: ConvergenceWarning: Objective did not converge. You might want to increase the number of iterations. Duality gap: 306575768235.85516, tolerance: 1048912494.5606676\n",
      "  model = cd_fast.enet_coordinate_descent(\n",
      "/Users/carolinekeough/opt/anaconda3/lib/python3.9/site-packages/sklearn/linear_model/_coordinate_descent.py:530: ConvergenceWarning: Objective did not converge. You might want to increase the number of iterations. Duality gap: 262915600420.58328, tolerance: 1049263742.8807616\n",
      "  model = cd_fast.enet_coordinate_descent(\n",
      "/Users/carolinekeough/opt/anaconda3/lib/python3.9/site-packages/sklearn/linear_model/_coordinate_descent.py:530: ConvergenceWarning: Objective did not converge. You might want to increase the number of iterations. Duality gap: 299528303362.4728, tolerance: 994535749.5642802\n",
      "  model = cd_fast.enet_coordinate_descent(\n",
      "/Users/carolinekeough/opt/anaconda3/lib/python3.9/site-packages/sklearn/linear_model/_coordinate_descent.py:530: ConvergenceWarning: Objective did not converge. You might want to increase the number of iterations. Duality gap: 322107298064.7459, tolerance: 1048732515.4688262\n",
      "  model = cd_fast.enet_coordinate_descent(\n",
      "/Users/carolinekeough/opt/anaconda3/lib/python3.9/site-packages/sklearn/linear_model/_coordinate_descent.py:530: ConvergenceWarning: Objective did not converge. You might want to increase the number of iterations. Duality gap: 319732659684.14594, tolerance: 1050339289.6862177\n",
      "  model = cd_fast.enet_coordinate_descent(\n",
      "/Users/carolinekeough/opt/anaconda3/lib/python3.9/site-packages/sklearn/linear_model/_coordinate_descent.py:530: ConvergenceWarning: Objective did not converge. You might want to increase the number of iterations. Duality gap: 328422280904.1101, tolerance: 1053799586.4134442\n",
      "  model = cd_fast.enet_coordinate_descent(\n",
      "/Users/carolinekeough/opt/anaconda3/lib/python3.9/site-packages/sklearn/linear_model/_coordinate_descent.py:530: ConvergenceWarning: Objective did not converge. You might want to increase the number of iterations. Duality gap: 269919310601.78802, tolerance: 1046264672.5671989\n",
      "  model = cd_fast.enet_coordinate_descent(\n",
      "/Users/carolinekeough/opt/anaconda3/lib/python3.9/site-packages/sklearn/linear_model/_coordinate_descent.py:530: ConvergenceWarning: Objective did not converge. You might want to increase the number of iterations. Duality gap: 305319387588.2442, tolerance: 1045978141.2331918\n",
      "  model = cd_fast.enet_coordinate_descent(\n",
      "/Users/carolinekeough/opt/anaconda3/lib/python3.9/site-packages/sklearn/linear_model/_coordinate_descent.py:530: ConvergenceWarning: Objective did not converge. You might want to increase the number of iterations. Duality gap: 303474497908.0993, tolerance: 1023402262.00393\n",
      "  model = cd_fast.enet_coordinate_descent(\n",
      "/Users/carolinekeough/opt/anaconda3/lib/python3.9/site-packages/sklearn/linear_model/_coordinate_descent.py:530: ConvergenceWarning: Objective did not converge. You might want to increase the number of iterations. Duality gap: 319348833454.79486, tolerance: 1025362208.0253798\n",
      "  model = cd_fast.enet_coordinate_descent(\n",
      "/Users/carolinekeough/opt/anaconda3/lib/python3.9/site-packages/sklearn/linear_model/_coordinate_descent.py:530: ConvergenceWarning: Objective did not converge. You might want to increase the number of iterations. Duality gap: 295090534750.58795, tolerance: 1029033992.8264518\n",
      "  model = cd_fast.enet_coordinate_descent(\n",
      "/Users/carolinekeough/opt/anaconda3/lib/python3.9/site-packages/sklearn/linear_model/_coordinate_descent.py:530: ConvergenceWarning: Objective did not converge. You might want to increase the number of iterations. Duality gap: 297263699300.5853, tolerance: 1041057699.5024016\n",
      "  model = cd_fast.enet_coordinate_descent(\n",
      "/Users/carolinekeough/opt/anaconda3/lib/python3.9/site-packages/sklearn/linear_model/_coordinate_descent.py:530: ConvergenceWarning: Objective did not converge. You might want to increase the number of iterations. Duality gap: 303192461744.9055, tolerance: 1057250362.3172524\n",
      "  model = cd_fast.enet_coordinate_descent(\n",
      "/Users/carolinekeough/opt/anaconda3/lib/python3.9/site-packages/sklearn/linear_model/_coordinate_descent.py:530: ConvergenceWarning: Objective did not converge. You might want to increase the number of iterations. Duality gap: 304843949130.757, tolerance: 1057884878.7702297\n",
      "  model = cd_fast.enet_coordinate_descent(\n",
      "/Users/carolinekeough/opt/anaconda3/lib/python3.9/site-packages/sklearn/linear_model/_coordinate_descent.py:530: ConvergenceWarning: Objective did not converge. You might want to increase the number of iterations. Duality gap: 293613336025.6244, tolerance: 1028366887.840753\n",
      "  model = cd_fast.enet_coordinate_descent(\n",
      "/Users/carolinekeough/opt/anaconda3/lib/python3.9/site-packages/sklearn/linear_model/_coordinate_descent.py:530: ConvergenceWarning: Objective did not converge. You might want to increase the number of iterations. Duality gap: 302361838143.7531, tolerance: 1025808436.1940352\n",
      "  model = cd_fast.enet_coordinate_descent(\n",
      "/Users/carolinekeough/opt/anaconda3/lib/python3.9/site-packages/sklearn/linear_model/_coordinate_descent.py:530: ConvergenceWarning: Objective did not converge. You might want to increase the number of iterations. Duality gap: 309166819055.3791, tolerance: 1054419832.3736948\n",
      "  model = cd_fast.enet_coordinate_descent(\n",
      "/Users/carolinekeough/opt/anaconda3/lib/python3.9/site-packages/sklearn/linear_model/_coordinate_descent.py:530: ConvergenceWarning: Objective did not converge. You might want to increase the number of iterations. Duality gap: 307397214992.23975, tolerance: 1046646902.8857131\n",
      "  model = cd_fast.enet_coordinate_descent(\n",
      "/Users/carolinekeough/opt/anaconda3/lib/python3.9/site-packages/sklearn/linear_model/_coordinate_descent.py:530: ConvergenceWarning: Objective did not converge. You might want to increase the number of iterations. Duality gap: 317213826371.4828, tolerance: 1052031519.6904721\n",
      "  model = cd_fast.enet_coordinate_descent(\n",
      "/Users/carolinekeough/opt/anaconda3/lib/python3.9/site-packages/sklearn/linear_model/_coordinate_descent.py:530: ConvergenceWarning: Objective did not converge. You might want to increase the number of iterations. Duality gap: 319910174781.9169, tolerance: 1044787361.2478063\n",
      "  model = cd_fast.enet_coordinate_descent(\n",
      "/Users/carolinekeough/opt/anaconda3/lib/python3.9/site-packages/sklearn/linear_model/_coordinate_descent.py:530: ConvergenceWarning: Objective did not converge. You might want to increase the number of iterations. Duality gap: 319649397791.6007, tolerance: 1080906040.3812797\n",
      "  model = cd_fast.enet_coordinate_descent(\n",
      "/Users/carolinekeough/opt/anaconda3/lib/python3.9/site-packages/sklearn/linear_model/_coordinate_descent.py:530: ConvergenceWarning: Objective did not converge. You might want to increase the number of iterations. Duality gap: 259913387303.43457, tolerance: 1047703364.6238551\n",
      "  model = cd_fast.enet_coordinate_descent(\n",
      "/Users/carolinekeough/opt/anaconda3/lib/python3.9/site-packages/sklearn/linear_model/_coordinate_descent.py:530: ConvergenceWarning: Objective did not converge. You might want to increase the number of iterations. Duality gap: 289786523054.52423, tolerance: 1005111048.6330165\n",
      "  model = cd_fast.enet_coordinate_descent(\n",
      "/Users/carolinekeough/opt/anaconda3/lib/python3.9/site-packages/sklearn/linear_model/_coordinate_descent.py:530: ConvergenceWarning: Objective did not converge. You might want to increase the number of iterations. Duality gap: 311807961239.8578, tolerance: 1052080099.4676436\n",
      "  model = cd_fast.enet_coordinate_descent(\n",
      "/Users/carolinekeough/opt/anaconda3/lib/python3.9/site-packages/sklearn/linear_model/_coordinate_descent.py:530: ConvergenceWarning: Objective did not converge. You might want to increase the number of iterations. Duality gap: 272783171724.7636, tolerance: 990929206.4557858\n",
      "  model = cd_fast.enet_coordinate_descent(\n",
      "/Users/carolinekeough/opt/anaconda3/lib/python3.9/site-packages/sklearn/linear_model/_coordinate_descent.py:530: ConvergenceWarning: Objective did not converge. You might want to increase the number of iterations. Duality gap: 292601677445.04016, tolerance: 1063006280.4899575\n",
      "  model = cd_fast.enet_coordinate_descent(\n"
     ]
    },
    {
     "name": "stderr",
     "output_type": "stream",
     "text": [
      "/Users/carolinekeough/opt/anaconda3/lib/python3.9/site-packages/sklearn/linear_model/_coordinate_descent.py:530: ConvergenceWarning: Objective did not converge. You might want to increase the number of iterations. Duality gap: 305252410158.11584, tolerance: 1005504806.5176598\n",
      "  model = cd_fast.enet_coordinate_descent(\n",
      "/Users/carolinekeough/opt/anaconda3/lib/python3.9/site-packages/sklearn/linear_model/_coordinate_descent.py:530: ConvergenceWarning: Objective did not converge. You might want to increase the number of iterations. Duality gap: 251123271586.5057, tolerance: 1049263742.8807616\n",
      "  model = cd_fast.enet_coordinate_descent(\n",
      "/Users/carolinekeough/opt/anaconda3/lib/python3.9/site-packages/sklearn/linear_model/_coordinate_descent.py:530: ConvergenceWarning: Objective did not converge. You might want to increase the number of iterations. Duality gap: 306061741317.2645, tolerance: 1050184042.9622049\n",
      "  model = cd_fast.enet_coordinate_descent(\n",
      "/Users/carolinekeough/opt/anaconda3/lib/python3.9/site-packages/sklearn/linear_model/_coordinate_descent.py:530: ConvergenceWarning: Objective did not converge. You might want to increase the number of iterations. Duality gap: 323527927675.3878, tolerance: 1010608984.5415325\n",
      "  model = cd_fast.enet_coordinate_descent(\n",
      "/Users/carolinekeough/opt/anaconda3/lib/python3.9/site-packages/sklearn/linear_model/_coordinate_descent.py:530: ConvergenceWarning: Objective did not converge. You might want to increase the number of iterations. Duality gap: 291939024283.9212, tolerance: 1048912494.5606676\n",
      "  model = cd_fast.enet_coordinate_descent(\n",
      "/Users/carolinekeough/opt/anaconda3/lib/python3.9/site-packages/sklearn/linear_model/_coordinate_descent.py:530: ConvergenceWarning: Objective did not converge. You might want to increase the number of iterations. Duality gap: 307501978822.6715, tolerance: 1036424683.7851509\n",
      "  model = cd_fast.enet_coordinate_descent(\n",
      "/Users/carolinekeough/opt/anaconda3/lib/python3.9/site-packages/sklearn/linear_model/_coordinate_descent.py:530: ConvergenceWarning: Objective did not converge. You might want to increase the number of iterations. Duality gap: 286414109620.15906, tolerance: 994535749.5642802\n",
      "  model = cd_fast.enet_coordinate_descent(\n",
      "/Users/carolinekeough/opt/anaconda3/lib/python3.9/site-packages/sklearn/linear_model/_coordinate_descent.py:530: ConvergenceWarning: Objective did not converge. You might want to increase the number of iterations. Duality gap: 313584415092.9012, tolerance: 1048732515.4688262\n",
      "  model = cd_fast.enet_coordinate_descent(\n",
      "/Users/carolinekeough/opt/anaconda3/lib/python3.9/site-packages/sklearn/linear_model/_coordinate_descent.py:530: ConvergenceWarning: Objective did not converge. You might want to increase the number of iterations. Duality gap: 306063740145.295, tolerance: 1050339289.6862177\n",
      "  model = cd_fast.enet_coordinate_descent(\n",
      "/Users/carolinekeough/opt/anaconda3/lib/python3.9/site-packages/sklearn/linear_model/_coordinate_descent.py:530: ConvergenceWarning: Objective did not converge. You might want to increase the number of iterations. Duality gap: 294932816801.7242, tolerance: 1045978141.2331918\n",
      "  model = cd_fast.enet_coordinate_descent(\n",
      "/Users/carolinekeough/opt/anaconda3/lib/python3.9/site-packages/sklearn/linear_model/_coordinate_descent.py:530: ConvergenceWarning: Objective did not converge. You might want to increase the number of iterations. Duality gap: 322269795681.4676, tolerance: 1053799586.4134442\n",
      "  model = cd_fast.enet_coordinate_descent(\n",
      "/Users/carolinekeough/opt/anaconda3/lib/python3.9/site-packages/sklearn/linear_model/_coordinate_descent.py:530: ConvergenceWarning: Objective did not converge. You might want to increase the number of iterations. Duality gap: 293621289390.20905, tolerance: 1023402262.00393\n",
      "  model = cd_fast.enet_coordinate_descent(\n",
      "/Users/carolinekeough/opt/anaconda3/lib/python3.9/site-packages/sklearn/linear_model/_coordinate_descent.py:530: ConvergenceWarning: Objective did not converge. You might want to increase the number of iterations. Duality gap: 264409633901.28094, tolerance: 1046264672.5671989\n",
      "  model = cd_fast.enet_coordinate_descent(\n",
      "/Users/carolinekeough/opt/anaconda3/lib/python3.9/site-packages/sklearn/linear_model/_coordinate_descent.py:530: ConvergenceWarning: Objective did not converge. You might want to increase the number of iterations. Duality gap: 313323550237.82666, tolerance: 1025362208.0253798\n",
      "  model = cd_fast.enet_coordinate_descent(\n",
      "/Users/carolinekeough/opt/anaconda3/lib/python3.9/site-packages/sklearn/linear_model/_coordinate_descent.py:530: ConvergenceWarning: Objective did not converge. You might want to increase the number of iterations. Duality gap: 292534103399.2185, tolerance: 1029033992.8264518\n",
      "  model = cd_fast.enet_coordinate_descent(\n",
      "/Users/carolinekeough/opt/anaconda3/lib/python3.9/site-packages/sklearn/linear_model/_coordinate_descent.py:530: ConvergenceWarning: Objective did not converge. You might want to increase the number of iterations. Duality gap: 281672444986.4911, tolerance: 1041057699.5024016\n",
      "  model = cd_fast.enet_coordinate_descent(\n",
      "/Users/carolinekeough/opt/anaconda3/lib/python3.9/site-packages/sklearn/linear_model/_coordinate_descent.py:530: ConvergenceWarning: Objective did not converge. You might want to increase the number of iterations. Duality gap: 287767063233.05164, tolerance: 1057250362.3172524\n",
      "  model = cd_fast.enet_coordinate_descent(\n",
      "/Users/carolinekeough/opt/anaconda3/lib/python3.9/site-packages/sklearn/linear_model/_coordinate_descent.py:530: ConvergenceWarning: Objective did not converge. You might want to increase the number of iterations. Duality gap: 292172940896.4925, tolerance: 1057884878.7702297\n",
      "  model = cd_fast.enet_coordinate_descent(\n",
      "/Users/carolinekeough/opt/anaconda3/lib/python3.9/site-packages/sklearn/linear_model/_coordinate_descent.py:530: ConvergenceWarning: Objective did not converge. You might want to increase the number of iterations. Duality gap: 289678163400.8824, tolerance: 1025808436.1940352\n",
      "  model = cd_fast.enet_coordinate_descent(\n",
      "/Users/carolinekeough/opt/anaconda3/lib/python3.9/site-packages/sklearn/linear_model/_coordinate_descent.py:530: ConvergenceWarning: Objective did not converge. You might want to increase the number of iterations. Duality gap: 285023949902.2383, tolerance: 1028366887.840753\n",
      "  model = cd_fast.enet_coordinate_descent(\n",
      "/Users/carolinekeough/opt/anaconda3/lib/python3.9/site-packages/sklearn/linear_model/_coordinate_descent.py:530: ConvergenceWarning: Objective did not converge. You might want to increase the number of iterations. Duality gap: 296722930088.75867, tolerance: 1046646902.8857131\n",
      "  model = cd_fast.enet_coordinate_descent(\n",
      "/Users/carolinekeough/opt/anaconda3/lib/python3.9/site-packages/sklearn/linear_model/_coordinate_descent.py:530: ConvergenceWarning: Objective did not converge. You might want to increase the number of iterations. Duality gap: 296739523817.3935, tolerance: 1054419832.3736948\n",
      "  model = cd_fast.enet_coordinate_descent(\n",
      "/Users/carolinekeough/opt/anaconda3/lib/python3.9/site-packages/sklearn/linear_model/_coordinate_descent.py:530: ConvergenceWarning: Objective did not converge. You might want to increase the number of iterations. Duality gap: 308432023791.6036, tolerance: 1052031519.6904721\n",
      "  model = cd_fast.enet_coordinate_descent(\n",
      "/Users/carolinekeough/opt/anaconda3/lib/python3.9/site-packages/sklearn/linear_model/_coordinate_descent.py:530: ConvergenceWarning: Objective did not converge. You might want to increase the number of iterations. Duality gap: 316671447617.4648, tolerance: 1044787361.2478063\n",
      "  model = cd_fast.enet_coordinate_descent(\n",
      "/Users/carolinekeough/opt/anaconda3/lib/python3.9/site-packages/sklearn/linear_model/_coordinate_descent.py:530: ConvergenceWarning: Objective did not converge. You might want to increase the number of iterations. Duality gap: 278144516334.688, tolerance: 1005111048.6330165\n",
      "  model = cd_fast.enet_coordinate_descent(\n",
      "/Users/carolinekeough/opt/anaconda3/lib/python3.9/site-packages/sklearn/linear_model/_coordinate_descent.py:530: ConvergenceWarning: Objective did not converge. You might want to increase the number of iterations. Duality gap: 279245327472.4724, tolerance: 1063006280.4899575\n",
      "  model = cd_fast.enet_coordinate_descent(\n",
      "/Users/carolinekeough/opt/anaconda3/lib/python3.9/site-packages/sklearn/linear_model/_coordinate_descent.py:530: ConvergenceWarning: Objective did not converge. You might want to increase the number of iterations. Duality gap: 299320825772.9272, tolerance: 1052080099.4676436\n",
      "  model = cd_fast.enet_coordinate_descent(\n",
      "/Users/carolinekeough/opt/anaconda3/lib/python3.9/site-packages/sklearn/linear_model/_coordinate_descent.py:530: ConvergenceWarning: Objective did not converge. You might want to increase the number of iterations. Duality gap: 312757651207.8642, tolerance: 1080906040.3812797\n",
      "  model = cd_fast.enet_coordinate_descent(\n",
      "/Users/carolinekeough/opt/anaconda3/lib/python3.9/site-packages/sklearn/linear_model/_coordinate_descent.py:530: ConvergenceWarning: Objective did not converge. You might want to increase the number of iterations. Duality gap: 253064296264.36743, tolerance: 1047703364.6238551\n",
      "  model = cd_fast.enet_coordinate_descent(\n",
      "/Users/carolinekeough/opt/anaconda3/lib/python3.9/site-packages/sklearn/linear_model/_coordinate_descent.py:530: ConvergenceWarning: Objective did not converge. You might want to increase the number of iterations. Duality gap: 297672292256.3191, tolerance: 1005504806.5176598\n",
      "  model = cd_fast.enet_coordinate_descent(\n",
      "/Users/carolinekeough/opt/anaconda3/lib/python3.9/site-packages/sklearn/linear_model/_coordinate_descent.py:530: ConvergenceWarning: Objective did not converge. You might want to increase the number of iterations. Duality gap: 257257174263.00983, tolerance: 990929206.4557858\n",
      "  model = cd_fast.enet_coordinate_descent(\n"
     ]
    },
    {
     "name": "stderr",
     "output_type": "stream",
     "text": [
      "/Users/carolinekeough/opt/anaconda3/lib/python3.9/site-packages/sklearn/linear_model/_coordinate_descent.py:530: ConvergenceWarning: Objective did not converge. You might want to increase the number of iterations. Duality gap: 239037275842.97162, tolerance: 1049263742.8807616\n",
      "  model = cd_fast.enet_coordinate_descent(\n",
      "/Users/carolinekeough/opt/anaconda3/lib/python3.9/site-packages/sklearn/linear_model/_coordinate_descent.py:530: ConvergenceWarning: Objective did not converge. You might want to increase the number of iterations. Duality gap: 295809290363.14197, tolerance: 1050184042.9622049\n",
      "  model = cd_fast.enet_coordinate_descent(\n",
      "/Users/carolinekeough/opt/anaconda3/lib/python3.9/site-packages/sklearn/linear_model/_coordinate_descent.py:530: ConvergenceWarning: Objective did not converge. You might want to increase the number of iterations. Duality gap: 276980342735.01154, tolerance: 1048912494.5606676\n",
      "  model = cd_fast.enet_coordinate_descent(\n",
      "/Users/carolinekeough/opt/anaconda3/lib/python3.9/site-packages/sklearn/linear_model/_coordinate_descent.py:530: ConvergenceWarning: Objective did not converge. You might want to increase the number of iterations. Duality gap: 296125867669.80475, tolerance: 1036424683.7851509\n",
      "  model = cd_fast.enet_coordinate_descent(\n",
      "/Users/carolinekeough/opt/anaconda3/lib/python3.9/site-packages/sklearn/linear_model/_coordinate_descent.py:530: ConvergenceWarning: Objective did not converge. You might want to increase the number of iterations. Duality gap: 321882616429.48834, tolerance: 1010608984.5415325\n",
      "  model = cd_fast.enet_coordinate_descent(\n",
      "/Users/carolinekeough/opt/anaconda3/lib/python3.9/site-packages/sklearn/linear_model/_coordinate_descent.py:530: ConvergenceWarning: Objective did not converge. You might want to increase the number of iterations. Duality gap: 304947830954.4813, tolerance: 1048732515.4688262\n",
      "  model = cd_fast.enet_coordinate_descent(\n",
      "/Users/carolinekeough/opt/anaconda3/lib/python3.9/site-packages/sklearn/linear_model/_coordinate_descent.py:530: ConvergenceWarning: Objective did not converge. You might want to increase the number of iterations. Duality gap: 273043501474.55185, tolerance: 994535749.5642802\n",
      "  model = cd_fast.enet_coordinate_descent(\n",
      "/Users/carolinekeough/opt/anaconda3/lib/python3.9/site-packages/sklearn/linear_model/_coordinate_descent.py:530: ConvergenceWarning: Objective did not converge. You might want to increase the number of iterations. Duality gap: 292147578562.90283, tolerance: 1050339289.6862177\n",
      "  model = cd_fast.enet_coordinate_descent(\n",
      "/Users/carolinekeough/opt/anaconda3/lib/python3.9/site-packages/sklearn/linear_model/_coordinate_descent.py:530: ConvergenceWarning: Objective did not converge. You might want to increase the number of iterations. Duality gap: 316058314598.8215, tolerance: 1053799586.4134442\n",
      "  model = cd_fast.enet_coordinate_descent(\n",
      "/Users/carolinekeough/opt/anaconda3/lib/python3.9/site-packages/sklearn/linear_model/_coordinate_descent.py:530: ConvergenceWarning: Objective did not converge. You might want to increase the number of iterations. Duality gap: 284373597774.4206, tolerance: 1045978141.2331918\n",
      "  model = cd_fast.enet_coordinate_descent(\n",
      "/Users/carolinekeough/opt/anaconda3/lib/python3.9/site-packages/sklearn/linear_model/_coordinate_descent.py:530: ConvergenceWarning: Objective did not converge. You might want to increase the number of iterations. Duality gap: 283622335707.887, tolerance: 1023402262.00393\n",
      "  model = cd_fast.enet_coordinate_descent(\n",
      "/Users/carolinekeough/opt/anaconda3/lib/python3.9/site-packages/sklearn/linear_model/_coordinate_descent.py:530: ConvergenceWarning: Objective did not converge. You might want to increase the number of iterations. Duality gap: 258847744724.35312, tolerance: 1046264672.5671989\n",
      "  model = cd_fast.enet_coordinate_descent(\n",
      "/Users/carolinekeough/opt/anaconda3/lib/python3.9/site-packages/sklearn/linear_model/_coordinate_descent.py:530: ConvergenceWarning: Objective did not converge. You might want to increase the number of iterations. Duality gap: 307243411771.48254, tolerance: 1025362208.0253798\n",
      "  model = cd_fast.enet_coordinate_descent(\n",
      "/Users/carolinekeough/opt/anaconda3/lib/python3.9/site-packages/sklearn/linear_model/_coordinate_descent.py:530: ConvergenceWarning: Objective did not converge. You might want to increase the number of iterations. Duality gap: 279277201597.3837, tolerance: 1057884878.7702297\n",
      "  model = cd_fast.enet_coordinate_descent(\n",
      "/Users/carolinekeough/opt/anaconda3/lib/python3.9/site-packages/sklearn/linear_model/_coordinate_descent.py:530: ConvergenceWarning: Objective did not converge. You might want to increase the number of iterations. Duality gap: 272040659694.57294, tolerance: 1057250362.3172524\n",
      "  model = cd_fast.enet_coordinate_descent(\n",
      "/Users/carolinekeough/opt/anaconda3/lib/python3.9/site-packages/sklearn/linear_model/_coordinate_descent.py:530: ConvergenceWarning: Objective did not converge. You might want to increase the number of iterations. Duality gap: 289964434931.3661, tolerance: 1029033992.8264518\n",
      "  model = cd_fast.enet_coordinate_descent(\n",
      "/Users/carolinekeough/opt/anaconda3/lib/python3.9/site-packages/sklearn/linear_model/_coordinate_descent.py:530: ConvergenceWarning: Objective did not converge. You might want to increase the number of iterations. Duality gap: 265779704096.4717, tolerance: 1041057699.5024016\n",
      "  model = cd_fast.enet_coordinate_descent(\n",
      "/Users/carolinekeough/opt/anaconda3/lib/python3.9/site-packages/sklearn/linear_model/_coordinate_descent.py:530: ConvergenceWarning: Objective did not converge. You might want to increase the number of iterations. Duality gap: 276751897292.3937, tolerance: 1025808436.1940352\n",
      "  model = cd_fast.enet_coordinate_descent(\n",
      "/Users/carolinekeough/opt/anaconda3/lib/python3.9/site-packages/sklearn/linear_model/_coordinate_descent.py:530: ConvergenceWarning: Objective did not converge. You might want to increase the number of iterations. Duality gap: 284092098129.93384, tolerance: 1054419832.3736948\n",
      "  model = cd_fast.enet_coordinate_descent(\n",
      "/Users/carolinekeough/opt/anaconda3/lib/python3.9/site-packages/sklearn/linear_model/_coordinate_descent.py:530: ConvergenceWarning: Objective did not converge. You might want to increase the number of iterations. Duality gap: 299542948792.05066, tolerance: 1052031519.6904721\n",
      "  model = cd_fast.enet_coordinate_descent(\n",
      "/Users/carolinekeough/opt/anaconda3/lib/python3.9/site-packages/sklearn/linear_model/_coordinate_descent.py:530: ConvergenceWarning: Objective did not converge. You might want to increase the number of iterations. Duality gap: 285884302557.66675, tolerance: 1046646902.8857131\n",
      "  model = cd_fast.enet_coordinate_descent(\n",
      "/Users/carolinekeough/opt/anaconda3/lib/python3.9/site-packages/sklearn/linear_model/_coordinate_descent.py:530: ConvergenceWarning: Objective did not converge. You might want to increase the number of iterations. Duality gap: 276318383222.20337, tolerance: 1028366887.840753\n",
      "  model = cd_fast.enet_coordinate_descent(\n",
      "/Users/carolinekeough/opt/anaconda3/lib/python3.9/site-packages/sklearn/linear_model/_coordinate_descent.py:530: ConvergenceWarning: Objective did not converge. You might want to increase the number of iterations. Duality gap: 266299180723.79877, tolerance: 1005111048.6330165\n",
      "  model = cd_fast.enet_coordinate_descent(\n",
      "/Users/carolinekeough/opt/anaconda3/lib/python3.9/site-packages/sklearn/linear_model/_coordinate_descent.py:530: ConvergenceWarning: Objective did not converge. You might want to increase the number of iterations. Duality gap: 313414786455.5861, tolerance: 1044787361.2478063\n",
      "  model = cd_fast.enet_coordinate_descent(\n",
      "/Users/carolinekeough/opt/anaconda3/lib/python3.9/site-packages/sklearn/linear_model/_coordinate_descent.py:530: ConvergenceWarning: Objective did not converge. You might want to increase the number of iterations. Duality gap: 286633068363.81244, tolerance: 1052080099.4676436\n",
      "  model = cd_fast.enet_coordinate_descent(\n",
      "/Users/carolinekeough/opt/anaconda3/lib/python3.9/site-packages/sklearn/linear_model/_coordinate_descent.py:530: ConvergenceWarning: Objective did not converge. You might want to increase the number of iterations. Duality gap: 305798530989.60657, tolerance: 1080906040.3812797\n",
      "  model = cd_fast.enet_coordinate_descent(\n"
     ]
    },
    {
     "name": "stderr",
     "output_type": "stream",
     "text": [
      "/Users/carolinekeough/opt/anaconda3/lib/python3.9/site-packages/sklearn/linear_model/_coordinate_descent.py:530: ConvergenceWarning: Objective did not converge. You might want to increase the number of iterations. Duality gap: 265643244422.8076, tolerance: 1063006280.4899575\n",
      "  model = cd_fast.enet_coordinate_descent(\n",
      "/Users/carolinekeough/opt/anaconda3/lib/python3.9/site-packages/sklearn/linear_model/_coordinate_descent.py:530: ConvergenceWarning: Objective did not converge. You might want to increase the number of iterations. Duality gap: 246137779003.66916, tolerance: 1047703364.6238551\n",
      "  model = cd_fast.enet_coordinate_descent(\n",
      "/Users/carolinekeough/opt/anaconda3/lib/python3.9/site-packages/sklearn/linear_model/_coordinate_descent.py:530: ConvergenceWarning: Objective did not converge. You might want to increase the number of iterations. Duality gap: 241374599810.13123, tolerance: 990929206.4557858\n",
      "  model = cd_fast.enet_coordinate_descent(\n",
      "/Users/carolinekeough/opt/anaconda3/lib/python3.9/site-packages/sklearn/linear_model/_coordinate_descent.py:530: ConvergenceWarning: Objective did not converge. You might want to increase the number of iterations. Duality gap: 290008303781.9325, tolerance: 1005504806.5176598\n",
      "  model = cd_fast.enet_coordinate_descent(\n",
      "/Users/carolinekeough/opt/anaconda3/lib/python3.9/site-packages/sklearn/linear_model/_coordinate_descent.py:530: ConvergenceWarning: Objective did not converge. You might want to increase the number of iterations. Duality gap: 285407363134.7269, tolerance: 1050184042.9622049\n",
      "  model = cd_fast.enet_coordinate_descent(\n",
      "/Users/carolinekeough/opt/anaconda3/lib/python3.9/site-packages/sklearn/linear_model/_coordinate_descent.py:530: ConvergenceWarning: Objective did not converge. You might want to increase the number of iterations. Duality gap: 226797694351.03946, tolerance: 1049263742.8807616\n",
      "  model = cd_fast.enet_coordinate_descent(\n",
      "/Users/carolinekeough/opt/anaconda3/lib/python3.9/site-packages/sklearn/linear_model/_coordinate_descent.py:530: ConvergenceWarning: Objective did not converge. You might want to increase the number of iterations. Duality gap: 261722554373.9496, tolerance: 1048912494.5606676\n",
      "  model = cd_fast.enet_coordinate_descent(\n",
      "/Users/carolinekeough/opt/anaconda3/lib/python3.9/site-packages/sklearn/linear_model/_coordinate_descent.py:530: ConvergenceWarning: Objective did not converge. You might want to increase the number of iterations. Duality gap: 284574679070.3666, tolerance: 1036424683.7851509\n",
      "  model = cd_fast.enet_coordinate_descent(\n",
      "/Users/carolinekeough/opt/anaconda3/lib/python3.9/site-packages/sklearn/linear_model/_coordinate_descent.py:530: ConvergenceWarning: Objective did not converge. You might want to increase the number of iterations. Duality gap: 320231854166.6778, tolerance: 1010608984.5415325\n",
      "  model = cd_fast.enet_coordinate_descent(\n",
      "/Users/carolinekeough/opt/anaconda3/lib/python3.9/site-packages/sklearn/linear_model/_coordinate_descent.py:530: ConvergenceWarning: Objective did not converge. You might want to increase the number of iterations. Duality gap: 296205526255.5541, tolerance: 1048732515.4688262\n",
      "  model = cd_fast.enet_coordinate_descent(\n",
      "/Users/carolinekeough/opt/anaconda3/lib/python3.9/site-packages/sklearn/linear_model/_coordinate_descent.py:530: ConvergenceWarning: Objective did not converge. You might want to increase the number of iterations. Duality gap: 259408119747.94495, tolerance: 994535749.5642802\n",
      "  model = cd_fast.enet_coordinate_descent(\n",
      "/Users/carolinekeough/opt/anaconda3/lib/python3.9/site-packages/sklearn/linear_model/_coordinate_descent.py:530: ConvergenceWarning: Objective did not converge. You might want to increase the number of iterations. Duality gap: 309791598822.21533, tolerance: 1053799586.4134442\n",
      "  model = cd_fast.enet_coordinate_descent(\n",
      "/Users/carolinekeough/opt/anaconda3/lib/python3.9/site-packages/sklearn/linear_model/_coordinate_descent.py:530: ConvergenceWarning: Objective did not converge. You might want to increase the number of iterations. Duality gap: 277961433055.8536, tolerance: 1050339289.6862177\n",
      "  model = cd_fast.enet_coordinate_descent(\n",
      "/Users/carolinekeough/opt/anaconda3/lib/python3.9/site-packages/sklearn/linear_model/_coordinate_descent.py:530: ConvergenceWarning: Objective did not converge. You might want to increase the number of iterations. Duality gap: 253230758271.77402, tolerance: 1046264672.5671989\n",
      "  model = cd_fast.enet_coordinate_descent(\n",
      "/Users/carolinekeough/opt/anaconda3/lib/python3.9/site-packages/sklearn/linear_model/_coordinate_descent.py:530: ConvergenceWarning: Objective did not converge. You might want to increase the number of iterations. Duality gap: 273652693595.97943, tolerance: 1045978141.2331918\n",
      "  model = cd_fast.enet_coordinate_descent(\n",
      "/Users/carolinekeough/opt/anaconda3/lib/python3.9/site-packages/sklearn/linear_model/_coordinate_descent.py:530: ConvergenceWarning: Objective did not converge. You might want to increase the number of iterations. Duality gap: 273480694484.72266, tolerance: 1023402262.00393\n",
      "  model = cd_fast.enet_coordinate_descent(\n",
      "/Users/carolinekeough/opt/anaconda3/lib/python3.9/site-packages/sklearn/linear_model/_coordinate_descent.py:530: ConvergenceWarning: Objective did not converge. You might want to increase the number of iterations. Duality gap: 301105851015.67773, tolerance: 1025362208.0253798\n",
      "  model = cd_fast.enet_coordinate_descent(\n",
      "/Users/carolinekeough/opt/anaconda3/lib/python3.9/site-packages/sklearn/linear_model/_coordinate_descent.py:530: ConvergenceWarning: Objective did not converge. You might want to increase the number of iterations. Duality gap: 287382132746.09076, tolerance: 1029033992.8264518\n",
      "  model = cd_fast.enet_coordinate_descent(\n",
      "/Users/carolinekeough/opt/anaconda3/lib/python3.9/site-packages/sklearn/linear_model/_coordinate_descent.py:530: ConvergenceWarning: Objective did not converge. You might want to increase the number of iterations. Duality gap: 266161877433.27982, tolerance: 1057884878.7702297\n",
      "  model = cd_fast.enet_coordinate_descent(\n",
      "/Users/carolinekeough/opt/anaconda3/lib/python3.9/site-packages/sklearn/linear_model/_coordinate_descent.py:530: ConvergenceWarning: Objective did not converge. You might want to increase the number of iterations. Duality gap: 249560897473.54453, tolerance: 1041057699.5024016\n",
      "  model = cd_fast.enet_coordinate_descent(\n",
      "/Users/carolinekeough/opt/anaconda3/lib/python3.9/site-packages/sklearn/linear_model/_coordinate_descent.py:530: ConvergenceWarning: Objective did not converge. You might want to increase the number of iterations. Duality gap: 255999395577.52032, tolerance: 1057250362.3172524\n",
      "  model = cd_fast.enet_coordinate_descent(\n",
      "/Users/carolinekeough/opt/anaconda3/lib/python3.9/site-packages/sklearn/linear_model/_coordinate_descent.py:530: ConvergenceWarning: Objective did not converge. You might want to increase the number of iterations. Duality gap: 263622753486.7251, tolerance: 1025808436.1940352\n",
      "  model = cd_fast.enet_coordinate_descent(\n",
      "/Users/carolinekeough/opt/anaconda3/lib/python3.9/site-packages/sklearn/linear_model/_coordinate_descent.py:530: ConvergenceWarning: Objective did not converge. You might want to increase the number of iterations. Duality gap: 271232316539.76697, tolerance: 1054419832.3736948\n",
      "  model = cd_fast.enet_coordinate_descent(\n",
      "/Users/carolinekeough/opt/anaconda3/lib/python3.9/site-packages/sklearn/linear_model/_coordinate_descent.py:530: ConvergenceWarning: Objective did not converge. You might want to increase the number of iterations. Duality gap: 267498283775.49243, tolerance: 1028366887.840753\n",
      "  model = cd_fast.enet_coordinate_descent(\n",
      "/Users/carolinekeough/opt/anaconda3/lib/python3.9/site-packages/sklearn/linear_model/_coordinate_descent.py:530: ConvergenceWarning: Objective did not converge. You might want to increase the number of iterations. Duality gap: 274884506724.40515, tolerance: 1046646902.8857131\n",
      "  model = cd_fast.enet_coordinate_descent(\n",
      "/Users/carolinekeough/opt/anaconda3/lib/python3.9/site-packages/sklearn/linear_model/_coordinate_descent.py:530: ConvergenceWarning: Objective did not converge. You might want to increase the number of iterations. Duality gap: 290541490274.4943, tolerance: 1052031519.6904721\n",
      "  model = cd_fast.enet_coordinate_descent(\n",
      "/Users/carolinekeough/opt/anaconda3/lib/python3.9/site-packages/sklearn/linear_model/_coordinate_descent.py:530: ConvergenceWarning: Objective did not converge. You might want to increase the number of iterations. Duality gap: 254255524157.76804, tolerance: 1005111048.6330165\n",
      "  model = cd_fast.enet_coordinate_descent(\n",
      "/Users/carolinekeough/opt/anaconda3/lib/python3.9/site-packages/sklearn/linear_model/_coordinate_descent.py:530: ConvergenceWarning: Objective did not converge. You might want to increase the number of iterations. Duality gap: 310140172300.7944, tolerance: 1044787361.2478063\n",
      "  model = cd_fast.enet_coordinate_descent(\n",
      "/Users/carolinekeough/opt/anaconda3/lib/python3.9/site-packages/sklearn/linear_model/_coordinate_descent.py:530: ConvergenceWarning: Objective did not converge. You might want to increase the number of iterations. Duality gap: 273717311410.83813, tolerance: 1052080099.4676436\n",
      "  model = cd_fast.enet_coordinate_descent(\n"
     ]
    },
    {
     "name": "stderr",
     "output_type": "stream",
     "text": [
      "/Users/carolinekeough/opt/anaconda3/lib/python3.9/site-packages/sklearn/linear_model/_coordinate_descent.py:530: ConvergenceWarning: Objective did not converge. You might want to increase the number of iterations. Duality gap: 251791035803.15796, tolerance: 1063006280.4899575\n",
      "  model = cd_fast.enet_coordinate_descent(\n",
      "/Users/carolinekeough/opt/anaconda3/lib/python3.9/site-packages/sklearn/linear_model/_coordinate_descent.py:530: ConvergenceWarning: Objective did not converge. You might want to increase the number of iterations. Duality gap: 298768508995.99817, tolerance: 1080906040.3812797\n",
      "  model = cd_fast.enet_coordinate_descent(\n",
      "/Users/carolinekeough/opt/anaconda3/lib/python3.9/site-packages/sklearn/linear_model/_coordinate_descent.py:530: ConvergenceWarning: Objective did not converge. You might want to increase the number of iterations. Duality gap: 239129419853.42422, tolerance: 1047703364.6238551\n",
      "  model = cd_fast.enet_coordinate_descent(\n",
      "/Users/carolinekeough/opt/anaconda3/lib/python3.9/site-packages/sklearn/linear_model/_coordinate_descent.py:530: ConvergenceWarning: Objective did not converge. You might want to increase the number of iterations. Duality gap: 282256147437.67566, tolerance: 1005504806.5176598\n",
      "  model = cd_fast.enet_coordinate_descent(\n",
      "/Users/carolinekeough/opt/anaconda3/lib/python3.9/site-packages/sklearn/linear_model/_coordinate_descent.py:530: ConvergenceWarning: Objective did not converge. You might want to increase the number of iterations. Duality gap: 225152666935.44714, tolerance: 990929206.4557858\n",
      "  model = cd_fast.enet_coordinate_descent(\n",
      "/Users/carolinekeough/opt/anaconda3/lib/python3.9/site-packages/sklearn/linear_model/_coordinate_descent.py:530: ConvergenceWarning: Objective did not converge. You might want to increase the number of iterations. Duality gap: 274853364648.86658, tolerance: 1050184042.9622049\n",
      "  model = cd_fast.enet_coordinate_descent(\n",
      "/Users/carolinekeough/opt/anaconda3/lib/python3.9/site-packages/sklearn/linear_model/_coordinate_descent.py:530: ConvergenceWarning: Objective did not converge. You might want to increase the number of iterations. Duality gap: 318575412522.73517, tolerance: 1010608984.5415325\n",
      "  model = cd_fast.enet_coordinate_descent(\n",
      "/Users/carolinekeough/opt/anaconda3/lib/python3.9/site-packages/sklearn/linear_model/_coordinate_descent.py:530: ConvergenceWarning: Objective did not converge. You might want to increase the number of iterations. Duality gap: 272842910210.01492, tolerance: 1036424683.7851509\n",
      "  model = cd_fast.enet_coordinate_descent(\n",
      "/Users/carolinekeough/opt/anaconda3/lib/python3.9/site-packages/sklearn/linear_model/_coordinate_descent.py:530: ConvergenceWarning: Objective did not converge. You might want to increase the number of iterations. Duality gap: 214295419538.5121, tolerance: 1049263742.8807616\n",
      "  model = cd_fast.enet_coordinate_descent(\n",
      "/Users/carolinekeough/opt/anaconda3/lib/python3.9/site-packages/sklearn/linear_model/_coordinate_descent.py:530: ConvergenceWarning: Objective did not converge. You might want to increase the number of iterations. Duality gap: 246163280137.8684, tolerance: 1048912494.5606676\n",
      "  model = cd_fast.enet_coordinate_descent(\n",
      "/Users/carolinekeough/opt/anaconda3/lib/python3.9/site-packages/sklearn/linear_model/_coordinate_descent.py:530: ConvergenceWarning: Objective did not converge. You might want to increase the number of iterations. Duality gap: 245516781839.62265, tolerance: 994535749.5642802\n",
      "  model = cd_fast.enet_coordinate_descent(\n",
      "/Users/carolinekeough/opt/anaconda3/lib/python3.9/site-packages/sklearn/linear_model/_coordinate_descent.py:530: ConvergenceWarning: Objective did not converge. You might want to increase the number of iterations. Duality gap: 263518252244.29065, tolerance: 1050339289.6862177\n",
      "  model = cd_fast.enet_coordinate_descent(\n",
      "/Users/carolinekeough/opt/anaconda3/lib/python3.9/site-packages/sklearn/linear_model/_coordinate_descent.py:530: ConvergenceWarning: Objective did not converge. You might want to increase the number of iterations. Duality gap: 287352740367.6651, tolerance: 1048732515.4688262\n",
      "  model = cd_fast.enet_coordinate_descent(\n",
      "/Users/carolinekeough/opt/anaconda3/lib/python3.9/site-packages/sklearn/linear_model/_coordinate_descent.py:530: ConvergenceWarning: Objective did not converge. You might want to increase the number of iterations. Duality gap: 303466911368.56226, tolerance: 1053799586.4134442\n",
      "  model = cd_fast.enet_coordinate_descent(\n",
      "/Users/carolinekeough/opt/anaconda3/lib/python3.9/site-packages/sklearn/linear_model/_coordinate_descent.py:530: ConvergenceWarning: Objective did not converge. You might want to increase the number of iterations. Duality gap: 284787228953.8115, tolerance: 1029033992.8264518\n",
      "  model = cd_fast.enet_coordinate_descent(\n",
      "/Users/carolinekeough/opt/anaconda3/lib/python3.9/site-packages/sklearn/linear_model/_coordinate_descent.py:530: ConvergenceWarning: Objective did not converge. You might want to increase the number of iterations. Duality gap: 263199559412.0671, tolerance: 1023402262.00393\n",
      "  model = cd_fast.enet_coordinate_descent(\n",
      "/Users/carolinekeough/opt/anaconda3/lib/python3.9/site-packages/sklearn/linear_model/_coordinate_descent.py:530: ConvergenceWarning: Objective did not converge. You might want to increase the number of iterations. Duality gap: 247559171426.20895, tolerance: 1046264672.5671989\n",
      "  model = cd_fast.enet_coordinate_descent(\n",
      "/Users/carolinekeough/opt/anaconda3/lib/python3.9/site-packages/sklearn/linear_model/_coordinate_descent.py:530: ConvergenceWarning: Objective did not converge. You might want to increase the number of iterations. Duality gap: 262770762369.10318, tolerance: 1045978141.2331918\n",
      "  model = cd_fast.enet_coordinate_descent(\n",
      "/Users/carolinekeough/opt/anaconda3/lib/python3.9/site-packages/sklearn/linear_model/_coordinate_descent.py:530: ConvergenceWarning: Objective did not converge. You might want to increase the number of iterations. Duality gap: 294911291085.71515, tolerance: 1025362208.0253798\n",
      "  model = cd_fast.enet_coordinate_descent(\n",
      "/Users/carolinekeough/opt/anaconda3/lib/python3.9/site-packages/sklearn/linear_model/_coordinate_descent.py:530: ConvergenceWarning: Objective did not converge. You might want to increase the number of iterations. Duality gap: 233036275358.4322, tolerance: 1041057699.5024016\n",
      "  model = cd_fast.enet_coordinate_descent(\n",
      "/Users/carolinekeough/opt/anaconda3/lib/python3.9/site-packages/sklearn/linear_model/_coordinate_descent.py:530: ConvergenceWarning: Objective did not converge. You might want to increase the number of iterations. Duality gap: 239659859339.16833, tolerance: 1057250362.3172524\n",
      "  model = cd_fast.enet_coordinate_descent(\n",
      "/Users/carolinekeough/opt/anaconda3/lib/python3.9/site-packages/sklearn/linear_model/_coordinate_descent.py:530: ConvergenceWarning: Objective did not converge. You might want to increase the number of iterations. Duality gap: 252833167109.74463, tolerance: 1057884878.7702297\n",
      "  model = cd_fast.enet_coordinate_descent(\n",
      "/Users/carolinekeough/opt/anaconda3/lib/python3.9/site-packages/sklearn/linear_model/_coordinate_descent.py:530: ConvergenceWarning: Objective did not converge. You might want to increase the number of iterations. Duality gap: 258168240825.42566, tolerance: 1054419832.3736948\n",
      "  model = cd_fast.enet_coordinate_descent(\n",
      "/Users/carolinekeough/opt/anaconda3/lib/python3.9/site-packages/sklearn/linear_model/_coordinate_descent.py:530: ConvergenceWarning: Objective did not converge. You might want to increase the number of iterations. Duality gap: 263726620909.94394, tolerance: 1046646902.8857131\n",
      "  model = cd_fast.enet_coordinate_descent(\n",
      "/Users/carolinekeough/opt/anaconda3/lib/python3.9/site-packages/sklearn/linear_model/_coordinate_descent.py:530: ConvergenceWarning: Objective did not converge. You might want to increase the number of iterations. Duality gap: 250274404005.0395, tolerance: 1025808436.1940352\n",
      "  model = cd_fast.enet_coordinate_descent(\n",
      "/Users/carolinekeough/opt/anaconda3/lib/python3.9/site-packages/sklearn/linear_model/_coordinate_descent.py:530: ConvergenceWarning: Objective did not converge. You might want to increase the number of iterations. Duality gap: 258565039879.96484, tolerance: 1028366887.840753\n",
      "  model = cd_fast.enet_coordinate_descent(\n",
      "/Users/carolinekeough/opt/anaconda3/lib/python3.9/site-packages/sklearn/linear_model/_coordinate_descent.py:530: ConvergenceWarning: Objective did not converge. You might want to increase the number of iterations. Duality gap: 281428873700.7223, tolerance: 1052031519.6904721\n",
      "  model = cd_fast.enet_coordinate_descent(\n"
     ]
    },
    {
     "name": "stderr",
     "output_type": "stream",
     "text": [
      "/Users/carolinekeough/opt/anaconda3/lib/python3.9/site-packages/sklearn/linear_model/_coordinate_descent.py:530: ConvergenceWarning: Objective did not converge. You might want to increase the number of iterations. Duality gap: 306847673573.08624, tolerance: 1044787361.2478063\n",
      "  model = cd_fast.enet_coordinate_descent(\n",
      "/Users/carolinekeough/opt/anaconda3/lib/python3.9/site-packages/sklearn/linear_model/_coordinate_descent.py:530: ConvergenceWarning: Objective did not converge. You might want to increase the number of iterations. Duality gap: 242018667999.59753, tolerance: 1005111048.6330165\n",
      "  model = cd_fast.enet_coordinate_descent(\n",
      "/Users/carolinekeough/opt/anaconda3/lib/python3.9/site-packages/sklearn/linear_model/_coordinate_descent.py:530: ConvergenceWarning: Objective did not converge. You might want to increase the number of iterations. Duality gap: 260581927660.59906, tolerance: 1052080099.4676436\n",
      "  model = cd_fast.enet_coordinate_descent(\n",
      "/Users/carolinekeough/opt/anaconda3/lib/python3.9/site-packages/sklearn/linear_model/_coordinate_descent.py:530: ConvergenceWarning: Objective did not converge. You might want to increase the number of iterations. Duality gap: 291668331088.13336, tolerance: 1080906040.3812797\n",
      "  model = cd_fast.enet_coordinate_descent(\n",
      "/Users/carolinekeough/opt/anaconda3/lib/python3.9/site-packages/sklearn/linear_model/_coordinate_descent.py:530: ConvergenceWarning: Objective did not converge. You might want to increase the number of iterations. Duality gap: 232037510339.18524, tolerance: 1047703364.6238551\n",
      "  model = cd_fast.enet_coordinate_descent(\n"
     ]
    },
    {
     "ename": "KeyboardInterrupt",
     "evalue": "",
     "output_type": "error",
     "traceback": [
      "\u001b[0;31m---------------------------------------------------------------------------\u001b[0m",
      "\u001b[0;31mKeyboardInterrupt\u001b[0m                         Traceback (most recent call last)",
      "\u001b[0;32m/var/folders/8p/6k3vrp795231q_pwy6nvxz5w0000gn/T/ipykernel_637/3472833926.py\u001b[0m in \u001b[0;36m<module>\u001b[0;34m\u001b[0m\n\u001b[1;32m      7\u001b[0m \u001b[0mgrid\u001b[0m\u001b[0;34m[\u001b[0m\u001b[0;34m'alpha'\u001b[0m\u001b[0;34m]\u001b[0m \u001b[0;34m=\u001b[0m \u001b[0mlasso_alphas\u001b[0m\u001b[0;34m\u001b[0m\u001b[0;34m\u001b[0m\u001b[0m\n\u001b[1;32m      8\u001b[0m \u001b[0mgscv\u001b[0m \u001b[0;34m=\u001b[0m \u001b[0mGridSearchCV\u001b[0m\u001b[0;34m(\u001b[0m\u001b[0mlasso\u001b[0m\u001b[0;34m,\u001b[0m \u001b[0mgrid\u001b[0m\u001b[0;34m,\u001b[0m \u001b[0mscoring\u001b[0m\u001b[0;34m=\u001b[0m\u001b[0;34m'neg_mean_absolute_error'\u001b[0m\u001b[0;34m,\u001b[0m \u001b[0mcv\u001b[0m\u001b[0;34m=\u001b[0m\u001b[0mcv\u001b[0m\u001b[0;34m,\u001b[0m \u001b[0mn_jobs\u001b[0m\u001b[0;34m=\u001b[0m\u001b[0;34m-\u001b[0m\u001b[0;36m1\u001b[0m\u001b[0;34m)\u001b[0m\u001b[0;34m\u001b[0m\u001b[0;34m\u001b[0m\u001b[0m\n\u001b[0;32m----> 9\u001b[0;31m \u001b[0mresults\u001b[0m \u001b[0;34m=\u001b[0m \u001b[0mgscv\u001b[0m\u001b[0;34m.\u001b[0m\u001b[0mfit\u001b[0m\u001b[0;34m(\u001b[0m\u001b[0mX_train_scaled\u001b[0m\u001b[0;34m,\u001b[0m \u001b[0my_train\u001b[0m\u001b[0;34m)\u001b[0m\u001b[0;34m\u001b[0m\u001b[0;34m\u001b[0m\u001b[0m\n\u001b[0m\u001b[1;32m     10\u001b[0m \u001b[0mprint\u001b[0m\u001b[0;34m(\u001b[0m\u001b[0;34m'MAE: %.5f'\u001b[0m \u001b[0;34m%\u001b[0m \u001b[0mresults\u001b[0m\u001b[0;34m.\u001b[0m\u001b[0mbest_score_\u001b[0m\u001b[0;34m)\u001b[0m\u001b[0;34m\u001b[0m\u001b[0;34m\u001b[0m\u001b[0m\n\u001b[1;32m     11\u001b[0m \u001b[0mprint\u001b[0m\u001b[0;34m(\u001b[0m\u001b[0;34m'Config: %s'\u001b[0m \u001b[0;34m%\u001b[0m \u001b[0mresults\u001b[0m\u001b[0;34m.\u001b[0m\u001b[0mbest_params_\u001b[0m\u001b[0;34m)\u001b[0m\u001b[0;34m\u001b[0m\u001b[0;34m\u001b[0m\u001b[0m\n",
      "\u001b[0;32m~/opt/anaconda3/lib/python3.9/site-packages/sklearn/utils/validation.py\u001b[0m in \u001b[0;36minner_f\u001b[0;34m(*args, **kwargs)\u001b[0m\n\u001b[1;32m     61\u001b[0m             \u001b[0mextra_args\u001b[0m \u001b[0;34m=\u001b[0m \u001b[0mlen\u001b[0m\u001b[0;34m(\u001b[0m\u001b[0margs\u001b[0m\u001b[0;34m)\u001b[0m \u001b[0;34m-\u001b[0m \u001b[0mlen\u001b[0m\u001b[0;34m(\u001b[0m\u001b[0mall_args\u001b[0m\u001b[0;34m)\u001b[0m\u001b[0;34m\u001b[0m\u001b[0;34m\u001b[0m\u001b[0m\n\u001b[1;32m     62\u001b[0m             \u001b[0;32mif\u001b[0m \u001b[0mextra_args\u001b[0m \u001b[0;34m<=\u001b[0m \u001b[0;36m0\u001b[0m\u001b[0;34m:\u001b[0m\u001b[0;34m\u001b[0m\u001b[0;34m\u001b[0m\u001b[0m\n\u001b[0;32m---> 63\u001b[0;31m                 \u001b[0;32mreturn\u001b[0m \u001b[0mf\u001b[0m\u001b[0;34m(\u001b[0m\u001b[0;34m*\u001b[0m\u001b[0margs\u001b[0m\u001b[0;34m,\u001b[0m \u001b[0;34m**\u001b[0m\u001b[0mkwargs\u001b[0m\u001b[0;34m)\u001b[0m\u001b[0;34m\u001b[0m\u001b[0;34m\u001b[0m\u001b[0m\n\u001b[0m\u001b[1;32m     64\u001b[0m \u001b[0;34m\u001b[0m\u001b[0m\n\u001b[1;32m     65\u001b[0m             \u001b[0;31m# extra_args > 0\u001b[0m\u001b[0;34m\u001b[0m\u001b[0;34m\u001b[0m\u001b[0m\n",
      "\u001b[0;32m~/opt/anaconda3/lib/python3.9/site-packages/sklearn/model_selection/_search.py\u001b[0m in \u001b[0;36mfit\u001b[0;34m(self, X, y, groups, **fit_params)\u001b[0m\n\u001b[1;32m    839\u001b[0m                 \u001b[0;32mreturn\u001b[0m \u001b[0mresults\u001b[0m\u001b[0;34m\u001b[0m\u001b[0;34m\u001b[0m\u001b[0m\n\u001b[1;32m    840\u001b[0m \u001b[0;34m\u001b[0m\u001b[0m\n\u001b[0;32m--> 841\u001b[0;31m             \u001b[0mself\u001b[0m\u001b[0;34m.\u001b[0m\u001b[0m_run_search\u001b[0m\u001b[0;34m(\u001b[0m\u001b[0mevaluate_candidates\u001b[0m\u001b[0;34m)\u001b[0m\u001b[0;34m\u001b[0m\u001b[0;34m\u001b[0m\u001b[0m\n\u001b[0m\u001b[1;32m    842\u001b[0m \u001b[0;34m\u001b[0m\u001b[0m\n\u001b[1;32m    843\u001b[0m             \u001b[0;31m# multimetric is determined here because in the case of a callable\u001b[0m\u001b[0;34m\u001b[0m\u001b[0;34m\u001b[0m\u001b[0m\n",
      "\u001b[0;32m~/opt/anaconda3/lib/python3.9/site-packages/sklearn/model_selection/_search.py\u001b[0m in \u001b[0;36m_run_search\u001b[0;34m(self, evaluate_candidates)\u001b[0m\n\u001b[1;32m   1294\u001b[0m     \u001b[0;32mdef\u001b[0m \u001b[0m_run_search\u001b[0m\u001b[0;34m(\u001b[0m\u001b[0mself\u001b[0m\u001b[0;34m,\u001b[0m \u001b[0mevaluate_candidates\u001b[0m\u001b[0;34m)\u001b[0m\u001b[0;34m:\u001b[0m\u001b[0;34m\u001b[0m\u001b[0;34m\u001b[0m\u001b[0m\n\u001b[1;32m   1295\u001b[0m         \u001b[0;34m\"\"\"Search all candidates in param_grid\"\"\"\u001b[0m\u001b[0;34m\u001b[0m\u001b[0;34m\u001b[0m\u001b[0m\n\u001b[0;32m-> 1296\u001b[0;31m         \u001b[0mevaluate_candidates\u001b[0m\u001b[0;34m(\u001b[0m\u001b[0mParameterGrid\u001b[0m\u001b[0;34m(\u001b[0m\u001b[0mself\u001b[0m\u001b[0;34m.\u001b[0m\u001b[0mparam_grid\u001b[0m\u001b[0;34m)\u001b[0m\u001b[0;34m)\u001b[0m\u001b[0;34m\u001b[0m\u001b[0;34m\u001b[0m\u001b[0m\n\u001b[0m\u001b[1;32m   1297\u001b[0m \u001b[0;34m\u001b[0m\u001b[0m\n\u001b[1;32m   1298\u001b[0m \u001b[0;34m\u001b[0m\u001b[0m\n",
      "\u001b[0;32m~/opt/anaconda3/lib/python3.9/site-packages/sklearn/model_selection/_search.py\u001b[0m in \u001b[0;36mevaluate_candidates\u001b[0;34m(candidate_params, cv, more_results)\u001b[0m\n\u001b[1;32m    793\u001b[0m                               n_splits, n_candidates, n_candidates * n_splits))\n\u001b[1;32m    794\u001b[0m \u001b[0;34m\u001b[0m\u001b[0m\n\u001b[0;32m--> 795\u001b[0;31m                 out = parallel(delayed(_fit_and_score)(clone(base_estimator),\n\u001b[0m\u001b[1;32m    796\u001b[0m                                                        \u001b[0mX\u001b[0m\u001b[0;34m,\u001b[0m \u001b[0my\u001b[0m\u001b[0;34m,\u001b[0m\u001b[0;34m\u001b[0m\u001b[0;34m\u001b[0m\u001b[0m\n\u001b[1;32m    797\u001b[0m                                                        \u001b[0mtrain\u001b[0m\u001b[0;34m=\u001b[0m\u001b[0mtrain\u001b[0m\u001b[0;34m,\u001b[0m \u001b[0mtest\u001b[0m\u001b[0;34m=\u001b[0m\u001b[0mtest\u001b[0m\u001b[0;34m,\u001b[0m\u001b[0;34m\u001b[0m\u001b[0;34m\u001b[0m\u001b[0m\n",
      "\u001b[0;32m~/opt/anaconda3/lib/python3.9/site-packages/joblib/parallel.py\u001b[0m in \u001b[0;36m__call__\u001b[0;34m(self, iterable)\u001b[0m\n\u001b[1;32m   1054\u001b[0m \u001b[0;34m\u001b[0m\u001b[0m\n\u001b[1;32m   1055\u001b[0m             \u001b[0;32mwith\u001b[0m \u001b[0mself\u001b[0m\u001b[0;34m.\u001b[0m\u001b[0m_backend\u001b[0m\u001b[0;34m.\u001b[0m\u001b[0mretrieval_context\u001b[0m\u001b[0;34m(\u001b[0m\u001b[0;34m)\u001b[0m\u001b[0;34m:\u001b[0m\u001b[0;34m\u001b[0m\u001b[0;34m\u001b[0m\u001b[0m\n\u001b[0;32m-> 1056\u001b[0;31m                 \u001b[0mself\u001b[0m\u001b[0;34m.\u001b[0m\u001b[0mretrieve\u001b[0m\u001b[0;34m(\u001b[0m\u001b[0;34m)\u001b[0m\u001b[0;34m\u001b[0m\u001b[0;34m\u001b[0m\u001b[0m\n\u001b[0m\u001b[1;32m   1057\u001b[0m             \u001b[0;31m# Make sure that we get a last message telling us we are done\u001b[0m\u001b[0;34m\u001b[0m\u001b[0;34m\u001b[0m\u001b[0m\n\u001b[1;32m   1058\u001b[0m             \u001b[0melapsed_time\u001b[0m \u001b[0;34m=\u001b[0m \u001b[0mtime\u001b[0m\u001b[0;34m.\u001b[0m\u001b[0mtime\u001b[0m\u001b[0;34m(\u001b[0m\u001b[0;34m)\u001b[0m \u001b[0;34m-\u001b[0m \u001b[0mself\u001b[0m\u001b[0;34m.\u001b[0m\u001b[0m_start_time\u001b[0m\u001b[0;34m\u001b[0m\u001b[0;34m\u001b[0m\u001b[0m\n",
      "\u001b[0;32m~/opt/anaconda3/lib/python3.9/site-packages/joblib/parallel.py\u001b[0m in \u001b[0;36mretrieve\u001b[0;34m(self)\u001b[0m\n\u001b[1;32m    933\u001b[0m             \u001b[0;32mtry\u001b[0m\u001b[0;34m:\u001b[0m\u001b[0;34m\u001b[0m\u001b[0;34m\u001b[0m\u001b[0m\n\u001b[1;32m    934\u001b[0m                 \u001b[0;32mif\u001b[0m \u001b[0mgetattr\u001b[0m\u001b[0;34m(\u001b[0m\u001b[0mself\u001b[0m\u001b[0;34m.\u001b[0m\u001b[0m_backend\u001b[0m\u001b[0;34m,\u001b[0m \u001b[0;34m'supports_timeout'\u001b[0m\u001b[0;34m,\u001b[0m \u001b[0;32mFalse\u001b[0m\u001b[0;34m)\u001b[0m\u001b[0;34m:\u001b[0m\u001b[0;34m\u001b[0m\u001b[0;34m\u001b[0m\u001b[0m\n\u001b[0;32m--> 935\u001b[0;31m                     \u001b[0mself\u001b[0m\u001b[0;34m.\u001b[0m\u001b[0m_output\u001b[0m\u001b[0;34m.\u001b[0m\u001b[0mextend\u001b[0m\u001b[0;34m(\u001b[0m\u001b[0mjob\u001b[0m\u001b[0;34m.\u001b[0m\u001b[0mget\u001b[0m\u001b[0;34m(\u001b[0m\u001b[0mtimeout\u001b[0m\u001b[0;34m=\u001b[0m\u001b[0mself\u001b[0m\u001b[0;34m.\u001b[0m\u001b[0mtimeout\u001b[0m\u001b[0;34m)\u001b[0m\u001b[0;34m)\u001b[0m\u001b[0;34m\u001b[0m\u001b[0;34m\u001b[0m\u001b[0m\n\u001b[0m\u001b[1;32m    936\u001b[0m                 \u001b[0;32melse\u001b[0m\u001b[0;34m:\u001b[0m\u001b[0;34m\u001b[0m\u001b[0;34m\u001b[0m\u001b[0m\n\u001b[1;32m    937\u001b[0m                     \u001b[0mself\u001b[0m\u001b[0;34m.\u001b[0m\u001b[0m_output\u001b[0m\u001b[0;34m.\u001b[0m\u001b[0mextend\u001b[0m\u001b[0;34m(\u001b[0m\u001b[0mjob\u001b[0m\u001b[0;34m.\u001b[0m\u001b[0mget\u001b[0m\u001b[0;34m(\u001b[0m\u001b[0;34m)\u001b[0m\u001b[0;34m)\u001b[0m\u001b[0;34m\u001b[0m\u001b[0;34m\u001b[0m\u001b[0m\n",
      "\u001b[0;32m~/opt/anaconda3/lib/python3.9/site-packages/joblib/_parallel_backends.py\u001b[0m in \u001b[0;36mwrap_future_result\u001b[0;34m(future, timeout)\u001b[0m\n\u001b[1;32m    540\u001b[0m         AsyncResults.get from multiprocessing.\"\"\"\n\u001b[1;32m    541\u001b[0m         \u001b[0;32mtry\u001b[0m\u001b[0;34m:\u001b[0m\u001b[0;34m\u001b[0m\u001b[0;34m\u001b[0m\u001b[0m\n\u001b[0;32m--> 542\u001b[0;31m             \u001b[0;32mreturn\u001b[0m \u001b[0mfuture\u001b[0m\u001b[0;34m.\u001b[0m\u001b[0mresult\u001b[0m\u001b[0;34m(\u001b[0m\u001b[0mtimeout\u001b[0m\u001b[0;34m=\u001b[0m\u001b[0mtimeout\u001b[0m\u001b[0;34m)\u001b[0m\u001b[0;34m\u001b[0m\u001b[0;34m\u001b[0m\u001b[0m\n\u001b[0m\u001b[1;32m    543\u001b[0m         \u001b[0;32mexcept\u001b[0m \u001b[0mCfTimeoutError\u001b[0m \u001b[0;32mas\u001b[0m \u001b[0me\u001b[0m\u001b[0;34m:\u001b[0m\u001b[0;34m\u001b[0m\u001b[0;34m\u001b[0m\u001b[0m\n\u001b[1;32m    544\u001b[0m             \u001b[0;32mraise\u001b[0m \u001b[0mTimeoutError\u001b[0m \u001b[0;32mfrom\u001b[0m \u001b[0me\u001b[0m\u001b[0;34m\u001b[0m\u001b[0;34m\u001b[0m\u001b[0m\n",
      "\u001b[0;32m~/opt/anaconda3/lib/python3.9/concurrent/futures/_base.py\u001b[0m in \u001b[0;36mresult\u001b[0;34m(self, timeout)\u001b[0m\n\u001b[1;32m    438\u001b[0m                     \u001b[0;32mreturn\u001b[0m \u001b[0mself\u001b[0m\u001b[0;34m.\u001b[0m\u001b[0m__get_result\u001b[0m\u001b[0;34m(\u001b[0m\u001b[0;34m)\u001b[0m\u001b[0;34m\u001b[0m\u001b[0;34m\u001b[0m\u001b[0m\n\u001b[1;32m    439\u001b[0m \u001b[0;34m\u001b[0m\u001b[0m\n\u001b[0;32m--> 440\u001b[0;31m                 \u001b[0mself\u001b[0m\u001b[0;34m.\u001b[0m\u001b[0m_condition\u001b[0m\u001b[0;34m.\u001b[0m\u001b[0mwait\u001b[0m\u001b[0;34m(\u001b[0m\u001b[0mtimeout\u001b[0m\u001b[0;34m)\u001b[0m\u001b[0;34m\u001b[0m\u001b[0;34m\u001b[0m\u001b[0m\n\u001b[0m\u001b[1;32m    441\u001b[0m \u001b[0;34m\u001b[0m\u001b[0m\n\u001b[1;32m    442\u001b[0m                 \u001b[0;32mif\u001b[0m \u001b[0mself\u001b[0m\u001b[0;34m.\u001b[0m\u001b[0m_state\u001b[0m \u001b[0;32min\u001b[0m \u001b[0;34m[\u001b[0m\u001b[0mCANCELLED\u001b[0m\u001b[0;34m,\u001b[0m \u001b[0mCANCELLED_AND_NOTIFIED\u001b[0m\u001b[0;34m]\u001b[0m\u001b[0;34m:\u001b[0m\u001b[0;34m\u001b[0m\u001b[0;34m\u001b[0m\u001b[0m\n",
      "\u001b[0;32m~/opt/anaconda3/lib/python3.9/threading.py\u001b[0m in \u001b[0;36mwait\u001b[0;34m(self, timeout)\u001b[0m\n\u001b[1;32m    310\u001b[0m         \u001b[0;32mtry\u001b[0m\u001b[0;34m:\u001b[0m    \u001b[0;31m# restore state no matter what (e.g., KeyboardInterrupt)\u001b[0m\u001b[0;34m\u001b[0m\u001b[0;34m\u001b[0m\u001b[0m\n\u001b[1;32m    311\u001b[0m             \u001b[0;32mif\u001b[0m \u001b[0mtimeout\u001b[0m \u001b[0;32mis\u001b[0m \u001b[0;32mNone\u001b[0m\u001b[0;34m:\u001b[0m\u001b[0;34m\u001b[0m\u001b[0;34m\u001b[0m\u001b[0m\n\u001b[0;32m--> 312\u001b[0;31m                 \u001b[0mwaiter\u001b[0m\u001b[0;34m.\u001b[0m\u001b[0macquire\u001b[0m\u001b[0;34m(\u001b[0m\u001b[0;34m)\u001b[0m\u001b[0;34m\u001b[0m\u001b[0;34m\u001b[0m\u001b[0m\n\u001b[0m\u001b[1;32m    313\u001b[0m                 \u001b[0mgotit\u001b[0m \u001b[0;34m=\u001b[0m \u001b[0;32mTrue\u001b[0m\u001b[0;34m\u001b[0m\u001b[0;34m\u001b[0m\u001b[0m\n\u001b[1;32m    314\u001b[0m             \u001b[0;32melse\u001b[0m\u001b[0;34m:\u001b[0m\u001b[0;34m\u001b[0m\u001b[0;34m\u001b[0m\u001b[0m\n",
      "\u001b[0;31mKeyboardInterrupt\u001b[0m: "
     ]
    }
   ],
   "source": [
    "from sklearn.model_selection import KFold, RepeatedKFold, GridSearchCV, cross_validate, train_test_split\n",
    "\n",
    "#not sure how to do this\n",
    "\n",
    "# cv = RepeatedKFold(n_splits=10, n_repeats=3, random_state=1)\n",
    "# lasso_alphas = np.linspace(0, 0.2, 21)\n",
    "# lasso = Lasso()\n",
    "# grid = dict()\n",
    "# grid['alpha'] = lasso_alphas\n",
    "# gscv = GridSearchCV(lasso, grid, scoring='neg_mean_absolute_error', cv=cv, n_jobs=-1)\n",
    "# results = gscv.fit(X_train_scaled, y_train)\n",
    "# print('MAE: %.5f' % results.best_score_)\n",
    "# print('Config: %s' % results.best_params_)"
   ]
  },
  {
   "cell_type": "code",
   "execution_count": null,
   "id": "4e77e4d6",
   "metadata": {},
   "outputs": [],
   "source": [
    "#could use geopy on the combo csvs and map like the highest sale prices or something\n"
   ]
  },
  {
   "cell_type": "code",
   "execution_count": 167,
   "id": "b5615cfc",
   "metadata": {},
   "outputs": [],
   "source": [
    "ridge = Ridge()\n",
    "lasso = Lasso()"
   ]
  },
  {
   "cell_type": "code",
   "execution_count": 168,
   "id": "4b6d343b",
   "metadata": {},
   "outputs": [],
   "source": [
    "#Looking at lecture code\n",
    "ridge.set_params(max_iter = 10000, normalize=True)\n",
    "lasso.set_params(max_iter = 10000, normalize=True)\n",
    "ridge_scores_train = []\n",
    "lasso_scores_train = []\n",
    "ridge_scores_test  = []\n",
    "lasso_scores_test  = []\n",
    "\n",
    "alphas = np.linspace(0.01, 10, 100)\n",
    "\n",
    "for alpha in alphas:\n",
    "            ridge.set_params(alpha=alpha)\n",
    "            lasso.set_params(alpha=alpha)\n",
    "            ridge.fit(X_train, y_train)\n",
    "            lasso.fit(X_train, y_train)\n",
    "            ridge_scores_train.append(ridge.score(X_train, y_train))\n",
    "            ridge_scores_test.append(ridge.score(X_test, y_test))\n",
    "            lasso_scores_train.append(lasso.score(X_train, y_train))\n",
    "            lasso_scores_test.append(lasso.score(X_test, y_test))\n",
    "ridge_scores_train = np.array(ridge_scores_train) \n",
    "ridge_scores_test  = np.array(ridge_scores_test)\n",
    "lasso_scores_train = np.array(lasso_scores_train) \n",
    "lasso_scores_test  = np.array(lasso_scores_test)"
   ]
  },
  {
   "cell_type": "code",
   "execution_count": 169,
   "id": "61a66d34",
   "metadata": {},
   "outputs": [
    {
     "data": {
      "text/plain": [
       "3.1381818181818177"
      ]
     },
     "execution_count": 169,
     "metadata": {},
     "output_type": "execute_result"
    }
   ],
   "source": [
    "max_index = list(lasso_scores_test).index(max(lasso_scores_test))\n",
    "alphas[max_index]"
   ]
  },
  {
   "cell_type": "code",
   "execution_count": 172,
   "id": "1a141dc2",
   "metadata": {},
   "outputs": [
    {
     "data": {
      "text/plain": [
       "Text(0, 0.5, '$R^2$')"
      ]
     },
     "execution_count": 172,
     "metadata": {},
     "output_type": "execute_result"
    },
    {
     "data": {
      "image/png": "[encoded data removed]",
      "text/plain": [
       "<Figure size 432x288 with 1 Axes>"
      ]
     },
     "metadata": {
      "needs_background": "light"
     },
     "output_type": "display_data"
    }
   ],
   "source": [
    "plt.plot(alphas, lasso_scores_train, label=r'$train\\ R^2$')\n",
    "plt.plot(alphas, lasso_scores_test, label=r'$test\\ R^2$')\n",
    "plt.title(r'Lasso Train-Test $R^2$ Comparison')\n",
    "# lasso_underfit = lasso_scores_train < lasso_scores_test\n",
    "# last_underfit  = np.max(alphas[lasso_underfit])\n",
    "plt.axvline(alphas[max_index], linestyle='--', color='g', label='optimal lambda', alpha=0.4)\n",
    "plt.legend(loc=1)\n",
    "plt.xlabel(r'hyperparameter $\\lambda$')\n",
    "plt.ylabel(r'$R^2$')"
   ]
  },
  {
   "cell_type": "code",
   "execution_count": 173,
   "id": "4cfe1c76",
   "metadata": {},
   "outputs": [
    {
     "name": "stdout",
     "output_type": "stream",
     "text": [
      "0.9351268272163544\n"
     ]
    },
    {
     "data": {
      "text/plain": [
       "0.9211475146180282"
      ]
     },
     "execution_count": 173,
     "metadata": {},
     "output_type": "execute_result"
    }
   ],
   "source": [
    "lasso.set_params(alpha=alphas[max_index], normalize = True)\n",
    "lasso.fit(X_train, y_train)\n",
    "print(lasso.score(X_train, y_train))\n",
    "lasso.score(X_test, y_test)\n",
    "\n",
    "#So this model is slightly better than MLR"
   ]
  },
  {
   "cell_type": "code",
   "execution_count": 174,
   "id": "642947e7",
   "metadata": {},
   "outputs": [],
   "source": [
    "optimal_coefs = lasso.coef_.reshape(1,230)"
   ]
  },
  {
   "cell_type": "code",
   "execution_count": 175,
   "id": "b8887519",
   "metadata": {},
   "outputs": [
    {
     "data": {
      "text/html": [
       "<div>\n",
       "<style scoped>\n",
       "    .dataframe tbody tr th:only-of-type {\n",
       "        vertical-align: middle;\n",
       "    }\n",
       "\n",
       "    .dataframe tbody tr th {\n",
       "        vertical-align: top;\n",
       "    }\n",
       "\n",
       "    .dataframe thead th {\n",
       "        text-align: right;\n",
       "    }\n",
       "</style>\n",
       "<table border=\"1\" class=\"dataframe\">\n",
       "  <thead>\n",
       "    <tr style=\"text-align: right;\">\n",
       "      <th></th>\n",
       "      <th>GrLivArea</th>\n",
       "      <th>LotFrontage</th>\n",
       "      <th>LotArea</th>\n",
       "      <th>OverallQual</th>\n",
       "      <th>OverallCond</th>\n",
       "      <th>YearBuilt</th>\n",
       "      <th>MasVnrArea</th>\n",
       "      <th>BsmtUnfSF</th>\n",
       "      <th>CentralAir</th>\n",
       "      <th>1stFlrSF</th>\n",
       "      <th>...</th>\n",
       "      <th>SaleType__ConLI</th>\n",
       "      <th>SaleType__ConLw</th>\n",
       "      <th>SaleType__New</th>\n",
       "      <th>SaleType__Oth</th>\n",
       "      <th>SaleType__VWD</th>\n",
       "      <th>SaleCondition__Abnorml</th>\n",
       "      <th>SaleCondition__AdjLand</th>\n",
       "      <th>SaleCondition__Alloca</th>\n",
       "      <th>SaleCondition__Family</th>\n",
       "      <th>SaleCondition__Partial</th>\n",
       "    </tr>\n",
       "  </thead>\n",
       "  <tbody>\n",
       "    <tr>\n",
       "      <th>0</th>\n",
       "      <td>57.848305</td>\n",
       "      <td>10.094066</td>\n",
       "      <td>0.608091</td>\n",
       "      <td>7548.783706</td>\n",
       "      <td>5865.550522</td>\n",
       "      <td>401.939559</td>\n",
       "      <td>28.108922</td>\n",
       "      <td>11.35646</td>\n",
       "      <td>-342.28316</td>\n",
       "      <td>2.229687</td>\n",
       "      <td>...</td>\n",
       "      <td>0.0</td>\n",
       "      <td>-4843.636799</td>\n",
       "      <td>0.0</td>\n",
       "      <td>-9547.535825</td>\n",
       "      <td>-0.0</td>\n",
       "      <td>-1522.335783</td>\n",
       "      <td>-2895.882877</td>\n",
       "      <td>5896.072585</td>\n",
       "      <td>-8204.61863</td>\n",
       "      <td>6987.821785</td>\n",
       "    </tr>\n",
       "  </tbody>\n",
       "</table>\n",
       "<p>1 rows × 230 columns</p>\n",
       "</div>"
      ],
      "text/plain": [
       "   GrLivArea  LotFrontage   LotArea  OverallQual  OverallCond   YearBuilt  \\\n",
       "0  57.848305    10.094066  0.608091  7548.783706  5865.550522  401.939559   \n",
       "\n",
       "   MasVnrArea  BsmtUnfSF  CentralAir  1stFlrSF  ...  SaleType__ConLI  \\\n",
       "0   28.108922   11.35646  -342.28316  2.229687  ...              0.0   \n",
       "\n",
       "   SaleType__ConLw  SaleType__New  SaleType__Oth  SaleType__VWD  \\\n",
       "0     -4843.636799            0.0   -9547.535825           -0.0   \n",
       "\n",
       "   SaleCondition__Abnorml  SaleCondition__AdjLand  SaleCondition__Alloca  \\\n",
       "0            -1522.335783            -2895.882877            5896.072585   \n",
       "\n",
       "   SaleCondition__Family  SaleCondition__Partial  \n",
       "0            -8204.61863             6987.821785  \n",
       "\n",
       "[1 rows x 230 columns]"
      ]
     },
     "execution_count": 175,
     "metadata": {},
     "output_type": "execute_result"
    }
   ],
   "source": [
    "coefs_lasso = pd.DataFrame(optimal_coefs, columns = X_train.columns)  \n",
    "coefs_lasso.head()"
   ]
  },
  {
   "cell_type": "code",
   "execution_count": 176,
   "id": "c8e5587c",
   "metadata": {},
   "outputs": [
    {
     "data": {
      "text/html": [
       "<div>\n",
       "<style scoped>\n",
       "    .dataframe tbody tr th:only-of-type {\n",
       "        vertical-align: middle;\n",
       "    }\n",
       "\n",
       "    .dataframe tbody tr th {\n",
       "        vertical-align: top;\n",
       "    }\n",
       "\n",
       "    .dataframe thead th {\n",
       "        text-align: right;\n",
       "    }\n",
       "</style>\n",
       "<table border=\"1\" class=\"dataframe\">\n",
       "  <thead>\n",
       "    <tr style=\"text-align: right;\">\n",
       "      <th></th>\n",
       "      <th>GrLivArea</th>\n",
       "      <th>LotFrontage</th>\n",
       "      <th>LotArea</th>\n",
       "      <th>OverallQual</th>\n",
       "      <th>OverallCond</th>\n",
       "      <th>YearBuilt</th>\n",
       "      <th>MasVnrArea</th>\n",
       "      <th>BsmtUnfSF</th>\n",
       "      <th>CentralAir</th>\n",
       "      <th>1stFlrSF</th>\n",
       "      <th>...</th>\n",
       "      <th>SaleType__ConLI</th>\n",
       "      <th>SaleType__ConLw</th>\n",
       "      <th>SaleType__New</th>\n",
       "      <th>SaleType__Oth</th>\n",
       "      <th>SaleType__VWD</th>\n",
       "      <th>SaleCondition__Abnorml</th>\n",
       "      <th>SaleCondition__AdjLand</th>\n",
       "      <th>SaleCondition__Alloca</th>\n",
       "      <th>SaleCondition__Family</th>\n",
       "      <th>SaleCondition__Partial</th>\n",
       "    </tr>\n",
       "  </thead>\n",
       "  <tbody>\n",
       "    <tr>\n",
       "      <th>0</th>\n",
       "      <td>False</td>\n",
       "      <td>False</td>\n",
       "      <td>False</td>\n",
       "      <td>False</td>\n",
       "      <td>False</td>\n",
       "      <td>False</td>\n",
       "      <td>False</td>\n",
       "      <td>False</td>\n",
       "      <td>False</td>\n",
       "      <td>False</td>\n",
       "      <td>...</td>\n",
       "      <td>True</td>\n",
       "      <td>False</td>\n",
       "      <td>True</td>\n",
       "      <td>False</td>\n",
       "      <td>True</td>\n",
       "      <td>False</td>\n",
       "      <td>False</td>\n",
       "      <td>False</td>\n",
       "      <td>False</td>\n",
       "      <td>False</td>\n",
       "    </tr>\n",
       "  </tbody>\n",
       "</table>\n",
       "<p>1 rows × 230 columns</p>\n",
       "</div>"
      ],
      "text/plain": [
       "   GrLivArea  LotFrontage  LotArea  OverallQual  OverallCond  YearBuilt  \\\n",
       "0      False        False    False        False        False      False   \n",
       "\n",
       "   MasVnrArea  BsmtUnfSF  CentralAir  1stFlrSF  ...  SaleType__ConLI  \\\n",
       "0       False      False       False     False  ...             True   \n",
       "\n",
       "   SaleType__ConLw  SaleType__New  SaleType__Oth  SaleType__VWD  \\\n",
       "0            False           True          False           True   \n",
       "\n",
       "   SaleCondition__Abnorml  SaleCondition__AdjLand  SaleCondition__Alloca  \\\n",
       "0                   False                   False                  False   \n",
       "\n",
       "   SaleCondition__Family  SaleCondition__Partial  \n",
       "0                  False                   False  \n",
       "\n",
       "[1 rows x 230 columns]"
      ]
     },
     "execution_count": 176,
     "metadata": {},
     "output_type": "execute_result"
    }
   ],
   "source": [
    "coefs_lasso == 0"
   ]
  },
  {
   "cell_type": "code",
   "execution_count": 177,
   "id": "45aead39",
   "metadata": {},
   "outputs": [],
   "source": [
    "to_drop = coefs_lasso.columns[(coefs_lasso == 0).all()]"
   ]
  },
  {
   "cell_type": "code",
   "execution_count": 178,
   "id": "9eb4ec9a",
   "metadata": {},
   "outputs": [
    {
     "data": {
      "text/plain": [
       "Index(['FullBath', 'TotRmsAbvGrd', 'Fence', 'MSSubClass__40', 'MSSubClass__45',\n",
       "       'MSSubClass__50', 'MSSubClass__70', 'MSSubClass__85', 'MSSubClass__180',\n",
       "       'MSZoning__A (agr)', 'MSZoning__I (all)', 'MSZoning__RH',\n",
       "       'LotConfig__Corner', 'Neighborhood__Mitchel', 'Neighborhood__OldTown',\n",
       "       'Neighborhood__SawyerW', 'Neighborhood__Timber', 'Condition1__PosN',\n",
       "       'Condition2__Artery', 'Condition2__RRAn', 'BldgType__2fmCon',\n",
       "       'BldgType__Duplex', 'HouseStyle__2Story', 'HouseStyle__SLvl',\n",
       "       'RoofStyle__Hip', 'Exterior1st__AsbShng', 'Exterior1st__AsphShn',\n",
       "       'Exterior1st__BrkComm', 'Exterior1st__MetalSd', 'Exterior1st__Plywood',\n",
       "       'Exterior1st__Stucco', 'Exterior2nd__Brk Cmn', 'Exterior2nd__CBlock',\n",
       "       'Exterior2nd__PreCast', 'Exterior2nd__Stone', 'Exterior2nd__Wd Sdng',\n",
       "       'Foundation__BrkTil', 'Foundation__Slab', 'BsmtCond__Gd',\n",
       "       'BsmtCond__NA', 'BsmtCond__Po', 'BsmtExposure__NA', 'HeatingQC__Po',\n",
       "       'Electrical__FuseA', 'Electrical__FuseP', 'KitchenQual__Po',\n",
       "       'GarageType__CarPort', 'GarageCond__NA', 'SaleType__ConLI',\n",
       "       'SaleType__New', 'SaleType__VWD'],\n",
       "      dtype='object')"
      ]
     },
     "execution_count": 178,
     "metadata": {},
     "output_type": "execute_result"
    }
   ],
   "source": [
    "to_drop\n"
   ]
  },
  {
   "cell_type": "code",
   "execution_count": 179,
   "id": "18f9debd",
   "metadata": {},
   "outputs": [],
   "source": [
    "#Now should go through these items and see what the deal is. Are they just items that had very few houses matching?\n",
    "#cant just drop cols ?"
   ]
  },
  {
   "cell_type": "markdown",
   "id": "0ee1b6d9",
   "metadata": {},
   "source": [
    "Ridge"
   ]
  },
  {
   "cell_type": "code",
   "execution_count": 317,
   "id": "c36c84a3",
   "metadata": {},
   "outputs": [
    {
     "data": {
      "text/plain": [
       "Text(0, 0.5, '$R^2$')"
      ]
     },
     "execution_count": 317,
     "metadata": {},
     "output_type": "execute_result"
    },
    {
     "data": {
      "image/png": "[encoded data removed]",
      "text/plain": [
       "<Figure size 432x288 with 1 Axes>"
      ]
     },
     "metadata": {
      "needs_background": "light"
     },
     "output_type": "display_data"
    }
   ],
   "source": [
    "plt.plot(alphas, ridge_scores_train, label=r'$train\\ R^2$')\n",
    "plt.plot(alphas, ridge_scores_test, label=r'$test\\ R^2$')\n",
    "plt.title(r'Ridge Train-Test $R^2$ Comparison')\n",
    "ridge_underfit = ridge_scores_train < ridge_scores_test\n",
    "last_underfit  = np.min(alphas[ridge_underfit])\n",
    "plt.axvline(last_underfit, linestyle='--', color='g', label='optimal lambda', alpha=0.4)\n",
    "plt.legend(loc=1)\n",
    "plt.xlabel(r'hyperparameter $\\lambda$')\n",
    "plt.ylabel(r'$R^2$')"
   ]
  },
  {
   "cell_type": "code",
   "execution_count": 316,
   "id": "417c838e",
   "metadata": {},
   "outputs": [
    {
     "data": {
      "text/plain": [
       "0.91855997307293"
      ]
     },
     "execution_count": 316,
     "metadata": {},
     "output_type": "execute_result"
    }
   ],
   "source": [
    "#Pretty bad r2 not even gonna look at what it is at the intersection\n",
    "\n",
    "max(ridge_scores_test)\n",
    "\n"
   ]
  },
  {
   "cell_type": "code",
   "execution_count": 318,
   "id": "3a03fb5f",
   "metadata": {},
   "outputs": [
    {
     "data": {
      "text/plain": [
       "0"
      ]
     },
     "execution_count": 318,
     "metadata": {},
     "output_type": "execute_result"
    }
   ],
   "source": [
    "list(ridge_scores_test).index(max(ridge_scores_test))\n",
    "\n",
    "#this might not have been the right range of alphas to run for ridge. let me try a quick grid search."
   ]
  },
  {
   "cell_type": "code",
   "execution_count": 390,
   "id": "77ad18cf",
   "metadata": {},
   "outputs": [
    {
     "name": "stdout",
     "output_type": "stream",
     "text": [
      "GridSearchCV(estimator=Ridge(),\n",
      "             param_grid={'alpha': array([0.        , 0.00505051, 0.01010101, 0.01515152, 0.02020202,\n",
      "       0.02525253, 0.03030303, 0.03535354, 0.04040404, 0.04545455,\n",
      "       0.05050505, 0.05555556, 0.06060606, 0.06565657, 0.07070707,\n",
      "       0.07575758, 0.08080808, 0.08585859, 0.09090909, 0.0959596 ,\n",
      "       0.1010101 , 0.10606061, 0.11111111, 0.11616162, 0.12121212,\n",
      "       0.12626263, 0.13131313, 0.136...\n",
      "       0.32828283, 0.33333333, 0.33838384, 0.34343434, 0.34848485,\n",
      "       0.35353535, 0.35858586, 0.36363636, 0.36868687, 0.37373737,\n",
      "       0.37878788, 0.38383838, 0.38888889, 0.39393939, 0.3989899 ,\n",
      "       0.4040404 , 0.40909091, 0.41414141, 0.41919192, 0.42424242,\n",
      "       0.42929293, 0.43434343, 0.43939394, 0.44444444, 0.44949495,\n",
      "       0.45454545, 0.45959596, 0.46464646, 0.46969697, 0.47474747,\n",
      "       0.47979798, 0.48484848, 0.48989899, 0.49494949, 0.5       ]),\n",
      "                         'normalize': [True]})\n",
      "0.9000663167552642\n",
      "0.07575757575757576\n"
     ]
    }
   ],
   "source": [
    "#tried cv but couldn't get anything better really\n",
    "ridge = Ridge()\n",
    "# params = {\n",
    "#     \"alpha\": np.linspace(0,10,100)\n",
    "# }\n",
    "\n",
    "params = {\n",
    "    \"alpha\": np.linspace(0,.5,100), 'normalize' : [True] }\n",
    "\n",
    "gs = GridSearchCV(ridge, params)\n",
    "gs.fit(X_train, y_train)\n",
    "\n",
    "print(gs)\n",
    "# summarize the results of the grid search\n",
    "print(gs.best_score_)\n",
    "print(gs.best_estimator_.alpha)\n",
    "\n"
   ]
  },
  {
   "cell_type": "code",
   "execution_count": 391,
   "id": "193ca047",
   "metadata": {},
   "outputs": [
    {
     "data": {
      "text/plain": [
       "0.9178195569765655"
      ]
     },
     "execution_count": 391,
     "metadata": {},
     "output_type": "execute_result"
    }
   ],
   "source": [
    "gs.score(X_test, y_test)"
   ]
  },
  {
   "cell_type": "code",
   "execution_count": 392,
   "id": "e8c5930e",
   "metadata": {},
   "outputs": [
    {
     "data": {
      "text/plain": [
       "0.9182864176271329"
      ]
     },
     "execution_count": 392,
     "metadata": {},
     "output_type": "execute_result"
    }
   ],
   "source": [
    "ridge.set_params(alpha = .0000001, normalize = True)\n",
    "ridge.fit(X_train, y_train)\n",
    "ridge.score(X_test, y_test)"
   ]
  },
  {
   "cell_type": "code",
   "execution_count": 395,
   "id": "417a50dd",
   "metadata": {},
   "outputs": [
    {
     "data": {
      "text/plain": [
       "0.937120774277546"
      ]
     },
     "execution_count": 395,
     "metadata": {},
     "output_type": "execute_result"
    }
   ],
   "source": [
    "ridge.score(X_train, y_train)"
   ]
  },
  {
   "cell_type": "markdown",
   "id": "91ba2a10",
   "metadata": {},
   "source": [
    "Elastic Net"
   ]
  },
  {
   "cell_type": "code",
   "execution_count": null,
   "id": "9a4cbd4f",
   "metadata": {},
   "outputs": [],
   "source": [
    "elasticnet = ElasticNet()"
   ]
  },
  {
   "cell_type": "code",
   "execution_count": null,
   "id": "9a52c8bf",
   "metadata": {},
   "outputs": [],
   "source": [
    "#Doesn't converge idk\n",
    "\n",
    "N_alpha = 100\n",
    "N_rho   = 10\n",
    "alphaRange = np.logspace(-10, 2, N_alpha)\n",
    "rhoRange   = np.linspace(0.1,1, N_rho) # we avoid very small rho by starting at 0.1\n",
    "train_scores     = np.zeros((N_rho, N_alpha))\n",
    "test_scores     = np.zeros((N_rho, N_alpha))\n",
    "for alphaIdx, alpha in enumerate(alphaRange):\n",
    "    for rhoIdx, rho in enumerate(rhoRange):\n",
    "            elasticnet.set_params(max_iter = 30000, alpha=alpha, l1_ratio=rho)\n",
    "            elasticnet.fit(X_train, y_train)\n",
    "            train_scores[rhoIdx, alphaIdx] = elasticnet.score(X_train, y_train)   \n",
    "            elasticnet.fit(X_test, y_test)\n",
    "            test_scores[rhoIdx, alphaIdx] = elasticnet.score(X_test, y_test)   "
   ]
  },
  {
   "cell_type": "code",
   "execution_count": null,
   "id": "604b35ba",
   "metadata": {},
   "outputs": [],
   "source": [
    "#joaquin's lasso didn't normalize and had a better R2\n",
    "#try that too\n",
    "#try log transform\n",
    "\n"
   ]
  },
  {
   "cell_type": "markdown",
   "id": "4aefe251",
   "metadata": {},
   "source": [
    "Lasso and Ridge, not normalized"
   ]
  },
  {
   "cell_type": "code",
   "execution_count": null,
   "id": "0a40604c",
   "metadata": {},
   "outputs": [],
   "source": [
    "#Looking at lecture code\n",
    "ridge.set_params(max_iter = 100000, normalize=False)\n",
    "lasso.set_params(max_iter = 100000, normalize=False)\n",
    "ridge_scores_train = []\n",
    "lasso_scores_train = []\n",
    "ridge_scores_test  = []\n",
    "lasso_scores_test  = []\n",
    "\n",
    "alphas = np.linspace(0.01, 20, 100)\n",
    "\n",
    "for alpha in alphas:\n",
    "            ridge.set_params(alpha=alpha)\n",
    "            lasso.set_params(alpha=alpha)\n",
    "            ridge.fit(X_train, y_train)\n",
    "            lasso.fit(X_train, y_train)\n",
    "            ridge_scores_train.append(ridge.score(X_train, y_train))\n",
    "            ridge_scores_test.append(ridge.score(X_test, y_test))\n",
    "            lasso_scores_train.append(lasso.score(X_train, y_train))\n",
    "            lasso_scores_test.append(lasso.score(X_test, y_test))\n",
    "ridge_scores_train = np.array(ridge_scores_train) \n",
    "ridge_scores_test  = np.array(ridge_scores_test)\n",
    "lasso_scores_train = np.array(lasso_scores_train) \n",
    "lasso_scores_test  = np.array(lasso_scores_test)"
   ]
  },
  {
   "cell_type": "code",
   "execution_count": 140,
   "id": "62ece6c7",
   "metadata": {},
   "outputs": [
    {
     "name": "stdout",
     "output_type": "stream",
     "text": [
      "0.9224049704264469\n"
     ]
    },
    {
     "data": {
      "text/plain": [
       "18.182727272727274"
      ]
     },
     "execution_count": 140,
     "metadata": {},
     "output_type": "execute_result"
    }
   ],
   "source": [
    "max_index = list(lasso_scores_test).index(max(lasso_scores_test))\n",
    "print(max(lasso_scores_test))\n",
    "alphas[max_index]"
   ]
  },
  {
   "cell_type": "code",
   "execution_count": null,
   "id": "b0e2597a",
   "metadata": {},
   "outputs": [],
   "source": [
    "plt.plot(alphas, lasso_scores_train, label=r'$train\\ R^2$')\n",
    "plt.plot(alphas, lasso_scores_test, label=r'$test\\ R^2$')\n",
    "plt.title(r'Lasso Train-Test $R^2$ Comparison')\n",
    "# lasso_underfit = lasso_scores_train < lasso_scores_test\n",
    "# last_underfit  = np.max(alphas[lasso_underfit])\n",
    "plt.axvline(alphas[max_index], linestyle='--', color='g', label='optimal lambda', alpha=0.4)\n",
    "plt.legend(loc=1)\n",
    "plt.xlabel(r'hyperparameter $\\lambda$')\n",
    "plt.ylabel(r'$R^2$')"
   ]
  },
  {
   "cell_type": "code",
   "execution_count": 129,
   "id": "f6c9d167",
   "metadata": {},
   "outputs": [
    {
     "data": {
      "text/plain": [
       "18.182727272727274"
      ]
     },
     "execution_count": 129,
     "metadata": {},
     "output_type": "execute_result"
    }
   ],
   "source": [
    "#So actually not normalizing gives a slightly better R2\n",
    "best_r2 = max(lasso_scores_test)\n",
    "best_r2"
   ]
  },
  {
   "cell_type": "code",
   "execution_count": 131,
   "id": "01f29056",
   "metadata": {
    "scrolled": true
   },
   "outputs": [
    {
     "data": {
      "text/plain": [
       "array([ 3.67994545e+01,  1.67033199e+01,  6.21150250e-01,  7.62228804e+03,\n",
       "        6.28027394e+03,  4.43204046e+02,  2.93416874e+01,  1.44548095e+01,\n",
       "       -1.10484145e+03,  2.24683336e+01,  2.77166738e+01,  1.93727466e+03,\n",
       "       -4.16597731e+02,  7.65741931e+01,  9.29316156e+02, -4.90575824e+03,\n",
       "       -1.05048637e+04,  4.94582361e+01,  2.53668604e+03,  7.78328314e+03,\n",
       "        8.65385298e+00, -1.01384823e+01,  1.25398449e+01, -7.19115395e+00,\n",
       "        2.45117418e+01,  0.00000000e+00, -3.53213417e+02,  5.48758579e+02,\n",
       "        3.07313331e+01,  2.39015400e+03,  0.00000000e+00,  0.00000000e+00,\n",
       "        0.00000000e+00, -4.38189059e+03,  6.87953637e+02,  6.76234586e+03,\n",
       "       -3.57727902e+03, -0.00000000e+00, -1.41657545e+04, -2.59242238e+03,\n",
       "       -1.33873807e+04, -0.00000000e+00, -3.20467705e+03,  0.00000000e+00,\n",
       "       -1.24960422e+04, -7.40486924e+03,  0.00000000e+00, -0.00000000e+00,\n",
       "       -7.10367478e+03, -1.57685029e+03,  3.40398394e+03, -4.94351193e+03,\n",
       "       -8.44978623e+03,  5.25247274e+03, -2.69527074e+03,  0.00000000e+00,\n",
       "        4.47254639e+03, -6.45334121e+03, -2.26219579e+03,  2.66318842e+03,\n",
       "       -1.43172567e+04,  6.70552039e+03,  1.46992343e+04,  1.86076091e+04,\n",
       "        8.52432769e+03,  2.71783373e+03,  1.51833973e+03,  1.72782923e+04,\n",
       "       -4.27409303e+03,  9.82865191e+02,  3.25866060e+03,  5.95873242e+03,\n",
       "        1.69567068e+04, -3.05974347e+02,  1.62234191e+04, -9.04844074e+02,\n",
       "        3.08441940e+04,  2.33402629e+04, -0.00000000e+00, -2.96606707e+03,\n",
       "        2.14014121e+03, -1.65079247e+02,  2.73975926e+04,  3.56167447e+04,\n",
       "       -0.00000000e+00,  2.05271162e+03, -1.07349875e+04, -7.18628312e+03,\n",
       "       -0.00000000e+00, -0.00000000e+00, -1.08738728e+04, -3.99968034e+03,\n",
       "       -0.00000000e+00, -1.07304576e+04,  0.00000000e+00, -6.51109090e+03,\n",
       "        5.80760597e+04, -1.26254328e+05, -0.00000000e+00, -0.00000000e+00,\n",
       "        0.00000000e+00, -0.00000000e+00, -0.00000000e+00, -1.87574599e+04,\n",
       "       -1.44891154e+04, -4.03405556e+03,  1.69519010e+02, -0.00000000e+00,\n",
       "       -1.42867464e+03, -3.75630587e+03, -1.60813439e+03, -0.00000000e+00,\n",
       "       -3.38566183e+03, -8.96629849e+02, -0.00000000e+00,  1.81936170e+03,\n",
       "        0.00000000e+00,  0.00000000e+00,  0.00000000e+00, -0.00000000e+00,\n",
       "        1.11289634e+04, -0.00000000e+00, -5.48863989e+03, -2.94324021e+03,\n",
       "       -0.00000000e+00, -5.45630068e+02, -2.45444170e+03,  1.90753205e+04,\n",
       "        0.00000000e+00, -2.53074176e+03,  1.11812657e+02, -2.01025323e+03,\n",
       "        0.00000000e+00,  0.00000000e+00, -6.92737455e+02, -0.00000000e+00,\n",
       "       -2.26651124e+03, -6.47317577e+02, -6.68357884e+03, -1.03737575e+03,\n",
       "       -2.08626654e+03,  6.03051396e+02, -0.00000000e+00,  4.65308260e+03,\n",
       "        2.15285030e+03, -1.37824135e+03, -8.48963402e+03, -5.43003249e+03,\n",
       "       -2.54968051e+03, -2.35850527e+03,  3.14687462e+04,  3.25226639e+03,\n",
       "        2.37770833e+03, -3.49928558e+03, -4.02497352e+03,  3.33238099e+02,\n",
       "       -0.00000000e+00, -2.39879465e+01,  1.86956243e+03, -0.00000000e+00,\n",
       "        0.00000000e+00, -0.00000000e+00,  1.75122097e+04,  4.25777673e+03,\n",
       "       -1.85520862e+03,  7.90976515e+03,  0.00000000e+00, -0.00000000e+00,\n",
       "       -1.00149236e+03,  0.00000000e+00,  1.01317868e+01,  0.00000000e+00,\n",
       "        4.22954452e+03,  1.77727103e+04, -6.43147606e+02, -0.00000000e+00,\n",
       "       -3.92330461e+03, -2.18598773e+03,  0.00000000e+00, -3.56336028e+03,\n",
       "       -0.00000000e+00,  2.28050823e+02, -0.00000000e+00,  0.00000000e+00,\n",
       "        2.56115465e+04,  1.24510019e+03,  2.32065132e+03,  0.00000000e+00,\n",
       "       -1.88230942e+04, -7.71036495e+03, -1.49440873e+04, -6.58927146e+03,\n",
       "       -1.14094254e+04, -0.00000000e+00, -4.56620419e+03, -1.85947855e+03,\n",
       "       -1.96966351e+03, -0.00000000e+00,  1.44964266e+03,  8.48158436e+03,\n",
       "        6.09438018e+04,  1.48765733e+03,  1.35435923e+04,  2.15686803e+02,\n",
       "       -0.00000000e+00, -2.91508856e+04, -1.44378468e+03, -4.36939894e+03,\n",
       "        1.91114171e+00,  0.00000000e+00,  3.05871731e+02, -2.31940132e+03,\n",
       "        2.02550838e+03,  8.35693803e+02, -4.18837579e+02,  1.72606414e+03,\n",
       "       -3.17088749e+03,  4.73934908e+03,  1.64134535e+04,  6.61719894e+02,\n",
       "        0.00000000e+00, -0.00000000e+00,  0.00000000e+00, -1.83584843e+03,\n",
       "       -0.00000000e+00, -2.87891302e+03, -0.00000000e+00,  0.00000000e+00,\n",
       "       -5.18823512e+03,  6.96015889e+03])"
      ]
     },
     "execution_count": 131,
     "metadata": {},
     "output_type": "execute_result"
    }
   ],
   "source": [
    "best_lasso = Lasso()\n",
    "best_lasso.set_params(alpha = alphas[max_index], normalize = False, max_iter = 100000)\n",
    "best_lasso.fit(X_train, y_train)\n",
    "best_lasso.score(X_test, y_test)\n",
    "best_lasso.coef_"
   ]
  },
  {
   "cell_type": "code",
   "execution_count": 139,
   "id": "86ef03e6",
   "metadata": {},
   "outputs": [
    {
     "data": {
      "text/plain": [
       "171"
      ]
     },
     "execution_count": 139,
     "metadata": {},
     "output_type": "execute_result"
    }
   ],
   "source": [
    "#lets see what variables remain\n",
    "\n",
    "best_coefs_lasso = pd.DataFrame(best_lasso.coef_.reshape(1,230), columns = X_train.columns)  \n",
    "best_coefs_lasso\n",
    "len(best_coefs_lasso.columns[(best_coefs_lasso != 0).all()])\n",
    "#brings us down to 171 columns lol. Probably EDA should focus on info in those?"
   ]
  },
  {
   "cell_type": "markdown",
   "id": "6aad08c0",
   "metadata": {},
   "source": [
    "Lasso not normalized, log transform. Ok so I don't think that's how you're supposed to do it. Probs need to transform the data before finding alpha."
   ]
  },
  {
   "cell_type": "code",
   "execution_count": 143,
   "id": "8abad880",
   "metadata": {},
   "outputs": [
    {
     "name": "stdout",
     "output_type": "stream",
     "text": [
      "Train R2:  0.6203498438765596\n",
      "Test R2:  0.6169216092892774\n"
     ]
    }
   ],
   "source": [
    "# log y lasso model\n",
    "log_lasso = Lasso()\n",
    "log_lasso.set_params(alpha = alphas[max_index])\n",
    "log_lasso.fit(X_train, np.log(y_train))\n",
    "print('Train R2: ', log_lasso.score(X_train, np.log(y_train)))\n",
    "print('Test R2: ', log_lasso.score(X_test, np.log(y_test)))"
   ]
  },
  {
   "cell_type": "markdown",
   "id": "3d7da586",
   "metadata": {},
   "source": [
    "Ridge not normalized"
   ]
  },
  {
   "cell_type": "code",
   "execution_count": null,
   "id": "8deedc5a",
   "metadata": {},
   "outputs": [],
   "source": [
    "max_index = list(ridge_scores_test).index(max(ridge_scores_test))\n",
    "alphas[max_index]"
   ]
  },
  {
   "cell_type": "code",
   "execution_count": null,
   "id": "5bb67e98",
   "metadata": {},
   "outputs": [],
   "source": [
    "plt.plot(alphas, ridge_scores_train, label=r'$train\\ R^2$')\n",
    "plt.plot(alphas, ridge_scores_test, label=r'$test\\ R^2$')\n",
    "plt.title(r'Ridge Train-Test $R^2$ Comparison')\n",
    "# ridge_underfit = ridge_scores_train < ridge_scores_test\n",
    "# last_underfit  = np.min(alphas[ridge_underfit])\n",
    "plt.axvline(alphas[max_index], linestyle='--', color='g', label='optimal lambda', alpha=0.4)\n",
    "plt.legend(loc=1)\n",
    "plt.xlabel(r'hyperparameter $\\lambda$')\n",
    "plt.ylabel(r'$R^2$')"
   ]
  },
  {
   "cell_type": "code",
   "execution_count": null,
   "id": "d6521d11",
   "metadata": {},
   "outputs": [],
   "source": [
    "max(ridge_scores_test)"
   ]
  },
  {
   "cell_type": "markdown",
   "id": "fc65db52",
   "metadata": {},
   "source": [
    "Log MLR"
   ]
  },
  {
   "cell_type": "code",
   "execution_count": 147,
   "id": "97b625e1",
   "metadata": {
    "scrolled": true
   },
   "outputs": [
    {
     "name": "stdout",
     "output_type": "stream",
     "text": [
      "Train R2:  0.9418013723456785\n",
      "Test R2:  0.9231511364639096\n"
     ]
    }
   ],
   "source": [
    "log_ols = linear_model.LinearRegression()\n",
    "log_ols.fit(X_train, np.log(y_train))\n",
    "print('Train R2: ', log_ols.score(X_train, np.log(y_train)))\n",
    "print('Test R2: ', log_ols.score(X_test, np.log(y_test)))\n",
    "\n",
    "#ok now this beats our lasso model!!"
   ]
  },
  {
   "cell_type": "markdown",
   "id": "aa8c941e",
   "metadata": {},
   "source": [
    "Lasso/Ridge Log transform... I guess normalized?"
   ]
  },
  {
   "cell_type": "code",
   "execution_count": 394,
   "id": "f78097fe",
   "metadata": {},
   "outputs": [],
   "source": [
    "#Looking at lecture code\n",
    "#SOS. I am def doing something wrong here, cuz train r2 are basically all 0\n",
    "log_y_train = np.log(y_train)\n",
    "log_y_test = np.log(y_test)\n",
    "\n",
    "log_ridge = Ridge()\n",
    "log_lasso = Lasso()\n",
    "log_ridge.set_params(max_iter = 100000, normalize=True)\n",
    "log_lasso.set_params(max_iter = 100000, normalize=True)\n",
    "log_ridge_scores_train = []\n",
    "log_lasso_scores_train = []\n",
    "log_ridge_scores_test  = []\n",
    "log_lasso_scores_test  = []\n",
    "\n",
    "alphas = np.linspace(0, .12, 1000)\n",
    "\n",
    "for alpha in alphas:\n",
    "            log_ridge.set_params(alpha=alpha)\n",
    "#             log_lasso.set_params(alpha=alpha)\n",
    "            log_ridge.fit(X_train, log_y_train)\n",
    "#             log_lasso.fit(X_train, log_y_train)\n",
    "            log_ridge_scores_train.append(log_ridge.score(X_train, log_y_train))\n",
    "            log_ridge_scores_test.append(log_ridge.score(X_test, log_y_test))\n",
    "#             log_lasso_scores_train.append(log_lasso.score(X_train, log_y_train))\n",
    "#             log_lasso_scores_test.append(log_lasso.score(X_test, log_y_test))\n",
    "log_ridge_scores_train = np.array(log_ridge_scores_train) \n",
    "log_ridge_scores_test  = np.array(log_ridge_scores_test)\n",
    "# log_lasso_scores_train = np.array(log_lasso_scores_train) \n",
    "# log_lasso_scores_test  = np.array(log_lasso_scores_test)"
   ]
  },
  {
   "cell_type": "code",
   "execution_count": 243,
   "id": "e4fe48f9",
   "metadata": {},
   "outputs": [
    {
     "name": "stdout",
     "output_type": "stream",
     "text": [
      "0.9231440517854129\n"
     ]
    },
    {
     "data": {
      "text/plain": [
       "0.0"
      ]
     },
     "execution_count": 243,
     "metadata": {},
     "output_type": "execute_result"
    }
   ],
   "source": [
    "log_max_index = list(log_lasso_scores_test).index(max(log_lasso_scores_test))\n",
    "print(max(log_lasso_scores_test))\n",
    "alphas[log_max_index]"
   ]
  },
  {
   "cell_type": "code",
   "execution_count": 250,
   "id": "3ba6b633",
   "metadata": {},
   "outputs": [
    {
     "ename": "NameError",
     "evalue": "name 'log_lasso_scores' is not defined",
     "output_type": "error",
     "traceback": [
      "\u001b[0;31m---------------------------------------------------------------------------\u001b[0m",
      "\u001b[0;31mNameError\u001b[0m                                 Traceback (most recent call last)",
      "\u001b[0;32m/var/folders/8p/6k3vrp795231q_pwy6nvxz5w0000gn/T/ipykernel_637/11321267.py\u001b[0m in \u001b[0;36m<module>\u001b[0;34m\u001b[0m\n\u001b[0;32m----> 1\u001b[0;31m \u001b[0mlog_lasso_scores\u001b[0m\u001b[0;34m\u001b[0m\u001b[0;34m\u001b[0m\u001b[0m\n\u001b[0m",
      "\u001b[0;31mNameError\u001b[0m: name 'log_lasso_scores' is not defined"
     ]
    }
   ],
   "source": [
    "log_lasso_scores_test"
   ]
  },
  {
   "cell_type": "code",
   "execution_count": 396,
   "id": "ac58108c",
   "metadata": {
    "scrolled": true
   },
   "outputs": [
    {
     "ename": "ValueError",
     "evalue": "x and y must have same first dimension, but have shapes (1000,) and (0,)",
     "output_type": "error",
     "traceback": [
      "\u001b[0;31m---------------------------------------------------------------------------\u001b[0m",
      "\u001b[0;31mValueError\u001b[0m                                Traceback (most recent call last)",
      "\u001b[0;32m/var/folders/8p/6k3vrp795231q_pwy6nvxz5w0000gn/T/ipykernel_637/4285028343.py\u001b[0m in \u001b[0;36m<module>\u001b[0;34m\u001b[0m\n\u001b[1;32m      1\u001b[0m \u001b[0;31m#Lol sos\u001b[0m\u001b[0;34m\u001b[0m\u001b[0;34m\u001b[0m\u001b[0m\n\u001b[0;32m----> 2\u001b[0;31m \u001b[0mplt\u001b[0m\u001b[0;34m.\u001b[0m\u001b[0mplot\u001b[0m\u001b[0;34m(\u001b[0m\u001b[0malphas\u001b[0m\u001b[0;34m,\u001b[0m \u001b[0mlog_lasso_scores_train\u001b[0m\u001b[0;34m,\u001b[0m \u001b[0mlabel\u001b[0m\u001b[0;34m=\u001b[0m\u001b[0;34mr'$train\\ R^2$'\u001b[0m\u001b[0;34m)\u001b[0m\u001b[0;34m\u001b[0m\u001b[0;34m\u001b[0m\u001b[0m\n\u001b[0m\u001b[1;32m      3\u001b[0m \u001b[0mplt\u001b[0m\u001b[0;34m.\u001b[0m\u001b[0mplot\u001b[0m\u001b[0;34m(\u001b[0m\u001b[0malphas\u001b[0m\u001b[0;34m,\u001b[0m \u001b[0mlog_lasso_scores_test\u001b[0m\u001b[0;34m,\u001b[0m \u001b[0mlabel\u001b[0m\u001b[0;34m=\u001b[0m\u001b[0;34mr'$test\\ R^2$'\u001b[0m\u001b[0;34m)\u001b[0m\u001b[0;34m\u001b[0m\u001b[0;34m\u001b[0m\u001b[0m\n\u001b[1;32m      4\u001b[0m \u001b[0mplt\u001b[0m\u001b[0;34m.\u001b[0m\u001b[0mtitle\u001b[0m\u001b[0;34m(\u001b[0m\u001b[0;34mr'Logy Lasso Train-Test $R^2$ Comparison'\u001b[0m\u001b[0;34m)\u001b[0m\u001b[0;34m\u001b[0m\u001b[0;34m\u001b[0m\u001b[0m\n\u001b[1;32m      5\u001b[0m \u001b[0;31m# lasso_underfit = lasso_scores_train < lasso_scores_test\u001b[0m\u001b[0;34m\u001b[0m\u001b[0;34m\u001b[0m\u001b[0m\n",
      "\u001b[0;32m~/opt/anaconda3/lib/python3.9/site-packages/matplotlib/pyplot.py\u001b[0m in \u001b[0;36mplot\u001b[0;34m(scalex, scaley, data, *args, **kwargs)\u001b[0m\n\u001b[1;32m   3017\u001b[0m \u001b[0;34m@\u001b[0m\u001b[0m_copy_docstring_and_deprecators\u001b[0m\u001b[0;34m(\u001b[0m\u001b[0mAxes\u001b[0m\u001b[0;34m.\u001b[0m\u001b[0mplot\u001b[0m\u001b[0;34m)\u001b[0m\u001b[0;34m\u001b[0m\u001b[0;34m\u001b[0m\u001b[0m\n\u001b[1;32m   3018\u001b[0m \u001b[0;32mdef\u001b[0m \u001b[0mplot\u001b[0m\u001b[0;34m(\u001b[0m\u001b[0;34m*\u001b[0m\u001b[0margs\u001b[0m\u001b[0;34m,\u001b[0m \u001b[0mscalex\u001b[0m\u001b[0;34m=\u001b[0m\u001b[0;32mTrue\u001b[0m\u001b[0;34m,\u001b[0m \u001b[0mscaley\u001b[0m\u001b[0;34m=\u001b[0m\u001b[0;32mTrue\u001b[0m\u001b[0;34m,\u001b[0m \u001b[0mdata\u001b[0m\u001b[0;34m=\u001b[0m\u001b[0;32mNone\u001b[0m\u001b[0;34m,\u001b[0m \u001b[0;34m**\u001b[0m\u001b[0mkwargs\u001b[0m\u001b[0;34m)\u001b[0m\u001b[0;34m:\u001b[0m\u001b[0;34m\u001b[0m\u001b[0;34m\u001b[0m\u001b[0m\n\u001b[0;32m-> 3019\u001b[0;31m     return gca().plot(\n\u001b[0m\u001b[1;32m   3020\u001b[0m         \u001b[0;34m*\u001b[0m\u001b[0margs\u001b[0m\u001b[0;34m,\u001b[0m \u001b[0mscalex\u001b[0m\u001b[0;34m=\u001b[0m\u001b[0mscalex\u001b[0m\u001b[0;34m,\u001b[0m \u001b[0mscaley\u001b[0m\u001b[0;34m=\u001b[0m\u001b[0mscaley\u001b[0m\u001b[0;34m,\u001b[0m\u001b[0;34m\u001b[0m\u001b[0;34m\u001b[0m\u001b[0m\n\u001b[1;32m   3021\u001b[0m         **({\"data\": data} if data is not None else {}), **kwargs)\n",
      "\u001b[0;32m~/opt/anaconda3/lib/python3.9/site-packages/matplotlib/axes/_axes.py\u001b[0m in \u001b[0;36mplot\u001b[0;34m(self, scalex, scaley, data, *args, **kwargs)\u001b[0m\n\u001b[1;32m   1603\u001b[0m         \"\"\"\n\u001b[1;32m   1604\u001b[0m         \u001b[0mkwargs\u001b[0m \u001b[0;34m=\u001b[0m \u001b[0mcbook\u001b[0m\u001b[0;34m.\u001b[0m\u001b[0mnormalize_kwargs\u001b[0m\u001b[0;34m(\u001b[0m\u001b[0mkwargs\u001b[0m\u001b[0;34m,\u001b[0m \u001b[0mmlines\u001b[0m\u001b[0;34m.\u001b[0m\u001b[0mLine2D\u001b[0m\u001b[0;34m)\u001b[0m\u001b[0;34m\u001b[0m\u001b[0;34m\u001b[0m\u001b[0m\n\u001b[0;32m-> 1605\u001b[0;31m         \u001b[0mlines\u001b[0m \u001b[0;34m=\u001b[0m \u001b[0;34m[\u001b[0m\u001b[0;34m*\u001b[0m\u001b[0mself\u001b[0m\u001b[0;34m.\u001b[0m\u001b[0m_get_lines\u001b[0m\u001b[0;34m(\u001b[0m\u001b[0;34m*\u001b[0m\u001b[0margs\u001b[0m\u001b[0;34m,\u001b[0m \u001b[0mdata\u001b[0m\u001b[0;34m=\u001b[0m\u001b[0mdata\u001b[0m\u001b[0;34m,\u001b[0m \u001b[0;34m**\u001b[0m\u001b[0mkwargs\u001b[0m\u001b[0;34m)\u001b[0m\u001b[0;34m]\u001b[0m\u001b[0;34m\u001b[0m\u001b[0;34m\u001b[0m\u001b[0m\n\u001b[0m\u001b[1;32m   1606\u001b[0m         \u001b[0;32mfor\u001b[0m \u001b[0mline\u001b[0m \u001b[0;32min\u001b[0m \u001b[0mlines\u001b[0m\u001b[0;34m:\u001b[0m\u001b[0;34m\u001b[0m\u001b[0;34m\u001b[0m\u001b[0m\n\u001b[1;32m   1607\u001b[0m             \u001b[0mself\u001b[0m\u001b[0;34m.\u001b[0m\u001b[0madd_line\u001b[0m\u001b[0;34m(\u001b[0m\u001b[0mline\u001b[0m\u001b[0;34m)\u001b[0m\u001b[0;34m\u001b[0m\u001b[0;34m\u001b[0m\u001b[0m\n",
      "\u001b[0;32m~/opt/anaconda3/lib/python3.9/site-packages/matplotlib/axes/_base.py\u001b[0m in \u001b[0;36m__call__\u001b[0;34m(self, data, *args, **kwargs)\u001b[0m\n\u001b[1;32m    313\u001b[0m                 \u001b[0mthis\u001b[0m \u001b[0;34m+=\u001b[0m \u001b[0margs\u001b[0m\u001b[0;34m[\u001b[0m\u001b[0;36m0\u001b[0m\u001b[0;34m]\u001b[0m\u001b[0;34m,\u001b[0m\u001b[0;34m\u001b[0m\u001b[0;34m\u001b[0m\u001b[0m\n\u001b[1;32m    314\u001b[0m                 \u001b[0margs\u001b[0m \u001b[0;34m=\u001b[0m \u001b[0margs\u001b[0m\u001b[0;34m[\u001b[0m\u001b[0;36m1\u001b[0m\u001b[0;34m:\u001b[0m\u001b[0;34m]\u001b[0m\u001b[0;34m\u001b[0m\u001b[0;34m\u001b[0m\u001b[0m\n\u001b[0;32m--> 315\u001b[0;31m             \u001b[0;32myield\u001b[0m \u001b[0;32mfrom\u001b[0m \u001b[0mself\u001b[0m\u001b[0;34m.\u001b[0m\u001b[0m_plot_args\u001b[0m\u001b[0;34m(\u001b[0m\u001b[0mthis\u001b[0m\u001b[0;34m,\u001b[0m \u001b[0mkwargs\u001b[0m\u001b[0;34m)\u001b[0m\u001b[0;34m\u001b[0m\u001b[0;34m\u001b[0m\u001b[0m\n\u001b[0m\u001b[1;32m    316\u001b[0m \u001b[0;34m\u001b[0m\u001b[0m\n\u001b[1;32m    317\u001b[0m     \u001b[0;32mdef\u001b[0m \u001b[0mget_next_color\u001b[0m\u001b[0;34m(\u001b[0m\u001b[0mself\u001b[0m\u001b[0;34m)\u001b[0m\u001b[0;34m:\u001b[0m\u001b[0;34m\u001b[0m\u001b[0;34m\u001b[0m\u001b[0m\n",
      "\u001b[0;32m~/opt/anaconda3/lib/python3.9/site-packages/matplotlib/axes/_base.py\u001b[0m in \u001b[0;36m_plot_args\u001b[0;34m(self, tup, kwargs, return_kwargs)\u001b[0m\n\u001b[1;32m    499\u001b[0m \u001b[0;34m\u001b[0m\u001b[0m\n\u001b[1;32m    500\u001b[0m         \u001b[0;32mif\u001b[0m \u001b[0mx\u001b[0m\u001b[0;34m.\u001b[0m\u001b[0mshape\u001b[0m\u001b[0;34m[\u001b[0m\u001b[0;36m0\u001b[0m\u001b[0;34m]\u001b[0m \u001b[0;34m!=\u001b[0m \u001b[0my\u001b[0m\u001b[0;34m.\u001b[0m\u001b[0mshape\u001b[0m\u001b[0;34m[\u001b[0m\u001b[0;36m0\u001b[0m\u001b[0;34m]\u001b[0m\u001b[0;34m:\u001b[0m\u001b[0;34m\u001b[0m\u001b[0;34m\u001b[0m\u001b[0m\n\u001b[0;32m--> 501\u001b[0;31m             raise ValueError(f\"x and y must have same first dimension, but \"\n\u001b[0m\u001b[1;32m    502\u001b[0m                              f\"have shapes {x.shape} and {y.shape}\")\n\u001b[1;32m    503\u001b[0m         \u001b[0;32mif\u001b[0m \u001b[0mx\u001b[0m\u001b[0;34m.\u001b[0m\u001b[0mndim\u001b[0m \u001b[0;34m>\u001b[0m \u001b[0;36m2\u001b[0m \u001b[0;32mor\u001b[0m \u001b[0my\u001b[0m\u001b[0;34m.\u001b[0m\u001b[0mndim\u001b[0m \u001b[0;34m>\u001b[0m \u001b[0;36m2\u001b[0m\u001b[0;34m:\u001b[0m\u001b[0;34m\u001b[0m\u001b[0;34m\u001b[0m\u001b[0m\n",
      "\u001b[0;31mValueError\u001b[0m: x and y must have same first dimension, but have shapes (1000,) and (0,)"
     ]
    },
    {
     "data": {
      "image/png": "[encoded data removed]",
      "text/plain": [
       "<Figure size 432x288 with 1 Axes>"
      ]
     },
     "metadata": {
      "needs_background": "light"
     },
     "output_type": "display_data"
    }
   ],
   "source": [
    "#Lol sos\n",
    "plt.plot(alphas, log_lasso_scores_train, label=r'$train\\ R^2$')\n",
    "plt.plot(alphas, log_lasso_scores_test, label=r'$test\\ R^2$')\n",
    "plt.title(r'Logy Lasso Train-Test $R^2$ Comparison')\n",
    "# lasso_underfit = lasso_scores_train < lasso_scores_test\n",
    "# last_underfit  = np.max(alphas[lasso_underfit])\n",
    "plt.axvline(alphas[log_max_index], linestyle='--', color='g', label='optimal lambda', alpha=0.4)\n",
    "plt.legend(loc=1)\n",
    "plt.xlabel(r'hyperparameter $\\lambda$')\n",
    "plt.ylabel(r'$R^2$')"
   ]
  },
  {
   "cell_type": "code",
   "execution_count": 397,
   "id": "183ec5e7",
   "metadata": {
    "scrolled": true
   },
   "outputs": [
    {
     "name": "stdout",
     "output_type": "stream",
     "text": [
      "0.927069685894114\n"
     ]
    },
    {
     "data": {
      "text/plain": [
       "0.11183183183183183"
      ]
     },
     "execution_count": 397,
     "metadata": {},
     "output_type": "execute_result"
    }
   ],
   "source": [
    "log_max_index = list(log_ridge_scores_test).index(max(log_ridge_scores_test))\n",
    "print(max(log_ridge_scores_test))\n",
    "alphas[log_max_index]"
   ]
  },
  {
   "cell_type": "code",
   "execution_count": 398,
   "id": "a93652bf",
   "metadata": {},
   "outputs": [
    {
     "data": {
      "text/plain": [
       "Text(0, 0.5, '$R^2$')"
      ]
     },
     "execution_count": 398,
     "metadata": {},
     "output_type": "execute_result"
    },
    {
     "data": {
      "image/png": "[encoded data removed]",
      "text/plain": [
       "<Figure size 432x288 with 1 Axes>"
      ]
     },
     "metadata": {
      "needs_background": "light"
     },
     "output_type": "display_data"
    }
   ],
   "source": [
    "#Lol sos\n",
    "plt.plot(alphas, log_ridge_scores_train, label=r'$train\\ R^2$')\n",
    "plt.plot(alphas, log_ridge_scores_test, label=r'$test\\ R^2$')\n",
    "plt.title(r'Logy Ridge Train-Test $R^2$ Comparison')\n",
    "# lasso_underfit = lasso_scores_train < lasso_scores_test\n",
    "# last_underfit  = np.max(alphas[lasso_underfit])\n",
    "plt.axvline(alphas[log_max_index], linestyle='--', color='g', label='optimal lambda', alpha=0.4)\n",
    "plt.legend(loc=1)\n",
    "plt.xlabel(r'hyperparameter $\\lambda$')\n",
    "plt.ylabel(r'$R^2$')\n"
   ]
  },
  {
   "cell_type": "code",
   "execution_count": 407,
   "id": "6c493a73",
   "metadata": {},
   "outputs": [
    {
     "data": {
      "text/plain": [
       "0.9270634012613549"
      ]
     },
     "execution_count": 407,
     "metadata": {},
     "output_type": "execute_result"
    }
   ],
   "source": [
    "log_ridge.set_params(alpha = alphas[log_max_index])\n",
    "log_ridge.score(X_train, np.log(y_train))"
   ]
  },
  {
   "cell_type": "code",
   "execution_count": 299,
   "id": "4dbd51f3",
   "metadata": {},
   "outputs": [
    {
     "data": {
      "text/plain": [
       "array([1.00000000e-10, 1.27661695e-10, 1.62975083e-10, 2.08056754e-10,\n",
       "       2.65608778e-10, 3.39080668e-10, 4.32876128e-10, 5.52617002e-10,\n",
       "       7.05480231e-10, 9.00628020e-10, 1.14975700e-09, 1.46779927e-09,\n",
       "       1.87381742e-09, 2.39214708e-09, 3.05385551e-09, 3.89860370e-09,\n",
       "       4.97702356e-09, 6.35375264e-09, 8.11130831e-09, 1.03550337e-08,\n",
       "       1.32194115e-08, 1.68761248e-08, 2.15443469e-08, 2.75038784e-08,\n",
       "       3.51119173e-08, 4.48244688e-08, 5.72236766e-08, 7.30527154e-08,\n",
       "       9.32603347e-08, 1.19057724e-07, 1.51991108e-07, 1.94034425e-07,\n",
       "       2.47707636e-07, 3.16227766e-07, 4.03701726e-07, 5.15372466e-07,\n",
       "       6.57933225e-07, 8.39928706e-07, 1.07226722e-06, 1.36887451e-06,\n",
       "       1.74752840e-06, 2.23092437e-06, 2.84803587e-06, 3.63585086e-06,\n",
       "       4.64158883e-06, 5.92553098e-06, 7.56463328e-06, 9.65713905e-06,\n",
       "       1.23284674e-05, 1.57387304e-05, 2.00923300e-05, 2.56502091e-05,\n",
       "       3.27454916e-05, 4.18034496e-05, 5.33669923e-05, 6.81292069e-05,\n",
       "       8.69749003e-05, 1.11033632e-04, 1.41747416e-04, 1.80957154e-04,\n",
       "       2.31012970e-04, 2.94915073e-04, 3.76493581e-04, 4.80638086e-04,\n",
       "       6.13590727e-04, 7.83320322e-04, 1.00000000e-03, 1.27661695e-03,\n",
       "       1.62975083e-03, 2.08056754e-03, 2.65608778e-03, 3.39080668e-03,\n",
       "       4.32876128e-03, 5.52617002e-03, 7.05480231e-03, 9.00628020e-03,\n",
       "       1.14975700e-02, 1.46779927e-02, 1.87381742e-02, 2.39214708e-02,\n",
       "       3.05385551e-02, 3.89860370e-02, 4.97702356e-02, 6.35375264e-02,\n",
       "       8.11130831e-02, 1.03550337e-01, 1.32194115e-01, 1.68761248e-01,\n",
       "       2.15443469e-01, 2.75038784e-01, 3.51119173e-01, 4.48244688e-01,\n",
       "       5.72236766e-01, 7.30527154e-01, 9.32603347e-01, 1.19057724e+00,\n",
       "       1.51991108e+00, 1.94034425e+00, 2.47707636e+00, 3.16227766e+00])"
      ]
     },
     "execution_count": 299,
     "metadata": {},
     "output_type": "execute_result"
    }
   ],
   "source": [
    "alphas = np.logspace(-10, .5, 100)\n",
    "alphas"
   ]
  },
  {
   "cell_type": "code",
   "execution_count": 301,
   "id": "eb94da79",
   "metadata": {},
   "outputs": [],
   "source": [
    "#tam code plus my update\n",
    "model_lasso = Lasso()\n",
    "\n",
    "\n",
    "log_lasso_scores_train = []\n",
    "\n",
    "log_lasso_scores_test  = []\n",
    "\n",
    "alphas = np.logspace(-10, 0.5, 100)\n",
    "model_lasso.set_params(max_iter = 1000000, normalize = True)\n",
    "for alpha in alphas:\n",
    "            model_lasso.set_params(alpha=alpha)\n",
    "            model_lasso.fit(X_train, log_y_train)\n",
    "            log_lasso_scores_train.append(model_lasso.score(X_train, log_y_train))\n",
    "            log_lasso_scores_test.append(model_lasso.score(X_test, log_y_test))\n",
    "log_lasso_scores_train = np.array(log_lasso_scores_train) \n",
    "log_lasso_scores_test  = np.array(log_lasso_scores_test)"
   ]
  },
  {
   "cell_type": "code",
   "execution_count": 303,
   "id": "2a2eef4e",
   "metadata": {},
   "outputs": [
    {
     "name": "stdout",
     "output_type": "stream",
     "text": [
      "0.930691419798424\n"
     ]
    },
    {
     "data": {
      "text/plain": [
       "3.274549162877732e-05"
      ]
     },
     "execution_count": 303,
     "metadata": {},
     "output_type": "execute_result"
    }
   ],
   "source": [
    "log_max_index = list(log_lasso_scores_test).index(max(log_lasso_scores_test))\n",
    "print(max(log_lasso_scores_test))\n",
    "alphas[log_max_index]"
   ]
  },
  {
   "cell_type": "code",
   "execution_count": 306,
   "id": "53af3af0",
   "metadata": {},
   "outputs": [
    {
     "data": {
      "text/plain": [
       "0.930691419798424"
      ]
     },
     "execution_count": 306,
     "metadata": {},
     "output_type": "execute_result"
    }
   ],
   "source": [
    "#just confirming\n",
    "best_logy_lasso = Lasso()\n",
    "best_logy_lasso.set_params(normalize = True, max_iter = 10000, alpha = alphas[log_max_index])\n",
    "best_logy_lasso.fit(X_train, log_y_train)\n",
    "best_logy_lasso.score(X_train, log_y_train)\n",
    "best_logy_lasso.score(X_test, log_y_test)"
   ]
  },
  {
   "cell_type": "code",
   "execution_count": 315,
   "id": "793bb04c",
   "metadata": {},
   "outputs": [
    {
     "name": "stderr",
     "output_type": "stream",
     "text": [
      "/Users/carolinekeough/opt/anaconda3/lib/python3.9/site-packages/sklearn/linear_model/_coordinate_descent.py:530: ConvergenceWarning: Objective did not converge. You might want to increase the number of iterations. Duality gap: 8675514754.076172, tolerance: 1154369640.498672\n",
      "  model = cd_fast.enet_coordinate_descent(\n"
     ]
    },
    {
     "data": {
      "text/plain": [
       "0.9183092852321574"
      ]
     },
     "execution_count": 315,
     "metadata": {},
     "output_type": "execute_result"
    }
   ],
   "source": [
    "#tam model\n",
    "alpha = .00008\n",
    "\n",
    "tam = Lasso()\n",
    "tam.set_params(normalize = False, max_iter = 1000000, alpha = alpha)\n",
    "tam.fit(X_train, y_train)\n",
    "tam.score(X_train, y_train)\n",
    "tam.score(X_test, y_test)\n"
   ]
  },
  {
   "cell_type": "code",
   "execution_count": 311,
   "id": "954f6c4e",
   "metadata": {},
   "outputs": [],
   "source": [
    "#tams function\n",
    "from sklearn.metrics import mean_squared_error, r2_score\n",
    "def print_score(test, pred, model): \n",
    "    \"\"\"\n",
    "    Create func to print R^2 and RMSE\n",
    "    \"\"\"\n",
    "    r2_ = r2_score(test, pred)\n",
    "    rmse_ = np.sqrt(mean_squared_error(test, pred))\n",
    "    \n",
    "    print(f\"- Regressor: {model}\")\n",
    "    print(f\"R²: {r2_}\")\n",
    "    print(f\"RMSE: {rmse_}\\n\")"
   ]
  },
  {
   "cell_type": "code",
   "execution_count": 312,
   "id": "168ab366",
   "metadata": {},
   "outputs": [
    {
     "name": "stdout",
     "output_type": "stream",
     "text": [
      "- Regressor: Lasso\n",
      "R²: 0.9183092042721847\n",
      "RMSE: 21493.143604698562\n",
      "\n"
     ]
    }
   ],
   "source": [
    "#weird I am getting the same r 2.\n",
    "y_pred_lasso = tam.predict(X_test)\n",
    "print_score(y_test, y_pred_lasso, \"Lasso\")"
   ]
  },
  {
   "cell_type": "code",
   "execution_count": 304,
   "id": "ba838722",
   "metadata": {
    "scrolled": true
   },
   "outputs": [
    {
     "data": {
      "text/plain": [
       "Text(0, 0.5, '$R^2$')"
      ]
     },
     "execution_count": 304,
     "metadata": {},
     "output_type": "execute_result"
    },
    {
     "data": {
      "image/png": "[encoded data removed]",
      "text/plain": [
       "<Figure size 432x288 with 1 Axes>"
      ]
     },
     "metadata": {
      "needs_background": "light"
     },
     "output_type": "display_data"
    }
   ],
   "source": [
    "plt.plot(alphas, log_lasso_scores_train, label=r'$train\\ R^2$')\n",
    "plt.plot(alphas, log_lasso_scores_test, label=r'$test\\ R^2$')\n",
    "plt.title(r'Logy Lasso Train-Test $R^2$ Comparison')\n",
    "# lasso_underfit = lasso_scores_train < lasso_scores_test\n",
    "# last_underfit  = np.max(alphas[lasso_underfit])\n",
    "plt.axvline(alphas[log_max_index], linestyle='--', color='g', label='optimal lambda', alpha=0.4)\n",
    "plt.legend(loc=1)\n",
    "plt.xlabel(r'hyperparameter $\\lambda$')\n",
    "plt.ylabel(r'$R^2$')"
   ]
  },
  {
   "cell_type": "code",
   "execution_count": 302,
   "id": "700e9b55",
   "metadata": {
    "scrolled": true
   },
   "outputs": [],
   "source": [
    "# from sklearn.preprocessing import StandardScaler\n",
    "# scaler = StandardScaler()\n",
    "# scaler.fit(X_train)\n",
    "# scaler.transform(X_train)\n",
    "# #is this right? Do i have to transform y as well?\n",
    "\n",
    "#royce says normalize is enough"
   ]
  },
  {
   "cell_type": "code",
   "execution_count": 409,
   "id": "f2b785c0",
   "metadata": {},
   "outputs": [
    {
     "name": "stderr",
     "output_type": "stream",
     "text": [
      "/Users/carolinekeough/opt/anaconda3/lib/python3.9/site-packages/sklearn/linear_model/_coordinate_descent.py:530: ConvergenceWarning: Objective did not converge. You might want to increase the number of iterations. Duality gap: 0.13907934347141548, tolerance: 0.024449019939731358\n",
      "  model = cd_fast.enet_coordinate_descent(\n",
      "/Users/carolinekeough/opt/anaconda3/lib/python3.9/site-packages/sklearn/linear_model/_coordinate_descent.py:530: ConvergenceWarning: Objective did not converge. You might want to increase the number of iterations. Duality gap: 0.2955479317490486, tolerance: 0.02459119772116573\n",
      "  model = cd_fast.enet_coordinate_descent(\n",
      "/Users/carolinekeough/opt/anaconda3/lib/python3.9/site-packages/sklearn/linear_model/_coordinate_descent.py:530: ConvergenceWarning: Objective did not converge. You might want to increase the number of iterations. Duality gap: 0.3524733246837126, tolerance: 0.023624055224650033\n",
      "  model = cd_fast.enet_coordinate_descent(\n",
      "/Users/carolinekeough/opt/anaconda3/lib/python3.9/site-packages/sklearn/linear_model/_coordinate_descent.py:530: ConvergenceWarning: Objective did not converge. You might want to increase the number of iterations. Duality gap: 0.27357652485073203, tolerance: 0.024794479274727717\n",
      "  model = cd_fast.enet_coordinate_descent(\n",
      "/Users/carolinekeough/opt/anaconda3/lib/python3.9/site-packages/sklearn/linear_model/_coordinate_descent.py:530: ConvergenceWarning: Objective did not converge. You might want to increase the number of iterations. Duality gap: 0.2720179630491266, tolerance: 0.02450579103101998\n",
      "  model = cd_fast.enet_coordinate_descent(\n",
      "/Users/carolinekeough/opt/anaconda3/lib/python3.9/site-packages/sklearn/linear_model/_coordinate_descent.py:530: ConvergenceWarning: Objective did not converge. You might want to increase the number of iterations. Duality gap: 0.13907989824331146, tolerance: 0.024449019939731358\n",
      "  model = cd_fast.enet_coordinate_descent(\n",
      "/Users/carolinekeough/opt/anaconda3/lib/python3.9/site-packages/sklearn/linear_model/_coordinate_descent.py:530: ConvergenceWarning: Objective did not converge. You might want to increase the number of iterations. Duality gap: 0.295548773099819, tolerance: 0.02459119772116573\n",
      "  model = cd_fast.enet_coordinate_descent(\n",
      "/Users/carolinekeough/opt/anaconda3/lib/python3.9/site-packages/sklearn/linear_model/_coordinate_descent.py:530: ConvergenceWarning: Objective did not converge. You might want to increase the number of iterations. Duality gap: 0.35247423709293635, tolerance: 0.023624055224650033\n",
      "  model = cd_fast.enet_coordinate_descent(\n",
      "/Users/carolinekeough/opt/anaconda3/lib/python3.9/site-packages/sklearn/linear_model/_coordinate_descent.py:530: ConvergenceWarning: Objective did not converge. You might want to increase the number of iterations. Duality gap: 0.273577282778243, tolerance: 0.024794479274727717\n",
      "  model = cd_fast.enet_coordinate_descent(\n",
      "/Users/carolinekeough/opt/anaconda3/lib/python3.9/site-packages/sklearn/linear_model/_coordinate_descent.py:530: ConvergenceWarning: Objective did not converge. You might want to increase the number of iterations. Duality gap: 0.27201868318563527, tolerance: 0.02450579103101998\n",
      "  model = cd_fast.enet_coordinate_descent(\n",
      "/Users/carolinekeough/opt/anaconda3/lib/python3.9/site-packages/sklearn/linear_model/_coordinate_descent.py:530: ConvergenceWarning: Objective did not converge. You might want to increase the number of iterations. Duality gap: 0.1390806048332358, tolerance: 0.024449019939731358\n",
      "  model = cd_fast.enet_coordinate_descent(\n",
      "/Users/carolinekeough/opt/anaconda3/lib/python3.9/site-packages/sklearn/linear_model/_coordinate_descent.py:530: ConvergenceWarning: Objective did not converge. You might want to increase the number of iterations. Duality gap: 0.2955498451287255, tolerance: 0.02459119772116573\n",
      "  model = cd_fast.enet_coordinate_descent(\n",
      "/Users/carolinekeough/opt/anaconda3/lib/python3.9/site-packages/sklearn/linear_model/_coordinate_descent.py:530: ConvergenceWarning: Objective did not converge. You might want to increase the number of iterations. Duality gap: 0.3524753976709132, tolerance: 0.023624055224650033\n",
      "  model = cd_fast.enet_coordinate_descent(\n",
      "/Users/carolinekeough/opt/anaconda3/lib/python3.9/site-packages/sklearn/linear_model/_coordinate_descent.py:530: ConvergenceWarning: Objective did not converge. You might want to increase the number of iterations. Duality gap: 0.2735782485655971, tolerance: 0.024794479274727717\n",
      "  model = cd_fast.enet_coordinate_descent(\n",
      "/Users/carolinekeough/opt/anaconda3/lib/python3.9/site-packages/sklearn/linear_model/_coordinate_descent.py:530: ConvergenceWarning: Objective did not converge. You might want to increase the number of iterations. Duality gap: 0.2720195974630464, tolerance: 0.02450579103101998\n",
      "  model = cd_fast.enet_coordinate_descent(\n",
      "/Users/carolinekeough/opt/anaconda3/lib/python3.9/site-packages/sklearn/linear_model/_coordinate_descent.py:530: ConvergenceWarning: Objective did not converge. You might want to increase the number of iterations. Duality gap: 0.13908150270415653, tolerance: 0.024449019939731358\n",
      "  model = cd_fast.enet_coordinate_descent(\n",
      "/Users/carolinekeough/opt/anaconda3/lib/python3.9/site-packages/sklearn/linear_model/_coordinate_descent.py:530: ConvergenceWarning: Objective did not converge. You might want to increase the number of iterations. Duality gap: 0.2955512094156063, tolerance: 0.02459119772116573\n",
      "  model = cd_fast.enet_coordinate_descent(\n",
      "/Users/carolinekeough/opt/anaconda3/lib/python3.9/site-packages/sklearn/linear_model/_coordinate_descent.py:530: ConvergenceWarning: Objective did not converge. You might want to increase the number of iterations. Duality gap: 0.35247687160820185, tolerance: 0.023624055224650033\n",
      "  model = cd_fast.enet_coordinate_descent(\n",
      "/Users/carolinekeough/opt/anaconda3/lib/python3.9/site-packages/sklearn/linear_model/_coordinate_descent.py:530: ConvergenceWarning: Objective did not converge. You might want to increase the number of iterations. Duality gap: 0.2735794772980711, tolerance: 0.024794479274727717\n",
      "  model = cd_fast.enet_coordinate_descent(\n",
      "/Users/carolinekeough/opt/anaconda3/lib/python3.9/site-packages/sklearn/linear_model/_coordinate_descent.py:530: ConvergenceWarning: Objective did not converge. You might want to increase the number of iterations. Duality gap: 0.2720207612000678, tolerance: 0.02450579103101998\n",
      "  model = cd_fast.enet_coordinate_descent(\n",
      "/Users/carolinekeough/opt/anaconda3/lib/python3.9/site-packages/sklearn/linear_model/_coordinate_descent.py:530: ConvergenceWarning: Objective did not converge. You might want to increase the number of iterations. Duality gap: 0.13908264267440806, tolerance: 0.024449019939731358\n",
      "  model = cd_fast.enet_coordinate_descent(\n",
      "/Users/carolinekeough/opt/anaconda3/lib/python3.9/site-packages/sklearn/linear_model/_coordinate_descent.py:530: ConvergenceWarning: Objective did not converge. You might want to increase the number of iterations. Duality gap: 0.295552944668934, tolerance: 0.02459119772116573\n",
      "  model = cd_fast.enet_coordinate_descent(\n",
      "/Users/carolinekeough/opt/anaconda3/lib/python3.9/site-packages/sklearn/linear_model/_coordinate_descent.py:530: ConvergenceWarning: Objective did not converge. You might want to increase the number of iterations. Duality gap: 0.35247873994684653, tolerance: 0.023624055224650033\n",
      "  model = cd_fast.enet_coordinate_descent(\n",
      "/Users/carolinekeough/opt/anaconda3/lib/python3.9/site-packages/sklearn/linear_model/_coordinate_descent.py:530: ConvergenceWarning: Objective did not converge. You might want to increase the number of iterations. Duality gap: 0.27358104016234286, tolerance: 0.024794479274727717\n",
      "  model = cd_fast.enet_coordinate_descent(\n",
      "/Users/carolinekeough/opt/anaconda3/lib/python3.9/site-packages/sklearn/linear_model/_coordinate_descent.py:530: ConvergenceWarning: Objective did not converge. You might want to increase the number of iterations. Duality gap: 0.2720222400434089, tolerance: 0.02450579103101998\n",
      "  model = cd_fast.enet_coordinate_descent(\n",
      "/Users/carolinekeough/opt/anaconda3/lib/python3.9/site-packages/sklearn/linear_model/_coordinate_descent.py:530: ConvergenceWarning: Objective did not converge. You might want to increase the number of iterations. Duality gap: 0.1390840871929928, tolerance: 0.024449019939731358\n",
      "  model = cd_fast.enet_coordinate_descent(\n"
     ]
    },
    {
     "name": "stderr",
     "output_type": "stream",
     "text": [
      "/Users/carolinekeough/opt/anaconda3/lib/python3.9/site-packages/sklearn/linear_model/_coordinate_descent.py:530: ConvergenceWarning: Objective did not converge. You might want to increase the number of iterations. Duality gap: 0.29555514978748754, tolerance: 0.02459119772116573\n",
      "  model = cd_fast.enet_coordinate_descent(\n",
      "/Users/carolinekeough/opt/anaconda3/lib/python3.9/site-packages/sklearn/linear_model/_coordinate_descent.py:530: ConvergenceWarning: Objective did not converge. You might want to increase the number of iterations. Duality gap: 0.3524811056990913, tolerance: 0.023624055224650033\n",
      "  model = cd_fast.enet_coordinate_descent(\n",
      "/Users/carolinekeough/opt/anaconda3/lib/python3.9/site-packages/sklearn/linear_model/_coordinate_descent.py:530: ConvergenceWarning: Objective did not converge. You might want to increase the number of iterations. Duality gap: 0.27358302466782547, tolerance: 0.024794479274727717\n",
      "  model = cd_fast.enet_coordinate_descent(\n",
      "/Users/carolinekeough/opt/anaconda3/lib/python3.9/site-packages/sklearn/linear_model/_coordinate_descent.py:530: ConvergenceWarning: Objective did not converge. You might want to increase the number of iterations. Duality gap: 0.27202411757467715, tolerance: 0.02450579103101998\n",
      "  model = cd_fast.enet_coordinate_descent(\n",
      "/Users/carolinekeough/opt/anaconda3/lib/python3.9/site-packages/sklearn/linear_model/_coordinate_descent.py:530: ConvergenceWarning: Objective did not converge. You might want to increase the number of iterations. Duality gap: 0.13908591520369384, tolerance: 0.024449019939731358\n",
      "  model = cd_fast.enet_coordinate_descent(\n",
      "/Users/carolinekeough/opt/anaconda3/lib/python3.9/site-packages/sklearn/linear_model/_coordinate_descent.py:530: ConvergenceWarning: Objective did not converge. You might want to increase the number of iterations. Duality gap: 0.29555794793318846, tolerance: 0.02459119772116573\n",
      "  model = cd_fast.enet_coordinate_descent(\n",
      "/Users/carolinekeough/opt/anaconda3/lib/python3.9/site-packages/sklearn/linear_model/_coordinate_descent.py:530: ConvergenceWarning: Objective did not converge. You might want to increase the number of iterations. Duality gap: 0.352484091823273, tolerance: 0.023624055224650033\n",
      "  model = cd_fast.enet_coordinate_descent(\n",
      "/Users/carolinekeough/opt/anaconda3/lib/python3.9/site-packages/sklearn/linear_model/_coordinate_descent.py:530: ConvergenceWarning: Objective did not converge. You might want to increase the number of iterations. Duality gap: 0.2735855410321335, tolerance: 0.024794479274727717\n",
      "  model = cd_fast.enet_coordinate_descent(\n",
      "/Users/carolinekeough/opt/anaconda3/lib/python3.9/site-packages/sklearn/linear_model/_coordinate_descent.py:530: ConvergenceWarning: Objective did not converge. You might want to increase the number of iterations. Duality gap: 0.13908822153582534, tolerance: 0.024449019939731358\n",
      "  model = cd_fast.enet_coordinate_descent(\n",
      "/Users/carolinekeough/opt/anaconda3/lib/python3.9/site-packages/sklearn/linear_model/_coordinate_descent.py:530: ConvergenceWarning: Objective did not converge. You might want to increase the number of iterations. Duality gap: 0.3524878486704086, tolerance: 0.023624055224650033\n",
      "  model = cd_fast.enet_coordinate_descent(\n",
      "/Users/carolinekeough/opt/anaconda3/lib/python3.9/site-packages/sklearn/linear_model/_coordinate_descent.py:530: ConvergenceWarning: Objective did not converge. You might want to increase the number of iterations. Duality gap: 0.27358872605675266, tolerance: 0.024794479274727717\n",
      "  model = cd_fast.enet_coordinate_descent(\n",
      "/Users/carolinekeough/opt/anaconda3/lib/python3.9/site-packages/sklearn/linear_model/_coordinate_descent.py:530: ConvergenceWarning: Objective did not converge. You might want to increase the number of iterations. Duality gap: 0.38787415616888943, tolerance: 0.023624055224650033\n",
      "  model = cd_fast.enet_coordinate_descent(\n",
      "/Users/carolinekeough/opt/anaconda3/lib/python3.9/site-packages/sklearn/linear_model/_coordinate_descent.py:530: ConvergenceWarning: Objective did not converge. You might want to increase the number of iterations. Duality gap: 0.38788008439217414, tolerance: 0.023624055224650033\n",
      "  model = cd_fast.enet_coordinate_descent(\n"
     ]
    },
    {
     "data": {
      "text/plain": [
       "{'mean_fit_time': array([3.54996420e+01, 3.57967403e+01, 3.62325753e+01, 3.68408679e+01,\n",
       "        3.64087171e+01, 3.61284293e+01, 3.59235826e+01, 3.38456153e+01,\n",
       "        2.97549138e+01, 2.46435138e+01, 1.98585331e+01, 1.53969372e+01,\n",
       "        1.20387324e+01, 9.40280294e+00, 7.35348039e+00, 5.75225916e+00,\n",
       "        4.46456304e+00, 3.50268602e+00, 2.76969600e+00, 2.15217490e+00,\n",
       "        1.64057989e+00, 1.28767080e+00, 9.99770212e-01, 7.73039007e-01,\n",
       "        6.33172894e-01, 5.22523403e-01, 4.62745428e-01, 4.11840916e-01,\n",
       "        3.84381533e-01, 3.72145700e-01, 3.56766796e-01, 3.49643564e-01,\n",
       "        3.16087198e-01, 2.95394087e-01, 2.75946569e-01, 2.56585312e-01,\n",
       "        2.36815691e-01, 2.18842554e-01, 1.99343824e-01, 1.87091064e-01,\n",
       "        1.76561785e-01, 1.68062401e-01, 1.63401413e-01, 1.45641184e-01,\n",
       "        1.37552166e-01, 1.25374413e-01, 1.09831619e-01, 9.09983635e-02,\n",
       "        5.97026825e-02, 2.77890682e-02, 2.47145653e-02, 2.21346855e-02,\n",
       "        1.99052334e-02, 1.91974163e-02, 1.72165394e-02, 1.59768581e-02,\n",
       "        1.57122135e-02, 1.64230347e-02, 1.62343979e-02, 1.47722244e-02,\n",
       "        1.44037724e-02, 1.25991821e-02, 1.05822563e-02, 9.36775208e-03,\n",
       "        8.87823105e-03, 8.54158401e-03, 8.36353302e-03, 8.07523727e-03,\n",
       "        7.75742531e-03, 8.15477371e-03, 7.69667625e-03, 8.23249817e-03,\n",
       "        7.00182915e-03, 6.88691139e-03, 6.33516312e-03, 6.36563301e-03,\n",
       "        6.21643066e-03, 6.08797073e-03, 7.01951981e-03, 6.39309883e-03,\n",
       "        6.25052452e-03, 6.18104935e-03, 6.08096123e-03, 6.19673729e-03,\n",
       "        7.05962181e-03, 5.98917007e-03, 6.31794930e-03, 6.17389679e-03,\n",
       "        6.16431236e-03, 6.15429878e-03, 6.03756905e-03, 6.03165627e-03,\n",
       "        6.05921745e-03, 6.16712570e-03, 6.17938042e-03, 6.18453026e-03,\n",
       "        6.19001389e-03, 6.26187325e-03, 6.08620644e-03, 6.15968704e-03]),\n",
       " 'std_fit_time': array([6.78346227e-01, 8.18797883e-01, 8.56879056e-01, 7.95395139e-01,\n",
       "        7.76310912e-01, 5.68979849e-01, 5.65356452e-01, 3.21307971e+00,\n",
       "        5.34933582e+00, 6.59001265e+00, 6.07095367e+00, 4.69525849e+00,\n",
       "        3.71301534e+00, 2.89843884e+00, 2.24757444e+00, 1.77739455e+00,\n",
       "        1.40095948e+00, 1.07651087e+00, 8.35847959e-01, 7.11199002e-01,\n",
       "        5.16736988e-01, 4.12214872e-01, 2.95471524e-01, 2.40044431e-01,\n",
       "        1.90920684e-01, 1.18442598e-01, 8.19112827e-02, 6.82275777e-02,\n",
       "        6.92521500e-02, 6.09359433e-02, 5.12020598e-02, 4.65580590e-02,\n",
       "        4.51382875e-02, 4.21443991e-02, 3.64012293e-02, 3.50833129e-02,\n",
       "        3.27213409e-02, 2.29706984e-02, 1.57829885e-02, 1.48755681e-02,\n",
       "        2.18414148e-02, 2.67946082e-02, 2.99285900e-02, 3.68788552e-02,\n",
       "        3.77936841e-02, 3.65089084e-02, 3.08485769e-02, 3.62808423e-02,\n",
       "        2.98125976e-02, 4.73072948e-03, 2.13324803e-03, 2.63369695e-03,\n",
       "        1.11860321e-03, 2.01429380e-03, 1.49182000e-03, 7.63609851e-04,\n",
       "        7.43841489e-04, 1.87146789e-03, 1.90975356e-03, 2.17751684e-03,\n",
       "        1.76466541e-03, 1.53159368e-03, 8.69218612e-04, 3.73144664e-04,\n",
       "        3.99876534e-04, 3.18760701e-04, 2.68932623e-04, 3.55070283e-04,\n",
       "        5.83243483e-04, 1.05483987e-03, 9.86816053e-04, 1.84801271e-03,\n",
       "        4.18169452e-04, 2.70787984e-04, 2.19777376e-04, 4.32333413e-04,\n",
       "        2.14036611e-04, 1.99580100e-04, 1.93655441e-03, 6.78619871e-04,\n",
       "        3.03530790e-04, 2.60715590e-04, 1.90419927e-04, 3.11776504e-04,\n",
       "        1.25423926e-03, 1.89802550e-04, 4.71632824e-04, 2.03319271e-04,\n",
       "        2.78545927e-04, 2.71780407e-04, 1.08983070e-04, 1.07037527e-04,\n",
       "        3.32635067e-04, 2.83628594e-04, 2.65004086e-04, 1.19147991e-04,\n",
       "        2.38257516e-04, 9.84691707e-05, 4.70082400e-04, 2.34126054e-04]),\n",
       " 'mean_score_time': array([0.00639377, 0.00779676, 0.00793533, 0.00641503, 0.00654035,\n",
       "        0.00522881, 0.00634937, 0.00673985, 0.00794392, 0.00568581,\n",
       "        0.00713873, 0.00412197, 0.00453095, 0.00506983, 0.00430198,\n",
       "        0.00387816, 0.00351081, 0.00429659, 0.00377865, 0.00381408,\n",
       "        0.00374789, 0.00361519, 0.00371733, 0.00350184, 0.00354743,\n",
       "        0.00371494, 0.00352163, 0.00333662, 0.00380182, 0.00314384,\n",
       "        0.00373621, 0.00394731, 0.0035779 , 0.00366793, 0.00330176,\n",
       "        0.00346522, 0.00325022, 0.00341897, 0.00326419, 0.00388803,\n",
       "        0.00329347, 0.00346022, 0.00406256, 0.00336661, 0.00334525,\n",
       "        0.00325518, 0.00362282, 0.00391808, 0.00381627, 0.00318809,\n",
       "        0.00322509, 0.00328836, 0.00305672, 0.00338311, 0.00303321,\n",
       "        0.00303035, 0.00305719, 0.00305619, 0.00307536, 0.00306425,\n",
       "        0.00308518, 0.0031476 , 0.00321736, 0.00344634, 0.00306597,\n",
       "        0.0031302 , 0.00307522, 0.00303006, 0.00324216, 0.00300784,\n",
       "        0.0029067 , 0.00291295, 0.00301881, 0.0034893 , 0.00322032,\n",
       "        0.00303512, 0.00325584, 0.0029808 , 0.00319767, 0.00293727,\n",
       "        0.00308771, 0.00310616, 0.00292611, 0.00309181, 0.00303731,\n",
       "        0.00288949, 0.00305023, 0.00316324, 0.00316334, 0.0030107 ,\n",
       "        0.0030683 , 0.00321593, 0.00299702, 0.00302224, 0.0030004 ,\n",
       "        0.00310779, 0.00298815, 0.00294561, 0.00318947, 0.00302296]),\n",
       " 'std_score_time': array([2.34422149e-03, 2.62438365e-03, 2.75647664e-03, 2.30710881e-03,\n",
       "        2.40263526e-03, 1.39751445e-03, 2.46404486e-03, 1.59752296e-03,\n",
       "        2.74529679e-03, 2.52172986e-03, 3.39557478e-03, 6.62701060e-04,\n",
       "        7.51919530e-04, 1.70650931e-03, 1.25280511e-03, 2.87044698e-04,\n",
       "        2.40718647e-04, 3.28956142e-04, 1.95355790e-04, 4.53870144e-04,\n",
       "        5.99286683e-04, 3.26030181e-04, 5.57228496e-04, 2.07322655e-04,\n",
       "        4.04412310e-04, 5.16914454e-04, 1.63799040e-04, 7.59870197e-05,\n",
       "        9.34541455e-04, 1.34177299e-04, 6.51709419e-04, 4.93378834e-04,\n",
       "        2.19706331e-04, 6.41589998e-04, 9.18400746e-05, 4.35261033e-04,\n",
       "        1.41702863e-04, 2.36180212e-04, 1.61823737e-04, 6.79462643e-04,\n",
       "        1.69278561e-04, 9.38356163e-05, 4.98069037e-04, 8.88541744e-05,\n",
       "        1.52663346e-04, 2.33893433e-04, 4.92290142e-04, 4.53394177e-04,\n",
       "        4.80184408e-04, 3.18869868e-04, 1.98742902e-04, 4.17755497e-04,\n",
       "        1.14897216e-04, 4.70204656e-04, 2.16285966e-04, 2.01370167e-04,\n",
       "        1.18938080e-04, 1.90133853e-04, 1.41471325e-04, 1.97345647e-04,\n",
       "        1.14088051e-04, 3.86879236e-05, 4.96886389e-04, 5.78739343e-04,\n",
       "        1.86914059e-04, 9.28880742e-05, 8.20943547e-05, 1.62753331e-04,\n",
       "        3.96598442e-04, 6.19083395e-05, 2.11570213e-04, 1.36679397e-04,\n",
       "        1.93968975e-04, 5.60699560e-04, 3.99536389e-04, 9.11470704e-05,\n",
       "        4.61109989e-04, 1.73884644e-04, 3.81559034e-04, 1.15461507e-04,\n",
       "        1.44270658e-04, 5.06737192e-04, 1.27189642e-04, 1.19026139e-04,\n",
       "        1.48240198e-04, 2.76769366e-05, 1.48160879e-04, 4.00028767e-04,\n",
       "        4.67708492e-04, 9.60160372e-05, 3.83382905e-04, 5.44107149e-04,\n",
       "        1.18224617e-04, 1.16243511e-04, 1.61470721e-04, 4.30032836e-04,\n",
       "        1.63692467e-04, 1.17294614e-04, 3.61632955e-04, 1.83788865e-04]),\n",
       " 'param_alpha': masked_array(data=[1e-10, 1.2766169490574063e-10, 1.6297508346206467e-10,\n",
       "                    2.0805675382171715e-10, 2.656087782946684e-10,\n",
       "                    3.39080668189406e-10, 4.3287612810830617e-10,\n",
       "                    5.526170019854087e-10, 7.054802310718631e-10,\n",
       "                    9.006280202112795e-10, 1.1497569953977357e-09,\n",
       "                    1.4677992676220676e-09, 1.873817422860387e-09,\n",
       "                    2.3921470814626386e-09, 3.0538555088334124e-09,\n",
       "                    3.8986037025490796e-09, 4.977023564332114e-09,\n",
       "                    6.3537526380844806e-09, 8.11130830789689e-09,\n",
       "                    1.0355033664891318e-08, 1.3219411484660288e-08,\n",
       "                    1.6876124757881487e-08, 2.1544346900318866e-08,\n",
       "                    2.7503878409319457e-08, 3.5111917342151277e-08,\n",
       "                    4.4824468792893085e-08, 5.72236765935022e-08,\n",
       "                    7.305271542664448e-08, 9.3260334688322e-08,\n",
       "                    1.1905772393787846e-07, 1.519911082952933e-07,\n",
       "                    1.9403442495579159e-07, 2.477076355991714e-07,\n",
       "                    3.162277660168379e-07, 4.0370172585965496e-07,\n",
       "                    5.153724655961643e-07, 6.579332246575682e-07,\n",
       "                    8.399287059458458e-07, 1.0722672220103232e-06,\n",
       "                    1.368874509537082e-06, 1.747528400007683e-06,\n",
       "                    2.2309243744089833e-06, 2.848035868435805e-06,\n",
       "                    3.6358508611685775e-06, 4.641588833612782e-06,\n",
       "                    5.925530975545674e-06, 7.564633275546291e-06,\n",
       "                    9.657139052966059e-06, 1.2328467394420658e-05,\n",
       "                    1.5738730431619046e-05, 2.0092330025650458e-05,\n",
       "                    2.565020905680046e-05, 3.274549162877732e-05,\n",
       "                    4.180344961851453e-05, 5.3366992312063123e-05,\n",
       "                    6.812920690579622e-05, 8.697490026177834e-05,\n",
       "                    0.0001110336318167639, 0.00014174741629268049,\n",
       "                    0.0001809571541243322, 0.00023101297000831627,\n",
       "                    0.0002949150729647068, 0.00037649358067924713,\n",
       "                    0.0004806380863064389, 0.0006135907273413176,\n",
       "                    0.0007833203223083893, 0.001, 0.0012766169490574088,\n",
       "                    0.0016297508346206436, 0.0020805675382171715,\n",
       "                    0.0026560877829466894, 0.003390806681894053,\n",
       "                    0.004328761281083062, 0.0055261700198540875,\n",
       "                    0.007054802310718645, 0.009006280202112795,\n",
       "                    0.011497569953977356, 0.014677992676220676,\n",
       "                    0.01873817422860387, 0.023921470814626387,\n",
       "                    0.030538555088334123, 0.0389860370254908,\n",
       "                    0.04977023564332114, 0.06353752638084481,\n",
       "                    0.08111308307896889, 0.1035503366489132,\n",
       "                    0.13219411484660287, 0.16876124757881522,\n",
       "                    0.21544346900318867, 0.2750387840931946,\n",
       "                    0.3511191734215127, 0.44824468792893174,\n",
       "                    0.572236765935022, 0.7305271542664449,\n",
       "                    0.9326033468832219, 1.1905772393787846,\n",
       "                    1.5199110829529332, 1.9403442495579197,\n",
       "                    2.4770763559917137, 3.1622776601683795],\n",
       "              mask=[False, False, False, False, False, False, False, False,\n",
       "                    False, False, False, False, False, False, False, False,\n",
       "                    False, False, False, False, False, False, False, False,\n",
       "                    False, False, False, False, False, False, False, False,\n",
       "                    False, False, False, False, False, False, False, False,\n",
       "                    False, False, False, False, False, False, False, False,\n",
       "                    False, False, False, False, False, False, False, False,\n",
       "                    False, False, False, False, False, False, False, False,\n",
       "                    False, False, False, False, False, False, False, False,\n",
       "                    False, False, False, False, False, False, False, False,\n",
       "                    False, False, False, False, False, False, False, False,\n",
       "                    False, False, False, False, False, False, False, False,\n",
       "                    False, False, False, False],\n",
       "        fill_value='?',\n",
       "             dtype=object),\n",
       " 'param_max_iter': masked_array(data=[100000, 100000, 100000, 100000, 100000, 100000, 100000,\n",
       "                    100000, 100000, 100000, 100000, 100000, 100000, 100000,\n",
       "                    100000, 100000, 100000, 100000, 100000, 100000, 100000,\n",
       "                    100000, 100000, 100000, 100000, 100000, 100000, 100000,\n",
       "                    100000, 100000, 100000, 100000, 100000, 100000, 100000,\n",
       "                    100000, 100000, 100000, 100000, 100000, 100000, 100000,\n",
       "                    100000, 100000, 100000, 100000, 100000, 100000, 100000,\n",
       "                    100000, 100000, 100000, 100000, 100000, 100000, 100000,\n",
       "                    100000, 100000, 100000, 100000, 100000, 100000, 100000,\n",
       "                    100000, 100000, 100000, 100000, 100000, 100000, 100000,\n",
       "                    100000, 100000, 100000, 100000, 100000, 100000, 100000,\n",
       "                    100000, 100000, 100000, 100000, 100000, 100000, 100000,\n",
       "                    100000, 100000, 100000, 100000, 100000, 100000, 100000,\n",
       "                    100000, 100000, 100000, 100000, 100000, 100000, 100000,\n",
       "                    100000, 100000],\n",
       "              mask=[False, False, False, False, False, False, False, False,\n",
       "                    False, False, False, False, False, False, False, False,\n",
       "                    False, False, False, False, False, False, False, False,\n",
       "                    False, False, False, False, False, False, False, False,\n",
       "                    False, False, False, False, False, False, False, False,\n",
       "                    False, False, False, False, False, False, False, False,\n",
       "                    False, False, False, False, False, False, False, False,\n",
       "                    False, False, False, False, False, False, False, False,\n",
       "                    False, False, False, False, False, False, False, False,\n",
       "                    False, False, False, False, False, False, False, False,\n",
       "                    False, False, False, False, False, False, False, False,\n",
       "                    False, False, False, False, False, False, False, False,\n",
       "                    False, False, False, False],\n",
       "        fill_value='?',\n",
       "             dtype=object),\n",
       " 'param_normalize': masked_array(data=[True, True, True, True, True, True, True, True, True,\n",
       "                    True, True, True, True, True, True, True, True, True,\n",
       "                    True, True, True, True, True, True, True, True, True,\n",
       "                    True, True, True, True, True, True, True, True, True,\n",
       "                    True, True, True, True, True, True, True, True, True,\n",
       "                    True, True, True, True, True, True, True, True, True,\n",
       "                    True, True, True, True, True, True, True, True, True,\n",
       "                    True, True, True, True, True, True, True, True, True,\n",
       "                    True, True, True, True, True, True, True, True, True,\n",
       "                    True, True, True, True, True, True, True, True, True,\n",
       "                    True, True, True, True, True, True, True, True, True,\n",
       "                    True],\n",
       "              mask=[False, False, False, False, False, False, False, False,\n",
       "                    False, False, False, False, False, False, False, False,\n",
       "                    False, False, False, False, False, False, False, False,\n",
       "                    False, False, False, False, False, False, False, False,\n",
       "                    False, False, False, False, False, False, False, False,\n",
       "                    False, False, False, False, False, False, False, False,\n",
       "                    False, False, False, False, False, False, False, False,\n",
       "                    False, False, False, False, False, False, False, False,\n",
       "                    False, False, False, False, False, False, False, False,\n",
       "                    False, False, False, False, False, False, False, False,\n",
       "                    False, False, False, False, False, False, False, False,\n",
       "                    False, False, False, False, False, False, False, False,\n",
       "                    False, False, False, False],\n",
       "        fill_value='?',\n",
       "             dtype=object),\n",
       " 'params': [{'alpha': 1e-10, 'max_iter': 100000, 'normalize': True},\n",
       "  {'alpha': 1.2766169490574063e-10, 'max_iter': 100000, 'normalize': True},\n",
       "  {'alpha': 1.6297508346206467e-10, 'max_iter': 100000, 'normalize': True},\n",
       "  {'alpha': 2.0805675382171715e-10, 'max_iter': 100000, 'normalize': True},\n",
       "  {'alpha': 2.656087782946684e-10, 'max_iter': 100000, 'normalize': True},\n",
       "  {'alpha': 3.39080668189406e-10, 'max_iter': 100000, 'normalize': True},\n",
       "  {'alpha': 4.3287612810830617e-10, 'max_iter': 100000, 'normalize': True},\n",
       "  {'alpha': 5.526170019854087e-10, 'max_iter': 100000, 'normalize': True},\n",
       "  {'alpha': 7.054802310718631e-10, 'max_iter': 100000, 'normalize': True},\n",
       "  {'alpha': 9.006280202112795e-10, 'max_iter': 100000, 'normalize': True},\n",
       "  {'alpha': 1.1497569953977357e-09, 'max_iter': 100000, 'normalize': True},\n",
       "  {'alpha': 1.4677992676220676e-09, 'max_iter': 100000, 'normalize': True},\n",
       "  {'alpha': 1.873817422860387e-09, 'max_iter': 100000, 'normalize': True},\n",
       "  {'alpha': 2.3921470814626386e-09, 'max_iter': 100000, 'normalize': True},\n",
       "  {'alpha': 3.0538555088334124e-09, 'max_iter': 100000, 'normalize': True},\n",
       "  {'alpha': 3.8986037025490796e-09, 'max_iter': 100000, 'normalize': True},\n",
       "  {'alpha': 4.977023564332114e-09, 'max_iter': 100000, 'normalize': True},\n",
       "  {'alpha': 6.3537526380844806e-09, 'max_iter': 100000, 'normalize': True},\n",
       "  {'alpha': 8.11130830789689e-09, 'max_iter': 100000, 'normalize': True},\n",
       "  {'alpha': 1.0355033664891318e-08, 'max_iter': 100000, 'normalize': True},\n",
       "  {'alpha': 1.3219411484660288e-08, 'max_iter': 100000, 'normalize': True},\n",
       "  {'alpha': 1.6876124757881487e-08, 'max_iter': 100000, 'normalize': True},\n",
       "  {'alpha': 2.1544346900318866e-08, 'max_iter': 100000, 'normalize': True},\n",
       "  {'alpha': 2.7503878409319457e-08, 'max_iter': 100000, 'normalize': True},\n",
       "  {'alpha': 3.5111917342151277e-08, 'max_iter': 100000, 'normalize': True},\n",
       "  {'alpha': 4.4824468792893085e-08, 'max_iter': 100000, 'normalize': True},\n",
       "  {'alpha': 5.72236765935022e-08, 'max_iter': 100000, 'normalize': True},\n",
       "  {'alpha': 7.305271542664448e-08, 'max_iter': 100000, 'normalize': True},\n",
       "  {'alpha': 9.3260334688322e-08, 'max_iter': 100000, 'normalize': True},\n",
       "  {'alpha': 1.1905772393787846e-07, 'max_iter': 100000, 'normalize': True},\n",
       "  {'alpha': 1.519911082952933e-07, 'max_iter': 100000, 'normalize': True},\n",
       "  {'alpha': 1.9403442495579159e-07, 'max_iter': 100000, 'normalize': True},\n",
       "  {'alpha': 2.477076355991714e-07, 'max_iter': 100000, 'normalize': True},\n",
       "  {'alpha': 3.162277660168379e-07, 'max_iter': 100000, 'normalize': True},\n",
       "  {'alpha': 4.0370172585965496e-07, 'max_iter': 100000, 'normalize': True},\n",
       "  {'alpha': 5.153724655961643e-07, 'max_iter': 100000, 'normalize': True},\n",
       "  {'alpha': 6.579332246575682e-07, 'max_iter': 100000, 'normalize': True},\n",
       "  {'alpha': 8.399287059458458e-07, 'max_iter': 100000, 'normalize': True},\n",
       "  {'alpha': 1.0722672220103232e-06, 'max_iter': 100000, 'normalize': True},\n",
       "  {'alpha': 1.368874509537082e-06, 'max_iter': 100000, 'normalize': True},\n",
       "  {'alpha': 1.747528400007683e-06, 'max_iter': 100000, 'normalize': True},\n",
       "  {'alpha': 2.2309243744089833e-06, 'max_iter': 100000, 'normalize': True},\n",
       "  {'alpha': 2.848035868435805e-06, 'max_iter': 100000, 'normalize': True},\n",
       "  {'alpha': 3.6358508611685775e-06, 'max_iter': 100000, 'normalize': True},\n",
       "  {'alpha': 4.641588833612782e-06, 'max_iter': 100000, 'normalize': True},\n",
       "  {'alpha': 5.925530975545674e-06, 'max_iter': 100000, 'normalize': True},\n",
       "  {'alpha': 7.564633275546291e-06, 'max_iter': 100000, 'normalize': True},\n",
       "  {'alpha': 9.657139052966059e-06, 'max_iter': 100000, 'normalize': True},\n",
       "  {'alpha': 1.2328467394420658e-05, 'max_iter': 100000, 'normalize': True},\n",
       "  {'alpha': 1.5738730431619046e-05, 'max_iter': 100000, 'normalize': True},\n",
       "  {'alpha': 2.0092330025650458e-05, 'max_iter': 100000, 'normalize': True},\n",
       "  {'alpha': 2.565020905680046e-05, 'max_iter': 100000, 'normalize': True},\n",
       "  {'alpha': 3.274549162877732e-05, 'max_iter': 100000, 'normalize': True},\n",
       "  {'alpha': 4.180344961851453e-05, 'max_iter': 100000, 'normalize': True},\n",
       "  {'alpha': 5.3366992312063123e-05, 'max_iter': 100000, 'normalize': True},\n",
       "  {'alpha': 6.812920690579622e-05, 'max_iter': 100000, 'normalize': True},\n",
       "  {'alpha': 8.697490026177834e-05, 'max_iter': 100000, 'normalize': True},\n",
       "  {'alpha': 0.0001110336318167639, 'max_iter': 100000, 'normalize': True},\n",
       "  {'alpha': 0.00014174741629268049, 'max_iter': 100000, 'normalize': True},\n",
       "  {'alpha': 0.0001809571541243322, 'max_iter': 100000, 'normalize': True},\n",
       "  {'alpha': 0.00023101297000831627, 'max_iter': 100000, 'normalize': True},\n",
       "  {'alpha': 0.0002949150729647068, 'max_iter': 100000, 'normalize': True},\n",
       "  {'alpha': 0.00037649358067924713, 'max_iter': 100000, 'normalize': True},\n",
       "  {'alpha': 0.0004806380863064389, 'max_iter': 100000, 'normalize': True},\n",
       "  {'alpha': 0.0006135907273413176, 'max_iter': 100000, 'normalize': True},\n",
       "  {'alpha': 0.0007833203223083893, 'max_iter': 100000, 'normalize': True},\n",
       "  {'alpha': 0.001, 'max_iter': 100000, 'normalize': True},\n",
       "  {'alpha': 0.0012766169490574088, 'max_iter': 100000, 'normalize': True},\n",
       "  {'alpha': 0.0016297508346206436, 'max_iter': 100000, 'normalize': True},\n",
       "  {'alpha': 0.0020805675382171715, 'max_iter': 100000, 'normalize': True},\n",
       "  {'alpha': 0.0026560877829466894, 'max_iter': 100000, 'normalize': True},\n",
       "  {'alpha': 0.003390806681894053, 'max_iter': 100000, 'normalize': True},\n",
       "  {'alpha': 0.004328761281083062, 'max_iter': 100000, 'normalize': True},\n",
       "  {'alpha': 0.0055261700198540875, 'max_iter': 100000, 'normalize': True},\n",
       "  {'alpha': 0.007054802310718645, 'max_iter': 100000, 'normalize': True},\n",
       "  {'alpha': 0.009006280202112795, 'max_iter': 100000, 'normalize': True},\n",
       "  {'alpha': 0.011497569953977356, 'max_iter': 100000, 'normalize': True},\n",
       "  {'alpha': 0.014677992676220676, 'max_iter': 100000, 'normalize': True},\n",
       "  {'alpha': 0.01873817422860387, 'max_iter': 100000, 'normalize': True},\n",
       "  {'alpha': 0.023921470814626387, 'max_iter': 100000, 'normalize': True},\n",
       "  {'alpha': 0.030538555088334123, 'max_iter': 100000, 'normalize': True},\n",
       "  {'alpha': 0.0389860370254908, 'max_iter': 100000, 'normalize': True},\n",
       "  {'alpha': 0.04977023564332114, 'max_iter': 100000, 'normalize': True},\n",
       "  {'alpha': 0.06353752638084481, 'max_iter': 100000, 'normalize': True},\n",
       "  {'alpha': 0.08111308307896889, 'max_iter': 100000, 'normalize': True},\n",
       "  {'alpha': 0.1035503366489132, 'max_iter': 100000, 'normalize': True},\n",
       "  {'alpha': 0.13219411484660287, 'max_iter': 100000, 'normalize': True},\n",
       "  {'alpha': 0.16876124757881522, 'max_iter': 100000, 'normalize': True},\n",
       "  {'alpha': 0.21544346900318867, 'max_iter': 100000, 'normalize': True},\n",
       "  {'alpha': 0.2750387840931946, 'max_iter': 100000, 'normalize': True},\n",
       "  {'alpha': 0.3511191734215127, 'max_iter': 100000, 'normalize': True},\n",
       "  {'alpha': 0.44824468792893174, 'max_iter': 100000, 'normalize': True},\n",
       "  {'alpha': 0.572236765935022, 'max_iter': 100000, 'normalize': True},\n",
       "  {'alpha': 0.7305271542664449, 'max_iter': 100000, 'normalize': True},\n",
       "  {'alpha': 0.9326033468832219, 'max_iter': 100000, 'normalize': True},\n",
       "  {'alpha': 1.1905772393787846, 'max_iter': 100000, 'normalize': True},\n",
       "  {'alpha': 1.5199110829529332, 'max_iter': 100000, 'normalize': True},\n",
       "  {'alpha': 1.9403442495579197, 'max_iter': 100000, 'normalize': True},\n",
       "  {'alpha': 2.4770763559917137, 'max_iter': 100000, 'normalize': True},\n",
       "  {'alpha': 3.1622776601683795, 'max_iter': 100000, 'normalize': True}],\n",
       " 'split0_test_score': array([ 8.68990738e-01,  8.68990745e-01,  8.68990754e-01,  8.68990765e-01,\n",
       "         8.68990780e-01,  8.68990798e-01,  8.68990822e-01,  8.68990852e-01,\n",
       "         8.68990888e-01,  8.68990937e-01,  8.68990998e-01,  8.68991078e-01,\n",
       "         8.68991179e-01,  8.68991310e-01,  8.68991487e-01,  8.68991733e-01,\n",
       "         8.68992078e-01,  8.68992559e-01,  8.68993201e-01,  8.68994020e-01,\n",
       "         8.68995029e-01,  8.68996228e-01,  8.68997571e-01,  8.68999064e-01,\n",
       "         8.69001147e-01,  8.69004737e-01,  8.69008586e-01,  8.69014096e-01,\n",
       "         8.69021075e-01,  8.69029907e-01,  8.69043297e-01,  8.69060254e-01,\n",
       "         8.69080261e-01,  8.69105575e-01,  8.69136276e-01,  8.69170861e-01,\n",
       "         8.69211667e-01,  8.69248709e-01,  8.69295458e-01,  8.69343239e-01,\n",
       "         8.69392501e-01,  8.69422140e-01,  8.69374239e-01,  8.69292907e-01,\n",
       "         8.69301821e-01,  8.69515730e-01,  8.69750398e-01,  8.70255156e-01,\n",
       "         8.70748810e-01,  8.71417919e-01,  8.72034451e-01,  8.72807482e-01,\n",
       "         8.74057568e-01,  8.75781159e-01,  8.77672236e-01,  8.79071332e-01,\n",
       "         8.79727397e-01,  8.80240151e-01,  8.79754876e-01,  8.78565944e-01,\n",
       "         8.77243052e-01,  8.75659533e-01,  8.73649801e-01,  8.70263952e-01,\n",
       "         8.65078762e-01,  8.55681238e-01,  8.42132700e-01,  8.26521927e-01,\n",
       "         8.01407615e-01,  7.66228982e-01,  7.11729347e-01,  6.32973416e-01,\n",
       "         5.19085194e-01,  3.50842846e-01,  1.19185448e-01, -4.46405877e-04,\n",
       "        -4.46405877e-04, -4.46405877e-04, -4.46405877e-04, -4.46405877e-04,\n",
       "        -4.46405877e-04, -4.46405877e-04, -4.46405877e-04, -4.46405877e-04,\n",
       "        -4.46405877e-04, -4.46405877e-04, -4.46405877e-04, -4.46405877e-04,\n",
       "        -4.46405877e-04, -4.46405877e-04, -4.46405877e-04, -4.46405877e-04,\n",
       "        -4.46405877e-04, -4.46405877e-04, -4.46405877e-04, -4.46405877e-04,\n",
       "        -4.46405877e-04, -4.46405877e-04, -4.46405877e-04, -4.46405877e-04]),\n",
       " 'split1_test_score': array([ 9.06230830e-01,  9.06230894e-01,  9.06230975e-01,  9.06231078e-01,\n",
       "         9.06231210e-01,  9.06231379e-01,  9.06231594e-01,  9.06231871e-01,\n",
       "         9.06232222e-01,  9.06232670e-01,  9.06233243e-01,  9.06233974e-01,\n",
       "         9.06234907e-01,  9.06236098e-01,  9.06237618e-01,  9.06239559e-01,\n",
       "         9.06242036e-01,  9.06245198e-01,  9.06249234e-01,  9.06254382e-01,\n",
       "         9.06260947e-01,  9.06269235e-01,  9.06279282e-01,  9.06291940e-01,\n",
       "         9.06308855e-01,  9.06330175e-01,  9.06357610e-01,  9.06392570e-01,\n",
       "         9.06437111e-01,  9.06493799e-01,  9.06565877e-01,  9.06657410e-01,\n",
       "         9.06768043e-01,  9.06897770e-01,  9.07077658e-01,  9.07304275e-01,\n",
       "         9.07584021e-01,  9.07927160e-01,  9.08302843e-01,  9.08612237e-01,\n",
       "         9.08970313e-01,  9.09400808e-01,  9.09924708e-01,  9.10652487e-01,\n",
       "         9.11512169e-01,  9.12411392e-01,  9.13381904e-01,  9.14326953e-01,\n",
       "         9.15085935e-01,  9.15839374e-01,  9.16641336e-01,  9.17430405e-01,\n",
       "         9.18027981e-01,  9.18530241e-01,  9.18748679e-01,  9.18812396e-01,\n",
       "         9.18619952e-01,  9.17683223e-01,  9.16309469e-01,  9.14035313e-01,\n",
       "         9.11881281e-01,  9.09350011e-01,  9.05024083e-01,  8.97679075e-01,\n",
       "         8.87385096e-01,  8.70503191e-01,  8.50809507e-01,  8.30876516e-01,\n",
       "         8.04022686e-01,  7.66311070e-01,  7.11023400e-01,  6.31859911e-01,\n",
       "         5.16480741e-01,  3.40118347e-01,  1.23546500e-01, -7.86163252e-04,\n",
       "        -7.86163252e-04, -7.86163252e-04, -7.86163252e-04, -7.86163252e-04,\n",
       "        -7.86163252e-04, -7.86163252e-04, -7.86163252e-04, -7.86163252e-04,\n",
       "        -7.86163252e-04, -7.86163252e-04, -7.86163252e-04, -7.86163252e-04,\n",
       "        -7.86163252e-04, -7.86163252e-04, -7.86163252e-04, -7.86163252e-04,\n",
       "        -7.86163252e-04, -7.86163252e-04, -7.86163252e-04, -7.86163252e-04,\n",
       "        -7.86163252e-04, -7.86163252e-04, -7.86163252e-04, -7.86163252e-04]),\n",
       " 'split2_test_score': array([ 0.90361201,  0.90361363,  0.90361558,  0.90361788,  0.90362052,\n",
       "         0.90362339,  0.90362625,  0.90362859,  0.90362942,  0.903627  ,\n",
       "         0.90362499,  0.90362513,  0.90362531,  0.90362554,  0.90362583,\n",
       "         0.90362621,  0.90362669,  0.9036273 ,  0.90362808,  0.90362908,\n",
       "         0.90363035,  0.90363197,  0.90363404,  0.90363667,  0.90364004,\n",
       "         0.90364434,  0.90364992,  0.90365833,  0.90366819,  0.90368016,\n",
       "         0.90369536,  0.90371331,  0.90373542,  0.90376092,  0.9037911 ,\n",
       "         0.90382955,  0.90387944,  0.90394405,  0.90402419,  0.90412217,\n",
       "         0.90424024,  0.90438456,  0.90455464,  0.90470797,  0.90485263,\n",
       "         0.90502907,  0.90524935,  0.90543279,  0.90554421,  0.90551511,\n",
       "         0.90514388,  0.90461859,  0.90418176,  0.90374849,  0.90336205,\n",
       "         0.90279749,  0.901967  ,  0.90043904,  0.89845018,  0.89564748,\n",
       "         0.89123568,  0.88558436,  0.87864121,  0.87027876,  0.85865609,\n",
       "         0.84173985,  0.82343976,  0.80280819,  0.77701115,  0.73938371,\n",
       "         0.6833876 ,  0.60323214,  0.48860352,  0.31909788,  0.09214367,\n",
       "        -0.00260725, -0.00260725, -0.00260725, -0.00260725, -0.00260725,\n",
       "        -0.00260725, -0.00260725, -0.00260725, -0.00260725, -0.00260725,\n",
       "        -0.00260725, -0.00260725, -0.00260725, -0.00260725, -0.00260725,\n",
       "        -0.00260725, -0.00260725, -0.00260725, -0.00260725, -0.00260725,\n",
       "        -0.00260725, -0.00260725, -0.00260725, -0.00260725, -0.00260725]),\n",
       " 'split3_test_score': array([ 9.17901727e-01,  9.17901757e-01,  9.17901794e-01,  9.17901842e-01,\n",
       "         9.17901904e-01,  9.17901982e-01,  9.17902082e-01,  9.17902210e-01,\n",
       "         9.17902376e-01,  9.17902585e-01,  9.17902852e-01,  9.17903192e-01,\n",
       "         9.17903627e-01,  9.17904182e-01,  9.17904890e-01,  9.17905795e-01,\n",
       "         9.17906949e-01,  9.17908423e-01,  9.17910303e-01,  9.17912704e-01,\n",
       "         9.17915770e-01,  9.17919681e-01,  9.17924674e-01,  9.17931046e-01,\n",
       "         9.17939212e-01,  9.17949859e-01,  9.17963614e-01,  9.17980688e-01,\n",
       "         9.18002485e-01,  9.18030266e-01,  9.18065656e-01,  9.18110709e-01,\n",
       "         9.18168016e-01,  9.18240785e-01,  9.18328003e-01,  9.18438339e-01,\n",
       "         9.18578018e-01,  9.18752810e-01,  9.18966634e-01,  9.19224131e-01,\n",
       "         9.19556639e-01,  9.19972702e-01,  9.20463495e-01,  9.21023626e-01,\n",
       "         9.21702099e-01,  9.22480576e-01,  9.23470702e-01,  9.24665527e-01,\n",
       "         9.26157100e-01,  9.27925687e-01,  9.29978088e-01,  9.32131933e-01,\n",
       "         9.34206117e-01,  9.36546213e-01,  9.38493306e-01,  9.39652014e-01,\n",
       "         9.39650187e-01,  9.39010382e-01,  9.37472857e-01,  9.35253026e-01,\n",
       "         9.31495268e-01,  9.25797014e-01,  9.17607474e-01,  9.08105356e-01,\n",
       "         8.97716006e-01,  8.81241826e-01,  8.61084601e-01,  8.39563923e-01,\n",
       "         8.09041106e-01,  7.66307458e-01,  7.04607188e-01,  6.25274065e-01,\n",
       "         5.11869384e-01,  3.47515142e-01,  1.26744672e-01, -1.00175148e-04,\n",
       "        -1.00175148e-04, -1.00175148e-04, -1.00175148e-04, -1.00175148e-04,\n",
       "        -1.00175148e-04, -1.00175148e-04, -1.00175148e-04, -1.00175148e-04,\n",
       "        -1.00175148e-04, -1.00175148e-04, -1.00175148e-04, -1.00175148e-04,\n",
       "        -1.00175148e-04, -1.00175148e-04, -1.00175148e-04, -1.00175148e-04,\n",
       "        -1.00175148e-04, -1.00175148e-04, -1.00175148e-04, -1.00175148e-04,\n",
       "        -1.00175148e-04, -1.00175148e-04, -1.00175148e-04, -1.00175148e-04]),\n",
       " 'split4_test_score': array([ 0.91611724,  0.91611727,  0.91611731,  0.91611737,  0.91611744,\n",
       "         0.91611752,  0.91611763,  0.91611778,  0.91611795,  0.91611817,\n",
       "         0.91611847,  0.91611884,  0.91611928,  0.91611988,  0.91612065,\n",
       "         0.91612156,  0.9161227 ,  0.91612414,  0.91612594,  0.9161282 ,\n",
       "         0.91613103,  0.9161343 ,  0.91613867,  0.91614369,  0.91614966,\n",
       "         0.91615707,  0.91616611,  0.91617709,  0.91619038,  0.91620641,\n",
       "         0.91621792,  0.91622501,  0.91623397,  0.91624524,  0.91625941,\n",
       "         0.91627741,  0.91630438,  0.91634049,  0.91638507,  0.916436  ,\n",
       "         0.91649183,  0.91655473,  0.91662611,  0.91671917,  0.91686733,\n",
       "         0.91701638,  0.91719426,  0.9174095 ,  0.91757661,  0.91778482,\n",
       "         0.91798912,  0.91811596,  0.91809404,  0.91790741,  0.91775286,\n",
       "         0.91740562,  0.916437  ,  0.91480422,  0.91203229,  0.90811904,\n",
       "         0.90295885,  0.89704821,  0.89021976,  0.88103447,  0.86907797,\n",
       "         0.85103287,  0.83072763,  0.80666549,  0.77347904,  0.72752146,\n",
       "         0.66566812,  0.58202146,  0.47665734,  0.31778249,  0.12433463,\n",
       "        -0.00146705, -0.00146705, -0.00146705, -0.00146705, -0.00146705,\n",
       "        -0.00146705, -0.00146705, -0.00146705, -0.00146705, -0.00146705,\n",
       "        -0.00146705, -0.00146705, -0.00146705, -0.00146705, -0.00146705,\n",
       "        -0.00146705, -0.00146705, -0.00146705, -0.00146705, -0.00146705,\n",
       "        -0.00146705, -0.00146705, -0.00146705, -0.00146705, -0.00146705]),\n",
       " 'mean_test_score': array([ 0.90257051,  0.90257086,  0.90257128,  0.90257179,  0.90257237,\n",
       "         0.90257301,  0.90257368,  0.90257426,  0.90257457,  0.90257427,\n",
       "         0.90257411,  0.90257444,  0.90257486,  0.9025754 ,  0.9025761 ,\n",
       "         0.90257697,  0.90257809,  0.90257952,  0.90258135,  0.90258368,\n",
       "         0.90258662,  0.90259028,  0.90259485,  0.90260048,  0.90260778,\n",
       "         0.90261723,  0.90262917,  0.90264455,  0.90266385,  0.90268811,\n",
       "         0.90271762,  0.90275334,  0.90279714,  0.90285006,  0.90291849,\n",
       "         0.90300409,  0.90311151,  0.90324264,  0.90339484,  0.90354756,\n",
       "         0.9037303 ,  0.90394699,  0.90418864,  0.90447923,  0.90484721,\n",
       "         0.90529063,  0.90580932,  0.90641799,  0.90702253,  0.90769658,\n",
       "         0.90835738,  0.90902087,  0.90971349,  0.9105027 ,  0.91120583,\n",
       "         0.91154777,  0.91128031,  0.9104354 ,  0.90880393,  0.90632416,\n",
       "         0.90296283,  0.89868782,  0.89302847,  0.88547232,  0.87558279,\n",
       "         0.86003979,  0.84163884,  0.82128721,  0.79299232,  0.75315054,\n",
       "         0.69528313,  0.6150722 ,  0.50253923,  0.33507134,  0.11719098,\n",
       "        -0.00108141, -0.00108141, -0.00108141, -0.00108141, -0.00108141,\n",
       "        -0.00108141, -0.00108141, -0.00108141, -0.00108141, -0.00108141,\n",
       "        -0.00108141, -0.00108141, -0.00108141, -0.00108141, -0.00108141,\n",
       "        -0.00108141, -0.00108141, -0.00108141, -0.00108141, -0.00108141,\n",
       "        -0.00108141, -0.00108141, -0.00108141, -0.00108141, -0.00108141]),\n",
       " 'std_test_score': array([0.01766717, 0.0176672 , 0.01766723, 0.01766728, 0.01766733,\n",
       "        0.01766739, 0.01766746, 0.01766753, 0.01766759, 0.01766764,\n",
       "        0.0176677 , 0.01766782, 0.01766797, 0.01766816, 0.0176684 ,\n",
       "        0.01766869, 0.01766904, 0.01766947, 0.01767001, 0.01767068,\n",
       "        0.01767155, 0.01767264, 0.01767411, 0.01767598, 0.01767826,\n",
       "        0.01768082, 0.01768435, 0.01768847, 0.01769363, 0.0177001 ,\n",
       "        0.01770619, 0.01771283, 0.01772167, 0.01773251, 0.01774673,\n",
       "        0.01776658, 0.01779358, 0.01783336, 0.01788004, 0.017932  ,\n",
       "        0.01800073, 0.01809795, 0.01824632, 0.01843785, 0.01863581,\n",
       "        0.01878087, 0.01897074, 0.01910528, 0.01928993, 0.01948432,\n",
       "        0.01979157, 0.02009155, 0.02020494, 0.02024223, 0.02015138,\n",
       "        0.02004108, 0.01983752, 0.0194927 , 0.01918182, 0.01888954,\n",
       "        0.0183993 , 0.01762545, 0.01636115, 0.01512014, 0.01461735,\n",
       "        0.01409978, 0.01351106, 0.01420327, 0.01473917, 0.01651499,\n",
       "        0.01802068, 0.01969212, 0.01684792, 0.01402225, 0.01275965,\n",
       "        0.00088658, 0.00088658, 0.00088658, 0.00088658, 0.00088658,\n",
       "        0.00088658, 0.00088658, 0.00088658, 0.00088658, 0.00088658,\n",
       "        0.00088658, 0.00088658, 0.00088658, 0.00088658, 0.00088658,\n",
       "        0.00088658, 0.00088658, 0.00088658, 0.00088658, 0.00088658,\n",
       "        0.00088658, 0.00088658, 0.00088658, 0.00088658, 0.00088658]),\n",
       " 'rank_test_score': array([61, 60, 59, 58, 57, 56, 55, 53, 50, 52, 54, 51, 49, 48, 47, 46, 45,\n",
       "        44, 43, 42, 41, 40, 39, 38, 37, 36, 35, 34, 33, 32, 31, 30, 29, 28,\n",
       "        27, 25, 24, 23, 22, 21, 20, 19, 18, 17, 16, 15, 14, 12, 11, 10,  9,\n",
       "         7,  6,  4,  3,  1,  2,  5,  8, 13, 26, 62, 63, 64, 65, 66, 67, 68,\n",
       "        69, 70, 71, 72, 73, 74, 75, 76, 76, 76, 76, 76, 76, 76, 76, 76, 76,\n",
       "        76, 76, 76, 76, 76, 76, 76, 76, 76, 76, 76, 76, 76, 76, 76],\n",
       "       dtype=int32)}"
      ]
     },
     "execution_count": 409,
     "metadata": {},
     "output_type": "execute_result"
    }
   ],
   "source": [
    "# I should do gridsearchCV instead of a forloop\n",
    "\n",
    "grid_para_log_lasso = {'alpha': np.logspace(-10,.5,100), 'max_iter' : [100000], 'normalize': [True]}\n",
    "\n",
    "\n",
    "log_lasso = Lasso()\n",
    "log_lasso_gs = GridSearchCV(log_lasso, grid_para_log_lasso)#, cv = 3)\n",
    "log_lasso_gs.fit(X_train, np.log(y_train))\n",
    "log_lasso_gs.cv_results_"
   ]
  },
  {
   "cell_type": "code",
   "execution_count": 296,
   "id": "10f2cf46",
   "metadata": {},
   "outputs": [
    {
     "data": {
      "text/plain": [
       "nan"
      ]
     },
     "execution_count": 296,
     "metadata": {},
     "output_type": "execute_result"
    }
   ],
   "source": [
    "log_lasso_gs.best_score_"
   ]
  }
 ],
 "metadata": {
  "kernelspec": {
   "display_name": "Python 3 (ipykernel)",
   "language": "python",
   "name": "python3"
  },
  "language_info": {
   "codemirror_mode": {
    "name": "ipython",
    "version": 3
   },
   "file_extension": ".py",
   "mimetype": "text/x-python",
   "name": "python",
   "nbconvert_exporter": "python",
   "pygments_lexer": "ipython3",
   "version": "3.9.7"
  }
 },
 "nbformat": 4,
 "nbformat_minor": 5
}
