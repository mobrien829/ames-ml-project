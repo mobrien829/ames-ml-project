{
 "cells": [
  {
   "cell_type": "code",
   "execution_count": 1,
   "id": "9e6426ee",
   "metadata": {},
   "outputs": [],
   "source": [
    "import numpy as np\n",
    "import pandas as pd\n",
    "%matplotlib inline \n"
   ]
  },
  {
   "cell_type": "code",
   "execution_count": 2,
   "id": "a767566e",
   "metadata": {},
   "outputs": [],
   "source": [
    "import statsmodels.api as sm"
   ]
  },
  {
   "cell_type": "code",
   "execution_count": 3,
   "id": "d6f8a56d",
   "metadata": {},
   "outputs": [],
   "source": [
    "from sklearn.model_selection import cross_val_score, train_test_split, KFold, GridSearchCV\n",
    "from sklearn.preprocessing import StandardScaler\n",
    "from sklearn.linear_model import LinearRegression,Ridge, RidgeCV,Lasso, LassoCV, ElasticNet,ElasticNetCV\n",
    "from sklearn.linear_model import LogisticRegression\n",
    "from sklearn.metrics import mean_squared_error, make_scorer\n",
    "from scipy.stats import skew\n",
    "from IPython.display import display\n",
    "import matplotlib.pyplot as plt\n",
    "import seaborn as sns\n",
    "from sklearn.experimental import enable_iterative_imputer\n",
    "from sklearn.pipeline import Pipeline\n",
    "\n",
    "import warnings\n",
    "warnings.filterwarnings('ignore')"
   ]
  },
  {
   "cell_type": "code",
   "execution_count": 46,
   "id": "e5581a69",
   "metadata": {},
   "outputs": [],
   "source": [
    "from sklearn.metrics import mean_squared_error, r2_score"
   ]
  },
  {
   "cell_type": "code",
   "execution_count": 4,
   "id": "bc310d2d",
   "metadata": {},
   "outputs": [],
   "source": [
    "pd.set_option('display.max_columns', None) # displays all pd columns"
   ]
  },
  {
   "cell_type": "markdown",
   "id": "974a27cc",
   "metadata": {},
   "source": [
    "# Try with original housing data"
   ]
  },
  {
   "cell_type": "code",
   "execution_count": 5,
   "id": "7691d21a",
   "metadata": {},
   "outputs": [],
   "source": [
    "housing = pd.read_csv('../../Ames_HousePrice.csv', index_col=0)"
   ]
  },
  {
   "cell_type": "code",
   "execution_count": 6,
   "id": "a7e3954d",
   "metadata": {},
   "outputs": [],
   "source": [
    "real_estate = pd.read_csv('../../Ames Real Estate Data.csv', index_col=0)"
   ]
  },
  {
   "cell_type": "code",
   "execution_count": 7,
   "id": "afa18f95",
   "metadata": {},
   "outputs": [],
   "source": [
    "price = housing[\"SalePrice\"]"
   ]
  },
  {
   "cell_type": "code",
   "execution_count": 8,
   "id": "e2d7905a",
   "metadata": {},
   "outputs": [
    {
     "data": {
      "text/html": [
       "<div>\n",
       "<style scoped>\n",
       "    .dataframe tbody tr th:only-of-type {\n",
       "        vertical-align: middle;\n",
       "    }\n",
       "\n",
       "    .dataframe tbody tr th {\n",
       "        vertical-align: top;\n",
       "    }\n",
       "\n",
       "    .dataframe thead th {\n",
       "        text-align: right;\n",
       "    }\n",
       "</style>\n",
       "<table border=\"1\" class=\"dataframe\">\n",
       "  <thead>\n",
       "    <tr style=\"text-align: right;\">\n",
       "      <th></th>\n",
       "      <th>PID</th>\n",
       "      <th>GrLivArea</th>\n",
       "      <th>SalePrice</th>\n",
       "      <th>MSSubClass</th>\n",
       "      <th>LotArea</th>\n",
       "      <th>OverallQual</th>\n",
       "      <th>OverallCond</th>\n",
       "      <th>YearBuilt</th>\n",
       "      <th>YearRemodAdd</th>\n",
       "      <th>1stFlrSF</th>\n",
       "      <th>2ndFlrSF</th>\n",
       "      <th>LowQualFinSF</th>\n",
       "      <th>FullBath</th>\n",
       "      <th>HalfBath</th>\n",
       "      <th>BedroomAbvGr</th>\n",
       "      <th>KitchenAbvGr</th>\n",
       "      <th>TotRmsAbvGrd</th>\n",
       "      <th>Fireplaces</th>\n",
       "      <th>WoodDeckSF</th>\n",
       "      <th>OpenPorchSF</th>\n",
       "      <th>EnclosedPorch</th>\n",
       "      <th>3SsnPorch</th>\n",
       "      <th>ScreenPorch</th>\n",
       "      <th>PoolArea</th>\n",
       "      <th>MiscVal</th>\n",
       "      <th>MoSold</th>\n",
       "      <th>YrSold</th>\n",
       "    </tr>\n",
       "  </thead>\n",
       "  <tbody>\n",
       "    <tr>\n",
       "      <th>1</th>\n",
       "      <td>909176150</td>\n",
       "      <td>856</td>\n",
       "      <td>126000</td>\n",
       "      <td>30</td>\n",
       "      <td>7890</td>\n",
       "      <td>6</td>\n",
       "      <td>6</td>\n",
       "      <td>1939</td>\n",
       "      <td>1950</td>\n",
       "      <td>856</td>\n",
       "      <td>0</td>\n",
       "      <td>0</td>\n",
       "      <td>1</td>\n",
       "      <td>0</td>\n",
       "      <td>2</td>\n",
       "      <td>1</td>\n",
       "      <td>4</td>\n",
       "      <td>1</td>\n",
       "      <td>0</td>\n",
       "      <td>0</td>\n",
       "      <td>0</td>\n",
       "      <td>0</td>\n",
       "      <td>166</td>\n",
       "      <td>0</td>\n",
       "      <td>0</td>\n",
       "      <td>3</td>\n",
       "      <td>2010</td>\n",
       "    </tr>\n",
       "    <tr>\n",
       "      <th>2</th>\n",
       "      <td>905476230</td>\n",
       "      <td>1049</td>\n",
       "      <td>139500</td>\n",
       "      <td>120</td>\n",
       "      <td>4235</td>\n",
       "      <td>5</td>\n",
       "      <td>5</td>\n",
       "      <td>1984</td>\n",
       "      <td>1984</td>\n",
       "      <td>1049</td>\n",
       "      <td>0</td>\n",
       "      <td>0</td>\n",
       "      <td>2</td>\n",
       "      <td>0</td>\n",
       "      <td>2</td>\n",
       "      <td>1</td>\n",
       "      <td>5</td>\n",
       "      <td>0</td>\n",
       "      <td>0</td>\n",
       "      <td>105</td>\n",
       "      <td>0</td>\n",
       "      <td>0</td>\n",
       "      <td>0</td>\n",
       "      <td>0</td>\n",
       "      <td>0</td>\n",
       "      <td>2</td>\n",
       "      <td>2009</td>\n",
       "    </tr>\n",
       "    <tr>\n",
       "      <th>3</th>\n",
       "      <td>911128020</td>\n",
       "      <td>1001</td>\n",
       "      <td>124900</td>\n",
       "      <td>30</td>\n",
       "      <td>6060</td>\n",
       "      <td>5</td>\n",
       "      <td>9</td>\n",
       "      <td>1930</td>\n",
       "      <td>2007</td>\n",
       "      <td>1001</td>\n",
       "      <td>0</td>\n",
       "      <td>0</td>\n",
       "      <td>1</td>\n",
       "      <td>0</td>\n",
       "      <td>2</td>\n",
       "      <td>1</td>\n",
       "      <td>5</td>\n",
       "      <td>0</td>\n",
       "      <td>154</td>\n",
       "      <td>0</td>\n",
       "      <td>42</td>\n",
       "      <td>86</td>\n",
       "      <td>0</td>\n",
       "      <td>0</td>\n",
       "      <td>0</td>\n",
       "      <td>11</td>\n",
       "      <td>2007</td>\n",
       "    </tr>\n",
       "    <tr>\n",
       "      <th>4</th>\n",
       "      <td>535377150</td>\n",
       "      <td>1039</td>\n",
       "      <td>114000</td>\n",
       "      <td>70</td>\n",
       "      <td>8146</td>\n",
       "      <td>4</td>\n",
       "      <td>8</td>\n",
       "      <td>1900</td>\n",
       "      <td>2003</td>\n",
       "      <td>717</td>\n",
       "      <td>322</td>\n",
       "      <td>0</td>\n",
       "      <td>1</td>\n",
       "      <td>0</td>\n",
       "      <td>2</td>\n",
       "      <td>1</td>\n",
       "      <td>6</td>\n",
       "      <td>0</td>\n",
       "      <td>0</td>\n",
       "      <td>0</td>\n",
       "      <td>168</td>\n",
       "      <td>0</td>\n",
       "      <td>111</td>\n",
       "      <td>0</td>\n",
       "      <td>0</td>\n",
       "      <td>5</td>\n",
       "      <td>2009</td>\n",
       "    </tr>\n",
       "    <tr>\n",
       "      <th>5</th>\n",
       "      <td>534177230</td>\n",
       "      <td>1665</td>\n",
       "      <td>227000</td>\n",
       "      <td>60</td>\n",
       "      <td>8400</td>\n",
       "      <td>8</td>\n",
       "      <td>6</td>\n",
       "      <td>2001</td>\n",
       "      <td>2001</td>\n",
       "      <td>810</td>\n",
       "      <td>855</td>\n",
       "      <td>0</td>\n",
       "      <td>2</td>\n",
       "      <td>1</td>\n",
       "      <td>3</td>\n",
       "      <td>1</td>\n",
       "      <td>6</td>\n",
       "      <td>0</td>\n",
       "      <td>0</td>\n",
       "      <td>45</td>\n",
       "      <td>0</td>\n",
       "      <td>0</td>\n",
       "      <td>0</td>\n",
       "      <td>0</td>\n",
       "      <td>0</td>\n",
       "      <td>11</td>\n",
       "      <td>2009</td>\n",
       "    </tr>\n",
       "    <tr>\n",
       "      <th>...</th>\n",
       "      <td>...</td>\n",
       "      <td>...</td>\n",
       "      <td>...</td>\n",
       "      <td>...</td>\n",
       "      <td>...</td>\n",
       "      <td>...</td>\n",
       "      <td>...</td>\n",
       "      <td>...</td>\n",
       "      <td>...</td>\n",
       "      <td>...</td>\n",
       "      <td>...</td>\n",
       "      <td>...</td>\n",
       "      <td>...</td>\n",
       "      <td>...</td>\n",
       "      <td>...</td>\n",
       "      <td>...</td>\n",
       "      <td>...</td>\n",
       "      <td>...</td>\n",
       "      <td>...</td>\n",
       "      <td>...</td>\n",
       "      <td>...</td>\n",
       "      <td>...</td>\n",
       "      <td>...</td>\n",
       "      <td>...</td>\n",
       "      <td>...</td>\n",
       "      <td>...</td>\n",
       "      <td>...</td>\n",
       "    </tr>\n",
       "    <tr>\n",
       "      <th>759</th>\n",
       "      <td>903205040</td>\n",
       "      <td>952</td>\n",
       "      <td>121000</td>\n",
       "      <td>30</td>\n",
       "      <td>8854</td>\n",
       "      <td>6</td>\n",
       "      <td>6</td>\n",
       "      <td>1916</td>\n",
       "      <td>1950</td>\n",
       "      <td>952</td>\n",
       "      <td>0</td>\n",
       "      <td>0</td>\n",
       "      <td>1</td>\n",
       "      <td>0</td>\n",
       "      <td>2</td>\n",
       "      <td>1</td>\n",
       "      <td>4</td>\n",
       "      <td>1</td>\n",
       "      <td>0</td>\n",
       "      <td>98</td>\n",
       "      <td>0</td>\n",
       "      <td>0</td>\n",
       "      <td>40</td>\n",
       "      <td>0</td>\n",
       "      <td>0</td>\n",
       "      <td>5</td>\n",
       "      <td>2009</td>\n",
       "    </tr>\n",
       "    <tr>\n",
       "      <th>760</th>\n",
       "      <td>905402060</td>\n",
       "      <td>1733</td>\n",
       "      <td>139600</td>\n",
       "      <td>20</td>\n",
       "      <td>13680</td>\n",
       "      <td>3</td>\n",
       "      <td>5</td>\n",
       "      <td>1955</td>\n",
       "      <td>1955</td>\n",
       "      <td>1733</td>\n",
       "      <td>0</td>\n",
       "      <td>0</td>\n",
       "      <td>2</td>\n",
       "      <td>0</td>\n",
       "      <td>4</td>\n",
       "      <td>1</td>\n",
       "      <td>8</td>\n",
       "      <td>1</td>\n",
       "      <td>0</td>\n",
       "      <td>0</td>\n",
       "      <td>0</td>\n",
       "      <td>0</td>\n",
       "      <td>0</td>\n",
       "      <td>0</td>\n",
       "      <td>0</td>\n",
       "      <td>6</td>\n",
       "      <td>2009</td>\n",
       "    </tr>\n",
       "    <tr>\n",
       "      <th>761</th>\n",
       "      <td>909275030</td>\n",
       "      <td>2002</td>\n",
       "      <td>145000</td>\n",
       "      <td>90</td>\n",
       "      <td>6270</td>\n",
       "      <td>5</td>\n",
       "      <td>6</td>\n",
       "      <td>1949</td>\n",
       "      <td>1950</td>\n",
       "      <td>1001</td>\n",
       "      <td>1001</td>\n",
       "      <td>0</td>\n",
       "      <td>2</td>\n",
       "      <td>0</td>\n",
       "      <td>4</td>\n",
       "      <td>2</td>\n",
       "      <td>8</td>\n",
       "      <td>0</td>\n",
       "      <td>0</td>\n",
       "      <td>0</td>\n",
       "      <td>0</td>\n",
       "      <td>0</td>\n",
       "      <td>0</td>\n",
       "      <td>0</td>\n",
       "      <td>0</td>\n",
       "      <td>8</td>\n",
       "      <td>2007</td>\n",
       "    </tr>\n",
       "    <tr>\n",
       "      <th>762</th>\n",
       "      <td>907192040</td>\n",
       "      <td>1842</td>\n",
       "      <td>217500</td>\n",
       "      <td>60</td>\n",
       "      <td>8826</td>\n",
       "      <td>7</td>\n",
       "      <td>5</td>\n",
       "      <td>2000</td>\n",
       "      <td>2000</td>\n",
       "      <td>985</td>\n",
       "      <td>857</td>\n",
       "      <td>0</td>\n",
       "      <td>2</td>\n",
       "      <td>1</td>\n",
       "      <td>3</td>\n",
       "      <td>1</td>\n",
       "      <td>7</td>\n",
       "      <td>1</td>\n",
       "      <td>193</td>\n",
       "      <td>96</td>\n",
       "      <td>0</td>\n",
       "      <td>0</td>\n",
       "      <td>0</td>\n",
       "      <td>0</td>\n",
       "      <td>0</td>\n",
       "      <td>7</td>\n",
       "      <td>2007</td>\n",
       "    </tr>\n",
       "    <tr>\n",
       "      <th>763</th>\n",
       "      <td>906223180</td>\n",
       "      <td>1911</td>\n",
       "      <td>215000</td>\n",
       "      <td>60</td>\n",
       "      <td>9554</td>\n",
       "      <td>8</td>\n",
       "      <td>5</td>\n",
       "      <td>1993</td>\n",
       "      <td>1994</td>\n",
       "      <td>1065</td>\n",
       "      <td>846</td>\n",
       "      <td>0</td>\n",
       "      <td>2</td>\n",
       "      <td>1</td>\n",
       "      <td>3</td>\n",
       "      <td>1</td>\n",
       "      <td>8</td>\n",
       "      <td>1</td>\n",
       "      <td>182</td>\n",
       "      <td>81</td>\n",
       "      <td>0</td>\n",
       "      <td>0</td>\n",
       "      <td>0</td>\n",
       "      <td>0</td>\n",
       "      <td>0</td>\n",
       "      <td>9</td>\n",
       "      <td>2006</td>\n",
       "    </tr>\n",
       "  </tbody>\n",
       "</table>\n",
       "<p>2580 rows × 27 columns</p>\n",
       "</div>"
      ],
      "text/plain": [
       "           PID  GrLivArea  SalePrice  MSSubClass  LotArea  OverallQual  \\\n",
       "1    909176150        856     126000          30     7890            6   \n",
       "2    905476230       1049     139500         120     4235            5   \n",
       "3    911128020       1001     124900          30     6060            5   \n",
       "4    535377150       1039     114000          70     8146            4   \n",
       "5    534177230       1665     227000          60     8400            8   \n",
       "..         ...        ...        ...         ...      ...          ...   \n",
       "759  903205040        952     121000          30     8854            6   \n",
       "760  905402060       1733     139600          20    13680            3   \n",
       "761  909275030       2002     145000          90     6270            5   \n",
       "762  907192040       1842     217500          60     8826            7   \n",
       "763  906223180       1911     215000          60     9554            8   \n",
       "\n",
       "     OverallCond  YearBuilt  YearRemodAdd  1stFlrSF  2ndFlrSF  LowQualFinSF  \\\n",
       "1              6       1939          1950       856         0             0   \n",
       "2              5       1984          1984      1049         0             0   \n",
       "3              9       1930          2007      1001         0             0   \n",
       "4              8       1900          2003       717       322             0   \n",
       "5              6       2001          2001       810       855             0   \n",
       "..           ...        ...           ...       ...       ...           ...   \n",
       "759            6       1916          1950       952         0             0   \n",
       "760            5       1955          1955      1733         0             0   \n",
       "761            6       1949          1950      1001      1001             0   \n",
       "762            5       2000          2000       985       857             0   \n",
       "763            5       1993          1994      1065       846             0   \n",
       "\n",
       "     FullBath  HalfBath  BedroomAbvGr  KitchenAbvGr  TotRmsAbvGrd  Fireplaces  \\\n",
       "1           1         0             2             1             4           1   \n",
       "2           2         0             2             1             5           0   \n",
       "3           1         0             2             1             5           0   \n",
       "4           1         0             2             1             6           0   \n",
       "5           2         1             3             1             6           0   \n",
       "..        ...       ...           ...           ...           ...         ...   \n",
       "759         1         0             2             1             4           1   \n",
       "760         2         0             4             1             8           1   \n",
       "761         2         0             4             2             8           0   \n",
       "762         2         1             3             1             7           1   \n",
       "763         2         1             3             1             8           1   \n",
       "\n",
       "     WoodDeckSF  OpenPorchSF  EnclosedPorch  3SsnPorch  ScreenPorch  PoolArea  \\\n",
       "1             0            0              0          0          166         0   \n",
       "2             0          105              0          0            0         0   \n",
       "3           154            0             42         86            0         0   \n",
       "4             0            0            168          0          111         0   \n",
       "5             0           45              0          0            0         0   \n",
       "..          ...          ...            ...        ...          ...       ...   \n",
       "759           0           98              0          0           40         0   \n",
       "760           0            0              0          0            0         0   \n",
       "761           0            0              0          0            0         0   \n",
       "762         193           96              0          0            0         0   \n",
       "763         182           81              0          0            0         0   \n",
       "\n",
       "     MiscVal  MoSold  YrSold  \n",
       "1          0       3    2010  \n",
       "2          0       2    2009  \n",
       "3          0      11    2007  \n",
       "4          0       5    2009  \n",
       "5          0      11    2009  \n",
       "..       ...     ...     ...  \n",
       "759        0       5    2009  \n",
       "760        0       6    2009  \n",
       "761        0       8    2007  \n",
       "762        0       7    2007  \n",
       "763        0       9    2006  \n",
       "\n",
       "[2580 rows x 27 columns]"
      ]
     },
     "execution_count": 8,
     "metadata": {},
     "output_type": "execute_result"
    }
   ],
   "source": [
    "int_df = housing.select_dtypes(include='int64')\n",
    "int_df"
   ]
  },
  {
   "cell_type": "code",
   "execution_count": 9,
   "id": "15721c45",
   "metadata": {
    "scrolled": true
   },
   "outputs": [
    {
     "data": {
      "text/plain": [
       "PID              0\n",
       "BedroomAbvGr     0\n",
       "MoSold           0\n",
       "MiscVal          0\n",
       "PoolArea         0\n",
       "ScreenPorch      0\n",
       "3SsnPorch        0\n",
       "EnclosedPorch    0\n",
       "OpenPorchSF      0\n",
       "WoodDeckSF       0\n",
       "Fireplaces       0\n",
       "TotRmsAbvGrd     0\n",
       "KitchenAbvGr     0\n",
       "HalfBath         0\n",
       "GrLivArea        0\n",
       "FullBath         0\n",
       "LowQualFinSF     0\n",
       "2ndFlrSF         0\n",
       "1stFlrSF         0\n",
       "YearRemodAdd     0\n",
       "YearBuilt        0\n",
       "OverallCond      0\n",
       "OverallQual      0\n",
       "LotArea          0\n",
       "MSSubClass       0\n",
       "SalePrice        0\n",
       "YrSold           0\n",
       "dtype: int64"
      ]
     },
     "execution_count": 9,
     "metadata": {},
     "output_type": "execute_result"
    }
   ],
   "source": [
    "int_df.isnull().sum().sort_values(axis=0, ascending=False)"
   ]
  },
  {
   "cell_type": "code",
   "execution_count": 10,
   "id": "30ea80f7",
   "metadata": {
    "scrolled": true
   },
   "outputs": [
    {
     "name": "stdout",
     "output_type": "stream",
     "text": [
      "                            OLS Regression Results                            \n",
      "==============================================================================\n",
      "Dep. Variable:              SalePrice   R-squared:                       0.940\n",
      "Model:                            OLS   Adj. R-squared:                  0.940\n",
      "Method:                 Least Squares   F-statistic:                     1546.\n",
      "Date:                Fri, 20 May 2022   Prob (F-statistic):               0.00\n",
      "Time:                        16:19:01   Log-Likelihood:                 2422.4\n",
      "No. Observations:                2580   AIC:                            -4791.\n",
      "Df Residuals:                    2553   BIC:                            -4633.\n",
      "Df Model:                          26                                         \n",
      "Covariance Type:            nonrobust                                         \n",
      "=================================================================================\n",
      "                    coef    std err          t      P>|t|      [0.025      0.975]\n",
      "---------------------------------------------------------------------------------\n",
      "const            10.1540      2.921      3.477      0.001       4.427      15.881\n",
      "PID            1.099e-11   1.09e-11      1.009      0.313   -1.04e-11    3.24e-11\n",
      "GrLivArea      5.343e-05   1.28e-05      4.186      0.000    2.84e-05    7.85e-05\n",
      "SalePrice       3.17e-06    6.2e-08     51.154      0.000    3.05e-06    3.29e-06\n",
      "MSSubClass     -9.59e-05   5.25e-05     -1.825      0.068      -0.000    7.13e-06\n",
      "LotArea        1.118e-06   2.57e-07      4.349      0.000    6.14e-07    1.62e-06\n",
      "OverallQual       0.0353      0.002     14.163      0.000       0.030       0.040\n",
      "OverallCond       0.0389      0.002     18.684      0.000       0.035       0.043\n",
      "YearBuilt         0.0024      0.000     19.599      0.000       0.002       0.003\n",
      "YearRemodAdd      0.0003      0.000      2.574      0.010    8.22e-05       0.001\n",
      "1stFlrSF       5.517e-05   1.25e-05      4.422      0.000    3.07e-05    7.96e-05\n",
      "2ndFlrSF       4.179e-06    1.2e-05      0.348      0.728   -1.94e-05    2.77e-05\n",
      "LowQualFinSF  -5.926e-06   3.25e-05     -0.183      0.855   -6.96e-05    5.77e-05\n",
      "FullBath          0.0142      0.006      2.534      0.011       0.003       0.025\n",
      "HalfBath          0.0053      0.006      0.956      0.339      -0.006       0.016\n",
      "BedroomAbvGr      0.0185      0.004      5.193      0.000       0.011       0.025\n",
      "KitchenAbvGr     -0.0328      0.012     -2.843      0.005      -0.055      -0.010\n",
      "TotRmsAbvGrd      0.0020      0.003      0.764      0.445      -0.003       0.007\n",
      "Fireplaces        0.0273      0.004      7.655      0.000       0.020       0.034\n",
      "WoodDeckSF     1.681e-05   1.59e-05      1.055      0.291   -1.44e-05     4.8e-05\n",
      "OpenPorchSF    2.043e-05   3.08e-05      0.664      0.507   -3.99e-05    8.08e-05\n",
      "EnclosedPorch     0.0001   3.22e-05      3.663      0.000    5.48e-05       0.000\n",
      "3SsnPorch         0.0001   7.47e-05      1.649      0.099   -2.33e-05       0.000\n",
      "ScreenPorch       0.0001   3.45e-05      3.790      0.000    6.31e-05       0.000\n",
      "PoolArea      -2.683e-05   6.29e-05     -0.426      0.670      -0.000    9.66e-05\n",
      "MiscVal        1.101e-06   3.78e-06      0.291      0.771   -6.31e-06    8.51e-06\n",
      "MoSold           -0.0001      0.001     -0.205      0.838      -0.002       0.001\n",
      "YrSold           -0.0024      0.001     -1.627      0.104      -0.005       0.000\n",
      "==============================================================================\n",
      "Omnibus:                     2202.429   Durbin-Watson:                   1.945\n",
      "Prob(Omnibus):                  0.000   Jarque-Bera (JB):           154468.537\n",
      "Skew:                          -3.625   Prob(JB):                         0.00\n",
      "Kurtosis:                      40.207   Cond. No.                     1.04e+16\n",
      "==============================================================================\n",
      "\n",
      "Notes:\n",
      "[1] Standard Errors assume that the covariance matrix of the errors is correctly specified.\n",
      "[2] The smallest eigenvalue is 1.32e-11. This might indicate that there are\n",
      "strong multicollinearity problems or that the design matrix is singular.\n"
     ]
    }
   ],
   "source": [
    "x = sm.add_constant(int_df)\n",
    "model = sm.OLS(np.log(price), x)\n",
    "results = model.fit()\n",
    "print(results.summary())"
   ]
  },
  {
   "cell_type": "code",
   "execution_count": 11,
   "id": "8da1a7b7",
   "metadata": {
    "scrolled": true
   },
   "outputs": [
    {
     "data": {
      "text/plain": [
       "PID             0.313170\n",
       "MSSubClass      0.068097\n",
       "2ndFlrSF        0.727850\n",
       "LowQualFinSF    0.855165\n",
       "HalfBath        0.339207\n",
       "TotRmsAbvGrd    0.445227\n",
       "WoodDeckSF      0.291387\n",
       "OpenPorchSF     0.506901\n",
       "3SsnPorch       0.099312\n",
       "PoolArea        0.669934\n",
       "MiscVal         0.770867\n",
       "MoSold          0.837923\n",
       "YrSold          0.103881\n",
       "dtype: float64"
      ]
     },
     "execution_count": 11,
     "metadata": {},
     "output_type": "execute_result"
    }
   ],
   "source": [
    "rm_pvalues = results.pvalues[results.pvalues > 0.05]\n",
    "rm_pvalues"
   ]
  },
  {
   "cell_type": "code",
   "execution_count": 12,
   "id": "180b0867",
   "metadata": {},
   "outputs": [],
   "source": [
    "int_df.drop(columns=rm_pvalues.index, inplace=True)"
   ]
  },
  {
   "cell_type": "code",
   "execution_count": 14,
   "id": "d9d5bd9c",
   "metadata": {},
   "outputs": [],
   "source": [
    "y = int_df.SalePrice"
   ]
  },
  {
   "cell_type": "code",
   "execution_count": 15,
   "id": "00ec401b",
   "metadata": {
    "scrolled": true
   },
   "outputs": [
    {
     "data": {
      "text/html": [
       "<div>\n",
       "<style scoped>\n",
       "    .dataframe tbody tr th:only-of-type {\n",
       "        vertical-align: middle;\n",
       "    }\n",
       "\n",
       "    .dataframe tbody tr th {\n",
       "        vertical-align: top;\n",
       "    }\n",
       "\n",
       "    .dataframe thead th {\n",
       "        text-align: right;\n",
       "    }\n",
       "</style>\n",
       "<table border=\"1\" class=\"dataframe\">\n",
       "  <thead>\n",
       "    <tr style=\"text-align: right;\">\n",
       "      <th></th>\n",
       "      <th>GrLivArea</th>\n",
       "      <th>LotArea</th>\n",
       "      <th>OverallQual</th>\n",
       "      <th>OverallCond</th>\n",
       "      <th>YearBuilt</th>\n",
       "      <th>YearRemodAdd</th>\n",
       "      <th>1stFlrSF</th>\n",
       "      <th>FullBath</th>\n",
       "      <th>BedroomAbvGr</th>\n",
       "      <th>KitchenAbvGr</th>\n",
       "      <th>Fireplaces</th>\n",
       "      <th>EnclosedPorch</th>\n",
       "      <th>ScreenPorch</th>\n",
       "    </tr>\n",
       "  </thead>\n",
       "  <tbody>\n",
       "    <tr>\n",
       "      <th>1</th>\n",
       "      <td>856</td>\n",
       "      <td>7890</td>\n",
       "      <td>6</td>\n",
       "      <td>6</td>\n",
       "      <td>1939</td>\n",
       "      <td>1950</td>\n",
       "      <td>856</td>\n",
       "      <td>1</td>\n",
       "      <td>2</td>\n",
       "      <td>1</td>\n",
       "      <td>1</td>\n",
       "      <td>0</td>\n",
       "      <td>166</td>\n",
       "    </tr>\n",
       "    <tr>\n",
       "      <th>2</th>\n",
       "      <td>1049</td>\n",
       "      <td>4235</td>\n",
       "      <td>5</td>\n",
       "      <td>5</td>\n",
       "      <td>1984</td>\n",
       "      <td>1984</td>\n",
       "      <td>1049</td>\n",
       "      <td>2</td>\n",
       "      <td>2</td>\n",
       "      <td>1</td>\n",
       "      <td>0</td>\n",
       "      <td>0</td>\n",
       "      <td>0</td>\n",
       "    </tr>\n",
       "    <tr>\n",
       "      <th>3</th>\n",
       "      <td>1001</td>\n",
       "      <td>6060</td>\n",
       "      <td>5</td>\n",
       "      <td>9</td>\n",
       "      <td>1930</td>\n",
       "      <td>2007</td>\n",
       "      <td>1001</td>\n",
       "      <td>1</td>\n",
       "      <td>2</td>\n",
       "      <td>1</td>\n",
       "      <td>0</td>\n",
       "      <td>42</td>\n",
       "      <td>0</td>\n",
       "    </tr>\n",
       "    <tr>\n",
       "      <th>4</th>\n",
       "      <td>1039</td>\n",
       "      <td>8146</td>\n",
       "      <td>4</td>\n",
       "      <td>8</td>\n",
       "      <td>1900</td>\n",
       "      <td>2003</td>\n",
       "      <td>717</td>\n",
       "      <td>1</td>\n",
       "      <td>2</td>\n",
       "      <td>1</td>\n",
       "      <td>0</td>\n",
       "      <td>168</td>\n",
       "      <td>111</td>\n",
       "    </tr>\n",
       "    <tr>\n",
       "      <th>5</th>\n",
       "      <td>1665</td>\n",
       "      <td>8400</td>\n",
       "      <td>8</td>\n",
       "      <td>6</td>\n",
       "      <td>2001</td>\n",
       "      <td>2001</td>\n",
       "      <td>810</td>\n",
       "      <td>2</td>\n",
       "      <td>3</td>\n",
       "      <td>1</td>\n",
       "      <td>0</td>\n",
       "      <td>0</td>\n",
       "      <td>0</td>\n",
       "    </tr>\n",
       "    <tr>\n",
       "      <th>...</th>\n",
       "      <td>...</td>\n",
       "      <td>...</td>\n",
       "      <td>...</td>\n",
       "      <td>...</td>\n",
       "      <td>...</td>\n",
       "      <td>...</td>\n",
       "      <td>...</td>\n",
       "      <td>...</td>\n",
       "      <td>...</td>\n",
       "      <td>...</td>\n",
       "      <td>...</td>\n",
       "      <td>...</td>\n",
       "      <td>...</td>\n",
       "    </tr>\n",
       "    <tr>\n",
       "      <th>759</th>\n",
       "      <td>952</td>\n",
       "      <td>8854</td>\n",
       "      <td>6</td>\n",
       "      <td>6</td>\n",
       "      <td>1916</td>\n",
       "      <td>1950</td>\n",
       "      <td>952</td>\n",
       "      <td>1</td>\n",
       "      <td>2</td>\n",
       "      <td>1</td>\n",
       "      <td>1</td>\n",
       "      <td>0</td>\n",
       "      <td>40</td>\n",
       "    </tr>\n",
       "    <tr>\n",
       "      <th>760</th>\n",
       "      <td>1733</td>\n",
       "      <td>13680</td>\n",
       "      <td>3</td>\n",
       "      <td>5</td>\n",
       "      <td>1955</td>\n",
       "      <td>1955</td>\n",
       "      <td>1733</td>\n",
       "      <td>2</td>\n",
       "      <td>4</td>\n",
       "      <td>1</td>\n",
       "      <td>1</td>\n",
       "      <td>0</td>\n",
       "      <td>0</td>\n",
       "    </tr>\n",
       "    <tr>\n",
       "      <th>761</th>\n",
       "      <td>2002</td>\n",
       "      <td>6270</td>\n",
       "      <td>5</td>\n",
       "      <td>6</td>\n",
       "      <td>1949</td>\n",
       "      <td>1950</td>\n",
       "      <td>1001</td>\n",
       "      <td>2</td>\n",
       "      <td>4</td>\n",
       "      <td>2</td>\n",
       "      <td>0</td>\n",
       "      <td>0</td>\n",
       "      <td>0</td>\n",
       "    </tr>\n",
       "    <tr>\n",
       "      <th>762</th>\n",
       "      <td>1842</td>\n",
       "      <td>8826</td>\n",
       "      <td>7</td>\n",
       "      <td>5</td>\n",
       "      <td>2000</td>\n",
       "      <td>2000</td>\n",
       "      <td>985</td>\n",
       "      <td>2</td>\n",
       "      <td>3</td>\n",
       "      <td>1</td>\n",
       "      <td>1</td>\n",
       "      <td>0</td>\n",
       "      <td>0</td>\n",
       "    </tr>\n",
       "    <tr>\n",
       "      <th>763</th>\n",
       "      <td>1911</td>\n",
       "      <td>9554</td>\n",
       "      <td>8</td>\n",
       "      <td>5</td>\n",
       "      <td>1993</td>\n",
       "      <td>1994</td>\n",
       "      <td>1065</td>\n",
       "      <td>2</td>\n",
       "      <td>3</td>\n",
       "      <td>1</td>\n",
       "      <td>1</td>\n",
       "      <td>0</td>\n",
       "      <td>0</td>\n",
       "    </tr>\n",
       "  </tbody>\n",
       "</table>\n",
       "<p>2580 rows × 13 columns</p>\n",
       "</div>"
      ],
      "text/plain": [
       "     GrLivArea  LotArea  OverallQual  OverallCond  YearBuilt  YearRemodAdd  \\\n",
       "1          856     7890            6            6       1939          1950   \n",
       "2         1049     4235            5            5       1984          1984   \n",
       "3         1001     6060            5            9       1930          2007   \n",
       "4         1039     8146            4            8       1900          2003   \n",
       "5         1665     8400            8            6       2001          2001   \n",
       "..         ...      ...          ...          ...        ...           ...   \n",
       "759        952     8854            6            6       1916          1950   \n",
       "760       1733    13680            3            5       1955          1955   \n",
       "761       2002     6270            5            6       1949          1950   \n",
       "762       1842     8826            7            5       2000          2000   \n",
       "763       1911     9554            8            5       1993          1994   \n",
       "\n",
       "     1stFlrSF  FullBath  BedroomAbvGr  KitchenAbvGr  Fireplaces  \\\n",
       "1         856         1             2             1           1   \n",
       "2        1049         2             2             1           0   \n",
       "3        1001         1             2             1           0   \n",
       "4         717         1             2             1           0   \n",
       "5         810         2             3             1           0   \n",
       "..        ...       ...           ...           ...         ...   \n",
       "759       952         1             2             1           1   \n",
       "760      1733         2             4             1           1   \n",
       "761      1001         2             4             2           0   \n",
       "762       985         2             3             1           1   \n",
       "763      1065         2             3             1           1   \n",
       "\n",
       "     EnclosedPorch  ScreenPorch  \n",
       "1                0          166  \n",
       "2                0            0  \n",
       "3               42            0  \n",
       "4              168          111  \n",
       "5                0            0  \n",
       "..             ...          ...  \n",
       "759              0           40  \n",
       "760              0            0  \n",
       "761              0            0  \n",
       "762              0            0  \n",
       "763              0            0  \n",
       "\n",
       "[2580 rows x 13 columns]"
      ]
     },
     "execution_count": 15,
     "metadata": {},
     "output_type": "execute_result"
    }
   ],
   "source": [
    "int_df.drop(columns='SalePrice', inplace=True)"
   ]
  },
  {
   "cell_type": "code",
   "execution_count": 16,
   "id": "0193d10e",
   "metadata": {
    "scrolled": true
   },
   "outputs": [
    {
     "name": "stdout",
     "output_type": "stream",
     "text": [
      "X_train : (1806, 13)\n",
      "X_test : (774, 13)\n",
      "y_train : (1806,)\n",
      "y_test : (774,)\n"
     ]
    }
   ],
   "source": [
    "# Partition the dataset in train + validation sets\n",
    "X_train, X_test, y_train, y_test = train_test_split(int_df, y, test_size = 0.3, random_state = 0)\n",
    "print(\"X_train : \" + str(X_train.shape))\n",
    "print(\"X_test : \" + str(X_test.shape))\n",
    "print(\"y_train : \" + str(y_train.shape))\n",
    "print(\"y_test : \" + str(y_test.shape))"
   ]
  },
  {
   "cell_type": "markdown",
   "id": "74928f7f",
   "metadata": {},
   "source": [
    "# Try with Group's Train-Test Split"
   ]
  },
  {
   "cell_type": "code",
   "execution_count": 17,
   "id": "693de6d5",
   "metadata": {},
   "outputs": [],
   "source": [
    "#pull in group's train-test split\n",
    "X_train = pd.read_csv('../../group train-test split/X_train42.csv')\n",
    "X_test = pd.read_csv('../../group train-test split/X_test42.csv')\n",
    "y_train = pd.read_csv('../../group train-test split/y_train42.csv')\n",
    "y_test = pd.read_csv('../../group train-test split/y_test42.csv')\n"
   ]
  },
  {
   "cell_type": "code",
   "execution_count": 18,
   "id": "504a674a",
   "metadata": {
    "scrolled": false
   },
   "outputs": [
    {
     "data": {
      "text/plain": [
       "GrLivArea                 0\n",
       "Exterior2nd__Wd Sdng      0\n",
       "MasVnrType__BrkCmn        0\n",
       "MasVnrType__BrkFace       0\n",
       "MasVnrType__NA            0\n",
       "                         ..\n",
       "Neighborhood__Sawyer      0\n",
       "Neighborhood__SawyerW     0\n",
       "Neighborhood__Somerst     0\n",
       "Neighborhood__StoneBr     0\n",
       "SaleCondition__Partial    0\n",
       "Length: 230, dtype: int64"
      ]
     },
     "execution_count": 18,
     "metadata": {},
     "output_type": "execute_result"
    }
   ],
   "source": [
    "X_train.isnull().sum().sort_values(axis=0, ascending=False)"
   ]
  },
  {
   "cell_type": "code",
   "execution_count": 19,
   "id": "0fd892f4",
   "metadata": {
    "scrolled": true
   },
   "outputs": [
    {
     "name": "stdout",
     "output_type": "stream",
     "text": [
      "X_train : (2046, 230)\n",
      "X_test : (512, 230)\n",
      "y_train : (2046, 1)\n",
      "y_test : (512, 1)\n"
     ]
    }
   ],
   "source": [
    "print(\"X_train : \" + str(X_train.shape))\n",
    "print(\"X_test : \" + str(X_test.shape))\n",
    "print(\"y_train : \" + str(y_train.shape))\n",
    "print(\"y_test : \" + str(y_test.shape))"
   ]
  },
  {
   "cell_type": "code",
   "execution_count": 112,
   "id": "b260dcd2",
   "metadata": {},
   "outputs": [],
   "source": [
    "# Define models\n",
    "model_linear = LinearRegression()\n",
    "model_ridge = Ridge(alpha = 1)\n",
    "model_lasso = Lasso(alpha = .00008)\n",
    "#model_tree = DecisionTreeRegressor()\n",
    "#model_ran = RandomForestRegressor()\n",
    "#model_xg = XGBRegressor()"
   ]
  },
  {
   "cell_type": "code",
   "execution_count": 53,
   "id": "5352e213",
   "metadata": {},
   "outputs": [],
   "source": [
    "# combine R^2 score and RMSE into one print function to reduce redundancy, blah\n",
    "def print_score(test, pred, model): \n",
    "    \"\"\"\n",
    "    Create func to print R^2 and RMSE\n",
    "    \"\"\"\n",
    "    r2_ = r2_score(test, pred)\n",
    "    rmse_ = np.sqrt(mean_squared_error(test, pred))\n",
    "    \n",
    "    print(f\"- Regressor: {model}\")\n",
    "    print(f\"R²: {rsqr_score(test, pred)}\")\n",
    "    print(f\"RMSE: {rmse_score(test, pred)}\\n\")"
   ]
  },
  {
   "cell_type": "markdown",
   "id": "c6936d5d",
   "metadata": {},
   "source": [
    "## Linear Model"
   ]
  },
  {
   "cell_type": "code",
   "execution_count": 65,
   "id": "d0a19955",
   "metadata": {},
   "outputs": [
    {
     "name": "stdout",
     "output_type": "stream",
     "text": [
      "- Regressor: Linear Regression\n",
      "R²: 0.9204727817644544\n",
      "RMSE: 21206.6111445748\n",
      "\n"
     ]
    }
   ],
   "source": [
    "model_linear.fit(X_train, y_train)\n",
    "y_pred_linear = model_linear.predict(X_test)\n",
    "print_score(y_test, y_pred_ridge, \"Linear Regression\")"
   ]
  },
  {
   "cell_type": "code",
   "execution_count": 66,
   "id": "7a3a693c",
   "metadata": {},
   "outputs": [
    {
     "data": {
      "image/png": "[encoded data removed]",
      "text/plain": [
       "<Figure size 432x288 with 1 Axes>"
      ]
     },
     "metadata": {
      "needs_background": "light"
     },
     "output_type": "display_data"
    }
   ],
   "source": [
    "plt.figure()\n",
    "plt.title(\"Linear: Actual vs Pred Price\", fontsize=20)\n",
    "plt.scatter(y_test, y_pred_linear,\n",
    "            color=\"deepskyblue\", marker=\"o\", facecolors=\"none\")\n",
    "plt.plot([0, 650000], [0, 650000], \"darkorange\", lw=2)\n",
    "plt.xlim(0, 650000)\n",
    "plt.ylim(0, 650000)\n",
    "plt.xlabel(\"\\nActual Price\", fontsize=16)\n",
    "plt.ylabel(\"Predicted Price\\n\", fontsize=16)\n",
    "plt.show()"
   ]
  },
  {
   "cell_type": "code",
   "execution_count": 67,
   "id": "f13d3342",
   "metadata": {},
   "outputs": [
    {
     "name": "stdout",
     "output_type": "stream",
     "text": [
      "- Regressor: Log Linear Inputs\n",
      "R²: 0.9330641593898489\n",
      "RMSE: 19455.515302592987\n",
      "\n"
     ]
    }
   ],
   "source": [
    "model_linear.fit(X_train, np.log(y_train))\n",
    "logy_pred_linear = model_linear.predict(X_test)\n",
    "print_score(y_test, np.exp(logy_pred_linear), \"Log Linear Inputs\")"
   ]
  },
  {
   "cell_type": "code",
   "execution_count": 68,
   "id": "64695042",
   "metadata": {},
   "outputs": [
    {
     "data": {
      "image/png": "[encoded data removed]",
      "text/plain": [
       "<Figure size 432x288 with 1 Axes>"
      ]
     },
     "metadata": {
      "needs_background": "light"
     },
     "output_type": "display_data"
    }
   ],
   "source": [
    "plt.figure()\n",
    "plt.title(\"Log Linear: Actual vs Pred Price\", fontsize=20)\n",
    "plt.scatter(y_test, np.exp(logy_pred_linear),\n",
    "            color=\"deepskyblue\", marker=\"o\", facecolors=\"none\")\n",
    "plt.plot([0, 650000], [0, 650000], \"darkorange\", lw=2)\n",
    "plt.xlabel(\"\\nActual Price\", fontsize=16)\n",
    "plt.ylabel(\"Predicted Price\\n\", fontsize=16)\n",
    "plt.show()"
   ]
  },
  {
   "cell_type": "code",
   "execution_count": null,
   "id": "72f26ccd",
   "metadata": {},
   "outputs": [],
   "source": []
  },
  {
   "cell_type": "markdown",
   "id": "572236c1",
   "metadata": {},
   "source": [
    "## Ridge Model"
   ]
  },
  {
   "cell_type": "code",
   "execution_count": 61,
   "id": "dd02c38d",
   "metadata": {},
   "outputs": [
    {
     "name": "stdout",
     "output_type": "stream",
     "text": [
      "- Regressor: Ridge\n",
      "R²: 0.9204727817644544\n",
      "RMSE: 21206.6111445748\n",
      "\n"
     ]
    }
   ],
   "source": [
    "model_ridge.fit(X_train, y_train)\n",
    "y_pred_ridge = model_ridge.predict(X_test)\n",
    "print_score(y_test, y_pred_ridge, \"Ridge\")"
   ]
  },
  {
   "cell_type": "code",
   "execution_count": 55,
   "id": "d730cfa4",
   "metadata": {},
   "outputs": [
    {
     "data": {
      "image/png": "[encoded data removed]",
      "text/plain": [
       "<Figure size 432x288 with 1 Axes>"
      ]
     },
     "metadata": {
      "needs_background": "light"
     },
     "output_type": "display_data"
    }
   ],
   "source": [
    "plt.figure()\n",
    "plt.title(\"Ridge: Actual vs Pred Price\", fontsize=20)\n",
    "plt.scatter(y_test, y_pred_ridge,\n",
    "            color=\"deepskyblue\", marker=\"o\", facecolors=\"none\")\n",
    "plt.plot([0, 650000], [0, 650000], \"darkorange\", lw=2)\n",
    "plt.xlim(0, 650000)\n",
    "plt.ylim(0, 650000)\n",
    "plt.xlabel(\"\\nActual Price\", fontsize=16)\n",
    "plt.ylabel(\"Predicted Price\\n\", fontsize=16)\n",
    "plt.show()"
   ]
  },
  {
   "cell_type": "code",
   "execution_count": 60,
   "id": "fd434851",
   "metadata": {
    "scrolled": false
   },
   "outputs": [
    {
     "name": "stdout",
     "output_type": "stream",
     "text": [
      "- Regressor: Log Ridge Inputs\n",
      "R²: 0.9337245352660127\n",
      "RMSE: 19359.305267868873\n",
      "\n"
     ]
    }
   ],
   "source": [
    "model_ridge.fit(X_train, np.log(y_train))\n",
    "logy_pred_ridge = model_ridge.predict(X_test)\n",
    "print_score(y_test, np.exp(logy_pred_ridge), \"Log Ridge Inputs\")"
   ]
  },
  {
   "cell_type": "code",
   "execution_count": 58,
   "id": "c0f26a68",
   "metadata": {},
   "outputs": [
    {
     "data": {
      "image/png": "[encoded data removed]",
      "text/plain": [
       "<Figure size 432x288 with 1 Axes>"
      ]
     },
     "metadata": {
      "needs_background": "light"
     },
     "output_type": "display_data"
    }
   ],
   "source": [
    "plt.figure()\n",
    "plt.title(\"Log Ridge: Actual vs Pred Price\", fontsize=20)\n",
    "plt.scatter(y_test, np.exp(logy_pred_ridge),\n",
    "            color=\"deepskyblue\", marker=\"o\", facecolors=\"none\")\n",
    "plt.plot([0, 650000], [0, 650000], \"darkorange\", lw=2)\n",
    "plt.xlabel(\"\\nActual Price\", fontsize=16)\n",
    "plt.ylabel(\"Predicted Price\\n\", fontsize=16)\n",
    "plt.show()"
   ]
  },
  {
   "cell_type": "code",
   "execution_count": 116,
   "id": "5352ee9f",
   "metadata": {},
   "outputs": [
    {
     "name": "stdout",
     "output_type": "stream",
     "text": [
      "- Regressor: Log1p Ridge Inputs\n",
      "R²: 0.9337242805649768\n",
      "RMSE: 19359.342467384482\n",
      "\n"
     ]
    }
   ],
   "source": [
    "# log1p y ridge model\n",
    "model_ridge.fit(X_train, np.log1p(y_train))\n",
    "log1py_pred_ridge = model_ridge.predict(X_test)\n",
    "print_score(y_test, np.expm1(logy_pred_ridge), \"Log1p Ridge Inputs\")"
   ]
  },
  {
   "cell_type": "markdown",
   "id": "4abe5aa8",
   "metadata": {},
   "source": [
    "## Lasso Model"
   ]
  },
  {
   "cell_type": "code",
   "execution_count": 113,
   "id": "dfdc1d1f",
   "metadata": {
    "scrolled": true
   },
   "outputs": [
    {
     "name": "stdout",
     "output_type": "stream",
     "text": [
      "- Regressor: Lasso\n",
      "R²: 0.918311816491203\n",
      "RMSE: 21492.799959818934\n",
      "\n"
     ]
    }
   ],
   "source": [
    "# lasso model\n",
    "model_lasso.fit(X_train, y_train)\n",
    "y_pred_lasso = model_lasso.predict(X_test)\n",
    "print_score(y_test, y_pred_lasso, \"Lasso\")"
   ]
  },
  {
   "cell_type": "code",
   "execution_count": 76,
   "id": "e1899ee1",
   "metadata": {},
   "outputs": [
    {
     "data": {
      "image/png": "[encoded data removed]",
      "text/plain": [
       "<Figure size 432x288 with 1 Axes>"
      ]
     },
     "metadata": {
      "needs_background": "light"
     },
     "output_type": "display_data"
    }
   ],
   "source": [
    "# plot lasso model\n",
    "plt.figure()\n",
    "plt.title(\"Lasso: Actual vs Pred Price\", fontsize=20)\n",
    "plt.scatter(y_test, y_pred_lasso,\n",
    "            color=\"deepskyblue\", marker=\"o\", facecolors=\"none\")\n",
    "plt.plot([0, 650000], [0, 650000], \"darkorange\", lw=2)\n",
    "plt.xlim(0, 650000)\n",
    "plt.ylim(0, 650000)\n",
    "plt.xlabel(\"\\nActual Price\", fontsize=16)\n",
    "plt.ylabel(\"Predicted Price\\n\", fontsize=16)\n",
    "plt.show()"
   ]
  },
  {
   "cell_type": "code",
   "execution_count": 114,
   "id": "2197c64b",
   "metadata": {
    "scrolled": true
   },
   "outputs": [
    {
     "name": "stdout",
     "output_type": "stream",
     "text": [
      "- Regressor: Log Lasso Inputs\n",
      "R²: 0.9359614968306254\n",
      "RMSE: 19029.788578568023\n",
      "\n"
     ]
    }
   ],
   "source": [
    "# log y lasso model\n",
    "model_lasso.fit(X_train, np.log(y_train))\n",
    "logy_pred_lasso = model_lasso.predict(X_test)\n",
    "print_score(y_test, np.exp(logy_pred_lasso), \"Log Lasso Inputs\")"
   ]
  },
  {
   "cell_type": "code",
   "execution_count": 82,
   "id": "c752b4c5",
   "metadata": {},
   "outputs": [
    {
     "data": {
      "image/png": "[encoded data removed]",
      "text/plain": [
       "<Figure size 432x288 with 1 Axes>"
      ]
     },
     "metadata": {
      "needs_background": "light"
     },
     "output_type": "display_data"
    }
   ],
   "source": [
    "# plot log y lasso model\n",
    "plt.figure()\n",
    "plt.title(\"Log Lasso: Actual vs Pred Price\", fontsize=20)\n",
    "plt.scatter(y_test, np.exp(logy_pred_lasso),\n",
    "            color=\"deepskyblue\", marker=\"o\", facecolors=\"none\")\n",
    "plt.plot([0, 650000], [0, 650000], \"darkorange\", lw=2)\n",
    "plt.xlabel(\"\\nActual Price\", fontsize=16)\n",
    "plt.ylabel(\"Predicted Price\\n\", fontsize=16)\n",
    "plt.show()"
   ]
  },
  {
   "cell_type": "code",
   "execution_count": 115,
   "id": "e8916a76",
   "metadata": {},
   "outputs": [
    {
     "name": "stdout",
     "output_type": "stream",
     "text": [
      "- Regressor: Log1p Lasso Inputs\n",
      "R²: 0.9359613339578544\n",
      "RMSE: 19029.812778324977\n",
      "\n"
     ]
    }
   ],
   "source": [
    "# log1p y lasso model\n",
    "model_lasso.fit(X_train, np.log1p(y_train))\n",
    "log1py_pred_lasso = model_lasso.predict(X_test)\n",
    "print_score(y_test, np.expm1(logy_pred_lasso), \"Log1p Lasso Inputs\")"
   ]
  },
  {
   "cell_type": "code",
   "execution_count": null,
   "id": "2adcf6dd",
   "metadata": {},
   "outputs": [],
   "source": []
  }
 ],
 "metadata": {
  "kernelspec": {
   "display_name": "Python 3 (ipykernel)",
   "language": "python",
   "name": "python3"
  },
  "language_info": {
   "codemirror_mode": {
    "name": "ipython",
    "version": 3
   },
   "file_extension": ".py",
   "mimetype": "text/x-python",
   "name": "python",
   "nbconvert_exporter": "python",
   "pygments_lexer": "ipython3",
   "version": "3.10.4"
  }
 },
 "nbformat": 4,
 "nbformat_minor": 5
}
